{
 "cells": [
  {
   "cell_type": "code",
   "execution_count": 1,
   "metadata": {},
   "outputs": [],
   "source": [
    "import os\n",
    "\n",
    "from langchain_community.graphs import Neo4jGraph\n",
    "\n",
    "os.environ[\"NEO4J_URI\"] = \"bolt://localhost:7687\"\n",
    "os.environ[\"NEO4J_USERNAME\"] = \"neo4j\"\n",
    "os.environ[\"NEO4J_PASSWORD\"] = \"2wsx3edc\"\n",
    "\n",
    "graph = Neo4jGraph()"
   ]
  },
  {
   "cell_type": "code",
   "execution_count": 2,
   "metadata": {},
   "outputs": [
    {
     "data": {
      "text/plain": [
       "[]"
      ]
     },
     "execution_count": 2,
     "metadata": {},
     "output_type": "execute_result"
    }
   ],
   "source": [
    "graph.query('MATCH (n) DETACH DELETE n;')\n",
    "# graph.query('drop index chunk_index;')"
   ]
  },
  {
   "cell_type": "code",
   "execution_count": 3,
   "metadata": {},
   "outputs": [],
   "source": [
    "from langchain_community.document_loaders import PyPDFLoader\n",
    "pages = []\n",
    "dir = '../data'\n",
    "for filename in os.listdir(dir):\n",
    "    docs = []\n",
    "    if filename.endswith(\".pdf\"):\n",
    "        loader = PyPDFLoader(os.path.join(dir, filename))\n",
    "        pages += loader.load()\n",
    "    break # too much time, only load one file\n",
    "pages\n",
    "pages = [pages[0]]"
   ]
  },
  {
   "cell_type": "code",
   "execution_count": 4,
   "metadata": {},
   "outputs": [],
   "source": [
    "# import os\n",
    "\n",
    "# from langchain_experimental.graph_transformers import LLMGraphTransformer\n",
    "# # from langchain_openai import ChatOpenAI\n",
    "# from langchain_openai import AzureChatOpenAI\n",
    "# from langchain_experimental.llms.ollama_functions import OllamaFunctions\n",
    "# llm = AzureChatOpenAI(\n",
    "#     azure_endpoint=os.environ[\"AZURE_OPENAI_ENDPOINT\"],\n",
    "#     azure_deployment=os.environ[\"AZURE_OPENAI_DEPLOYMENT_NAME\"],\n",
    "#     openai_api_version=os.environ[\"AZURE_OPENAI_API_VERSION\"],\n",
    "# )"
   ]
  },
  {
   "cell_type": "code",
   "execution_count": null,
   "metadata": {},
   "outputs": [],
   "source": [
    "from langchain_experimental.llms.ollama_functions import OllamaFunctions\n",
    "model_name = 'llama3.1:70b-instruct-q8_0'\n",
    "llm = OllamaFunctions(model_name=model_name)"
   ]
  },
  {
   "cell_type": "code",
   "execution_count": 5,
   "metadata": {},
   "outputs": [
    {
     "data": {
      "text/plain": [
       "[{'chunk_id': '26f2d90e-dc71-4012-ac73-8c11f64fd566',\n",
       "  'chunk_doc': Document(metadata={'source': '../data/台灣人壽美鑫美利美元利率變動型終身壽險.pdf', 'page_number': 1}, page_content='第 1 頁，共  4 頁 台灣人壽 美鑫美利美元利率變動型終身壽險   保險商品內容說明   【承保範圍】   【增值回饋分享金的給付及通知】   第十三條   本公司於本契約有效期間內之每一保單年度屆滿後，除被保險人保險年齡達 16歲前者，按第三 項約定辦理外，將依要保人於投保時所選擇下列方式之一給付增值回饋分享金：   一、購買增額繳清保險金額：選擇購買增額繳清保險金額者，以增值回饋分享金為躉繳純保險費 ，計算自該保單週年日當日起生效之增額繳清保險金額，但被保險人為受監護宣告尚未撤銷者， 應依保單條款 第十六條約定辦理。   二、現金給付：選擇現金給付者')},\n",
       " {'chunk_id': '07407c40-2058-421f-8d92-639be87d5857',\n",
       "  'chunk_doc': Document(metadata={'source': '../data/台灣人壽美鑫美利美元利率變動型終身壽險.pdf', 'page_number': 1}, page_content='，依本契約約定 以現金給付增值回饋分享金予要保人，惟須於第 六保單年度屆滿後之每一保單週年日起，始得依本款方式給付。   三、儲存生息：選擇儲存生息者，各年度之增值回饋分享金將按各保單週年日當月之宣告利率依 據年複利方式，累積至要保人請求時給付，或至被保險人身故或本契約終止時，由本公司主動一 併給付。但在本公司給付受益人保險金而終止契約的情形，要保人未請求之增值回饋分享金及其 孳息，由該保險金受益人受領。惟須於第六保單年度屆滿後之每一保單週年日起，始得依本款方 式給付。   要保人若未選擇者，則視為選擇購買增額繳清保險金額，並得於本契約有效 期間內，以書面通知 本公司變更前項給付方式')},\n",
       " {'chunk_id': 'f171f422-118b-46d6-ac84-eabca67eb1b3',\n",
       "  'chunk_doc': Document(metadata={'source': '../data/台灣人壽美鑫美利美元利率變動型終身壽險.pdf', 'page_number': 1}, page_content='，以書面通知 本公司變更前項給付方式，惟第六保單年度屆滿前，增值回饋分享金限以購買增額繳清保險金額 辦理。  被保險人保險年齡到達 16歲前，其增值回饋分享金於繳費期間應採抵繳保險費之方式辦理。但 因繳費期間已屆滿而無法抵繳保險費者，本公司改按各保單週年日當月之宣告利率，以年複利方 式儲存生息至被保險人保險年齡到達 16歲時，以累計儲存生息之金額一次計算增額繳清保險金 額，其後保單年度適用第一項規定。   要保人終止本契約，或被保險人於保險年齡達 16歲前死亡者，本公司應退還歷年累計儲存生息 之金額予要保人。   本公司於每一保 單年度屆滿後，應將該增值回饋分享金之金額')},\n",
       " {'chunk_id': 'f058d1e4-9367-405d-ac65-b656ab982795',\n",
       "  'chunk_doc': Document(metadata={'source': '../data/台灣人壽美鑫美利美元利率變動型終身壽險.pdf', 'page_number': 1}, page_content='，應將該增值回饋分享金之金額，以書面或電子郵件方式通知要保 人。    【身故保險金或喪葬費用保險金的給付】   第十六條   被保險人於本契約有效期間內身故者，本公司按身故日之當年度保險金額給付身故保險金。   訂立本契約時，以未滿 15足歲之未成年人為被保險人，除喪葬費用之給付外，其餘死亡給付之 約定於被保險人滿 15足歲之日起發生效力；被保險人滿 15足歲前死亡者，其身故保險金變更為 喪葬費用保險金。   前項未滿 15足歲之被保險人如有於民國九十九年二月三日 (不含 )前訂立之保險契約，其喪葬費 用保險金之給付依下列方式辦理 ：')}]"
      ]
     },
     "execution_count": 5,
     "metadata": {},
     "output_type": "execute_result"
    }
   ],
   "source": [
    "import sys\n",
    "sys.path.append(\"..\")\n",
    "from tools.graph_builder import TwlfGraphBuilder\n",
    "\n",
    "graph_builder = TwlfGraphBuilder(graph, max_thread=1)\n",
    "graph_builder.graph_build(pages)\n",
    "graph_builder.chunk_list"
   ]
  },
  {
   "cell_type": "code",
   "execution_count": 6,
   "metadata": {},
   "outputs": [
    {
     "data": {
      "text/plain": [
       "[Document(metadata={'combined_chunk_ids': ['26f2d90e-dc71-4012-ac73-8c11f64fd566']}, page_content='第 1 頁，共  4 頁 台灣人壽 美鑫美利美元利率變動型終身壽險   保險商品內容說明   【承保範圍】   【增值回饋分享金的給付及通知】   第十三條   本公司於本契約有效期間內之每一保單年度屆滿後，除被保險人保險年齡達 16歲前者，按第三 項約定辦理外，將依要保人於投保時所選擇下列方式之一給付增值回饋分享金：   一、購買增額繳清保險金額：選擇購買增額繳清保險金額者，以增值回饋分享金為躉繳純保險費 ，計算自該保單週年日當日起生效之增額繳清保險金額，但被保險人為受監護宣告尚未撤銷者， 應依保單條款 第十六條約定辦理。   二、現金給付：選擇現金給付者'),\n",
       " Document(metadata={'combined_chunk_ids': ['07407c40-2058-421f-8d92-639be87d5857']}, page_content='，依本契約約定 以現金給付增值回饋分享金予要保人，惟須於第 六保單年度屆滿後之每一保單週年日起，始得依本款方式給付。   三、儲存生息：選擇儲存生息者，各年度之增值回饋分享金將按各保單週年日當月之宣告利率依 據年複利方式，累積至要保人請求時給付，或至被保險人身故或本契約終止時，由本公司主動一 併給付。但在本公司給付受益人保險金而終止契約的情形，要保人未請求之增值回饋分享金及其 孳息，由該保險金受益人受領。惟須於第六保單年度屆滿後之每一保單週年日起，始得依本款方 式給付。   要保人若未選擇者，則視為選擇購買增額繳清保險金額，並得於本契約有效 期間內，以書面通知 本公司變更前項給付方式'),\n",
       " Document(metadata={'combined_chunk_ids': ['f171f422-118b-46d6-ac84-eabca67eb1b3']}, page_content='，以書面通知 本公司變更前項給付方式，惟第六保單年度屆滿前，增值回饋分享金限以購買增額繳清保險金額 辦理。  被保險人保險年齡到達 16歲前，其增值回饋分享金於繳費期間應採抵繳保險費之方式辦理。但 因繳費期間已屆滿而無法抵繳保險費者，本公司改按各保單週年日當月之宣告利率，以年複利方 式儲存生息至被保險人保險年齡到達 16歲時，以累計儲存生息之金額一次計算增額繳清保險金 額，其後保單年度適用第一項規定。   要保人終止本契約，或被保險人於保險年齡達 16歲前死亡者，本公司應退還歷年累計儲存生息 之金額予要保人。   本公司於每一保 單年度屆滿後，應將該增值回饋分享金之金額'),\n",
       " Document(metadata={'combined_chunk_ids': ['f058d1e4-9367-405d-ac65-b656ab982795']}, page_content='，應將該增值回饋分享金之金額，以書面或電子郵件方式通知要保 人。    【身故保險金或喪葬費用保險金的給付】   第十六條   被保險人於本契約有效期間內身故者，本公司按身故日之當年度保險金額給付身故保險金。   訂立本契約時，以未滿 15足歲之未成年人為被保險人，除喪葬費用之給付外，其餘死亡給付之 約定於被保險人滿 15足歲之日起發生效力；被保險人滿 15足歲前死亡者，其身故保險金變更為 喪葬費用保險金。   前項未滿 15足歲之被保險人如有於民國九十九年二月三日 (不含 )前訂立之保險契約，其喪葬費 用保險金之給付依下列方式辦理 ：')]"
      ]
     },
     "execution_count": 6,
     "metadata": {},
     "output_type": "execute_result"
    }
   ],
   "source": [
    "graph_builder._get_combined_chunks(graph_builder.chunk_list)"
   ]
  },
  {
   "cell_type": "code",
   "execution_count": 7,
   "metadata": {},
   "outputs": [
    {
     "data": {
      "text/plain": [
       "[GraphDocument(nodes=[Node(id='現金給付增值回饋分享金', type='Concept', properties={'description': '依本契約約定以現金給付增值回饋分享金予要保人，惟須於第六保單年度屆滿後之每一保單週年日起，始得依本款方式給付。'}), Node(id='儲存生息', type='Concept', properties={'description': '選擇儲存生息者，各年度之增值回饋分享金將按各保單週年日當月之宣告利率依據年複利方式，累積至要保人請求時給付，或至被保險人身故或本契約終止時，由本公司主動一併給付。但在本公司給付受益人保險金而終止契約的情形，要保人未請求之增值回饋分享金及其孳息，由該保險金受益人受領。惟須於第六保單年度屆滿後之每一保單週年日起，始得依本款方式給付。'}), Node(id='增額繳清保險金額', type='Concept', properties={'description': '要保人若未選擇者，則視為選擇購買增額繳清保險金額，並得於本契約有效期間內，以書面通知本公司變更前項給付方式。'})], relationships=[], source=Document(metadata={'combined_chunk_ids': ['07407c40-2058-421f-8d92-639be87d5857']}, page_content='，依本契約約定 以現金給付增值回饋分享金予要保人，惟須於第 六保單年度屆滿後之每一保單週年日起，始得依本款方式給付。   三、儲存生息：選擇儲存生息者，各年度之增值回饋分享金將按各保單週年日當月之宣告利率依 據年複利方式，累積至要保人請求時給付，或至被保險人身故或本契約終止時，由本公司主動一 併給付。但在本公司給付受益人保險金而終止契約的情形，要保人未請求之增值回饋分享金及其 孳息，由該保險金受益人受領。惟須於第六保單年度屆滿後之每一保單週年日起，始得依本款方 式給付。   要保人若未選擇者，則視為選擇購買增額繳清保險金額，並得於本契約有效 期間內，以書面通知 本公司變更前項給付方式')),\n",
       " GraphDocument(nodes=[Node(id='台灣人壽', type='Organization', properties={'description': '美鑫美利美元利率變動型終身壽險的提供者'}), Node(id='美鑫美利美元利率變動型終身壽險', type='Product', properties={'description': '一種壽險產品'}), Node(id='增值回饋分享金', type='Concept', properties={'description': '保險商品的增值回饋'}), Node(id='購買增額繳清保險金額', type='Concept', properties={'description': '增值回饋分享金的給付方式之一'}), Node(id='現金給付', type='Concept', properties={'description': '增值回饋分享金的給付方式之一'})], relationships=[Relationship(source=Node(id='台灣人壽', type='Organization'), target=Node(id='美鑫美利美元利率變動型終身壽險', type='Product'), type='PROVIDES'), Relationship(source=Node(id='美鑫美利美元利率變動型終身壽險', type='Product'), target=Node(id='增值回饋分享金', type='Concept'), type='INCLUDES'), Relationship(source=Node(id='增值回饋分享金', type='Concept'), target=Node(id='購買增額繳清保險金額', type='Concept'), type='PAYMENT_OPTION'), Relationship(source=Node(id='增值回饋分享金', type='Concept'), target=Node(id='現金給付', type='Concept'), type='PAYMENT_OPTION')], source=Document(metadata={'combined_chunk_ids': ['26f2d90e-dc71-4012-ac73-8c11f64fd566']}, page_content='第 1 頁，共  4 頁 台灣人壽 美鑫美利美元利率變動型終身壽險   保險商品內容說明   【承保範圍】   【增值回饋分享金的給付及通知】   第十三條   本公司於本契約有效期間內之每一保單年度屆滿後，除被保險人保險年齡達 16歲前者，按第三 項約定辦理外，將依要保人於投保時所選擇下列方式之一給付增值回饋分享金：   一、購買增額繳清保險金額：選擇購買增額繳清保險金額者，以增值回饋分享金為躉繳純保險費 ，計算自該保單週年日當日起生效之增額繳清保險金額，但被保險人為受監護宣告尚未撤銷者， 應依保單條款 第十六條約定辦理。   二、現金給付：選擇現金給付者')),\n",
       " GraphDocument(nodes=[Node(id='本公司', type='Organization'), Node(id='被保險人', type='Person'), Node(id='要保人', type='Person'), Node(id='增值回饋分享金', type='Concept'), Node(id='保險年齡', type='Concept'), Node(id='宣告利率', type='Concept'), Node(id='年複利', type='Concept'), Node(id='增額繳清保險金額', type='Concept')], relationships=[Relationship(source=Node(id='本公司', type='Organization'), target=Node(id='增值回饋分享金', type='Concept'), type='變更給付方式'), Relationship(source=Node(id='增值回饋分享金', type='Concept'), target=Node(id='增額繳清保險金額', type='Concept'), type='限購買'), Relationship(source=Node(id='被保險人', type='Person'), target=Node(id='保險年齡', type='Concept'), type='到達'), Relationship(source=Node(id='增值回饋分享金', type='Concept'), target=Node(id='保險費', type='Concept'), type='抵繳'), Relationship(source=Node(id='本公司', type='Organization'), target=Node(id='宣告利率', type='Concept'), type='改按'), Relationship(source=Node(id='宣告利率', type='Concept'), target=Node(id='年複利', type='Concept'), type='以方式儲存生息'), Relationship(source=Node(id='年複利', type='Concept'), target=Node(id='增額繳清保險金額', type='Concept'), type='計算'), Relationship(source=Node(id='要保人', type='Person'), target=Node(id='本公司', type='Organization'), type='終止契約'), Relationship(source=Node(id='被保險人', type='Person'), target=Node(id='本公司', type='Organization'), type='死亡'), Relationship(source=Node(id='本公司', type='Organization'), target=Node(id='要保人', type='Person'), type='退還儲存生息金額')], source=Document(metadata={'combined_chunk_ids': ['f171f422-118b-46d6-ac84-eabca67eb1b3']}, page_content='，以書面通知 本公司變更前項給付方式，惟第六保單年度屆滿前，增值回饋分享金限以購買增額繳清保險金額 辦理。  被保險人保險年齡到達 16歲前，其增值回饋分享金於繳費期間應採抵繳保險費之方式辦理。但 因繳費期間已屆滿而無法抵繳保險費者，本公司改按各保單週年日當月之宣告利率，以年複利方 式儲存生息至被保險人保險年齡到達 16歲時，以累計儲存生息之金額一次計算增額繳清保險金 額，其後保單年度適用第一項規定。   要保人終止本契約，或被保險人於保險年齡達 16歲前死亡者，本公司應退還歷年累計儲存生息 之金額予要保人。   本公司於每一保 單年度屆滿後，應將該增值回饋分享金之金額')),\n",
       " GraphDocument(nodes=[Node(id='增值回饋分享金', type='Concept', properties={'description': '應將該增值回饋分享金之金額，以書面或電子郵件方式通知要保人。'}), Node(id='身故保險金', type='Concept', properties={'description': '被保險人於本契約有效期間內身故者，本公司按身故日之當年度保險金額給付身故保險金。'}), Node(id='被保險人', type='Person', properties={'description': '訂立本契約時，以未滿 15足歲之未成年人為被保險人，除喪葬費用之給付外，其餘死亡給付之約定於被保險人滿 15足歲之日起發生效力；被保險人滿 15足歲前死亡者，其身故保險金變更為喪葬費用保險金。'}), Node(id='喪葬費用保險金', type='Concept', properties={'description': '被保險人滿 15足歲前死亡者，其身故保險金變更為喪葬費用保險金。前項未滿 15足歲之被保險人如有於民國九十九年二月三日 (不含 )前訂立之保險契約，其喪葬費用保險金之給付依下列方式辦理。'})], relationships=[Relationship(source=Node(id='被保險人', type='Person'), target=Node(id='身故保險金', type='Concept'), type='ELIGIBLE_FOR'), Relationship(source=Node(id='被保險人', type='Person'), target=Node(id='喪葬費用保險金', type='Concept'), type='ELIGIBLE_FOR')], source=Document(metadata={'combined_chunk_ids': ['f058d1e4-9367-405d-ac65-b656ab982795']}, page_content='，應將該增值回饋分享金之金額，以書面或電子郵件方式通知要保 人。    【身故保險金或喪葬費用保險金的給付】   第十六條   被保險人於本契約有效期間內身故者，本公司按身故日之當年度保險金額給付身故保險金。   訂立本契約時，以未滿 15足歲之未成年人為被保險人，除喪葬費用之給付外，其餘死亡給付之 約定於被保險人滿 15足歲之日起發生效力；被保險人滿 15足歲前死亡者，其身故保險金變更為 喪葬費用保險金。   前項未滿 15足歲之被保險人如有於民國九十九年二月三日 (不含 )前訂立之保險契約，其喪葬費 用保險金之給付依下列方式辦理 ：'))]"
      ]
     },
     "execution_count": 7,
     "metadata": {},
     "output_type": "execute_result"
    }
   ],
   "source": [
    "\n",
    "graph_documents = graph_builder.get_graph_from_llm(llm, graph_builder.chunk_list, allowedNodes=[], allowedRelationship=[])\n",
    "graph_documents"
   ]
  },
  {
   "cell_type": "code",
   "execution_count": 8,
   "metadata": {},
   "outputs": [],
   "source": [
    "graph.add_graph_documents(graph_documents, baseEntityLabel=True)"
   ]
  },
  {
   "cell_type": "code",
   "execution_count": 9,
   "metadata": {},
   "outputs": [
    {
     "data": {
      "text/plain": [
       "{'graph_doc': GraphDocument(nodes=[Node(id='現金給付增值回饋分享金', type='Concept', properties={'description': '依本契約約定以現金給付增值回饋分享金予要保人，惟須於第六保單年度屆滿後之每一保單週年日起，始得依本款方式給付。'}), Node(id='儲存生息', type='Concept', properties={'description': '選擇儲存生息者，各年度之增值回饋分享金將按各保單週年日當月之宣告利率依據年複利方式，累積至要保人請求時給付，或至被保險人身故或本契約終止時，由本公司主動一併給付。但在本公司給付受益人保險金而終止契約的情形，要保人未請求之增值回饋分享金及其孳息，由該保險金受益人受領。惟須於第六保單年度屆滿後之每一保單週年日起，始得依本款方式給付。'}), Node(id='增額繳清保險金額', type='Concept', properties={'description': '要保人若未選擇者，則視為選擇購買增額繳清保險金額，並得於本契約有效期間內，以書面通知本公司變更前項給付方式。'})], relationships=[], source=Document(metadata={'combined_chunk_ids': ['07407c40-2058-421f-8d92-639be87d5857'], 'id': '5bb0e5806aaa113719f2bf339254c23c'}, page_content='，依本契約約定 以現金給付增值回饋分享金予要保人，惟須於第 六保單年度屆滿後之每一保單週年日起，始得依本款方式給付。   三、儲存生息：選擇儲存生息者，各年度之增值回饋分享金將按各保單週年日當月之宣告利率依 據年複利方式，累積至要保人請求時給付，或至被保險人身故或本契約終止時，由本公司主動一 併給付。但在本公司給付受益人保險金而終止契約的情形，要保人未請求之增值回饋分享金及其 孳息，由該保險金受益人受領。惟須於第六保單年度屆滿後之每一保單週年日起，始得依本款方 式給付。   要保人若未選擇者，則視為選擇購買增額繳清保險金額，並得於本契約有效 期間內，以書面通知 本公司變更前項給付方式')),\n",
       " 'chunk_id': '07407c40-2058-421f-8d92-639be87d5857'}"
      ]
     },
     "execution_count": 9,
     "metadata": {},
     "output_type": "execute_result"
    }
   ],
   "source": [
    "chunks_and_graphDocuments_list = graph_builder.get_chunk_and_graphDocument(graph_documents)\n",
    "chunks_and_graphDocuments_list[0]"
   ]
  },
  {
   "cell_type": "code",
   "execution_count": 10,
   "metadata": {},
   "outputs": [],
   "source": [
    "graph_builder.merge_relationship_between_chunk_and_entites(chunks_and_graphDocuments_list)"
   ]
  },
  {
   "cell_type": "code",
   "execution_count": null,
   "metadata": {},
   "outputs": [],
   "source": [
    "# from langchain_community.vectorstores import Neo4jVector\n",
    "\n",
    "# from langchain_openai import AzureOpenAIEmbeddings\n",
    "\n",
    "# embedding = AzureOpenAIEmbeddings(\n",
    "#     model=\"text-embedding-ada-002\",\n",
    "#     azure_endpoint='https://lang-chain-dev.openai.azure.com/openai/deployments/text-embedding-ada-002/embeddings?api-version=2023-05-15',\n",
    "#     azure_deployment='text-embedding-ada-002',\n",
    "#     openai_api_version='2023-05-15'\n",
    "# )\n",
    "\n",
    "# vector = Neo4jVector.from_existing_graph(\n",
    "#     embedding,\n",
    "#     node_label='__Chunk__',\n",
    "#     text_node_properties=['content'],\n",
    "#     embedding_node_property='embedding'\n",
    "# )"
   ]
  },
  {
   "cell_type": "code",
   "execution_count": 11,
   "metadata": {},
   "outputs": [],
   "source": [
    "from langchain_community.vectorstores import Neo4jVector\n",
    "# ! pip3 install -U langchain-huggingface\n",
    "import os\n",
    "os.environ['SENTENCE_TRANSFORMERS_HOME'] = '../embedding_model'\n",
    "from langchain_huggingface import HuggingFaceEmbeddings\n",
    "# Choose from https://huggingface.co/spaces/mteb/leaderboard\n",
    "embedding = HuggingFaceEmbeddings(model_name=\"lier007/xiaobu-embedding-v2\")\n",
    "vector = Neo4jVector.from_existing_graph(\n",
    "    embedding,\n",
    "    node_label='__Chunk__',\n",
    "    text_node_properties=['content'],\n",
    "    embedding_node_property='embedding'\n",
    ")"
   ]
  }
 ],
 "metadata": {
  "kernelspec": {
   "display_name": "lagch",
   "language": "python",
   "name": "python3"
  },
  "language_info": {
   "codemirror_mode": {
    "name": "ipython",
    "version": 3
   },
   "file_extension": ".py",
   "mimetype": "text/x-python",
   "name": "python",
   "nbconvert_exporter": "python",
   "pygments_lexer": "ipython3",
   "version": "3.12.5"
  }
 },
 "nbformat": 4,
 "nbformat_minor": 2
}
