{
 "cells": [
  {
   "cell_type": "code",
   "execution_count": 1,
   "metadata": {},
   "outputs": [],
   "source": [
    "import sys\n",
    "sys.path.append(\"..\")"
   ]
  },
  {
   "cell_type": "code",
   "execution_count": 2,
   "metadata": {},
   "outputs": [],
   "source": [
    "import os\n",
    "from langchain_community.graphs import Neo4jGraph\n",
    "\n",
    "os.environ[\"NEO4J_URI\"] = \"bolt://localhost:7687\"\n",
    "os.environ[\"NEO4J_USERNAME\"] = \"neo4j\"\n",
    "os.environ[\"NEO4J_PASSWORD\"] = \"2wsx3edc\"\n",
    "\n",
    "database = os.environ.get('NEO4J_DATABASE')\n",
    "graph = Neo4jGraph(database=database)"
   ]
  },
  {
   "cell_type": "code",
   "execution_count": 3,
   "metadata": {},
   "outputs": [
    {
     "data": {
      "text/plain": [
       "[]"
      ]
     },
     "execution_count": 3,
     "metadata": {},
     "output_type": "execute_result"
    }
   ],
   "source": [
    "graph.query('MATCH (n) DETACH DELETE n;')\n",
    "# graph.query('drop index chunk_index;')"
   ]
  },
  {
   "cell_type": "code",
   "execution_count": 4,
   "metadata": {},
   "outputs": [],
   "source": [
    "import os\n",
    "\n",
    "from langchain_experimental.graph_transformers import LLMGraphTransformer\n",
    "# from langchain_openai import ChatOpenAI\n",
    "from langchain_openai import AzureChatOpenAI\n",
    "from langchain_experimental.llms.ollama_functions import OllamaFunctions\n",
    "llm = AzureChatOpenAI(\n",
    "    azure_endpoint=os.environ[\"AZURE_OPENAI_ENDPOINT\"],\n",
    "    azure_deployment=os.environ[\"AZURE_OPENAI_DEPLOYMENT_NAME\"],\n",
    "    openai_api_version=os.environ[\"AZURE_OPENAI_API_VERSION\"],\n",
    "    temperature=0\n",
    ")"
   ]
  },
  {
   "cell_type": "code",
   "execution_count": 5,
   "metadata": {},
   "outputs": [
    {
     "name": "stderr",
     "output_type": "stream",
     "text": [
      "Processing documents: 100%|██████████| 1/1 [00:32<00:00, 32.64s/it]\n"
     ]
    },
    {
     "data": {
      "text/plain": [
       "[Document(metadata={'source': '../data/業務通路現售主約商品可附加附約一覽表(113年7月版).pdf', 'page_number': 1}, page_content='業務通路現售主約商品可附加附約一覽表\\n◎ 附加附約規定請另詳各主約及附約投保規則。\\n◎ 本表所列之主附約商品搭配規則僅供參考，如有未列出之商品或有其它疑問時，仍需依規劃部解釋為主。\\n\\n### 商品資訊整理\\n\\n#### 主約商品\\n\\n**台幣定期型**\\n- 全心全憶一年定期健康保險 (商品代號: NYLC0102)\\n- 憶心溢意一年定期健康保險 (商品代號: NYLC0202)\\n- 好易保一年定期傷害保險 (商品代號: NTPA3902)\\n- 安心意保一年定期傷害保險 (商品代號: NTYA0701)\\n- 新愛無憂85防癌定期健康保險 (商品代號: NTCC0805)\\n- 金放心85長期照顧定期健康保險 (商品代號: NTLC0303)\\n- 守護85長期照顧定期健康保險 (商品代號: NTLC0403)\\n- 優體定期壽險 (商品代號: NLPR0105)\\n\\n**台幣終身型**\\n- 珍傳愛小額終身壽險 (商品代號: NTWL0108)\\n- 珍多寶利率變動型增額終身壽險 (商品代號: NTIW0902)\\n- 年年好利利率變動型還本終身保險 (商品代號: NTIC0502)\\n- 年年添利利率變動型還本終身保險 (商品代號: NTIC0402)\\n- 傳承富足利率變動型終身壽險 (商品代號: NTIW1201)\\n- 金福利利率變動型終身壽險 (商品代號: NTIW1601)\\n- 金得利利率變動型增額終身壽險 (商品代號: NTIW1501/NTIW1701/NTIW1801)\\n- 超享利利率變動型還本終身保險 (商品代號: NTIC0701)\\n- 臻得利利率變動型終身壽險 (商品代號: NTIW1901)\\n- 保利好利率變動型終身壽險 (商品代號: NTIW2001)\\n- 新意享人生終身保險 (商品代號: NTWA0205)\\n- 新保安心住院醫療終身健康保險 (商品代號: NHPH0206)\\n- 新健康龍101終身醫療健康保險 (商品代號: NTPH0305)\\n- 珍好好醫療帳戶終身健康保險 (商品代號: NTPH1804)\\n- 鑫元氣重大疾病終身健康保險(乙型) (商品代號: NTCI0205)\\n- 大大安心100重大疾病(甲型)暨特定傷病終身健康保險 (商品代號: NTCI0901)\\n- 閣卡安心100重大傷病終身健康保險 (商品代號: NTCI0801)\\n- 百分百守護長期照顧終身健康保險 (商品代號: NTLC0502)\\n- 金窩心100長期照顧終身健康保險 (商品代號: NTLC0602)\\n\\n**投資型**\\n- 新富享人生變額萬能壽險 (商品代號: NITU0910)\\n- 鑫豐收變額萬能壽險 (商品代號: NITU0409)\\n- 鑫豐收變額年金保險 (商品代號: NITA1108)\\n\\n**豁免附約**\\n- 新金關愛豁免保險費保險附約A型(0101) (商品代號: NTTW0304)\\n- 新金關愛豁免保險費保險附約B型 (商品代號: NTTW0504)\\n- 新金關懷豁免保險費保險附約A型(0101) (商品代號: NTTW0704)\\n- 新金關懷豁免保險費保險附約B型 (商品代號: NTTW0804)\\n- 鑫真愛護豁免保險費保險附約A型(0101)/B型 (商品代號: NTTW0104/NTTW0204)\\n\\n#### 附約商品\\n\\n**一年期**\\n- 真勇健醫療健康保險附約A型(0501) (商品代號: NTYH1203)\\n- 一年期癌症健康保險附約 (商品代號: NYCC0303)\\n- 愛無慮A型一年定期癌症健康保險附約 (商品代號: NYCC0503)\\n- 一年期特定傷病健康保險附約 (商品代號: NYCI0203)\\n- 金卡安心一年定期重大傷病健康保險附約 (商品代號: NYCI0403)\\n- 長安傷害保險附約 (商品代號: NTPA1406)\\n- 龍平安傷害保險附約 (商品代號: NTPA1006)\\n- 好扶氣一年定期重大傷害失能扶助保險給付附加條款 (商品代號: NTYA0503)\\n- 安全保一年定期傷害保險附約 (商品代號: NAAD0205)\\n- 特定意外事故傷害保險附約 (商品代號: NTPA0405)\\n- 新傷害醫療保險金日額附約 (商品代號: NYAH0105)\\n- 新傷害骨折及關節整復手術保險金附加條款 (商品代號: NTPA1702)\\n- 新特定意外傷害保險金附加條款 (商品代號: NTPA2403)\\n- 龍好意日額型傷害醫療保險附約 (商品代號: NYAH0402)\\n- 好滿溢一年定期癌症醫療健康保險附約 (商品代號: NYCC0803)\\n- 好滿溢一年定期重大疾病健康保險附約(甲型) (商品代號: NYCI0503)\\n- 好滿溢一年定期住院日額健康保險附約 (商品代號: NTYH1603)\\n- 全方位一年定期傷害保險附約 (商品代號: NTYA0901)\\n- 龍實在住院醫療健康保險附約 (商品代號: NTYH1901)\\n\\n**長年期**\\n- 新平準型定期壽險附約 (商品代號: NTTL0106)\\n\\n**終身型**\\n- 珍LONG好康手術醫療終身健康保險附約 (商品代號: NTPH1206)\\n- 珍愛守護防癌終身健康保險附約 (商品代號: NTCC0506)\\n- 珍龍山水終身保險附約(實物給付型) (商品代號: NTWL0704)\\n\\n**豁免附約**\\n- 新金關愛豁免保險費保險附約A型(0101)(1-9級+重疾) (商品代號: NTTW0304)\\n- 新金關愛豁免保險費保險附約B型(1-9級) (商品代號: NTTW0504)\\n- 新金關懷豁免保險費保險附約A型(0101)(2-9級+重疾) (商品代號: NTTW0704)\\n- 新金關懷豁免保險費保險附約B型(2-9級) (商品代號: NTTW0804)\\n- 鑫真愛護豁免保險費保險附約A型(0101)/B型(要/被不同人) (商品代號: NTTW0104/NTTW0204)\\n\\n#### 註釋\\n1. 若投保之主、附約已內含1-6級或2-6級失能豁免保費之保障，則不開放附加新金關愛及新金關懷豁免附約A/B型。\\n2. 若投保之主、附約於給付完全失能保險金後契約即終止，則不開放附加新金關愛豁免附約A/B型(1~9級失能)。\\n3. 若投保之主、附約已內含重大疾病豁免保費之保障，則不開放附加新金關愛及新金關懷豁免附約A型。例如：鑫元氣。\\n4. 一年期附約附加豁免規則隨主約\"保障內容指示\"，長年期附約附加豁免依本身附加豁免規則。一年期及長年期附約附加豁免附約，皆依主約繳費年期計費。\\n5. 若投保「閣卡安心100重大傷病終身健康保險」且繳費年期為30年者，無法附加豁免保險費保險附約。\\n6. 若投保「珍多寶利率變動型增額終身壽險」且繳費年期為2年者，無法附加豁免保險費保險附約。\\n7. 若投保「臻得利利率變動型終身壽險」且繳費年期為3年者，無法附加豁免保險費保險附約。')]"
      ]
     },
     "execution_count": 5,
     "metadata": {},
     "output_type": "execute_result"
    }
   ],
   "source": [
    "\n",
    "# from langchain_community.document_loaders import PyPDFLoader\n",
    "from tools.PDFTablePyPlumberLoader import PDFTablePyPlumberLoader\n",
    "pages = []\n",
    "dir = '../data'\n",
    "for filename in os.listdir(dir):\n",
    "    docs = []\n",
    "    if filename.endswith(\".pdf\"):\n",
    "        loader = PDFTablePyPlumberLoader(os.path.join(dir, filename), llm)\n",
    "        pages += loader.load()\n",
    "    # break # too much time, only load one file\n",
    "pages\n",
    "\n",
    "# loader = PyPDFLoader(os.path.join(dir, '個人保險首續期繳費暨保單貸款還款息作業手冊(113年7月版)_業務通路版.pdf'))\n",
    "# pages += loader.load()\n",
    "# pages = [pages[9]]\n",
    "# pages"
   ]
  },
  {
   "cell_type": "code",
   "execution_count": 6,
   "metadata": {},
   "outputs": [
    {
     "data": {
      "text/plain": [
       "[Document(metadata={'source': '../data/業務通路現售主約商品可附加附約一覽表(113年7月版).pdf', 'page_number': 1}, page_content='業務通路現售主約商品可附加附約一覽表\\n◎ 附加附約規定請另詳各主約及附約投保規則。\\n◎ 本表所列之主附約商品搭配規則僅供參考，如有未列出之商品或有其它疑問時，仍需依規劃部解釋為主。\\n\\n### 商品資訊整理\\n\\n#### 主約商品\\n\\n**台幣定期型**\\n- 全心全憶一年定期健康保險 (商品代號: NYLC0102)\\n- 憶心溢意一年定期健康保險 (商品代號: NYLC0202)\\n- 好易保一年定期傷害保險 (商品代號: NTPA3902)\\n- 安心意保一年定期傷害保險 (商品代號: NTYA0701)\\n- 新愛無憂85防癌定期健康保險 (商品代號: NTCC0805)\\n- 金放心85長期照顧定期健康保險 (商品代號: NTLC0303)\\n- 守護85長期照顧定期健康保險 (商品代號: NTLC0403)\\n- 優體定期壽險 (商品代號: NLPR0105)\\n\\n**台幣終身型**\\n- 珍傳愛小額終身壽險 (商品代號: NTWL0108)\\n- 珍多寶利率變動型增額終身壽險 (商品代號: NTIW0902)\\n- 年年好利利率變動型還本終身保險 (商品代號: NTIC0502)\\n- 年年添利利率變動型還本終身保險 (商品代號: NTIC0402)\\n- 傳承富足利率變動型終身壽險 (商品代號: NTIW1201)\\n- 金福利利率變動型終身壽險 (商品代號: NTIW1601)\\n- 金得利利率變動型增額終身壽險 (商品代號: NTIW1501/NTIW1701/NTIW1801)\\n- 超享利利率變動型還本終身保險 (商品代號: NTIC0701)\\n- 臻得利利率變動型終身壽險 (商品代號: NTIW1901)\\n- 保利好利率變動型終身壽險 (商品代號: NTIW2001)\\n- 新意享人生終身保險 (商品代號: NTWA0205)\\n- 新保安心住院醫療終身健康保險 (商品代號: NHPH0206)\\n- 新健康龍101終身醫療健康保險 (商品代號: NTPH0305)\\n- 珍好好醫療帳戶終身健康保險 (商品代號: NTPH1804)\\n- 鑫元氣重大疾病終身健康保險(乙型) (商品代號: NTCI0205)\\n- 大大安心100重大疾病(甲型)暨特定傷病終身健康保險 (商品代號: NTCI0901)\\n- 閣卡安心100重大傷病終身健康保險 (商品代號: NTCI0801)\\n- 百分百守護長期照顧終身健康保險 (商品代號: NTLC0502)\\n- 金窩心100長期照顧終身健康保險 (商品代號: NTLC0602)\\n\\n**投資型**\\n- 新富享人生變額萬能壽險 (商品代號: NITU0910)\\n- 鑫豐收變額萬能壽險 (商品代號: NITU0409)\\n- 鑫豐收變額年金保險 (商品代號: NITA1108)\\n\\n**豁免附約**\\n- 新金關愛豁免保險費保險附約A型(0101) (商品代號: NTTW0304)\\n- 新金關愛豁免保險費保險附約B型 (商品代號: NTTW0504)\\n- 新金關懷豁免保險費保險附約A型(0101) (商品代號: NTTW0704)\\n- 新金關懷豁免保險費保險附約B型 (商品代號: NTTW0804)\\n- 鑫真愛護豁免保險費保險附約A型(0101)/B型 (商品代號: NTTW0104/NTTW0204)\\n\\n#### 附約商品\\n\\n**一年期**\\n- 真勇健醫療健康保險附約A型(0501) (商品代號: NTYH1203)\\n- 一年期癌症健康保險附約 (商品代號: NYCC0303)\\n- 愛無慮A型一年定期癌症健康保險附約 (商品代號: NYCC0503)\\n- 一年期特定傷病健康保險附約 (商品代號: NYCI0203)\\n- 金卡安心一年定期重大傷病健康保險附約 (商品代號: NYCI0403)\\n- 長安傷害保險附約 (商品代號: NTPA1406)\\n- 龍平安傷害保險附約 (商品代號: NTPA1006)\\n- 好扶氣一年定期重大傷害失能扶助保險給付附加條款 (商品代號: NTYA0503)\\n- 安全保一年定期傷害保險附約 (商品代號: NAAD0205)\\n- 特定意外事故傷害保險附約 (商品代號: NTPA0405)\\n- 新傷害醫療保險金日額附約 (商品代號: NYAH0105)\\n- 新傷害骨折及關節整復手術保險金附加條款 (商品代號: NTPA1702)\\n- 新特定意外傷害保險金附加條款 (商品代號: NTPA2403)\\n- 龍好意日額型傷害醫療保險附約 (商品代號: NYAH0402)\\n- 好滿溢一年定期癌症醫療健康保險附約 (商品代號: NYCC0803)\\n- 好滿溢一年定期重大疾病健康保險附約(甲型) (商品代號: NYCI0503)\\n- 好滿溢一年定期住院日額健康保險附約 (商品代號: NTYH1603)\\n- 全方位一年定期傷害保險附約 (商品代號: NTYA0901)\\n- 龍實在住院醫療健康保險附約 (商品代號: NTYH1901)\\n\\n**長年期**\\n- 新平準型定期壽險附約 (商品代號: NTTL0106)\\n\\n**終身型**\\n- 珍LONG好康手術醫療終身健康保險附約 (商品代號: NTPH1206)\\n- 珍愛守護防癌終身健康保險附約 (商品代號: NTCC0506)\\n- 珍龍山水終身保險附約(實物給付型) (商品代號: NTWL0704)\\n\\n**豁免附約**\\n- 新金關愛豁免保險費保險附約A型(0101)(1-9級+重疾) (商品代號: NTTW0304)\\n- 新金關愛豁免保險費保險附約B型(1-9級) (商品代號: NTTW0504)\\n- 新金關懷豁免保險費保險附約A型(0101)(2-9級+重疾) (商品代號: NTTW0704)\\n- 新金關懷豁免保險費保險附約B型(2-9級) (商品代號: NTTW0804)\\n- 鑫真愛護豁免保險費保險附約A型(0101)/B型(要/被不同人) (商品代號: NTTW0104/NTTW0204)\\n\\n#### 註釋\\n1. 若投保之主、附約已內含1-6級或2-6級失能豁免保費之保障，則不開放附加新金關愛及新金關懷豁免附約A/B型。\\n2. 若投保之主、附約於給付完全失能保險金後契約即終止，則不開放附加新金關愛豁免附約A/B型(1~9級失能)。\\n3. 若投保之主、附約已內含重大疾病豁免保費之保障，則不開放附加新金關愛及新金關懷豁免附約A型。例如：鑫元氣。\\n4. 一年期附約附加豁免規則隨主約\"保障內容指示\"，長年期附約附加豁免依本身附加豁免規則。一年期及長年期附約附加豁免附約，皆依主約繳費年期計費。\\n5. 若投保「閣卡安心100重大傷病終身健康保險」且繳費年期為30年者，無法附加豁免保險費保險附約。\\n6. 若投保「珍多寶利率變動型增額終身壽險」且繳費年期為2年者，無法附加豁免保險費保險附約。\\n7. 若投保「臻得利利率變動型終身壽險」且繳費年期為3年者，無法附加豁免保險費保險附約。')]"
      ]
     },
     "execution_count": 6,
     "metadata": {},
     "output_type": "execute_result"
    }
   ],
   "source": [
    "pages"
   ]
  },
  {
   "cell_type": "code",
   "execution_count": 5,
   "metadata": {},
   "outputs": [
    {
     "name": "stderr",
     "output_type": "stream",
     "text": [
      "/Users/andy/miniforge3/envs/lagch/lib/python3.12/site-packages/langchain_core/_api/deprecation.py:141: LangChainDeprecationWarning: The class `OllamaFunctions` was deprecated in LangChain 0.0.64 and will be removed in 0.4.0. An updated version of the class exists in the langchain-ollama package and should be used instead. To use it run `pip install -U langchain-ollama` and import as `from langchain_ollama import ChatOllama`.\n",
      "  warn_deprecated(\n"
     ]
    },
    {
     "data": {
      "text/plain": [
       "OllamaFunctions(model='qwen2:72b-instruct-q8_0')"
      ]
     },
     "execution_count": 5,
     "metadata": {},
     "output_type": "execute_result"
    }
   ],
   "source": [
    "from langchain_experimental.llms.ollama_functions import OllamaFunctions\n",
    "model_name = 'qwen2:72b-instruct-q8_0'\n",
    "llm = OllamaFunctions(model=model_name, temperature=0)\n",
    "llm"
   ]
  },
  {
   "cell_type": "code",
   "execution_count": 7,
   "metadata": {},
   "outputs": [
    {
     "data": {
      "text/plain": [
       "[{'chunk_id': '665a2461-6e6a-4618-8bba-bd4d62dc954c',\n",
       "  'chunk_doc': Document(metadata={'source': '../data/業務通路現售主約商品可附加附約一覽表(113年7月版).pdf', 'content': '業務通路現售主約商品可附加附約一覽表 ◎ 附加附約規定請另詳各主約及附約投保規則。 ◎ 本表所列之主附約商品搭配規則僅供參考，如有未列出之商品或有其它疑問時，仍需依規劃部解釋為主。  ### 商品資訊整理  #### 主約商品', 'page_number': 1}, page_content='業務通路現售主約商品可附加附約一覽表 ◎ 附加附約規定請另詳各主約及附約投保規則。 ◎ 本表所列之主附約商品搭配規則僅供參考，如有未列出之商品或有其它疑問時，仍需依規劃部解釋為主。  ### 商品資訊整理  #### 主約商品')},\n",
       " {'chunk_id': 'c4c86faf-8ba0-4fa9-9f4c-c34feffc4493',\n",
       "  'chunk_doc': Document(metadata={'source': '../data/業務通路現售主約商品可附加附約一覽表(113年7月版).pdf', 'content': '### 商品資訊整理  #### 主約商品  **台幣定期型** - 全心全憶一年定期健康保險 (商品代號: NYLC0102) - 憶心溢意一年定期健康保險 (商品代號: NYLC0202) - 好易保一年定期傷害保險 (商品代號: NTPA3902) - 安心意保一年定期傷害保險 (商品代號: NTYA0701) - 新愛無憂85防癌定期健康保險 (商品代號: NTCC0805) - 金放心85長期照顧定期健康保險 (商品代號: NTLC0303) - 守護85長期照顧定期健康保險 (商品代號: NTLC0403) - 優體定期壽險 (商品代號: NLPR0105)', 'page_number': 1}, page_content='### 商品資訊整理  #### 主約商品  **台幣定期型** - 全心全憶一年定期健康保險 (商品代號: NYLC0102) - 憶心溢意一年定期健康保險 (商品代號: NYLC0202) - 好易保一年定期傷害保險 (商品代號: NTPA3902) - 安心意保一年定期傷害保險 (商品代號: NTYA0701) - 新愛無憂85防癌定期健康保險 (商品代號: NTCC0805) - 金放心85長期照顧定期健康保險 (商品代號: NTLC0303) - 守護85長期照顧定期健康保險 (商品代號: NTLC0403) - 優體定期壽險 (商品代號: NLPR0105)')},\n",
       " {'chunk_id': '2dcc8291-4508-4a8d-8670-a780be717639',\n",
       "  'chunk_doc': Document(metadata={'source': '../data/業務通路現售主約商品可附加附約一覽表(113年7月版).pdf', 'content': '**台幣終身型** - 珍傳愛小額終身壽險 (商品代號: NTWL0108) - 珍多寶利率變動型增額終身壽險 (商品代號: NTIW0902) - 年年好利利率變動型還本終身保險 (商品代號: NTIC0502) - 年年添利利率變動型還本終身保險 (商品代號: NTIC0402) - 傳承富足利率變動型終身壽險 (商品代號: NTIW1201) - 金福利利率變動型終身壽險 (商品代號: NTIW1601) - 金得利利率變動型增額終身壽險 (商品代號: NTIW1501/NTIW1701/NTIW1801) - 超享利利率變動型還本終身保險 (商品代號: NTIC0701) - 臻得利利率變動型終身壽險 (商品代號: NTIW1901) - 保利好利率變動型終身壽險 (商品代號: NTIW2001) - 新意享人生終身保險 (商品代號: NTWA0205) - 新保安心住院醫療終身健康保險 (商品代號: NHPH0206) - 新健康龍101終身醫療健康保險 (商品代號: NTPH0305) - 珍好好醫療帳戶終身健康保險 (商品代號: NTPH1804) - 鑫元氣重大疾病終身健康保險(乙型) (商品代號: NTCI0205) - 大大安心100重大疾病(甲型)暨特定傷病終身健康保險 (商品代號: NTCI0901) - 閣卡安心100重大傷病終身健康保險 (商品代號: NTCI0801) - 百分百守護長期照顧終身健康保險 (商品代號: NTLC0502) - 金窩心100長期照顧終身健康保險 (商品代號: NTLC0602)', 'page_number': 1}, page_content='**台幣終身型** - 珍傳愛小額終身壽險 (商品代號: NTWL0108) - 珍多寶利率變動型增額終身壽險 (商品代號: NTIW0902) - 年年好利利率變動型還本終身保險 (商品代號: NTIC0502) - 年年添利利率變動型還本終身保險 (商品代號: NTIC0402) - 傳承富足利率變動型終身壽險 (商品代號: NTIW1201) - 金福利利率變動型終身壽險 (商品代號: NTIW1601) - 金得利利率變動型增額終身壽險 (商品代號: NTIW1501/NTIW1701/NTIW1801) - 超享利利率變動型還本終身保險 (商品代號: NTIC0701) - 臻得利利率變動型終身壽險 (商品代號: NTIW1901) - 保利好利率變動型終身壽險 (商品代號: NTIW2001) - 新意享人生終身保險 (商品代號: NTWA0205) - 新保安心住院醫療終身健康保險 (商品代號: NHPH0206) - 新健康龍101終身醫療健康保險 (商品代號: NTPH0305) - 珍好好醫療帳戶終身健康保險 (商品代號: NTPH1804) - 鑫元氣重大疾病終身健康保險(乙型) (商品代號: NTCI0205) - 大大安心100重大疾病(甲型)暨特定傷病終身健康保險 (商品代號: NTCI0901) - 閣卡安心100重大傷病終身健康保險 (商品代號: NTCI0801) - 百分百守護長期照顧終身健康保險 (商品代號: NTLC0502) - 金窩心100長期照顧終身健康保險 (商品代號: NTLC0602)')},\n",
       " {'chunk_id': '0cc27f1f-791d-4e78-b88a-ff440c3e5973',\n",
       "  'chunk_doc': Document(metadata={'source': '../data/業務通路現售主約商品可附加附約一覽表(113年7月版).pdf', 'content': '**投資型** - 新富享人生變額萬能壽險 (商品代號: NITU0910) - 鑫豐收變額萬能壽險 (商品代號: NITU0409) - 鑫豐收變額年金保險 (商品代號: NITA1108)', 'page_number': 1}, page_content='**投資型** - 新富享人生變額萬能壽險 (商品代號: NITU0910) - 鑫豐收變額萬能壽險 (商品代號: NITU0409) - 鑫豐收變額年金保險 (商品代號: NITA1108)')},\n",
       " {'chunk_id': '7781764e-9db3-49ea-95ba-0240269b73e4',\n",
       "  'chunk_doc': Document(metadata={'source': '../data/業務通路現售主約商品可附加附約一覽表(113年7月版).pdf', 'content': '**豁免附約** - 新金關愛豁免保險費保險附約A型(0101) (商品代號: NTTW0304) - 新金關愛豁免保險費保險附約B型 (商品代號: NTTW0504) - 新金關懷豁免保險費保險附約A型(0101) (商品代號: NTTW0704) - 新金關懷豁免保險費保險附約B型 (商品代號: NTTW0804) - 鑫真愛護豁免保險費保險附約A型(0101)/B型 (商品代號: NTTW0104/NTTW0204)  #### 附約商品', 'page_number': 1}, page_content='**豁免附約** - 新金關愛豁免保險費保險附約A型(0101) (商品代號: NTTW0304) - 新金關愛豁免保險費保險附約B型 (商品代號: NTTW0504) - 新金關懷豁免保險費保險附約A型(0101) (商品代號: NTTW0704) - 新金關懷豁免保險費保險附約B型 (商品代號: NTTW0804) - 鑫真愛護豁免保險費保險附約A型(0101)/B型 (商品代號: NTTW0104/NTTW0204)  #### 附約商品')},\n",
       " {'chunk_id': '856ffc70-1a2b-45be-a732-f3ee9b9602b7',\n",
       "  'chunk_doc': Document(metadata={'source': '../data/業務通路現售主約商品可附加附約一覽表(113年7月版).pdf', 'content': '**一年期** - 真勇健醫療健康保險附約A型(0501) (商品代號: NTYH1203) - 一年期癌症健康保險附約 (商品代號: NYCC0303) - 愛無慮A型一年定期癌症健康保險附約 (商品代號: NYCC0503) - 一年期特定傷病健康保險附約 (商品代號: NYCI0203) - 金卡安心一年定期重大傷病健康保險附約 (商品代號: NYCI0403) - 長安傷害保險附約 (商品代號: NTPA1406) - 龍平安傷害保險附約 (商品代號: NTPA1006) - 好扶氣一年定期重大傷害失能扶助保險給付附加條款 (商品代號: NTYA0503) - 安全保一年定期傷害保險附約 (商品代號: NAAD0205) - 特定意外事故傷害保險附約 (商品代號: NTPA0405) - 新傷害醫療保險金日額附約 (商品代號: NYAH0105) - 新傷害骨折及關節整復手術保險金附加條款 (商品代號: NTPA1702) - 新特定意外傷害保險金附加條款 (商品代號: NTPA2403) - 龍好意日額型傷害醫療保險附約 (商品代號: NYAH0402) - 好滿溢一年定期癌症醫療健康保險附約 (商品代號: NYCC0803) - 好滿溢一年定期重大疾病健康保險附約(甲型) (商品代號: NYCI0503) - 好滿溢一年定期住院日額健康保險附約 (商品代號: NTYH1603) - 全方位一年定期傷害保險附約 (商品代號: NTYA0901) - 龍實在住院醫療健康保險附約 (商品代號: NTYH1901)', 'page_number': 1}, page_content='**一年期** - 真勇健醫療健康保險附約A型(0501) (商品代號: NTYH1203) - 一年期癌症健康保險附約 (商品代號: NYCC0303) - 愛無慮A型一年定期癌症健康保險附約 (商品代號: NYCC0503) - 一年期特定傷病健康保險附約 (商品代號: NYCI0203) - 金卡安心一年定期重大傷病健康保險附約 (商品代號: NYCI0403) - 長安傷害保險附約 (商品代號: NTPA1406) - 龍平安傷害保險附約 (商品代號: NTPA1006) - 好扶氣一年定期重大傷害失能扶助保險給付附加條款 (商品代號: NTYA0503) - 安全保一年定期傷害保險附約 (商品代號: NAAD0205) - 特定意外事故傷害保險附約 (商品代號: NTPA0405) - 新傷害醫療保險金日額附約 (商品代號: NYAH0105) - 新傷害骨折及關節整復手術保險金附加條款 (商品代號: NTPA1702) - 新特定意外傷害保險金附加條款 (商品代號: NTPA2403) - 龍好意日額型傷害醫療保險附約 (商品代號: NYAH0402) - 好滿溢一年定期癌症醫療健康保險附約 (商品代號: NYCC0803) - 好滿溢一年定期重大疾病健康保險附約(甲型) (商品代號: NYCI0503) - 好滿溢一年定期住院日額健康保險附約 (商品代號: NTYH1603) - 全方位一年定期傷害保險附約 (商品代號: NTYA0901) - 龍實在住院醫療健康保險附約 (商品代號: NTYH1901)')},\n",
       " {'chunk_id': '1fe6d219-f522-4f75-aa48-8eb06b366d5c',\n",
       "  'chunk_doc': Document(metadata={'source': '../data/業務通路現售主約商品可附加附約一覽表(113年7月版).pdf', 'content': '**長年期** - 新平準型定期壽險附約 (商品代號: NTTL0106)  **終身型** - 珍LONG好康手術醫療終身健康保險附約 (商品代號: NTPH1206) - 珍愛守護防癌終身健康保險附約 (商品代號: NTCC0506) - 珍龍山水終身保險附約(實物給付型) (商品代號: NTWL0704)', 'page_number': 1}, page_content='**長年期** - 新平準型定期壽險附約 (商品代號: NTTL0106)  **終身型** - 珍LONG好康手術醫療終身健康保險附約 (商品代號: NTPH1206) - 珍愛守護防癌終身健康保險附約 (商品代號: NTCC0506) - 珍龍山水終身保險附約(實物給付型) (商品代號: NTWL0704)')},\n",
       " {'chunk_id': '1e95b46d-0cef-40a0-bcf2-7ab500360407',\n",
       "  'chunk_doc': Document(metadata={'source': '../data/業務通路現售主約商品可附加附約一覽表(113年7月版).pdf', 'content': '**豁免附約** - 新金關愛豁免保險費保險附約A型(0101)(1-9級+重疾) (商品代號: NTTW0304) - 新金關愛豁免保險費保險附約B型(1-9級) (商品代號: NTTW0504) - 新金關懷豁免保險費保險附約A型(0101)(2-9級+重疾) (商品代號: NTTW0704) - 新金關懷豁免保險費保險附約B型(2-9級) (商品代號: NTTW0804) - 鑫真愛護豁免保險費保險附約A型(0101)/B型(要/被不同人) (商品代號: NTTW0104/NTTW0204)', 'page_number': 1}, page_content='**豁免附約** - 新金關愛豁免保險費保險附約A型(0101)(1-9級+重疾) (商品代號: NTTW0304) - 新金關愛豁免保險費保險附約B型(1-9級) (商品代號: NTTW0504) - 新金關懷豁免保險費保險附約A型(0101)(2-9級+重疾) (商品代號: NTTW0704) - 新金關懷豁免保險費保險附約B型(2-9級) (商品代號: NTTW0804) - 鑫真愛護豁免保險費保險附約A型(0101)/B型(要/被不同人) (商品代號: NTTW0104/NTTW0204)')},\n",
       " {'chunk_id': '795a47c2-ddea-48e4-a842-0055f7cb900e',\n",
       "  'chunk_doc': Document(metadata={'source': '../data/業務通路現售主約商品可附加附約一覽表(113年7月版).pdf', 'content': '#### 註釋 1. 若投保之主、附約已內含1-6級或2-6級失能豁免保費之保障，則不開放附加新金關愛及新金關懷豁免附約A/B型。 2. 若投保之主、附約於給付完全失能保險金後契約即終止，則不開放附加新金關愛豁免附約A/B型(1~9級失能)。 3. 若投保之主、附約已內含重大疾病豁免保費之保障，則不開放附加新金關愛及新金關懷豁免附約A型。例如：鑫元氣。 4. 一年期附約附加豁免規則隨主約保障內容指示，長年期附約附加豁免依本身附加豁免規則。一年期及長年期附約附加豁免附約，皆依主約繳費年期計費。 5. 若投保「閣卡安心100重大傷病終身健康保險」且繳費年期為30年者', 'page_number': 1}, page_content='#### 註釋 1. 若投保之主、附約已內含1-6級或2-6級失能豁免保費之保障，則不開放附加新金關愛及新金關懷豁免附約A/B型。 2. 若投保之主、附約於給付完全失能保險金後契約即終止，則不開放附加新金關愛豁免附約A/B型(1~9級失能)。 3. 若投保之主、附約已內含重大疾病豁免保費之保障，則不開放附加新金關愛及新金關懷豁免附約A型。例如：鑫元氣。 4. 一年期附約附加豁免規則隨主約保障內容指示，長年期附約附加豁免依本身附加豁免規則。一年期及長年期附約附加豁免附約，皆依主約繳費年期計費。 5. 若投保「閣卡安心100重大傷病終身健康保險」且繳費年期為30年者')},\n",
       " {'chunk_id': '3b88c2e1-c612-48df-b362-135372537625',\n",
       "  'chunk_doc': Document(metadata={'source': '../data/業務通路現售主約商品可附加附約一覽表(113年7月版).pdf', 'content': '，無法附加豁免保險費保險附約。 6. 若投保「珍多寶利率變動型增額終身壽險」且繳費年期為2年者，無法附加豁免保險費保險附約。 7. 若投保「臻得利利率變動型終身壽險」且繳費年期為3年者，無法附加豁免保險費保險附約。', 'page_number': 1}, page_content='，無法附加豁免保險費保險附約。 6. 若投保「珍多寶利率變動型增額終身壽險」且繳費年期為2年者，無法附加豁免保險費保險附約。 7. 若投保「臻得利利率變動型終身壽險」且繳費年期為3年者，無法附加豁免保險費保險附約。')}]"
      ]
     },
     "execution_count": 7,
     "metadata": {},
     "output_type": "execute_result"
    }
   ],
   "source": [
    "import sys\n",
    "sys.path.append(\"..\")\n",
    "from tools.graph_builder import TwlfGraphBuilder\n",
    "\n",
    "graph_builder = TwlfGraphBuilder(graph, max_thread=5)\n",
    "chunk_list = graph_builder.graph_build(pages)\n",
    "chunk_list"
   ]
  },
  {
   "cell_type": "code",
   "execution_count": 9,
   "metadata": {},
   "outputs": [
    {
     "data": {
      "text/plain": [
       "1790"
      ]
     },
     "execution_count": 9,
     "metadata": {},
     "output_type": "execute_result"
    }
   ],
   "source": [
    "from tools.TokenCounter import num_tokens_from_string\n",
    "\n",
    "tokens_num = 0\n",
    "for chunk in chunk_list:\n",
    "    doc = chunk['chunk_doc']\n",
    "    content = doc.page_content\n",
    "    curr_num = num_tokens_from_string(content)\n",
    "    tokens_num += num_tokens_from_string(content)\n",
    "tokens_num"
   ]
  },
  {
   "cell_type": "code",
   "execution_count": 54,
   "metadata": {},
   "outputs": [
    {
     "data": {
      "text/plain": [
       "[Document(metadata={'combined_chunk_ids': ['e40f4f5c-7163-48a4-9472-fbd526731ece']}, page_content='回目錄   7  版次： 113年07月版                                                                                            修訂日期： 113.0 7.01 二、  首期保險費 -採信用卡扣款作業   (一) 首期保險費採信用卡扣款作業應注意事項   1. 凡持有 VISA、MASTER 、JCB、AE卡均可申請信用卡繳交保險費'),\n",
       " Document(metadata={'combined_chunk_ids': ['33be6903-8d2d-4c29-8a86-b515d1baecf9']}, page_content='，本公司於 同意承保 後進行信用卡扣款作業 ，保戶收到銀行信用卡繳款帳單於期限內繳款即可。   2. 申請以信用卡繳交首期保險費， 請檢附「保險費信用卡付款授 權書」，繳款人為非保單關 係人時須檢附關係證明文件。 相關規定請參照 繳費方式及受理應檢附文件 。  3. 要保人須於 授權書要保人欄位簽 章並與要保書 簽章相同，授權人 應留存信用卡上之簽名 樣式。   4. 依強化保險業透 過信用卡或金融機構轉帳扣款收取保險費之身份驗證機制，保險公司及 保單服務人員 (含業務員、授權書建檔人員、核保人員等 )'),\n",
       " Document(metadata={'combined_chunk_ids': ['f0cbf9ad-103a-4cb1-bd47-40d4abc8e58d']}, page_content='，均應全 面核對要保人簽 章、授 權人簽名、 信用卡卡號 /有效期限 /姓名/身分證統一編號 。相關規定請參照 自動轉帳及信 用卡付款授權書作業規範 (加強身分驗證機制 )。  5. 信用卡卡號及 授權人身分證 統一編號 須送「信用卡輔助持卡人 身分驗證平台 」，經驗證成 功(且同意承保 )始得進行首期保險費 信用卡扣款作業。   6. 生效日認定：   (1) 保單生效日 認定依「 生效日期之認定原則 」辦理。  (2) 因核印失敗、請款失敗或新契約於核保中主動異動繳費管道者'),\n",
       " Document(metadata={'combined_chunk_ids': ['45aa66e6-b244-4dad-b0b3-fa0f7c6e11a2']}, page_content='，其生效日認定依「 新 契約首期保險費繳費管道異動之繳費 日認定原則 」辦理。   7. 保費折扣：   以信用卡繳交保險費， 保費折扣適用規定 依各險種投保規則辦理 。  8. 一張保單號碼 限使用一張信用卡 繳費。  (二) 電話行銷業務透過信用卡扣繳保險費者，須符合 控管機制  1. 要保人與授權人同一人時   (1) 電銷人員於 招攬過程中依下列方式進行 身分確認：   A. 電話錄音留存 信用卡卡號、授權 人姓名、身分證 統一編號 、信用卡有效期限等            資訊。   B. 以複誦信用卡卡號及有效期限供授權人確認'),\n",
       " Document(metadata={'combined_chunk_ids': ['4b9d09a7-930b-42d5-8ebd-aeb121ec117f']}, page_content='，並以電話錄音方式留存。   (2) 再行確認之機制：   A. 指派非銷售人員以 電話回訪 方式向授權人確認其姓名、身分證 統一編號 、信用卡 卡號、有效期限等資訊是否正確。   B. 向銀行驗證授權人身分證 統一編號 、信用卡卡號、有效期限等資訊是否正確。經銀 行驗證後始向銀行請款並寄發保單。   2. 要保人與授權人 不同一人時，電話行銷人員應取得授權人簽名之 紙本「保險費信用卡付 款授權書 」之正本或影本。')]"
      ]
     },
     "execution_count": 54,
     "metadata": {},
     "output_type": "execute_result"
    }
   ],
   "source": [
    "graph_builder._get_combined_chunks(chunk_list)"
   ]
  },
  {
   "cell_type": "code",
   "execution_count": 8,
   "metadata": {},
   "outputs": [
    {
     "name": "stderr",
     "output_type": "stream",
     "text": [
      "100%|██████████| 10/10 [00:43<00:00,  4.33s/it]\n"
     ]
    },
    {
     "data": {
      "text/plain": [
       "[GraphDocument(nodes=[Node(id='主約商品', type='Concept', properties={'description': '業務通路現售主約商品可附加附約一覽表'})], relationships=[], source=Document(metadata={'combined_chunk_ids': ['665a2461-6e6a-4618-8bba-bd4d62dc954c']}, page_content='業務通路現售主約商品可附加附約一覽表 ◎ 附加附約規定請另詳各主約及附約投保規則。 ◎ 本表所列之主附約商品搭配規則僅供參考，如有未列出之商品或有其它疑問時，仍需依規劃部解釋為主。  ### 商品資訊整理  #### 主約商品')),\n",
       " GraphDocument(nodes=[Node(id='全心全憶一年定期健康保險', type='商品', properties={'商品代號': 'NYLC0102'}), Node(id='憶心溢意一年定期健康保險', type='商品', properties={'商品代號': 'NYLC0202'}), Node(id='好易保一年定期傷害保險', type='商品', properties={'商品代號': 'NTPA3902'}), Node(id='安心意保一年定期傷害保險', type='商品', properties={'商品代號': 'NTYA0701'}), Node(id='新愛無憂85防癌定期健康保險', type='商品', properties={'商品代號': 'NTCC0805'}), Node(id='金放心85長期照顧定期健康保險', type='商品', properties={'商品代號': 'NTLC0303'}), Node(id='守護85長期照顧定期健康保險', type='商品', properties={'商品代號': 'NTLC0403'}), Node(id='優體定期壽險', type='商品', properties={'商品代號': 'NLPR0105'})], relationships=[], source=Document(metadata={'combined_chunk_ids': ['c4c86faf-8ba0-4fa9-9f4c-c34feffc4493']}, page_content='### 商品資訊整理  #### 主約商品  **台幣定期型** - 全心全憶一年定期健康保險 (商品代號: NYLC0102) - 憶心溢意一年定期健康保險 (商品代號: NYLC0202) - 好易保一年定期傷害保險 (商品代號: NTPA3902) - 安心意保一年定期傷害保險 (商品代號: NTYA0701) - 新愛無憂85防癌定期健康保險 (商品代號: NTCC0805) - 金放心85長期照顧定期健康保險 (商品代號: NTLC0303) - 守護85長期照顧定期健康保險 (商品代號: NTLC0403) - 優體定期壽險 (商品代號: NLPR0105)')),\n",
       " GraphDocument(nodes=[Node(id='新富享人生變額萬能壽險', type='Product', properties={'description': '商品代號: NITU0910'}), Node(id='鑫豐收變額萬能壽險', type='Product', properties={'description': '商品代號: NITU0409'}), Node(id='鑫豐收變額年金保險', type='Product', properties={'description': '商品代號: NITA1108'}), Node(id='投資型', type='Category', properties={})], relationships=[Relationship(source=Node(id='投資型', type='Category', properties={}), target=Node(id='新富享人生變額萬能壽險', type='Product', properties={}), type='INCLUDES', properties={}), Relationship(source=Node(id='投資型', type='Category', properties={}), target=Node(id='鑫豐收變額萬能壽險', type='Product', properties={}), type='INCLUDES', properties={}), Relationship(source=Node(id='投資型', type='Category', properties={}), target=Node(id='鑫豐收變額年金保險', type='Product', properties={}), type='INCLUDES', properties={})], source=Document(metadata={'combined_chunk_ids': ['0cc27f1f-791d-4e78-b88a-ff440c3e5973']}, page_content='**投資型** - 新富享人生變額萬能壽險 (商品代號: NITU0910) - 鑫豐收變額萬能壽險 (商品代號: NITU0409) - 鑫豐收變額年金保險 (商品代號: NITA1108)')),\n",
       " GraphDocument(nodes=[Node(id='豁免附約', type='Concept', properties={'description': '附約商品'}), Node(id='新金關愛豁免保險費保險附約A型(0101)', type='Product', properties={'description': '商品代號: NTTW0304'}), Node(id='新金關愛豁免保險費保險附約B型', type='Product', properties={'description': '商品代號: NTTW0504'}), Node(id='新金關懷豁免保險費保險附約A型(0101)', type='Product', properties={'description': '商品代號: NTTW0704'}), Node(id='新金關懷豁免保險費保險附約B型', type='Product', properties={'description': '商品代號: NTTW0804'}), Node(id='鑫真愛護豁免保險費保險附約A型(0101)/B型', type='Product', properties={'description': '商品代號: NTTW0104/NTTW0204'})], relationships=[Relationship(source=Node(id='豁免附約', type='Concept', properties={}), target=Node(id='新金關愛豁免保險費保險附約A型(0101)', type='Product', properties={}), type='包含', properties={}), Relationship(source=Node(id='豁免附約', type='Concept', properties={}), target=Node(id='新金關愛豁免保險費保險附約B型', type='Product', properties={}), type='包含', properties={}), Relationship(source=Node(id='豁免附約', type='Concept', properties={}), target=Node(id='新金關懷豁免保險費保險附約A型(0101)', type='Product', properties={}), type='包含', properties={}), Relationship(source=Node(id='豁免附約', type='Concept', properties={}), target=Node(id='新金關懷豁免保險費保險附約B型', type='Product', properties={}), type='包含', properties={}), Relationship(source=Node(id='豁免附約', type='Concept', properties={}), target=Node(id='鑫真愛護豁免保險費保險附約A型(0101)/B型', type='Product', properties={}), type='包含', properties={})], source=Document(metadata={'combined_chunk_ids': ['7781764e-9db3-49ea-95ba-0240269b73e4']}, page_content='**豁免附約** - 新金關愛豁免保險費保險附約A型(0101) (商品代號: NTTW0304) - 新金關愛豁免保險費保險附約B型 (商品代號: NTTW0504) - 新金關懷豁免保險費保險附約A型(0101) (商品代號: NTTW0704) - 新金關懷豁免保險費保險附約B型 (商品代號: NTTW0804) - 鑫真愛護豁免保險費保險附約A型(0101)/B型 (商品代號: NTTW0104/NTTW0204)  #### 附約商品')),\n",
       " GraphDocument(nodes=[Node(id='長年期', type='Concept', properties={'description': '新平準型定期壽險附約 (商品代號: NTTL0106)'}), Node(id='終身型', type='Concept', properties={'description': '珍LONG好康手術醫療終身健康保險附約 (商品代號: NTPH1206)'}), Node(id='終身型', type='Concept', properties={'description': '珍愛守護防癌終身健康保險附約 (商品代號: NTCC0506)'}), Node(id='終身型', type='Concept', properties={'description': '珍龍山水終身保險附約(實物給付型) (商品代號: NTWL0704)'})], relationships=[], source=Document(metadata={'combined_chunk_ids': ['1fe6d219-f522-4f75-aa48-8eb06b366d5c']}, page_content='**長年期** - 新平準型定期壽險附約 (商品代號: NTTL0106)  **終身型** - 珍LONG好康手術醫療終身健康保險附約 (商品代號: NTPH1206) - 珍愛守護防癌終身健康保險附約 (商品代號: NTCC0506) - 珍龍山水終身保險附約(實物給付型) (商品代號: NTWL0704)')),\n",
       " GraphDocument(nodes=[Node(id='珍傳愛小額終身壽險', type='保險', properties={'商品代號': 'NTWL0108'}), Node(id='珍多寶利率變動型增額終身壽險', type='保險', properties={'商品代號': 'NTIW0902'}), Node(id='年年好利利率變動型還本終身保險', type='保險', properties={'商品代號': 'NTIC0502'}), Node(id='年年添利利率變動型還本終身保險', type='保險', properties={'商品代號': 'NTIC0402'}), Node(id='傳承富足利率變動型終身壽險', type='保險', properties={'商品代號': 'NTIW1201'}), Node(id='金福利利率變動型終身壽險', type='保險', properties={'商品代號': 'NTIW1601'}), Node(id='金得利利率變動型增額終身壽險', type='保險', properties={'商品代號': 'NTIW1501/NTIW1701/NTIW1801'}), Node(id='超享利利率變動型還本終身保險', type='保險', properties={'商品代號': 'NTIC0701'}), Node(id='臻得利利率變動型終身壽險', type='保險', properties={'商品代號': 'NTIW1901'}), Node(id='保利好利率變動型終身壽險', type='保險', properties={'商品代號': 'NTIW2001'}), Node(id='新意享人生終身保險', type='保險', properties={'商品代號': 'NTWA0205'}), Node(id='新保安心住院醫療終身健康保險', type='保險', properties={'商品代號': 'NHPH0206'}), Node(id='新健康龍101終身醫療健康保險', type='保險', properties={'商品代號': 'NTPH0305'}), Node(id='珍好好醫療帳戶終身健康保險', type='保險', properties={'商品代號': 'NTPH1804'}), Node(id='鑫元氣重大疾病終身健康保險(乙型)', type='保險', properties={'商品代號': 'NTCI0205'}), Node(id='大大安心100重大疾病(甲型)暨特定傷病終身健康保險', type='保險', properties={'商品代號': 'NTCI0901'}), Node(id='閣卡安心100重大傷病終身健康保險', type='保險', properties={'商品代號': 'NTCI0801'}), Node(id='百分百守護長期照顧終身健康保險', type='保險', properties={'商品代號': 'NTLC0502'}), Node(id='金窩心100長期照顧終身健康保險', type='保險', properties={'商品代號': 'NTLC0602'})], relationships=[], source=Document(metadata={'combined_chunk_ids': ['2dcc8291-4508-4a8d-8670-a780be717639']}, page_content='**台幣終身型** - 珍傳愛小額終身壽險 (商品代號: NTWL0108) - 珍多寶利率變動型增額終身壽險 (商品代號: NTIW0902) - 年年好利利率變動型還本終身保險 (商品代號: NTIC0502) - 年年添利利率變動型還本終身保險 (商品代號: NTIC0402) - 傳承富足利率變動型終身壽險 (商品代號: NTIW1201) - 金福利利率變動型終身壽險 (商品代號: NTIW1601) - 金得利利率變動型增額終身壽險 (商品代號: NTIW1501/NTIW1701/NTIW1801) - 超享利利率變動型還本終身保險 (商品代號: NTIC0701) - 臻得利利率變動型終身壽險 (商品代號: NTIW1901) - 保利好利率變動型終身壽險 (商品代號: NTIW2001) - 新意享人生終身保險 (商品代號: NTWA0205) - 新保安心住院醫療終身健康保險 (商品代號: NHPH0206) - 新健康龍101終身醫療健康保險 (商品代號: NTPH0305) - 珍好好醫療帳戶終身健康保險 (商品代號: NTPH1804) - 鑫元氣重大疾病終身健康保險(乙型) (商品代號: NTCI0205) - 大大安心100重大疾病(甲型)暨特定傷病終身健康保險 (商品代號: NTCI0901) - 閣卡安心100重大傷病終身健康保險 (商品代號: NTCI0801) - 百分百守護長期照顧終身健康保險 (商品代號: NTLC0502) - 金窩心100長期照顧終身健康保險 (商品代號: NTLC0602)')),\n",
       " GraphDocument(nodes=[Node(id='新金關愛豁免保險費保險附約A型(0101)(1-9級+重疾)', type='保險附約', properties={'商品代號': 'NTTW0304'}), Node(id='新金關愛豁免保險費保險附約B型(1-9級)', type='保險附約', properties={'商品代號': 'NTTW0504'}), Node(id='新金關懷豁免保險費保險附約A型(0101)(2-9級+重疾)', type='保險附約', properties={'商品代號': 'NTTW0704'}), Node(id='新金關懷豁免保險費保險附約B型(2-9級)', type='保險附約', properties={'商品代號': 'NTTW0804'}), Node(id='鑫真愛護豁免保險費保險附約A型(0101)/B型(要/被不同人)', type='保險附約', properties={'商品代號': 'NTTW0104/NTTW0204'})], relationships=[], source=Document(metadata={'combined_chunk_ids': ['1e95b46d-0cef-40a0-bcf2-7ab500360407']}, page_content='**豁免附約** - 新金關愛豁免保險費保險附約A型(0101)(1-9級+重疾) (商品代號: NTTW0304) - 新金關愛豁免保險費保險附約B型(1-9級) (商品代號: NTTW0504) - 新金關懷豁免保險費保險附約A型(0101)(2-9級+重疾) (商品代號: NTTW0704) - 新金關懷豁免保險費保險附約B型(2-9級) (商品代號: NTTW0804) - 鑫真愛護豁免保險費保險附約A型(0101)/B型(要/被不同人) (商品代號: NTTW0104/NTTW0204)')),\n",
       " GraphDocument(nodes=[Node(id='珍多寶利率變動型增額終身壽險', type='保險', properties={'description': '繳費年期為2年者，無法附加豁免保險費保險附約'}), Node(id='臻得利利率變動型終身壽險', type='保險', properties={'description': '繳費年期為3年者，無法附加豁免保險費保險附約'})], relationships=[], source=Document(metadata={'combined_chunk_ids': ['3b88c2e1-c612-48df-b362-135372537625']}, page_content='，無法附加豁免保險費保險附約。 6. 若投保「珍多寶利率變動型增額終身壽險」且繳費年期為2年者，無法附加豁免保險費保險附約。 7. 若投保「臻得利利率變動型終身壽險」且繳費年期為3年者，無法附加豁免保險費保險附約。')),\n",
       " GraphDocument(nodes=[Node(id='真勇健醫療健康保險附約A型(0501)', type='保險', properties={'商品代號': 'NTYH1203'}), Node(id='一年期癌症健康保險附約', type='保險', properties={'商品代號': 'NYCC0303'}), Node(id='愛無慮A型一年定期癌症健康保險附約', type='保險', properties={'商品代號': 'NYCC0503'}), Node(id='一年期特定傷病健康保險附約', type='保險', properties={'商品代號': 'NYCI0203'}), Node(id='金卡安心一年定期重大傷病健康保險附約', type='保險', properties={'商品代號': 'NYCI0403'}), Node(id='長安傷害保險附約', type='保險', properties={'商品代號': 'NTPA1406'}), Node(id='龍平安傷害保險附約', type='保險', properties={'商品代號': 'NTPA1006'}), Node(id='好扶氣一年定期重大傷害失能扶助保險給付附加條款', type='保險', properties={'商品代號': 'NTYA0503'}), Node(id='安全保一年定期傷害保險附約', type='保險', properties={'商品代號': 'NAAD0205'}), Node(id='特定意外事故傷害保險附約', type='保險', properties={'商品代號': 'NTPA0405'}), Node(id='新傷害醫療保險金日額附約', type='保險', properties={'商品代號': 'NYAH0105'}), Node(id='新傷害骨折及關節整復手術保險金附加條款', type='保險', properties={'商品代號': 'NTPA1702'}), Node(id='新特定意外傷害保險金附加條款', type='保險', properties={'商品代號': 'NTPA2403'}), Node(id='龍好意日額型傷害醫療保險附約', type='保險', properties={'商品代號': 'NYAH0402'}), Node(id='好滿溢一年定期癌症醫療健康保險附約', type='保險', properties={'商品代號': 'NYCC0803'}), Node(id='好滿溢一年定期重大疾病健康保險附約(甲型)', type='保險', properties={'商品代號': 'NYCI0503'}), Node(id='好滿溢一年定期住院日額健康保險附約', type='保險', properties={'商品代號': 'NTYH1603'}), Node(id='全方位一年定期傷害保險附約', type='保險', properties={'商品代號': 'NTYA0901'}), Node(id='龍實在住院醫療健康保險附約', type='保險', properties={'商品代號': 'NTYH1901'})], relationships=[], source=Document(metadata={'combined_chunk_ids': ['856ffc70-1a2b-45be-a732-f3ee9b9602b7']}, page_content='**一年期** - 真勇健醫療健康保險附約A型(0501) (商品代號: NTYH1203) - 一年期癌症健康保險附約 (商品代號: NYCC0303) - 愛無慮A型一年定期癌症健康保險附約 (商品代號: NYCC0503) - 一年期特定傷病健康保險附約 (商品代號: NYCI0203) - 金卡安心一年定期重大傷病健康保險附約 (商品代號: NYCI0403) - 長安傷害保險附約 (商品代號: NTPA1406) - 龍平安傷害保險附約 (商品代號: NTPA1006) - 好扶氣一年定期重大傷害失能扶助保險給付附加條款 (商品代號: NTYA0503) - 安全保一年定期傷害保險附約 (商品代號: NAAD0205) - 特定意外事故傷害保險附約 (商品代號: NTPA0405) - 新傷害醫療保險金日額附約 (商品代號: NYAH0105) - 新傷害骨折及關節整復手術保險金附加條款 (商品代號: NTPA1702) - 新特定意外傷害保險金附加條款 (商品代號: NTPA2403) - 龍好意日額型傷害醫療保險附約 (商品代號: NYAH0402) - 好滿溢一年定期癌症醫療健康保險附約 (商品代號: NYCC0803) - 好滿溢一年定期重大疾病健康保險附約(甲型) (商品代號: NYCI0503) - 好滿溢一年定期住院日額健康保險附約 (商品代號: NTYH1603) - 全方位一年定期傷害保險附約 (商品代號: NTYA0901) - 龍實在住院醫療健康保險附約 (商品代號: NTYH1901)')),\n",
       " GraphDocument(nodes=[Node(id='主約', type='保險', properties={}), Node(id='附約', type='保險', properties={}), Node(id='1-6級失能豁免保費', type='保障', properties={}), Node(id='2-6級失能豁免保費', type='保障', properties={}), Node(id='新金關愛豁免附約A型', type='附約', properties={}), Node(id='新金關愛豁免附約B型', type='附約', properties={}), Node(id='新金關懷豁免附約A型', type='附約', properties={}), Node(id='新金關懷豁免附約B型', type='附約', properties={}), Node(id='完全失能保險金', type='保險金', properties={}), Node(id='契約', type='契約', properties={}), Node(id='重大疾病豁免保費', type='保障', properties={}), Node(id='鑫元氣', type='保險', properties={}), Node(id='一年期附約', type='附約', properties={}), Node(id='長年期附約', type='附約', properties={}), Node(id='閣卡安心100重大傷病終身健康保險', type='保險', properties={})], relationships=[Relationship(source=Node(id='主約', type='保險', properties={}), target=Node(id='1-6級失能豁免保費', type='保障', properties={}), type='內含', properties={}), Relationship(source=Node(id='主約', type='保險', properties={}), target=Node(id='2-6級失能豁免保費', type='保障', properties={}), type='內含', properties={}), Relationship(source=Node(id='附約', type='保險', properties={}), target=Node(id='1-6級失能豁免保費', type='保障', properties={}), type='內含', properties={}), Relationship(source=Node(id='附約', type='保險', properties={}), target=Node(id='2-6級失能豁免保費', type='保障', properties={}), type='內含', properties={}), Relationship(source=Node(id='1-6級失能豁免保費', type='保障', properties={}), target=Node(id='新金關愛豁免附約A型', type='附約', properties={}), type='不開放附加', properties={}), Relationship(source=Node(id='1-6級失能豁免保費', type='保障', properties={}), target=Node(id='新金關愛豁免附約B型', type='附約', properties={}), type='不開放附加', properties={}), Relationship(source=Node(id='1-6級失能豁免保費', type='保障', properties={}), target=Node(id='新金關懷豁免附約A型', type='附約', properties={}), type='不開放附加', properties={}), Relationship(source=Node(id='1-6級失能豁免保費', type='保障', properties={}), target=Node(id='新金關懷豁免附約B型', type='附約', properties={}), type='不開放附加', properties={}), Relationship(source=Node(id='2-6級失能豁免保費', type='保障', properties={}), target=Node(id='新金關愛豁免附約A型', type='附約', properties={}), type='不開放附加', properties={}), Relationship(source=Node(id='2-6級失能豁免保費', type='保障', properties={}), target=Node(id='新金關愛豁免附約B型', type='附約', properties={}), type='不開放附加', properties={}), Relationship(source=Node(id='2-6級失能豁免保費', type='保障', properties={}), target=Node(id='新金關懷豁免附約A型', type='附約', properties={}), type='不開放附加', properties={}), Relationship(source=Node(id='2-6級失能豁免保費', type='保障', properties={}), target=Node(id='新金關懷豁免附約B型', type='附約', properties={}), type='不開放附加', properties={}), Relationship(source=Node(id='主約', type='保險', properties={}), target=Node(id='完全失能保險金', type='保險金', properties={}), type='給付', properties={}), Relationship(source=Node(id='附約', type='保險', properties={}), target=Node(id='完全失能保險金', type='保險金', properties={}), type='給付', properties={}), Relationship(source=Node(id='完全失能保險金', type='保險金', properties={}), target=Node(id='契約', type='契約', properties={}), type='終止', properties={}), Relationship(source=Node(id='完全失能保險金', type='保險金', properties={}), target=Node(id='新金關愛豁免附約A型', type='附約', properties={}), type='不開放附加', properties={'description': '1~9級失能'}), Relationship(source=Node(id='完全失能保險金', type='保險金', properties={}), target=Node(id='新金關愛豁免附約B型', type='附約', properties={}), type='不開放附加', properties={'description': '1~9級失能'}), Relationship(source=Node(id='主約', type='保險', properties={}), target=Node(id='重大疾病豁免保費', type='保障', properties={}), type='內含', properties={}), Relationship(source=Node(id='附約', type='保險', properties={}), target=Node(id='重大疾病豁免保費', type='保障', properties={}), type='內含', properties={}), Relationship(source=Node(id='重大疾病豁免保費', type='保障', properties={}), target=Node(id='新金關愛豁免附約A型', type='附約', properties={}), type='不開放附加', properties={}), Relationship(source=Node(id='重大疾病豁免保費', type='保障', properties={}), target=Node(id='新金關懷豁免附約A型', type='附約', properties={}), type='不開放附加', properties={}), Relationship(source=Node(id='重大疾病豁免保費', type='保障', properties={}), target=Node(id='鑫元氣', type='保險', properties={}), type='例如', properties={}), Relationship(source=Node(id='一年期附約', type='附約', properties={}), target=Node(id='主約', type='保險', properties={}), type='依指示', properties={'description': '一年期附約附加豁免規則隨主約保障內容指示'}), Relationship(source=Node(id='長年期附約', type='附約', properties={}), target=Node(id='主約', type='保險', properties={}), type='依指示', properties={'description': '長年期附約附加豁免依本身附加豁免規則'}), Relationship(source=Node(id='一年期附約', type='附約', properties={}), target=Node(id='主約', type='保險', properties={}), type='計費', properties={'description': '一年期及長年期附約附加豁免附約，皆依主約繳費年期計費'}), Relationship(source=Node(id='長年期附約', type='附約', properties={}), target=Node(id='主約', type='保險', properties={}), type='計費', properties={'description': '一年期及長年期附約附加豁免附約，皆依主約繳費年期計費'}), Relationship(source=Node(id='閣卡安心100重大傷病終身健康保險', type='保險', properties={}), target=Node(id='主約', type='保險', properties={}), type='投保', properties={'description': '繳費年期為30年'})], source=Document(metadata={'combined_chunk_ids': ['795a47c2-ddea-48e4-a842-0055f7cb900e']}, page_content='#### 註釋 1. 若投保之主、附約已內含1-6級或2-6級失能豁免保費之保障，則不開放附加新金關愛及新金關懷豁免附約A/B型。 2. 若投保之主、附約於給付完全失能保險金後契約即終止，則不開放附加新金關愛豁免附約A/B型(1~9級失能)。 3. 若投保之主、附約已內含重大疾病豁免保費之保障，則不開放附加新金關愛及新金關懷豁免附約A型。例如：鑫元氣。 4. 一年期附約附加豁免規則隨主約保障內容指示，長年期附約附加豁免依本身附加豁免規則。一年期及長年期附約附加豁免附約，皆依主約繳費年期計費。 5. 若投保「閣卡安心100重大傷病終身健康保險」且繳費年期為30年者'))]"
      ]
     },
     "execution_count": 8,
     "metadata": {},
     "output_type": "execute_result"
    }
   ],
   "source": [
    "\n",
    "graph_documents = graph_builder.get_graph_from_llm(llm, chunk_list, allowedNodes=[], allowedRelationship=[])\n",
    "graph_documents"
   ]
  },
  {
   "cell_type": "code",
   "execution_count": 9,
   "metadata": {},
   "outputs": [],
   "source": [
    "graph.add_graph_documents(graph_documents, baseEntityLabel=True)"
   ]
  },
  {
   "cell_type": "code",
   "execution_count": 10,
   "metadata": {},
   "outputs": [
    {
     "data": {
      "text/plain": [
       "{'graph_doc': GraphDocument(nodes=[Node(id='主約商品', type='Concept', properties={'description': '業務通路現售主約商品可附加附約一覽表'})], relationships=[], source=Document(metadata={'combined_chunk_ids': ['665a2461-6e6a-4618-8bba-bd4d62dc954c'], 'id': '0fb8fa8dcedc77629ed5522b334e557d'}, page_content='業務通路現售主約商品可附加附約一覽表 ◎ 附加附約規定請另詳各主約及附約投保規則。 ◎ 本表所列之主附約商品搭配規則僅供參考，如有未列出之商品或有其它疑問時，仍需依規劃部解釋為主。  ### 商品資訊整理  #### 主約商品')),\n",
       " 'chunk_id': '665a2461-6e6a-4618-8bba-bd4d62dc954c'}"
      ]
     },
     "execution_count": 10,
     "metadata": {},
     "output_type": "execute_result"
    }
   ],
   "source": [
    "chunks_and_graphDocuments_list = graph_builder.get_chunk_and_graphDocument(graph_documents)\n",
    "chunks_and_graphDocuments_list[0]"
   ]
  },
  {
   "cell_type": "code",
   "execution_count": 11,
   "metadata": {},
   "outputs": [],
   "source": [
    "graph_builder.merge_relationship_between_chunk_and_entites(chunks_and_graphDocuments_list)"
   ]
  },
  {
   "cell_type": "code",
   "execution_count": null,
   "metadata": {},
   "outputs": [],
   "source": []
  },
  {
   "cell_type": "code",
   "execution_count": null,
   "metadata": {},
   "outputs": [],
   "source": []
  }
 ],
 "metadata": {
  "kernelspec": {
   "display_name": "Python 3 (ipykernel)",
   "language": "python",
   "name": "python3"
  },
  "language_info": {
   "codemirror_mode": {
    "name": "ipython",
    "version": 3
   },
   "file_extension": ".py",
   "mimetype": "text/x-python",
   "name": "python",
   "nbconvert_exporter": "python",
   "pygments_lexer": "ipython3",
   "version": "3.12.6"
  }
 },
 "nbformat": 4,
 "nbformat_minor": 4
}
