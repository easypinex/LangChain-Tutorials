{
 "cells": [
  {
   "cell_type": "code",
   "execution_count": 1,
   "metadata": {},
   "outputs": [],
   "source": [
    "import os\n",
    "\n",
    "from langchain_community.graphs import Neo4jGraph\n",
    "\n",
    "os.environ[\"NEO4J_URI\"] = \"bolt://localhost:7687\"\n",
    "os.environ[\"NEO4J_USERNAME\"] = \"neo4j\"\n",
    "os.environ[\"NEO4J_PASSWORD\"] = \"2wsx3edc\"\n",
    "\n",
    "graph = Neo4jGraph()"
   ]
  },
  {
   "cell_type": "code",
   "execution_count": 2,
   "metadata": {},
   "outputs": [
    {
     "data": {
      "text/plain": [
       "[]"
      ]
     },
     "execution_count": 2,
     "metadata": {},
     "output_type": "execute_result"
    }
   ],
   "source": [
    "graph.query('MATCH (n) DETACH DELETE n;')\n",
    "# graph.query('drop index chunk_index;')"
   ]
  },
  {
   "cell_type": "code",
   "execution_count": 3,
   "metadata": {},
   "outputs": [],
   "source": [
    "from langchain_community.document_loaders import PyPDFLoader\n",
    "pages = []\n",
    "dir = '../data'\n",
    "for filename in os.listdir(dir):\n",
    "    docs = []\n",
    "    if filename.endswith(\".pdf\"):\n",
    "        loader = PyPDFLoader(os.path.join(dir, filename))\n",
    "        pages += loader.load()\n",
    "    break # too much time, only load one file\n",
    "pages\n",
    "pages = [pages[0]]"
   ]
  },
  {
   "cell_type": "code",
   "execution_count": 4,
   "metadata": {},
   "outputs": [],
   "source": [
    "import os\n",
    "\n",
    "from langchain_experimental.graph_transformers import LLMGraphTransformer\n",
    "# from langchain_openai import ChatOpenAI\n",
    "from langchain_openai import AzureChatOpenAI\n",
    "\n",
    "llm = AzureChatOpenAI(\n",
    "    azure_endpoint=os.environ[\"AZURE_OPENAI_ENDPOINT\"],\n",
    "    azure_deployment=os.environ[\"AZURE_OPENAI_DEPLOYMENT_NAME\"],\n",
    "    openai_api_version=os.environ[\"AZURE_OPENAI_API_VERSION\"],\n",
    ")"
   ]
  },
  {
   "cell_type": "code",
   "execution_count": 5,
   "metadata": {},
   "outputs": [
    {
     "data": {
      "text/plain": [
       "[{'chunk_id': '6cf3546a-e1f7-4349-9e4b-9e99810af1f0',\n",
       "  'chunk_doc': Document(metadata={'source': '../data/台灣人壽美鑫美利美元利率變動型終身壽險.pdf', 'page_number': 1}, page_content='第 1 頁，共  4 頁 台灣人壽 美鑫美利美元利率變動型終身壽險   保險商品內容說明   【承保範圍】   【增值回饋分享金的給付及通知】   第十三條   本公司於本契約有效期間內之每一保單年度屆滿後，除被保險人保險年齡達 16歲前者，按第三 項約定辦理外，將依要保人於投保時所選擇下列方式之一給付增值回饋分享金：   一、購買增額繳清保險金額：選擇購買增額繳清保險金額者，以增值回饋分享金為躉繳純保險費 ，計算自該保單週年日當日起生效之增額繳清保險金額，但被保險人為受監護宣告尚未撤銷者， 應依保單條款 第十六條約定辦理。   二、現金給付：選擇現金給付者')},\n",
       " {'chunk_id': 'ac6f33a1-7699-45ad-8da1-3990f779fb56',\n",
       "  'chunk_doc': Document(metadata={'source': '../data/台灣人壽美鑫美利美元利率變動型終身壽險.pdf', 'page_number': 1}, page_content='，依本契約約定 以現金給付增值回饋分享金予要保人，惟須於第 六保單年度屆滿後之每一保單週年日起，始得依本款方式給付。   三、儲存生息：選擇儲存生息者，各年度之增值回饋分享金將按各保單週年日當月之宣告利率依 據年複利方式，累積至要保人請求時給付，或至被保險人身故或本契約終止時，由本公司主動一 併給付。但在本公司給付受益人保險金而終止契約的情形，要保人未請求之增值回饋分享金及其 孳息，由該保險金受益人受領。惟須於第六保單年度屆滿後之每一保單週年日起，始得依本款方 式給付。   要保人若未選擇者，則視為選擇購買增額繳清保險金額，並得於本契約有效 期間內，以書面通知 本公司變更前項給付方式')},\n",
       " {'chunk_id': 'b4204ff1-5702-49cf-a903-97861064d3f6',\n",
       "  'chunk_doc': Document(metadata={'source': '../data/台灣人壽美鑫美利美元利率變動型終身壽險.pdf', 'page_number': 1}, page_content='，以書面通知 本公司變更前項給付方式，惟第六保單年度屆滿前，增值回饋分享金限以購買增額繳清保險金額 辦理。  被保險人保險年齡到達 16歲前，其增值回饋分享金於繳費期間應採抵繳保險費之方式辦理。但 因繳費期間已屆滿而無法抵繳保險費者，本公司改按各保單週年日當月之宣告利率，以年複利方 式儲存生息至被保險人保險年齡到達 16歲時，以累計儲存生息之金額一次計算增額繳清保險金 額，其後保單年度適用第一項規定。   要保人終止本契約，或被保險人於保險年齡達 16歲前死亡者，本公司應退還歷年累計儲存生息 之金額予要保人。   本公司於每一保 單年度屆滿後，應將該增值回饋分享金之金額')},\n",
       " {'chunk_id': '97faf0b0-e3d6-48e6-bbe3-7246a6fec214',\n",
       "  'chunk_doc': Document(metadata={'source': '../data/台灣人壽美鑫美利美元利率變動型終身壽險.pdf', 'page_number': 1}, page_content='，應將該增值回饋分享金之金額，以書面或電子郵件方式通知要保 人。    【身故保險金或喪葬費用保險金的給付】   第十六條   被保險人於本契約有效期間內身故者，本公司按身故日之當年度保險金額給付身故保險金。   訂立本契約時，以未滿 15足歲之未成年人為被保險人，除喪葬費用之給付外，其餘死亡給付之 約定於被保險人滿 15足歲之日起發生效力；被保險人滿 15足歲前死亡者，其身故保險金變更為 喪葬費用保險金。   前項未滿 15足歲之被保險人如有於民國九十九年二月三日 (不含 )前訂立之保險契約，其喪葬費 用保險金之給付依下列方式辦理 ：')}]"
      ]
     },
     "execution_count": 5,
     "metadata": {},
     "output_type": "execute_result"
    }
   ],
   "source": [
    "import sys\n",
    "sys.path.append(\"..\")\n",
    "from tools.graph_builder import TwlfGraphBuilder\n",
    "\n",
    "graph_builder = TwlfGraphBuilder(graph)\n",
    "graph_builder.graph_build(pages)\n",
    "graph_builder.chunk_list"
   ]
  },
  {
   "cell_type": "code",
   "execution_count": 6,
   "metadata": {},
   "outputs": [
    {
     "data": {
      "text/plain": [
       "[Document(metadata={'combined_chunk_ids': ['6cf3546a-e1f7-4349-9e4b-9e99810af1f0']}, page_content='第 1 頁，共  4 頁 台灣人壽 美鑫美利美元利率變動型終身壽險   保險商品內容說明   【承保範圍】   【增值回饋分享金的給付及通知】   第十三條   本公司於本契約有效期間內之每一保單年度屆滿後，除被保險人保險年齡達 16歲前者，按第三 項約定辦理外，將依要保人於投保時所選擇下列方式之一給付增值回饋分享金：   一、購買增額繳清保險金額：選擇購買增額繳清保險金額者，以增值回饋分享金為躉繳純保險費 ，計算自該保單週年日當日起生效之增額繳清保險金額，但被保險人為受監護宣告尚未撤銷者， 應依保單條款 第十六條約定辦理。   二、現金給付：選擇現金給付者'),\n",
       " Document(metadata={'combined_chunk_ids': ['ac6f33a1-7699-45ad-8da1-3990f779fb56']}, page_content='，依本契約約定 以現金給付增值回饋分享金予要保人，惟須於第 六保單年度屆滿後之每一保單週年日起，始得依本款方式給付。   三、儲存生息：選擇儲存生息者，各年度之增值回饋分享金將按各保單週年日當月之宣告利率依 據年複利方式，累積至要保人請求時給付，或至被保險人身故或本契約終止時，由本公司主動一 併給付。但在本公司給付受益人保險金而終止契約的情形，要保人未請求之增值回饋分享金及其 孳息，由該保險金受益人受領。惟須於第六保單年度屆滿後之每一保單週年日起，始得依本款方 式給付。   要保人若未選擇者，則視為選擇購買增額繳清保險金額，並得於本契約有效 期間內，以書面通知 本公司變更前項給付方式'),\n",
       " Document(metadata={'combined_chunk_ids': ['b4204ff1-5702-49cf-a903-97861064d3f6']}, page_content='，以書面通知 本公司變更前項給付方式，惟第六保單年度屆滿前，增值回饋分享金限以購買增額繳清保險金額 辦理。  被保險人保險年齡到達 16歲前，其增值回饋分享金於繳費期間應採抵繳保險費之方式辦理。但 因繳費期間已屆滿而無法抵繳保險費者，本公司改按各保單週年日當月之宣告利率，以年複利方 式儲存生息至被保險人保險年齡到達 16歲時，以累計儲存生息之金額一次計算增額繳清保險金 額，其後保單年度適用第一項規定。   要保人終止本契約，或被保險人於保險年齡達 16歲前死亡者，本公司應退還歷年累計儲存生息 之金額予要保人。   本公司於每一保 單年度屆滿後，應將該增值回饋分享金之金額'),\n",
       " Document(metadata={'combined_chunk_ids': ['97faf0b0-e3d6-48e6-bbe3-7246a6fec214']}, page_content='，應將該增值回饋分享金之金額，以書面或電子郵件方式通知要保 人。    【身故保險金或喪葬費用保險金的給付】   第十六條   被保險人於本契約有效期間內身故者，本公司按身故日之當年度保險金額給付身故保險金。   訂立本契約時，以未滿 15足歲之未成年人為被保險人，除喪葬費用之給付外，其餘死亡給付之 約定於被保險人滿 15足歲之日起發生效力；被保險人滿 15足歲前死亡者，其身故保險金變更為 喪葬費用保險金。   前項未滿 15足歲之被保險人如有於民國九十九年二月三日 (不含 )前訂立之保險契約，其喪葬費 用保險金之給付依下列方式辦理 ：')]"
      ]
     },
     "execution_count": 6,
     "metadata": {},
     "output_type": "execute_result"
    }
   ],
   "source": [
    "graph_builder._get_combined_chunks(graph_builder.chunk_list)"
   ]
  },
  {
   "cell_type": "code",
   "execution_count": 7,
   "metadata": {},
   "outputs": [
    {
     "data": {
      "text/plain": [
       "[GraphDocument(nodes=[Node(id='增值回饋分享金', type='Concept'), Node(id='要保人', type='Person'), Node(id='身故保險金', type='Concept'), Node(id='喪葬費用保險金', type='Concept'), Node(id='被保險人', type='Person'), Node(id='本公司', type='Organization'), Node(id='當年度保險金額', type='Concept'), Node(id='本契約', type='Concept'), Node(id='未成年人', type='Person'), Node(id='民國九十九年二月三日', type='Date')], relationships=[Relationship(source=Node(id='增值回饋分享金', type='Concept'), target=Node(id='要保人', type='Person'), type='通知'), Relationship(source=Node(id='本公司', type='Organization'), target=Node(id='被保險人', type='Person'), type='給付'), Relationship(source=Node(id='身故保險金', type='Concept'), target=Node(id='喪葬費用保險金', type='Concept'), type='變更'), Relationship(source=Node(id='未成年人', type='Person'), target=Node(id='被保險人', type='Person'), type='身故'), Relationship(source=Node(id='本契約', type='Concept'), target=Node(id='未成年人', type='Person'), type='訂立'), Relationship(source=Node(id='被保險人', type='Person'), target=Node(id='民國九十九年二月三日', type='Date'), type='訂立')], source=Document(metadata={'combined_chunk_ids': ['97faf0b0-e3d6-48e6-bbe3-7246a6fec214']}, page_content='，應將該增值回饋分享金之金額，以書面或電子郵件方式通知要保 人。    【身故保險金或喪葬費用保險金的給付】   第十六條   被保險人於本契約有效期間內身故者，本公司按身故日之當年度保險金額給付身故保險金。   訂立本契約時，以未滿 15足歲之未成年人為被保險人，除喪葬費用之給付外，其餘死亡給付之 約定於被保險人滿 15足歲之日起發生效力；被保險人滿 15足歲前死亡者，其身故保險金變更為 喪葬費用保險金。   前項未滿 15足歲之被保險人如有於民國九十九年二月三日 (不含 )前訂立之保險契約，其喪葬費 用保險金之給付依下列方式辦理 ：')),\n",
       " GraphDocument(nodes=[Node(id='本公司', type='Organization'), Node(id='被保險人', type='Person'), Node(id='要保人', type='Person'), Node(id='增值回饋分享金', type='Financialproduct'), Node(id='保單年度', type='Timeperiod'), Node(id='保險年齡', type='Timeperiod'), Node(id='購買增額繳清保險金額', type='Action'), Node(id='抵繳保險費', type='Action'), Node(id='宣告利率', type='Financialterm')], relationships=[Relationship(source=Node(id='本公司', type='Organization'), target=Node(id='增值回饋分享金', type='Financialproduct'), type='MANAGE'), Relationship(source=Node(id='增值回饋分享金', type='Financialproduct'), target=Node(id='購買增額繳清保險金額', type='Action'), type='USED_FOR'), Relationship(source=Node(id='增值回饋分享金', type='Financialproduct'), target=Node(id='抵繳保險費', type='Action'), type='USED_FOR'), Relationship(source=Node(id='本公司', type='Organization'), target=Node(id='宣告利率', type='Financialterm'), type='USE'), Relationship(source=Node(id='本公司', type='Organization'), target=Node(id='增值回饋分享金', type='Financialproduct'), type='RETURN'), Relationship(source=Node(id='被保險人', type='Person'), target=Node(id='保險年齡', type='Timeperiod'), type='REACH'), Relationship(source=Node(id='本公司', type='Organization'), target=Node(id='要保人', type='Person'), type='RETURN')], source=Document(metadata={'combined_chunk_ids': ['b4204ff1-5702-49cf-a903-97861064d3f6']}, page_content='，以書面通知 本公司變更前項給付方式，惟第六保單年度屆滿前，增值回饋分享金限以購買增額繳清保險金額 辦理。  被保險人保險年齡到達 16歲前，其增值回饋分享金於繳費期間應採抵繳保險費之方式辦理。但 因繳費期間已屆滿而無法抵繳保險費者，本公司改按各保單週年日當月之宣告利率，以年複利方 式儲存生息至被保險人保險年齡到達 16歲時，以累計儲存生息之金額一次計算增額繳清保險金 額，其後保單年度適用第一項規定。   要保人終止本契約，或被保險人於保險年齡達 16歲前死亡者，本公司應退還歷年累計儲存生息 之金額予要保人。   本公司於每一保 單年度屆滿後，應將該增值回饋分享金之金額')),\n",
       " GraphDocument(nodes=[Node(id='台灣人壽', type='Organization'), Node(id='美鑫美利美元利率變動型終身壽險', type='Product'), Node(id='增值回饋分享金', type='Benefit'), Node(id='保單年度', type='Event'), Node(id='被保險人', type='Person'), Node(id='要保人', type='Person'), Node(id='增額繳清保險金額', type='Benefit'), Node(id='現金給付', type='Benefit')], relationships=[Relationship(source=Node(id='台灣人壽', type='Organization'), target=Node(id='美鑫美利美元利率變動型終身壽險', type='Product'), type='OFFERS'), Relationship(source=Node(id='美鑫美利美元利率變動型終身壽險', type='Product'), target=Node(id='承保範圍', type='Concept'), type='INCLUDES'), Relationship(source=Node(id='美鑫美利美元利率變動型終身壽險', type='Product'), target=Node(id='增值回饋分享金', type='Benefit'), type='OFFERS'), Relationship(source=Node(id='增值回饋分享金', type='Benefit'), target=Node(id='保單年度', type='Event'), type='RELATED_TO'), Relationship(source=Node(id='增值回饋分享金', type='Benefit'), target=Node(id='被保險人', type='Person'), type='RELATED_TO'), Relationship(source=Node(id='增值回饋分享金', type='Benefit'), target=Node(id='要保人', type='Person'), type='RELATED_TO'), Relationship(source=Node(id='增值回饋分享金', type='Benefit'), target=Node(id='增額繳清保險金額', type='Benefit'), type='OPTION'), Relationship(source=Node(id='增值回饋分享金', type='Benefit'), target=Node(id='現金給付', type='Benefit'), type='OPTION')], source=Document(metadata={'combined_chunk_ids': ['6cf3546a-e1f7-4349-9e4b-9e99810af1f0']}, page_content='第 1 頁，共  4 頁 台灣人壽 美鑫美利美元利率變動型終身壽險   保險商品內容說明   【承保範圍】   【增值回饋分享金的給付及通知】   第十三條   本公司於本契約有效期間內之每一保單年度屆滿後，除被保險人保險年齡達 16歲前者，按第三 項約定辦理外，將依要保人於投保時所選擇下列方式之一給付增值回饋分享金：   一、購買增額繳清保險金額：選擇購買增額繳清保險金額者，以增值回饋分享金為躉繳純保險費 ，計算自該保單週年日當日起生效之增額繳清保險金額，但被保險人為受監護宣告尚未撤銷者， 應依保單條款 第十六條約定辦理。   二、現金給付：選擇現金給付者')),\n",
       " GraphDocument(nodes=[Node(id='現金給付增值回饋分享金', type='Concept'), Node(id='要保人', type='Person'), Node(id='第六保單年度屆滿後之每一保單週年日', type='Event'), Node(id='儲存生息', type='Concept'), Node(id='各年度之增值回饋分享金', type='Concept'), Node(id='宣告利率', type='Concept'), Node(id='年複利方式', type='Concept'), Node(id='被保險人身故', type='Event'), Node(id='本契約終止', type='Event'), Node(id='本公司', type='Organization'), Node(id='受益人', type='Person'), Node(id='保險金', type='Concept'), Node(id='購買增額繳清保險金額', type='Concept')], relationships=[Relationship(source=Node(id='現金給付增值回饋分享金', type='Concept'), target=Node(id='要保人', type='Person'), type='給付'), Relationship(source=Node(id='現金給付增值回饋分享金', type='Concept'), target=Node(id='第六保單年度屆滿後之每一保單週年日', type='Event'), type='開始給付'), Relationship(source=Node(id='儲存生息', type='Concept'), target=Node(id='各年度之增值回饋分享金', type='Concept'), type='包含'), Relationship(source=Node(id='各年度之增值回饋分享金', type='Concept'), target=Node(id='宣告利率', type='Concept'), type='使用'), Relationship(source=Node(id='各年度之增值回饋分享金', type='Concept'), target=Node(id='年複利方式', type='Concept'), type='使用'), Relationship(source=Node(id='各年度之增值回饋分享金', type='Concept'), target=Node(id='要保人', type='Person'), type='給付'), Relationship(source=Node(id='各年度之增值回饋分享金', type='Concept'), target=Node(id='被保險人身故', type='Event'), type='給付'), Relationship(source=Node(id='各年度之增值回饋分享金', type='Concept'), target=Node(id='本契約終止', type='Event'), type='給付'), Relationship(source=Node(id='各年度之增值回饋分享金', type='Concept'), target=Node(id='本公司', type='Organization'), type='主動給付'), Relationship(source=Node(id='各年度之增值回饋分享金', type='Concept'), target=Node(id='受益人', type='Person'), type='受領'), Relationship(source=Node(id='各年度之增值回饋分享金', type='Concept'), target=Node(id='保險金', type='Concept'), type='包含'), Relationship(source=Node(id='要保人', type='Person'), target=Node(id='購買增額繳清保險金額', type='Concept'), type='選擇')], source=Document(metadata={'combined_chunk_ids': ['ac6f33a1-7699-45ad-8da1-3990f779fb56']}, page_content='，依本契約約定 以現金給付增值回饋分享金予要保人，惟須於第 六保單年度屆滿後之每一保單週年日起，始得依本款方式給付。   三、儲存生息：選擇儲存生息者，各年度之增值回饋分享金將按各保單週年日當月之宣告利率依 據年複利方式，累積至要保人請求時給付，或至被保險人身故或本契約終止時，由本公司主動一 併給付。但在本公司給付受益人保險金而終止契約的情形，要保人未請求之增值回饋分享金及其 孳息，由該保險金受益人受領。惟須於第六保單年度屆滿後之每一保單週年日起，始得依本款方 式給付。   要保人若未選擇者，則視為選擇購買增額繳清保險金額，並得於本契約有效 期間內，以書面通知 本公司變更前項給付方式'))]"
      ]
     },
     "execution_count": 7,
     "metadata": {},
     "output_type": "execute_result"
    }
   ],
   "source": [
    "\n",
    "graph_documents = graph_builder.get_graph_from_llm(llm, graph_builder.chunk_list, allowedNodes=[], allowedRelationship=[])\n",
    "graph_documents"
   ]
  },
  {
   "cell_type": "code",
   "execution_count": 8,
   "metadata": {},
   "outputs": [],
   "source": [
    "graph.add_graph_documents(graph_documents, baseEntityLabel=True)"
   ]
  },
  {
   "cell_type": "code",
   "execution_count": 9,
   "metadata": {},
   "outputs": [
    {
     "data": {
      "text/plain": [
       "{'graph_doc': GraphDocument(nodes=[Node(id='增值回饋分享金', type='Concept'), Node(id='要保人', type='Person'), Node(id='身故保險金', type='Concept'), Node(id='喪葬費用保險金', type='Concept'), Node(id='被保險人', type='Person'), Node(id='本公司', type='Organization'), Node(id='當年度保險金額', type='Concept'), Node(id='本契約', type='Concept'), Node(id='未成年人', type='Person'), Node(id='民國九十九年二月三日', type='Date')], relationships=[Relationship(source=Node(id='增值回饋分享金', type='Concept'), target=Node(id='要保人', type='Person'), type='通知'), Relationship(source=Node(id='本公司', type='Organization'), target=Node(id='被保險人', type='Person'), type='給付'), Relationship(source=Node(id='身故保險金', type='Concept'), target=Node(id='喪葬費用保險金', type='Concept'), type='變更'), Relationship(source=Node(id='未成年人', type='Person'), target=Node(id='被保險人', type='Person'), type='身故'), Relationship(source=Node(id='本契約', type='Concept'), target=Node(id='未成年人', type='Person'), type='訂立'), Relationship(source=Node(id='被保險人', type='Person'), target=Node(id='民國九十九年二月三日', type='Date'), type='訂立')], source=Document(metadata={'combined_chunk_ids': ['97faf0b0-e3d6-48e6-bbe3-7246a6fec214'], 'id': 'b12213b9a3de4ec58ec7f8ac54849370'}, page_content='，應將該增值回饋分享金之金額，以書面或電子郵件方式通知要保 人。    【身故保險金或喪葬費用保險金的給付】   第十六條   被保險人於本契約有效期間內身故者，本公司按身故日之當年度保險金額給付身故保險金。   訂立本契約時，以未滿 15足歲之未成年人為被保險人，除喪葬費用之給付外，其餘死亡給付之 約定於被保險人滿 15足歲之日起發生效力；被保險人滿 15足歲前死亡者，其身故保險金變更為 喪葬費用保險金。   前項未滿 15足歲之被保險人如有於民國九十九年二月三日 (不含 )前訂立之保險契約，其喪葬費 用保險金之給付依下列方式辦理 ：')),\n",
       " 'chunk_id': '97faf0b0-e3d6-48e6-bbe3-7246a6fec214'}"
      ]
     },
     "execution_count": 9,
     "metadata": {},
     "output_type": "execute_result"
    }
   ],
   "source": [
    "chunks_and_graphDocuments_list = graph_builder.get_chunk_and_graphDocument(graph_documents)\n",
    "chunks_and_graphDocuments_list[0]"
   ]
  },
  {
   "cell_type": "code",
   "execution_count": 10,
   "metadata": {},
   "outputs": [],
   "source": [
    "graph_builder.merge_relationship_between_chunk_and_entites(chunks_and_graphDocuments_list)"
   ]
  },
  {
   "cell_type": "code",
   "execution_count": 11,
   "metadata": {},
   "outputs": [],
   "source": [
    "from langchain_community.vectorstores import Neo4jVector\n",
    "\n",
    "from langchain_openai import AzureOpenAIEmbeddings\n",
    "\n",
    "embedding = AzureOpenAIEmbeddings(\n",
    "    model=\"text-embedding-ada-002\",\n",
    "    azure_endpoint='https://lang-chain-dev.openai.azure.com/openai/deployments/text-embedding-ada-002/embeddings?api-version=2023-05-15',\n",
    "    azure_deployment='text-embedding-ada-002',\n",
    "    openai_api_version='2023-05-15'\n",
    ")\n",
    "\n",
    "vector = Neo4jVector.from_existing_graph(\n",
    "    embedding,\n",
    "    node_label='Chunk',\n",
    "    text_node_properties=['content'],\n",
    "    embedding_node_property='embedding'\n",
    ")"
   ]
  }
 ],
 "metadata": {
  "kernelspec": {
   "display_name": "lagch",
   "language": "python",
   "name": "python3"
  },
  "language_info": {
   "codemirror_mode": {
    "name": "ipython",
    "version": 3
   },
   "file_extension": ".py",
   "mimetype": "text/x-python",
   "name": "python",
   "nbconvert_exporter": "python",
   "pygments_lexer": "ipython3",
   "version": "3.12.5"
  }
 },
 "nbformat": 4,
 "nbformat_minor": 2
}
