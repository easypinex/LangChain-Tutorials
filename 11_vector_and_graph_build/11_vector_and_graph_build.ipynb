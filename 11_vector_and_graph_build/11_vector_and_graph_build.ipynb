{
 "cells": [
  {
   "cell_type": "code",
   "execution_count": 1,
   "metadata": {},
   "outputs": [],
   "source": [
    "import sys\n",
    "sys.path.append(\"..\")"
   ]
  },
  {
   "cell_type": "code",
   "execution_count": 48,
   "metadata": {},
   "outputs": [],
   "source": [
    "import os\n",
    "from langchain_community.graphs import Neo4jGraph\n",
    "\n",
    "os.environ[\"NEO4J_URI\"] = \"bolt://localhost:7687\"\n",
    "os.environ[\"NEO4J_USERNAME\"] = \"neo4j\"\n",
    "os.environ[\"NEO4J_PASSWORD\"] = \"2wsx3edc\"\n",
    "\n",
    "database = os.environ.get('NEO4J_DATABASE')\n",
    "graph = Neo4jGraph(database=database)"
   ]
  },
  {
   "cell_type": "code",
   "execution_count": 49,
   "metadata": {},
   "outputs": [
    {
     "data": {
      "text/plain": [
       "[]"
      ]
     },
     "execution_count": 49,
     "metadata": {},
     "output_type": "execute_result"
    }
   ],
   "source": [
    "graph.query('MATCH (n) DETACH DELETE n;')\n",
    "# graph.query('drop index chunk_index;')"
   ]
  },
  {
   "cell_type": "code",
   "execution_count": 51,
   "metadata": {},
   "outputs": [],
   "source": [
    "import os\n",
    "\n",
    "from langchain_experimental.graph_transformers import LLMGraphTransformer\n",
    "# from langchain_openai import ChatOpenAI\n",
    "from langchain_openai import AzureChatOpenAI\n",
    "from langchain_experimental.llms.ollama_functions import OllamaFunctions\n",
    "llm = AzureChatOpenAI(\n",
    "    azure_endpoint=os.environ[\"AZURE_OPENAI_ENDPOINT\"],\n",
    "    azure_deployment=os.environ[\"AZURE_OPENAI_DEPLOYMENT_NAME\"],\n",
    "    openai_api_version=os.environ[\"AZURE_OPENAI_API_VERSION\"],\n",
    "    temperature=0\n",
    ")"
   ]
  },
  {
   "cell_type": "code",
   "execution_count": 50,
   "metadata": {},
   "outputs": [
    {
     "data": {
      "text/plain": [
       "[Document(metadata={'source': '../data/個人保險首續期繳費暨保單貸款還款息作業手冊(113年7月版)_業務通路版.pdf', 'page': 9}, page_content='                                                                回目錄  \\n7 \\n版次： 113年07月版                                                                                            修訂日期： 113.0 7.01 二、  首期保險費 -採信用卡扣款作業  \\n(一) 首期保險費採信用卡扣款作業應注意事項  \\n1. 凡持有 VISA、MASTER 、JCB、AE卡均可申請信用卡繳交保險費，本公司於 同意承保\\n後進行信用卡扣款作業 ，保戶收到銀行信用卡繳款帳單於期限內繳款即可。  \\n2. 申請以信用卡繳交首期保險費， 請檢附「保險費信用卡付款授 權書」，繳款人為非保單關\\n係人時須檢附關係證明文件。 相關規定請參照 繳費方式及受理應檢附文件 。 \\n3. 要保人須於 授權書要保人欄位簽 章並與要保書 簽章相同，授權人 應留存信用卡上之簽名\\n樣式。  \\n4. 依強化保險業透 過信用卡或金融機構轉帳扣款收取保險費之身份驗證機制，保險公司及\\n保單服務人員 (含業務員、授權書建檔人員、核保人員等 )，均應全 面核對要保人簽 章、授\\n權人簽名、 信用卡卡號 /有效期限 /姓名/身分證統一編號 。相關規定請參照 自動轉帳及信\\n用卡付款授權書作業規範 (加強身分驗證機制 )。 \\n5. 信用卡卡號及 授權人身分證 統一編號 須送「信用卡輔助持卡人 身分驗證平台 」，經驗證成\\n功(且同意承保 )始得進行首期保險費 信用卡扣款作業。  \\n6. 生效日認定：  \\n(1) 保單生效日 認定依「 生效日期之認定原則 」辦理。 \\n(2) 因核印失敗、請款失敗或新契約於核保中主動異動繳費管道者，其生效日認定依「 新\\n契約首期保險費繳費管道異動之繳費 日認定原則 」辦理。  \\n7. 保費折扣：  \\n以信用卡繳交保險費， 保費折扣適用規定 依各險種投保規則辦理 。 \\n8. 一張保單號碼 限使用一張信用卡 繳費。 \\n(二) 電話行銷業務透過信用卡扣繳保險費者，須符合 控管機制 \\n1. 要保人與授權人同一人時  \\n(1) 電銷人員於 招攬過程中依下列方式進行 身分確認：  \\nA. 電話錄音留存 信用卡卡號、授權 人姓名、身分證 統一編號 、信用卡有效期限等  \\n         資訊。  \\nB. 以複誦信用卡卡號及有效期限供授權人確認，並以電話錄音方式留存。  \\n(2) 再行確認之機制：  \\nA. 指派非銷售人員以 電話回訪 方式向授權人確認其姓名、身分證 統一編號 、信用卡\\n卡號、有效期限等資訊是否正確。  \\nB. 向銀行驗證授權人身分證 統一編號 、信用卡卡號、有效期限等資訊是否正確。經銀\\n行驗證後始向銀行請款並寄發保單。  \\n2. 要保人與授權人 不同一人時，電話行銷人員應取得授權人簽名之 紙本「保險費信用卡付\\n款授權書 」之正本或影本。  \\n  ')]"
      ]
     },
     "execution_count": 50,
     "metadata": {},
     "output_type": "execute_result"
    }
   ],
   "source": [
    "# from langchain_community.document_loaders import PyPDFLoader\n",
    "from tools.PDFTablePyPlumberLoader import PDFTablePyPlumberLoader\n",
    "pages = []\n",
    "dir = '../data'\n",
    "for filename in os.listdir(dir):\n",
    "    docs = []\n",
    "    if filename.endswith(\".pdf\"):\n",
    "        loader = PDFTablePyPlumberLoader(os.path.join(dir, filename), llm)\n",
    "        pages += loader.load()\n",
    "    # break # too much time, only load one file\n",
    "pages\n",
    "\n",
    "# loader = PyPDFLoader(os.path.join(dir, '個人保險首續期繳費暨保單貸款還款息作業手冊(113年7月版)_業務通路版.pdf'))\n",
    "# pages += loader.load()\n",
    "# pages = [pages[9]]\n",
    "# pages"
   ]
  },
  {
   "cell_type": "code",
   "execution_count": 5,
   "metadata": {},
   "outputs": [
    {
     "name": "stderr",
     "output_type": "stream",
     "text": [
      "/Users/andy/miniforge3/envs/lagch/lib/python3.12/site-packages/langchain_core/_api/deprecation.py:141: LangChainDeprecationWarning: The class `OllamaFunctions` was deprecated in LangChain 0.0.64 and will be removed in 0.4.0. An updated version of the class exists in the langchain-ollama package and should be used instead. To use it run `pip install -U langchain-ollama` and import as `from langchain_ollama import ChatOllama`.\n",
      "  warn_deprecated(\n"
     ]
    },
    {
     "data": {
      "text/plain": [
       "OllamaFunctions(model='qwen2:72b-instruct-q8_0')"
      ]
     },
     "execution_count": 5,
     "metadata": {},
     "output_type": "execute_result"
    }
   ],
   "source": [
    "from langchain_experimental.llms.ollama_functions import OllamaFunctions\n",
    "model_name = 'qwen2:72b-instruct-q8_0'\n",
    "llm = OllamaFunctions(model=model_name, temperature=0)\n",
    "llm"
   ]
  },
  {
   "cell_type": "code",
   "execution_count": 52,
   "metadata": {},
   "outputs": [
    {
     "data": {
      "text/plain": [
       "[{'chunk_id': 'e40f4f5c-7163-48a4-9472-fbd526731ece',\n",
       "  'chunk_doc': Document(metadata={'source': '../data/個人保險首續期繳費暨保單貸款還款息作業手冊(113年7月版)_業務通路版.pdf', 'content': '回目錄   7  版次： 113年07月版                                                                                            修訂日期： 113.0 7.01 二、  首期保險費 -採信用卡扣款作業   (一) 首期保險費採信用卡扣款作業應注意事項   1. 凡持有 VISA、MASTER 、JCB、AE卡均可申請信用卡繳交保險費', 'page_number': 1}, page_content='回目錄   7  版次： 113年07月版                                                                                            修訂日期： 113.0 7.01 二、  首期保險費 -採信用卡扣款作業   (一) 首期保險費採信用卡扣款作業應注意事項   1. 凡持有 VISA、MASTER 、JCB、AE卡均可申請信用卡繳交保險費')},\n",
       " {'chunk_id': '33be6903-8d2d-4c29-8a86-b515d1baecf9',\n",
       "  'chunk_doc': Document(metadata={'source': '../data/個人保險首續期繳費暨保單貸款還款息作業手冊(113年7月版)_業務通路版.pdf', 'content': '，本公司於 同意承保 後進行信用卡扣款作業 ，保戶收到銀行信用卡繳款帳單於期限內繳款即可。   2. 申請以信用卡繳交首期保險費， 請檢附「保險費信用卡付款授 權書」，繳款人為非保單關 係人時須檢附關係證明文件。 相關規定請參照 繳費方式及受理應檢附文件 。  3. 要保人須於 授權書要保人欄位簽 章並與要保書 簽章相同，授權人 應留存信用卡上之簽名 樣式。   4. 依強化保險業透 過信用卡或金融機構轉帳扣款收取保險費之身份驗證機制，保險公司及 保單服務人員 (含業務員、授權書建檔人員、核保人員等 )', 'page_number': 1}, page_content='，本公司於 同意承保 後進行信用卡扣款作業 ，保戶收到銀行信用卡繳款帳單於期限內繳款即可。   2. 申請以信用卡繳交首期保險費， 請檢附「保險費信用卡付款授 權書」，繳款人為非保單關 係人時須檢附關係證明文件。 相關規定請參照 繳費方式及受理應檢附文件 。  3. 要保人須於 授權書要保人欄位簽 章並與要保書 簽章相同，授權人 應留存信用卡上之簽名 樣式。   4. 依強化保險業透 過信用卡或金融機構轉帳扣款收取保險費之身份驗證機制，保險公司及 保單服務人員 (含業務員、授權書建檔人員、核保人員等 )')},\n",
       " {'chunk_id': 'f0cbf9ad-103a-4cb1-bd47-40d4abc8e58d',\n",
       "  'chunk_doc': Document(metadata={'source': '../data/個人保險首續期繳費暨保單貸款還款息作業手冊(113年7月版)_業務通路版.pdf', 'content': '，均應全 面核對要保人簽 章、授 權人簽名、 信用卡卡號 /有效期限 /姓名/身分證統一編號 。相關規定請參照 自動轉帳及信 用卡付款授權書作業規範 (加強身分驗證機制 )。  5. 信用卡卡號及 授權人身分證 統一編號 須送「信用卡輔助持卡人 身分驗證平台 」，經驗證成 功(且同意承保 )始得進行首期保險費 信用卡扣款作業。   6. 生效日認定：   (1) 保單生效日 認定依「 生效日期之認定原則 」辦理。  (2) 因核印失敗、請款失敗或新契約於核保中主動異動繳費管道者', 'page_number': 1}, page_content='，均應全 面核對要保人簽 章、授 權人簽名、 信用卡卡號 /有效期限 /姓名/身分證統一編號 。相關規定請參照 自動轉帳及信 用卡付款授權書作業規範 (加強身分驗證機制 )。  5. 信用卡卡號及 授權人身分證 統一編號 須送「信用卡輔助持卡人 身分驗證平台 」，經驗證成 功(且同意承保 )始得進行首期保險費 信用卡扣款作業。   6. 生效日認定：   (1) 保單生效日 認定依「 生效日期之認定原則 」辦理。  (2) 因核印失敗、請款失敗或新契約於核保中主動異動繳費管道者')},\n",
       " {'chunk_id': '45aa66e6-b244-4dad-b0b3-fa0f7c6e11a2',\n",
       "  'chunk_doc': Document(metadata={'source': '../data/個人保險首續期繳費暨保單貸款還款息作業手冊(113年7月版)_業務通路版.pdf', 'content': '，其生效日認定依「 新 契約首期保險費繳費管道異動之繳費 日認定原則 」辦理。   7. 保費折扣：   以信用卡繳交保險費， 保費折扣適用規定 依各險種投保規則辦理 。  8. 一張保單號碼 限使用一張信用卡 繳費。  (二) 電話行銷業務透過信用卡扣繳保險費者，須符合 控管機制  1. 要保人與授權人同一人時   (1) 電銷人員於 招攬過程中依下列方式進行 身分確認：   A. 電話錄音留存 信用卡卡號、授權 人姓名、身分證 統一編號 、信用卡有效期限等            資訊。   B. 以複誦信用卡卡號及有效期限供授權人確認', 'page_number': 1}, page_content='，其生效日認定依「 新 契約首期保險費繳費管道異動之繳費 日認定原則 」辦理。   7. 保費折扣：   以信用卡繳交保險費， 保費折扣適用規定 依各險種投保規則辦理 。  8. 一張保單號碼 限使用一張信用卡 繳費。  (二) 電話行銷業務透過信用卡扣繳保險費者，須符合 控管機制  1. 要保人與授權人同一人時   (1) 電銷人員於 招攬過程中依下列方式進行 身分確認：   A. 電話錄音留存 信用卡卡號、授權 人姓名、身分證 統一編號 、信用卡有效期限等            資訊。   B. 以複誦信用卡卡號及有效期限供授權人確認')},\n",
       " {'chunk_id': '4b9d09a7-930b-42d5-8ebd-aeb121ec117f',\n",
       "  'chunk_doc': Document(metadata={'source': '../data/個人保險首續期繳費暨保單貸款還款息作業手冊(113年7月版)_業務通路版.pdf', 'content': '，並以電話錄音方式留存。   (2) 再行確認之機制：   A. 指派非銷售人員以 電話回訪 方式向授權人確認其姓名、身分證 統一編號 、信用卡 卡號、有效期限等資訊是否正確。   B. 向銀行驗證授權人身分證 統一編號 、信用卡卡號、有效期限等資訊是否正確。經銀 行驗證後始向銀行請款並寄發保單。   2. 要保人與授權人 不同一人時，電話行銷人員應取得授權人簽名之 紙本「保險費信用卡付 款授權書 」之正本或影本。', 'page_number': 1}, page_content='，並以電話錄音方式留存。   (2) 再行確認之機制：   A. 指派非銷售人員以 電話回訪 方式向授權人確認其姓名、身分證 統一編號 、信用卡 卡號、有效期限等資訊是否正確。   B. 向銀行驗證授權人身分證 統一編號 、信用卡卡號、有效期限等資訊是否正確。經銀 行驗證後始向銀行請款並寄發保單。   2. 要保人與授權人 不同一人時，電話行銷人員應取得授權人簽名之 紙本「保險費信用卡付 款授權書 」之正本或影本。')}]"
      ]
     },
     "execution_count": 52,
     "metadata": {},
     "output_type": "execute_result"
    }
   ],
   "source": [
    "import sys\n",
    "sys.path.append(\"..\")\n",
    "from tools.graph_builder import TwlfGraphBuilder\n",
    "\n",
    "graph_builder = TwlfGraphBuilder(graph, max_thread=5)\n",
    "chunk_list = graph_builder.graph_build(pages)\n",
    "chunk_list"
   ]
  },
  {
   "cell_type": "code",
   "execution_count": 53,
   "metadata": {},
   "outputs": [
    {
     "data": {
      "text/plain": [
       "1427"
      ]
     },
     "execution_count": 53,
     "metadata": {},
     "output_type": "execute_result"
    }
   ],
   "source": [
    "from tools.TokenCounter import num_tokens_from_string\n",
    "\n",
    "tokens_num = 0\n",
    "for chunk in chunk_list:\n",
    "    doc = chunk['chunk_doc']\n",
    "    content = doc.page_content\n",
    "    curr_num = num_tokens_from_string(content)\n",
    "    tokens_num += num_tokens_from_string(content)\n",
    "tokens_num"
   ]
  },
  {
   "cell_type": "code",
   "execution_count": 54,
   "metadata": {},
   "outputs": [
    {
     "data": {
      "text/plain": [
       "[Document(metadata={'combined_chunk_ids': ['e40f4f5c-7163-48a4-9472-fbd526731ece']}, page_content='回目錄   7  版次： 113年07月版                                                                                            修訂日期： 113.0 7.01 二、  首期保險費 -採信用卡扣款作業   (一) 首期保險費採信用卡扣款作業應注意事項   1. 凡持有 VISA、MASTER 、JCB、AE卡均可申請信用卡繳交保險費'),\n",
       " Document(metadata={'combined_chunk_ids': ['33be6903-8d2d-4c29-8a86-b515d1baecf9']}, page_content='，本公司於 同意承保 後進行信用卡扣款作業 ，保戶收到銀行信用卡繳款帳單於期限內繳款即可。   2. 申請以信用卡繳交首期保險費， 請檢附「保險費信用卡付款授 權書」，繳款人為非保單關 係人時須檢附關係證明文件。 相關規定請參照 繳費方式及受理應檢附文件 。  3. 要保人須於 授權書要保人欄位簽 章並與要保書 簽章相同，授權人 應留存信用卡上之簽名 樣式。   4. 依強化保險業透 過信用卡或金融機構轉帳扣款收取保險費之身份驗證機制，保險公司及 保單服務人員 (含業務員、授權書建檔人員、核保人員等 )'),\n",
       " Document(metadata={'combined_chunk_ids': ['f0cbf9ad-103a-4cb1-bd47-40d4abc8e58d']}, page_content='，均應全 面核對要保人簽 章、授 權人簽名、 信用卡卡號 /有效期限 /姓名/身分證統一編號 。相關規定請參照 自動轉帳及信 用卡付款授權書作業規範 (加強身分驗證機制 )。  5. 信用卡卡號及 授權人身分證 統一編號 須送「信用卡輔助持卡人 身分驗證平台 」，經驗證成 功(且同意承保 )始得進行首期保險費 信用卡扣款作業。   6. 生效日認定：   (1) 保單生效日 認定依「 生效日期之認定原則 」辦理。  (2) 因核印失敗、請款失敗或新契約於核保中主動異動繳費管道者'),\n",
       " Document(metadata={'combined_chunk_ids': ['45aa66e6-b244-4dad-b0b3-fa0f7c6e11a2']}, page_content='，其生效日認定依「 新 契約首期保險費繳費管道異動之繳費 日認定原則 」辦理。   7. 保費折扣：   以信用卡繳交保險費， 保費折扣適用規定 依各險種投保規則辦理 。  8. 一張保單號碼 限使用一張信用卡 繳費。  (二) 電話行銷業務透過信用卡扣繳保險費者，須符合 控管機制  1. 要保人與授權人同一人時   (1) 電銷人員於 招攬過程中依下列方式進行 身分確認：   A. 電話錄音留存 信用卡卡號、授權 人姓名、身分證 統一編號 、信用卡有效期限等            資訊。   B. 以複誦信用卡卡號及有效期限供授權人確認'),\n",
       " Document(metadata={'combined_chunk_ids': ['4b9d09a7-930b-42d5-8ebd-aeb121ec117f']}, page_content='，並以電話錄音方式留存。   (2) 再行確認之機制：   A. 指派非銷售人員以 電話回訪 方式向授權人確認其姓名、身分證 統一編號 、信用卡 卡號、有效期限等資訊是否正確。   B. 向銀行驗證授權人身分證 統一編號 、信用卡卡號、有效期限等資訊是否正確。經銀 行驗證後始向銀行請款並寄發保單。   2. 要保人與授權人 不同一人時，電話行銷人員應取得授權人簽名之 紙本「保險費信用卡付 款授權書 」之正本或影本。')]"
      ]
     },
     "execution_count": 54,
     "metadata": {},
     "output_type": "execute_result"
    }
   ],
   "source": [
    "graph_builder._get_combined_chunks(chunk_list)"
   ]
  },
  {
   "cell_type": "code",
   "execution_count": 55,
   "metadata": {},
   "outputs": [
    {
     "name": "stderr",
     "output_type": "stream",
     "text": [
      "100%|██████████| 5/5 [00:27<00:00,  5.52s/it]\n"
     ]
    },
    {
     "data": {
      "text/plain": [
       "[GraphDocument(nodes=[Node(id='首期保險費', type='Concept', properties={'description': '採信用卡扣款作業'}), Node(id='信用卡', type='Concept', properties={'description': 'VISA、MASTER、JCB、AE卡均可申請信用卡繳交保險費'})], relationships=[Relationship(source=Node(id='首期保險費', type='Concept'), target=Node(id='信用卡', type='Concept'), type='注意事項', properties={'description': '首期保險費採信用卡扣款作業應注意事項'})], source=Document(metadata={'combined_chunk_ids': ['e40f4f5c-7163-48a4-9472-fbd526731ece']}, page_content='回目錄   7  版次： 113年07月版                                                                                            修訂日期： 113.0 7.01 二、  首期保險費 -採信用卡扣款作業   (一) 首期保險費採信用卡扣款作業應注意事項   1. 凡持有 VISA、MASTER 、JCB、AE卡均可申請信用卡繳交保險費')),\n",
       " GraphDocument(nodes=[Node(id='本公司', type='Organization'), Node(id='保戶', type='Person'), Node(id='銀行', type='Organization'), Node(id='要保人', type='Person'), Node(id='授權人', type='Person'), Node(id='保險公司', type='Organization'), Node(id='保單服務人員', type='Person', properties={'description': '含業務員、授權書建檔人員、核保人員等'})], relationships=[Relationship(source=Node(id='本公司', type='Organization'), target=Node(id='保戶', type='Person'), type='承保'), Relationship(source=Node(id='保戶', type='Person'), target=Node(id='銀行', type='Organization'), type='繳款'), Relationship(source=Node(id='要保人', type='Person'), target=Node(id='授權書', type='Document'), type='簽章'), Relationship(source=Node(id='授權人', type='Person'), target=Node(id='信用卡', type='Object'), type='簽名'), Relationship(source=Node(id='保險公司', type='Organization'), target=Node(id='保單服務人員', type='Person'), type='包含')], source=Document(metadata={'combined_chunk_ids': ['33be6903-8d2d-4c29-8a86-b515d1baecf9']}, page_content='，本公司於 同意承保 後進行信用卡扣款作業 ，保戶收到銀行信用卡繳款帳單於期限內繳款即可。   2. 申請以信用卡繳交首期保險費， 請檢附「保險費信用卡付款授 權書」，繳款人為非保單關 係人時須檢附關係證明文件。 相關規定請參照 繳費方式及受理應檢附文件 。  3. 要保人須於 授權書要保人欄位簽 章並與要保書 簽章相同，授權人 應留存信用卡上之簽名 樣式。   4. 依強化保險業透 過信用卡或金融機構轉帳扣款收取保險費之身份驗證機制，保險公司及 保單服務人員 (含業務員、授權書建檔人員、核保人員等 )')),\n",
       " GraphDocument(nodes=[Node(id='要保人', type='Person'), Node(id='授權人', type='Person'), Node(id='信用卡', type='Object', properties={'description': '卡號 /有效期限 /姓名/身分證統一編號'}), Node(id='自動轉帳及信用卡付款授權書作業規範', type='Document', properties={'description': '加強身分驗證機制'}), Node(id='信用卡輔助持卡人身分驗證平台', type='System'), Node(id='保單生效日認定', type='Policy', properties={'description': '生效日期之認定原則'})], relationships=[Relationship(source=Node(id='要保人', type='Person'), target=Node(id='信用卡', type='Object'), type='HAS'), Relationship(source=Node(id='授權人', type='Person'), target=Node(id='信用卡', type='Object'), type='HAS'), Relationship(source=Node(id='信用卡', type='Object'), target=Node(id='信用卡輔助持卡人身分驗證平台', type='System'), type='VERIFIED_BY'), Relationship(source=Node(id='保單生效日認定', type='Policy'), target=Node(id='生效日期之認定原則', type='Policy'), type='BASED_ON')], source=Document(metadata={'combined_chunk_ids': ['f0cbf9ad-103a-4cb1-bd47-40d4abc8e58d']}, page_content='，均應全 面核對要保人簽 章、授 權人簽名、 信用卡卡號 /有效期限 /姓名/身分證統一編號 。相關規定請參照 自動轉帳及信 用卡付款授權書作業規範 (加強身分驗證機制 )。  5. 信用卡卡號及 授權人身分證 統一編號 須送「信用卡輔助持卡人 身分驗證平台 」，經驗證成 功(且同意承保 )始得進行首期保險費 信用卡扣款作業。   6. 生效日認定：   (1) 保單生效日 認定依「 生效日期之認定原則 」辦理。  (2) 因核印失敗、請款失敗或新契約於核保中主動異動繳費管道者')),\n",
       " GraphDocument(nodes=[Node(id='新契約首期保險費繳費管道異動之繳費日認定原則', type='Concept', properties={'description': '生效日認定依此原則辦理'}), Node(id='信用卡', type='Concept', properties={'description': '可用於繳交保險費'}), Node(id='保費折扣', type='Concept', properties={'description': '以信用卡繳交保險費時適用'}), Node(id='各險種投保規則', type='Concept', properties={'description': '保費折扣適用規定依此辦理'}), Node(id='保單號碼', type='Concept', properties={'description': '限使用一張信用卡繳費'}), Node(id='電話行銷業務', type='Concept', properties={'description': '透過信用卡扣繳保險費須符合控管機制'}), Node(id='要保人', type='Person', properties={'description': '與授權人同一人時需進行身分確認'}), Node(id='授權人', type='Person', properties={'description': '需進行身分確認'}), Node(id='電銷人員', type='Person', properties={'description': '於招攬過程中進行身分確認'}), Node(id='電話錄音', type='Concept', properties={'description': '留存信用卡卡號、授權人姓名、身分證統一編號、信用卡有效期限等資訊'})], relationships=[Relationship(source=Node(id='新契約首期保險費繳費管道異動之繳費日認定原則', type='Concept'), target=Node(id='生效日', type='Concept'), type='認定'), Relationship(source=Node(id='保費折扣', type='Concept'), target=Node(id='信用卡', type='Concept'), type='適用'), Relationship(source=Node(id='保費折扣', type='Concept'), target=Node(id='各險種投保規則', type='Concept'), type='依據'), Relationship(source=Node(id='保單號碼', type='Concept'), target=Node(id='信用卡', type='Concept'), type='限使用'), Relationship(source=Node(id='電話行銷業務', type='Concept'), target=Node(id='信用卡', type='Concept'), type='扣繳保險費'), Relationship(source=Node(id='要保人', type='Person'), target=Node(id='授權人', type='Person'), type='同一人'), Relationship(source=Node(id='電銷人員', type='Person'), target=Node(id='要保人', type='Person'), type='身分確認'), Relationship(source=Node(id='電銷人員', type='Person'), target=Node(id='授權人', type='Person'), type='身分確認'), Relationship(source=Node(id='電話錄音', type='Concept'), target=Node(id='信用卡', type='Concept'), type='留存資訊'), Relationship(source=Node(id='電話錄音', type='Concept'), target=Node(id='授權人', type='Person'), type='留存資訊'), Relationship(source=Node(id='電話錄音', type='Concept'), target=Node(id='身分證統一編號', type='Concept'), type='留存資訊'), Relationship(source=Node(id='電話錄音', type='Concept'), target=Node(id='信用卡有效期限', type='Concept'), type='留存資訊')], source=Document(metadata={'combined_chunk_ids': ['45aa66e6-b244-4dad-b0b3-fa0f7c6e11a2']}, page_content='，其生效日認定依「 新 契約首期保險費繳費管道異動之繳費 日認定原則 」辦理。   7. 保費折扣：   以信用卡繳交保險費， 保費折扣適用規定 依各險種投保規則辦理 。  8. 一張保單號碼 限使用一張信用卡 繳費。  (二) 電話行銷業務透過信用卡扣繳保險費者，須符合 控管機制  1. 要保人與授權人同一人時   (1) 電銷人員於 招攬過程中依下列方式進行 身分確認：   A. 電話錄音留存 信用卡卡號、授權 人姓名、身分證 統一編號 、信用卡有效期限等            資訊。   B. 以複誦信用卡卡號及有效期限供授權人確認')),\n",
       " GraphDocument(nodes=[Node(id='非銷售人員', type='Person', properties={'description': '指派以電話回訪方式確認授權人資訊'}), Node(id='授權人', type='Person', properties={'description': '確認姓名、身分證統一編號、信用卡卡號、有效期限等資訊'}), Node(id='銀行', type='Organization', properties={'description': '驗證授權人資訊並請款'}), Node(id='要保人', type='Person', properties={'description': '與授權人不同一人時需取得授權人簽名之紙本或影本保險費信用卡付款授權書'}), Node(id='電話行銷人員', type='Person', properties={'description': '取得授權人簽名之紙本或影本保險費信用卡付款授權書'})], relationships=[Relationship(source=Node(id='非銷售人員', type='Person'), target=Node(id='授權人', type='Person'), type='確認', properties={'description': '以電話回訪方式確認授權人資訊'}), Relationship(source=Node(id='銀行', type='Organization'), target=Node(id='授權人', type='Person'), type='驗證', properties={'description': '驗證授權人資訊並請款'}), Relationship(source=Node(id='電話行銷人員', type='Person'), target=Node(id='授權人', type='Person'), type='取得簽名', properties={'description': '取得授權人簽名之紙本或影本保險費信用卡付款授權書'})], source=Document(metadata={'combined_chunk_ids': ['4b9d09a7-930b-42d5-8ebd-aeb121ec117f']}, page_content='，並以電話錄音方式留存。   (2) 再行確認之機制：   A. 指派非銷售人員以 電話回訪 方式向授權人確認其姓名、身分證 統一編號 、信用卡 卡號、有效期限等資訊是否正確。   B. 向銀行驗證授權人身分證 統一編號 、信用卡卡號、有效期限等資訊是否正確。經銀 行驗證後始向銀行請款並寄發保單。   2. 要保人與授權人 不同一人時，電話行銷人員應取得授權人簽名之 紙本「保險費信用卡付 款授權書 」之正本或影本。'))]"
      ]
     },
     "execution_count": 55,
     "metadata": {},
     "output_type": "execute_result"
    }
   ],
   "source": [
    "\n",
    "graph_documents = graph_builder.get_graph_from_llm(llm, chunk_list, allowedNodes=[], allowedRelationship=[])\n",
    "graph_documents"
   ]
  },
  {
   "cell_type": "code",
   "execution_count": 56,
   "metadata": {},
   "outputs": [],
   "source": [
    "graph.add_graph_documents(graph_documents, baseEntityLabel=True)"
   ]
  },
  {
   "cell_type": "code",
   "execution_count": 57,
   "metadata": {},
   "outputs": [
    {
     "data": {
      "text/plain": [
       "{'graph_doc': GraphDocument(nodes=[Node(id='首期保險費', type='Concept', properties={'description': '採信用卡扣款作業'}), Node(id='信用卡', type='Concept', properties={'description': 'VISA、MASTER、JCB、AE卡均可申請信用卡繳交保險費'})], relationships=[Relationship(source=Node(id='首期保險費', type='Concept'), target=Node(id='信用卡', type='Concept'), type='注意事項', properties={'description': '首期保險費採信用卡扣款作業應注意事項'})], source=Document(metadata={'combined_chunk_ids': ['e40f4f5c-7163-48a4-9472-fbd526731ece'], 'id': 'c2499194676c7c5fb13f2296b5822e99'}, page_content='回目錄   7  版次： 113年07月版                                                                                            修訂日期： 113.0 7.01 二、  首期保險費 -採信用卡扣款作業   (一) 首期保險費採信用卡扣款作業應注意事項   1. 凡持有 VISA、MASTER 、JCB、AE卡均可申請信用卡繳交保險費')),\n",
       " 'chunk_id': 'e40f4f5c-7163-48a4-9472-fbd526731ece'}"
      ]
     },
     "execution_count": 57,
     "metadata": {},
     "output_type": "execute_result"
    }
   ],
   "source": [
    "chunks_and_graphDocuments_list = graph_builder.get_chunk_and_graphDocument(graph_documents)\n",
    "chunks_and_graphDocuments_list[0]"
   ]
  },
  {
   "cell_type": "code",
   "execution_count": 58,
   "metadata": {},
   "outputs": [],
   "source": [
    "graph_builder.merge_relationship_between_chunk_and_entites(chunks_and_graphDocuments_list)"
   ]
  },
  {
   "cell_type": "code",
   "execution_count": null,
   "metadata": {},
   "outputs": [],
   "source": []
  }
 ],
 "metadata": {
  "kernelspec": {
   "display_name": "Python 3 (ipykernel)",
   "language": "python",
   "name": "python3"
  },
  "language_info": {
   "codemirror_mode": {
    "name": "ipython",
    "version": 3
   },
   "file_extension": ".py",
   "mimetype": "text/x-python",
   "name": "python",
   "nbconvert_exporter": "python",
   "pygments_lexer": "ipython3",
   "version": "3.12.6"
  }
 },
 "nbformat": 4,
 "nbformat_minor": 4
}
