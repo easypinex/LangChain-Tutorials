{
 "cells": [
  {
   "cell_type": "code",
   "execution_count": 1,
   "metadata": {},
   "outputs": [],
   "source": [
    "import os\n",
    "\n",
    "from langchain_community.graphs import Neo4jGraph\n",
    "\n",
    "os.environ[\"NEO4J_URI\"] = \"bolt://localhost:7687\"\n",
    "os.environ[\"NEO4J_USERNAME\"] = \"neo4j\"\n",
    "os.environ[\"NEO4J_PASSWORD\"] = \"2wsx3edc\"\n",
    "\n",
    "database = os.environ.get('NEO4J_DATABASE')\n",
    "graph = Neo4jGraph(database=database)"
   ]
  },
  {
   "cell_type": "code",
   "execution_count": 2,
   "metadata": {},
   "outputs": [
    {
     "data": {
      "text/plain": [
       "[]"
      ]
     },
     "execution_count": 2,
     "metadata": {},
     "output_type": "execute_result"
    }
   ],
   "source": [
    "graph.query('MATCH (n) DETACH DELETE n;')\n",
    "# graph.query('drop index chunk_index;')"
   ]
  },
  {
   "cell_type": "code",
   "execution_count": 3,
   "metadata": {},
   "outputs": [
    {
     "data": {
      "text/plain": [
       "[Document(metadata={'source': '../data/個人保險首續期繳費暨保單貸款還款息作業手冊(113年7月版)_業務通路版.pdf', 'page': 8}, page_content='                                                                回目錄  \\n6 \\n版次： 113年07月版                                                                                            修訂日期： 113.0 7.01 參、  首期保險費繳交方式及相關規定  \\n一、  首期保險費 -採金融機構 轉帳作業 \\n(一) 首期保險費採 金融機構轉帳作業 應注意事項  \\n1. 首期保險費由保戶 約定於本公司 簽約之金融機構所開立之活期帳戶扣款 。 \\n2. 申請金融機構轉帳繳交 首期保險費 ，需填寫「保險費暨保險單借款利息自動轉帳付款授權\\n書(下稱授權書 )，繳款人為非保單關係人時 須檢附關係證明文件。 相關規定請參照 繳費方\\n式及受理應檢附文件 。 \\n3. 要保人須於授權書要保人欄位簽 章並與要保書 簽章相同，授權人須留存金融機構之印鑑或\\n簽章樣式 。 \\n4. 授權書須送予授權之金融機構核對 授權人身分證 統一編號 及印鑑/簽章，經核印成功 (且\\n同意承保 )始得進行首期保險費 轉帳扣款作業 。核印、扣款時間 請參照各金融機構核印、\\n扣款時間及相關規定 。 \\n5. 數位帳戶 請至各銀行臨櫃留存印鑑、核印成功便能授權扣款 (土地銀行、合作金庫、第一\\n銀行此三家銀行無法授權扣款 )。 \\n6. 生效日認定：  \\n(1) 保單生效日 認定依「生效日期之認定原則 」辦理。 \\n(2) 因核印失敗、請款失敗或 新契約於核保中主動異動繳 費管道者，其生效日認定 依「新\\n契約首期保險費繳費管道異動之 繳費日認定原則 」辦理。  \\n7. 保費折扣： 以金融機構轉帳 繳交保險費， 保費折扣適用規定依各險種投保規則辦理。  \\n8. 新契約投保時授權書 不得為空白授權， 應依是否取得保單號碼 填寫相關欄位 ，未填寫完\\n整須重新檢附 授權書。 相關規定請參照 自動轉帳及信用卡付款授權書作業規範 (加強身分\\n驗證機制 )。 \\n  ')]"
      ]
     },
     "execution_count": 3,
     "metadata": {},
     "output_type": "execute_result"
    }
   ],
   "source": [
    "from langchain_community.document_loaders import PyPDFLoader\n",
    "pages = []\n",
    "dir = '../data'\n",
    "# for filename in os.listdir(dir):\n",
    "#     docs = []\n",
    "#     if filename.endswith(\".pdf\"):\n",
    "#         loader = PyPDFLoader(os.path.join(dir, filename))\n",
    "#         pages += loader.load()\n",
    "#     break # too much time, only load one file\n",
    "# pages\n",
    "# pages = [pages[0]]\n",
    "\n",
    "\n",
    "pages = []\n",
    "loader = PyPDFLoader(os.path.join(dir, '個人保險首續期繳費暨保單貸款還款息作業手冊(113年7月版)_業務通路版.pdf'))\n",
    "pages += loader.load()\n",
    "pages = [pages[8]]\n",
    "pages"
   ]
  },
  {
   "cell_type": "code",
   "execution_count": 6,
   "metadata": {},
   "outputs": [],
   "source": [
    "import os\n",
    "\n",
    "from langchain_experimental.graph_transformers import LLMGraphTransformer\n",
    "# from langchain_openai import ChatOpenAI\n",
    "from langchain_openai import AzureChatOpenAI\n",
    "from langchain_experimental.llms.ollama_functions import OllamaFunctions\n",
    "llm = AzureChatOpenAI(\n",
    "    azure_endpoint=os.environ[\"AZURE_OPENAI_ENDPOINT\"],\n",
    "    azure_deployment=os.environ[\"AZURE_OPENAI_DEPLOYMENT_NAME\"],\n",
    "    openai_api_version=os.environ[\"AZURE_OPENAI_API_VERSION\"],\n",
    ")"
   ]
  },
  {
   "cell_type": "code",
   "execution_count": 5,
   "metadata": {},
   "outputs": [
    {
     "name": "stderr",
     "output_type": "stream",
     "text": [
      "/Users/andy/miniforge3/envs/lagch/lib/python3.12/site-packages/langchain_core/_api/deprecation.py:141: LangChainDeprecationWarning: The class `OllamaFunctions` was deprecated in LangChain 0.0.64 and will be removed in 0.4.0. An updated version of the class exists in the langchain-ollama package and should be used instead. To use it run `pip install -U langchain-ollama` and import as `from langchain_ollama import ChatOllama`.\n",
      "  warn_deprecated(\n"
     ]
    },
    {
     "data": {
      "text/plain": [
       "OllamaFunctions(model='qwen2:72b-instruct-q8_0')"
      ]
     },
     "execution_count": 5,
     "metadata": {},
     "output_type": "execute_result"
    }
   ],
   "source": [
    "from langchain_experimental.llms.ollama_functions import OllamaFunctions\n",
    "model_name = 'qwen2:72b-instruct-q8_0'\n",
    "llm = OllamaFunctions(model=model_name)\n",
    "llm"
   ]
  },
  {
   "cell_type": "code",
   "execution_count": 7,
   "metadata": {},
   "outputs": [
    {
     "data": {
      "text/plain": [
       "[{'chunk_id': '44de6b94-f69a-4308-8250-a2866858630d',\n",
       "  'chunk_doc': Document(metadata={'source': '../data/個人保險首續期繳費暨保單貸款還款息作業手冊(113年7月版)_業務通路版.pdf', 'content': '                                                                回目錄   6  版次： 113年07月版                                                                                            修訂日期： 113.0 7.01 參、  首期保險費繳交方式及相關規定   一、  首期保險費 -採金融機構 轉帳作業  (一) 首期保險費採 金融機構轉帳作業 應注意事項   1. 首期保險費由保戶 約定於本公司 簽約之金融機構所開立之活期帳戶扣款 ', 'page_number': 1}, page_content='                                                                回目錄   6  版次： 113年07月版                                                                                            修訂日期： 113.0 7.01 參、  首期保險費繳交方式及相關規定   一、  首期保險費 -採金融機構 轉帳作業  (一) 首期保險費採 金融機構轉帳作業 應注意事項   1. 首期保險費由保戶 約定於本公司 簽約之金融機構所開立之活期帳戶扣款 ')},\n",
       " {'chunk_id': '641b206b-1398-458f-9ed2-71dca8b311ef',\n",
       "  'chunk_doc': Document(metadata={'source': '../data/個人保險首續期繳費暨保單貸款還款息作業手冊(113年7月版)_業務通路版.pdf', 'content': '。  2. 申請金融機構轉帳繳交 首期保險費', 'page_number': 1}, page_content='。  2. 申請金融機構轉帳繳交 首期保險費')},\n",
       " {'chunk_id': 'deac0e95-0788-46d5-b649-affd043c2c32',\n",
       "  'chunk_doc': Document(metadata={'source': '../data/個人保險首續期繳費暨保單貸款還款息作業手冊(113年7月版)_業務通路版.pdf', 'content': '，需填寫「保險費暨保險單借款利息自動轉帳付款授權 書(下稱授權書 )，繳款人為非保單關係人時 須檢附關係證明文件。 相關規定請參照 繳費方 式及受理應檢附文件 。  3. 要保人須於授權書要保人欄位簽 章並與要保書 簽章相同，授權人須留存金融機構之印鑑或 簽章樣式 。  4. 授權書須送予授權之金融機構核對 授權人身分證 統一編號 及印鑑/簽章', 'page_number': 1}, page_content='，需填寫「保險費暨保險單借款利息自動轉帳付款授權 書(下稱授權書 )，繳款人為非保單關係人時 須檢附關係證明文件。 相關規定請參照 繳費方 式及受理應檢附文件 。  3. 要保人須於授權書要保人欄位簽 章並與要保書 簽章相同，授權人須留存金融機構之印鑑或 簽章樣式 。  4. 授權書須送予授權之金融機構核對 授權人身分證 統一編號 及印鑑/簽章')},\n",
       " {'chunk_id': '28007611-e142-42e3-a5c8-839964af1a73',\n",
       "  'chunk_doc': Document(metadata={'source': '../data/個人保險首續期繳費暨保單貸款還款息作業手冊(113年7月版)_業務通路版.pdf', 'content': '，經核印成功 (且 同意承保 )始得進行首期保險費 轉帳扣款作業 。核印、扣款時間 請參照各金融機構核印、 扣款時間及相關規定 。  5. 數位帳戶 請至各銀行臨櫃留存印鑑、核印成功便能授權扣款 (土地銀行、合作金庫、第一 銀行此三家銀行無法授權扣款 )。  6. 生效日認定：   (1) 保單生效日 認定依「生效日期之認定原則 」辦理。  (2) 因核印失敗、請款失敗或 新契約於核保中主動異動繳 費管道者，其生效日認定 依「新 契約首期保險費繳費管道異動之 繳費日認定原則 」辦理。   7. 保費折扣： 以金融機構轉帳 繳交保險費', 'page_number': 1}, page_content='，經核印成功 (且 同意承保 )始得進行首期保險費 轉帳扣款作業 。核印、扣款時間 請參照各金融機構核印、 扣款時間及相關規定 。  5. 數位帳戶 請至各銀行臨櫃留存印鑑、核印成功便能授權扣款 (土地銀行、合作金庫、第一 銀行此三家銀行無法授權扣款 )。  6. 生效日認定：   (1) 保單生效日 認定依「生效日期之認定原則 」辦理。  (2) 因核印失敗、請款失敗或 新契約於核保中主動異動繳 費管道者，其生效日認定 依「新 契約首期保險費繳費管道異動之 繳費日認定原則 」辦理。   7. 保費折扣： 以金融機構轉帳 繳交保險費')},\n",
       " {'chunk_id': 'f4d4b5e8-f89d-4315-8406-64f501d953b1',\n",
       "  'chunk_doc': Document(metadata={'source': '../data/個人保險首續期繳費暨保單貸款還款息作業手冊(113年7月版)_業務通路版.pdf', 'content': '， 保費折扣適用規定依各險種投保規則辦理。   8. 新契約投保時授權書 不得為空白授權， 應依是否取得保單號碼 填寫相關欄位 ，未填寫完 整須重新檢附 授權書。 相關規定請參照 自動轉帳及信用卡付款授權書作業規範 (加強身分 驗證機制 )。', 'page_number': 1}, page_content='， 保費折扣適用規定依各險種投保規則辦理。   8. 新契約投保時授權書 不得為空白授權， 應依是否取得保單號碼 填寫相關欄位 ，未填寫完 整須重新檢附 授權書。 相關規定請參照 自動轉帳及信用卡付款授權書作業規範 (加強身分 驗證機制 )。')}]"
      ]
     },
     "execution_count": 7,
     "metadata": {},
     "output_type": "execute_result"
    }
   ],
   "source": [
    "import sys\n",
    "sys.path.append(\"..\")\n",
    "from tools.graph_builder import TwlfGraphBuilder\n",
    "\n",
    "graph_builder = TwlfGraphBuilder(graph, max_thread=1)\n",
    "chunk_list = graph_builder.graph_build(pages)\n",
    "chunk_list"
   ]
  },
  {
   "cell_type": "code",
   "execution_count": 8,
   "metadata": {},
   "outputs": [
    {
     "data": {
      "text/plain": [
       "[Document(metadata={'combined_chunk_ids': ['44de6b94-f69a-4308-8250-a2866858630d']}, page_content='                                                                回目錄   6  版次： 113年07月版                                                                                            修訂日期： 113.0 7.01 參、  首期保險費繳交方式及相關規定   一、  首期保險費 -採金融機構 轉帳作業  (一) 首期保險費採 金融機構轉帳作業 應注意事項   1. 首期保險費由保戶 約定於本公司 簽約之金融機構所開立之活期帳戶扣款 '),\n",
       " Document(metadata={'combined_chunk_ids': ['641b206b-1398-458f-9ed2-71dca8b311ef']}, page_content='。  2. 申請金融機構轉帳繳交 首期保險費'),\n",
       " Document(metadata={'combined_chunk_ids': ['deac0e95-0788-46d5-b649-affd043c2c32']}, page_content='，需填寫「保險費暨保險單借款利息自動轉帳付款授權 書(下稱授權書 )，繳款人為非保單關係人時 須檢附關係證明文件。 相關規定請參照 繳費方 式及受理應檢附文件 。  3. 要保人須於授權書要保人欄位簽 章並與要保書 簽章相同，授權人須留存金融機構之印鑑或 簽章樣式 。  4. 授權書須送予授權之金融機構核對 授權人身分證 統一編號 及印鑑/簽章'),\n",
       " Document(metadata={'combined_chunk_ids': ['28007611-e142-42e3-a5c8-839964af1a73']}, page_content='，經核印成功 (且 同意承保 )始得進行首期保險費 轉帳扣款作業 。核印、扣款時間 請參照各金融機構核印、 扣款時間及相關規定 。  5. 數位帳戶 請至各銀行臨櫃留存印鑑、核印成功便能授權扣款 (土地銀行、合作金庫、第一 銀行此三家銀行無法授權扣款 )。  6. 生效日認定：   (1) 保單生效日 認定依「生效日期之認定原則 」辦理。  (2) 因核印失敗、請款失敗或 新契約於核保中主動異動繳 費管道者，其生效日認定 依「新 契約首期保險費繳費管道異動之 繳費日認定原則 」辦理。   7. 保費折扣： 以金融機構轉帳 繳交保險費'),\n",
       " Document(metadata={'combined_chunk_ids': ['f4d4b5e8-f89d-4315-8406-64f501d953b1']}, page_content='， 保費折扣適用規定依各險種投保規則辦理。   8. 新契約投保時授權書 不得為空白授權， 應依是否取得保單號碼 填寫相關欄位 ，未填寫完 整須重新檢附 授權書。 相關規定請參照 自動轉帳及信用卡付款授權書作業規範 (加強身分 驗證機制 )。')]"
      ]
     },
     "execution_count": 8,
     "metadata": {},
     "output_type": "execute_result"
    }
   ],
   "source": [
    "graph_builder._get_combined_chunks(chunk_list)"
   ]
  },
  {
   "cell_type": "code",
   "execution_count": 9,
   "metadata": {},
   "outputs": [
    {
     "name": "stderr",
     "output_type": "stream",
     "text": [
      "100%|██████████| 5/5 [00:09<00:00,  1.89s/it]\n"
     ]
    },
    {
     "data": {
      "text/plain": [
       "[GraphDocument(nodes=[Node(id='金融機構', type='機構'), Node(id='首期保險費', type='費用')], relationships=[Relationship(source=Node(id='金融機構', type='機構'), target=Node(id='首期保險費', type='費用'), type='轉帳繳交'), Relationship(source=Node(id='金融機構', type='機構'), target=Node(id='首期保險費', type='費用'), type='申請'), Relationship(source=Node(id='申請', type='行為'), target=Node(id='轉帳繳交', type='行為'), type='包括')], source=Document(metadata={'combined_chunk_ids': ['641b206b-1398-458f-9ed2-71dca8b311ef']}, page_content='。  2. 申請金融機構轉帳繳交 首期保險費')),\n",
       " GraphDocument(nodes=[Node(id='首期保險費', type='Concept', properties={'description': '首期保險費是保戶首次繳交的保險費用，採用金融機構轉帳作業。'}), Node(id='金融機構', type='Concept', properties={'description': '金融機構指的是保戶與保險公司簽約的金融機構。'}), Node(id='保戶', type='Person', properties={'description': '保戶指的是與保險公司簽約的個人或團體。'})], relationships=[Relationship(source=Node(id='首期保險費', type='Concept'), target=Node(id='金融機構', type='Concept'), type='轉帳', properties={'description': '首期保險費由保戶約定於本公司簽約之金融機構所開立之活期帳戶扣款。'}), Relationship(source=Node(id='首期保險費', type='Concept'), target=Node(id='保戶', type='Person'), type='繳交', properties={'description': '首期保險費由保戶繳交。'})], source=Document(metadata={'combined_chunk_ids': ['44de6b94-f69a-4308-8250-a2866858630d']}, page_content='                                                                回目錄   6  版次： 113年07月版                                                                                            修訂日期： 113.0 7.01 參、  首期保險費繳交方式及相關規定   一、  首期保險費 -採金融機構 轉帳作業  (一) 首期保險費採 金融機構轉帳作業 應注意事項   1. 首期保險費由保戶 約定於本公司 簽約之金融機構所開立之活期帳戶扣款 ')),\n",
       " GraphDocument(nodes=[Node(id='保費折扣適用規定', type='規定', properties={'description': '依各險種投保規則辦理'}), Node(id='新契約投保時授權書', type='文件', properties={'description': '不得為空白授權，應依是否取得保單號碼填寫相關欄位，未填寫完整須重新檢附授權書'}), Node(id='自動轉帳及信用卡付款授權書作業規範', type='規範', properties={'description': '加強身分驗證機制'})], relationships=[Relationship(source=Node(id='新契約投保時授權書', type='文件'), target=Node(id='自動轉帳及信用卡付款授權書作業規範', type='規範'), type='參照', properties={'description': '相關規定'})], source=Document(metadata={'combined_chunk_ids': ['f4d4b5e8-f89d-4315-8406-64f501d953b1']}, page_content='， 保費折扣適用規定依各險種投保規則辦理。   8. 新契約投保時授權書 不得為空白授權， 應依是否取得保單號碼 填寫相關欄位 ，未填寫完 整須重新檢附 授權書。 相關規定請參照 自動轉帳及信用卡付款授權書作業規範 (加強身分 驗證機制 )。')),\n",
       " GraphDocument(nodes=[Node(id='保險費暨保險單借款利息自動轉帳付款授權書', type='Document', properties={'description': '需填寫授權書，繳款人為非保單關係人時須檢附關係證明文件。相關規定請參照繳費方式及受理應檢附文件。'}), Node(id='要保人', type='Person', properties={'description': '須於授權書要保人欄位簽章並與要保書簽章相同'}), Node(id='授權人', type='Person', properties={'description': '須留存金融機構之印鑑或簽章樣式'}), Node(id='金融機構', type='Organization', properties={'description': '須送予授權之金融機構核對授權人身分證統一編號及印鑑/簽章'})], relationships=[Relationship(source=Node(id='保險費暨保險單借款利息自動轉帳付款授權書', type='Document'), target=Node(id='要保人', type='Person'), type='REQUIRES', properties={'description': '要保人須於授權書要保人欄位簽章並與要保書簽章相同'}), Relationship(source=Node(id='保險費暨保險單借款利息自動轉帳付款授權書', type='Document'), target=Node(id='授權人', type='Person'), type='REQUIRES', properties={'description': '授權人須留存金融機構之印鑑或簽章樣式'}), Relationship(source=Node(id='授權人', type='Person'), target=Node(id='金融機構', type='Organization'), type='SUBMITS', properties={'description': '授權書須送予授權之金融機構核對授權人身分證統一編號及印鑑/簽章'})], source=Document(metadata={'combined_chunk_ids': ['deac0e95-0788-46d5-b649-affd043c2c32']}, page_content='，需填寫「保險費暨保險單借款利息自動轉帳付款授權 書(下稱授權書 )，繳款人為非保單關係人時 須檢附關係證明文件。 相關規定請參照 繳費方 式及受理應檢附文件 。  3. 要保人須於授權書要保人欄位簽 章並與要保書 簽章相同，授權人須留存金融機構之印鑑或 簽章樣式 。  4. 授權書須送予授權之金融機構核對 授權人身分證 統一編號 及印鑑/簽章')),\n",
       " GraphDocument(nodes=[Node(id='保險', type='概念', properties={'description': '轉帳扣款作業需經核印成功且同意承保後始得進行。'}), Node(id='金融機構', type='組織', properties={'description': '核印和扣款時間需參照各金融機構的相關規定。'}), Node(id='數位帳戶', type='概念', properties={'description': '需至各銀行臨櫃留存印鑑，核印成功後便能授權扣款。'}), Node(id='土地銀行', type='組織', properties={'description': '無法授權扣款。'}), Node(id='合作金庫', type='組織', properties={'description': '無法授權扣款。'}), Node(id='第一銀行', type='組織', properties={'description': '無法授權扣款。'}), Node(id='保單', type='概念', properties={'description': '生效日認定依「生效日期之認定原則」辦理。'}), Node(id='新契約', type='概念', properties={'description': '因核印失敗、請款失敗或主動異動繳費管道者，其生效日認定依「新契約首期保險費繳費管道異動之繳費日認定原則」辦理。'})], relationships=[Relationship(source=Node(id='保險', type='概念'), target=Node(id='金融機構', type='組織'), type='依照', properties={'description': '核印和扣款時間需參照各金融機構的相關規定。'}), Relationship(source=Node(id='數位帳戶', type='概念'), target=Node(id='土地銀行', type='組織'), type='無法', properties={'description': '無法授權扣款。'}), Relationship(source=Node(id='數位帳戶', type='概念'), target=Node(id='合作金庫', type='組織'), type='無法', properties={'description': '無法授權扣款。'}), Relationship(source=Node(id='數位帳戶', type='概念'), target=Node(id='第一銀行', type='組織'), type='無法', properties={'description': '無法授權扣款。'}), Relationship(source=Node(id='保單', type='概念'), target=Node(id='生效日期之認定原則', type='概念'), type='依照', properties={'description': '生效日認定。'}), Relationship(source=Node(id='新契約', type='概念'), target=Node(id='新契約首期保險費繳費管道異動之繳費日認定原則', type='概念'), type='依照', properties={'description': '生效日認定。'})], source=Document(metadata={'combined_chunk_ids': ['28007611-e142-42e3-a5c8-839964af1a73']}, page_content='，經核印成功 (且 同意承保 )始得進行首期保險費 轉帳扣款作業 。核印、扣款時間 請參照各金融機構核印、 扣款時間及相關規定 。  5. 數位帳戶 請至各銀行臨櫃留存印鑑、核印成功便能授權扣款 (土地銀行、合作金庫、第一 銀行此三家銀行無法授權扣款 )。  6. 生效日認定：   (1) 保單生效日 認定依「生效日期之認定原則 」辦理。  (2) 因核印失敗、請款失敗或 新契約於核保中主動異動繳 費管道者，其生效日認定 依「新 契約首期保險費繳費管道異動之 繳費日認定原則 」辦理。   7. 保費折扣： 以金融機構轉帳 繳交保險費'))]"
      ]
     },
     "execution_count": 9,
     "metadata": {},
     "output_type": "execute_result"
    }
   ],
   "source": [
    "\n",
    "graph_documents = graph_builder.get_graph_from_llm(llm, chunk_list, allowedNodes=[], allowedRelationship=[])\n",
    "graph_documents"
   ]
  },
  {
   "cell_type": "code",
   "execution_count": 10,
   "metadata": {},
   "outputs": [],
   "source": [
    "graph.add_graph_documents(graph_documents, baseEntityLabel=True)"
   ]
  },
  {
   "cell_type": "code",
   "execution_count": 11,
   "metadata": {},
   "outputs": [
    {
     "data": {
      "text/plain": [
       "{'graph_doc': GraphDocument(nodes=[Node(id='金融機構', type='機構'), Node(id='首期保險費', type='費用')], relationships=[Relationship(source=Node(id='金融機構', type='機構'), target=Node(id='首期保險費', type='費用'), type='轉帳繳交'), Relationship(source=Node(id='金融機構', type='機構'), target=Node(id='首期保險費', type='費用'), type='申請'), Relationship(source=Node(id='申請', type='行為'), target=Node(id='轉帳繳交', type='行為'), type='包括')], source=Document(metadata={'combined_chunk_ids': ['641b206b-1398-458f-9ed2-71dca8b311ef'], 'id': '434641b9600140f33ac86acf1fa072d6'}, page_content='。  2. 申請金融機構轉帳繳交 首期保險費')),\n",
       " 'chunk_id': '641b206b-1398-458f-9ed2-71dca8b311ef'}"
      ]
     },
     "execution_count": 11,
     "metadata": {},
     "output_type": "execute_result"
    }
   ],
   "source": [
    "chunks_and_graphDocuments_list = graph_builder.get_chunk_and_graphDocument(graph_documents)\n",
    "chunks_and_graphDocuments_list[0]"
   ]
  },
  {
   "cell_type": "code",
   "execution_count": 12,
   "metadata": {},
   "outputs": [],
   "source": [
    "graph_builder.merge_relationship_between_chunk_and_entites(chunks_and_graphDocuments_list)"
   ]
  },
  {
   "cell_type": "code",
   "execution_count": 13,
   "metadata": {},
   "outputs": [],
   "source": [
    "from langchain_community.vectorstores import Neo4jVector\n",
    "\n",
    "from langchain_openai import AzureOpenAIEmbeddings\n",
    "\n",
    "embedding = AzureOpenAIEmbeddings(\n",
    "    model=\"text-embedding-ada-002\",\n",
    "    azure_endpoint='https://lang-chain-dev.openai.azure.com/openai/deployments/text-embedding-ada-002/embeddings?api-version=2023-05-15',\n",
    "    azure_deployment='text-embedding-ada-002',\n",
    "    openai_api_version='2023-05-15'\n",
    ")"
   ]
  },
  {
   "cell_type": "code",
   "execution_count": null,
   "metadata": {},
   "outputs": [],
   "source": [
    "from langchain_community.vectorstores import Neo4jVector\n",
    "# ! pip3 install -U langchain-huggingface\n",
    "import os\n",
    "os.environ['SENTENCE_TRANSFORMERS_HOME'] = '/storage/models/embedding_models'\n",
    "from langchain_huggingface import HuggingFaceEmbeddings\n",
    "# Choose from https://huggingface.co/spaces/mteb/leaderboard\n",
    "\n",
    "# embedding = HuggingFaceEmbeddings(model_name=\"lier007/xiaobu-embedding-v2\")\n",
    "\n",
    "model_path = os.path.join(os.environ['SENTENCE_TRANSFORMERS_HOME'], 'models--lier007--xiaobu-embedding-v2/snapshots/ee0b4ecdf5eb449e8240f2e3de2e10eeae877691')\n",
    "embedding = HuggingFaceEmbeddings(model_name=model_path)"
   ]
  },
  {
   "cell_type": "code",
   "execution_count": 14,
   "metadata": {},
   "outputs": [],
   "source": [
    "vector = Neo4jVector.from_existing_graph(\n",
    "    embedding,\n",
    "    node_label='__Chunk__',\n",
    "    text_node_properties=['content'],\n",
    "    embedding_node_property='embedding'\n",
    ")"
   ]
  }
 ],
 "metadata": {
  "kernelspec": {
   "display_name": "Python 3 (ipykernel)",
   "language": "python",
   "name": "python3"
  },
  "language_info": {
   "codemirror_mode": {
    "name": "ipython",
    "version": 3
   },
   "file_extension": ".py",
   "mimetype": "text/x-python",
   "name": "python",
   "nbconvert_exporter": "python",
   "pygments_lexer": "ipython3",
   "version": "3.12.5"
  }
 },
 "nbformat": 4,
 "nbformat_minor": 4
}
