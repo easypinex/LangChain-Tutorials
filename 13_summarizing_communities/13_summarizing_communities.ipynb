{
 "cells": [
  {
   "cell_type": "code",
   "execution_count": 16,
   "metadata": {},
   "outputs": [],
   "source": [
    "import os\n",
    "\n",
    "from langchain_community.graphs import Neo4jGraph\n",
    "\n",
    "os.environ[\"NEO4J_URI\"] = \"bolt://localhost:7687\"\n",
    "os.environ[\"NEO4J_USERNAME\"] = \"neo4j\"\n",
    "os.environ[\"NEO4J_PASSWORD\"] = \"2wsx3edc\"\n",
    "\n",
    "database = os.environ.get('NEO4J_DATABASE')\n",
    "graph = Neo4jGraph(database=database)"
   ]
  },
  {
   "cell_type": "code",
   "execution_count": 17,
   "metadata": {},
   "outputs": [],
   "source": [
    "from graphdatascience import GraphDataScience \n",
    "\n",
    "gds = GraphDataScience( \n",
    "    os.environ[ \"NEO4J_URI\" ], \n",
    "    auth=(os.environ[ \"NEO4J_USERNAME\" ], os.environ[ \"NEO4J_PASSWORD\" ]) \n",
    ")"
   ]
  },
  {
   "cell_type": "code",
   "execution_count": 18,
   "metadata": {},
   "outputs": [],
   "source": [
    "gds.graph.drop(\"communities\")\n",
    "G, result = gds.graph.project(\n",
    "    \"communities\",  #  Graph name\n",
    "    \"__Entity__\",  #  Node projection\n",
    "    {\n",
    "        \"_ALL_\": {\n",
    "            \"type\": \"*\",\n",
    "            \"orientation\": \"UNDIRECTED\",\n",
    "            \"properties\": {\"weight\": {\"property\": \"*\", \"aggregation\": \"COUNT\"}},\n",
    "        }\n",
    "    },\n",
    ")"
   ]
  },
  {
   "cell_type": "code",
   "execution_count": 19,
   "metadata": {},
   "outputs": [
    {
     "name": "stdout",
     "output_type": "stream",
     "text": [
      "Component count: 7\n",
      "Component distribution: {'min': 1, 'p5': 1, 'max': 7, 'p999': 7, 'p99': 7, 'p1': 1, 'p10': 1, 'p90': 7, 'p50': 2, 'p25': 2, 'p75': 4, 'p95': 7, 'mean': 2.857142857142857}\n"
     ]
    }
   ],
   "source": [
    "wcc = gds.wcc.stats(G)\n",
    "print(f\"Component count: {wcc['componentCount']}\")\n",
    "print(f\"Component distribution: {wcc['componentDistribution']}\")"
   ]
  },
  {
   "cell_type": "code",
   "execution_count": 20,
   "metadata": {},
   "outputs": [
    {
     "data": {
      "text/plain": [
       "writeMillis                                                             28\n",
       "nodePropertiesWritten                                                   20\n",
       "ranLevels                                                                1\n",
       "didConverge                                                           True\n",
       "nodeCount                                                               20\n",
       "communityCount                                                           8\n",
       "communityDistribution    {'min': 1, 'p5': 1, 'max': 4, 'p999': 4, 'p99'...\n",
       "modularity                                                        0.713333\n",
       "modularities                                          [0.7133333333333333]\n",
       "postProcessingMillis                                                    16\n",
       "preProcessingMillis                                                      0\n",
       "computeMillis                                                           34\n",
       "configuration            {'writeProperty': 'communities', 'theta': 0.01...\n",
       "Name: 0, dtype: object"
      ]
     },
     "execution_count": 20,
     "metadata": {},
     "output_type": "execute_result"
    }
   ],
   "source": [
    "gds.leiden.write(\n",
    "    G,\n",
    "    writeProperty=\"communities\",\n",
    "    includeIntermediateCommunities=True,\n",
    "    relationshipWeightProperty=\"weight\",\n",
    ")"
   ]
  },
  {
   "cell_type": "code",
   "execution_count": 21,
   "metadata": {},
   "outputs": [
    {
     "data": {
      "text/plain": [
       "[{'count(*)': 20}]"
      ]
     },
     "execution_count": 21,
     "metadata": {},
     "output_type": "execute_result"
    }
   ],
   "source": [
    "graph.query(\"\"\"\n",
    "MATCH (e:`__Entity__`)\n",
    "UNWIND range(0, size(e.communities) - 1 , 1) AS index\n",
    "CALL {\n",
    "  WITH e, index\n",
    "  WITH e, index\n",
    "  WHERE index = 0\n",
    "  MERGE (c:`__Community__` {id: toString(index) + '-' + toString(e.communities[index])})\n",
    "  ON CREATE SET c.level = index\n",
    "  MERGE (e)-[:IN_COMMUNITY]->(c)\n",
    "  RETURN count(*) AS count_0\n",
    "}\n",
    "CALL {\n",
    "  WITH e, index\n",
    "  WITH e, index\n",
    "  WHERE index > 0\n",
    "  MERGE (current:`__Community__` {id: toString(index) + '-' + toString(e.communities[index])})\n",
    "  ON CREATE SET current.level = index\n",
    "  MERGE (previous:`__Community__` {id: toString(index - 1) + '-' + toString(e.communities[index - 1])})\n",
    "  ON CREATE SET previous.level = index - 1\n",
    "  MERGE (previous)-[:IN_COMMUNITY]->(current)\n",
    "  RETURN count(*) AS count_1\n",
    "}\n",
    "RETURN count(*)\n",
    "\"\"\")"
   ]
  },
  {
   "cell_type": "code",
   "execution_count": 22,
   "metadata": {},
   "outputs": [
    {
     "data": {
      "text/plain": [
       "[]"
      ]
     },
     "execution_count": 22,
     "metadata": {},
     "output_type": "execute_result"
    }
   ],
   "source": [
    "graph.query(\"\"\"\n",
    "MATCH (c:__Community__)<-[:IN_COMMUNITY*]-(:__Entity__)<-[:HAS_ENTITY]-(d:__Chunk__)\n",
    "WITH c, count(distinct d) AS rank\n",
    "SET c.rank = rank;\n",
    "\"\"\")"
   ]
  },
  {
   "cell_type": "code",
   "execution_count": 23,
   "metadata": {},
   "outputs": [
    {
     "data": {
      "text/html": [
       "<div>\n",
       "<style scoped>\n",
       "    .dataframe tbody tr th:only-of-type {\n",
       "        vertical-align: middle;\n",
       "    }\n",
       "\n",
       "    .dataframe tbody tr th {\n",
       "        vertical-align: top;\n",
       "    }\n",
       "\n",
       "    .dataframe thead th {\n",
       "        text-align: right;\n",
       "    }\n",
       "</style>\n",
       "<table border=\"1\" class=\"dataframe\">\n",
       "  <thead>\n",
       "    <tr style=\"text-align: right;\">\n",
       "      <th></th>\n",
       "      <th>Level</th>\n",
       "      <th>Number of communities</th>\n",
       "      <th>25th Percentile</th>\n",
       "      <th>50th Percentile</th>\n",
       "      <th>75th Percentile</th>\n",
       "      <th>90th Percentile</th>\n",
       "      <th>99th Percentile</th>\n",
       "      <th>Max</th>\n",
       "    </tr>\n",
       "  </thead>\n",
       "  <tbody>\n",
       "    <tr>\n",
       "      <th>0</th>\n",
       "      <td>0</td>\n",
       "      <td>8</td>\n",
       "      <td>2.0</td>\n",
       "      <td>2.0</td>\n",
       "      <td>3.25</td>\n",
       "      <td>4.0</td>\n",
       "      <td>4.0</td>\n",
       "      <td>4</td>\n",
       "    </tr>\n",
       "  </tbody>\n",
       "</table>\n",
       "</div>"
      ],
      "text/plain": [
       "  Level  Number of communities  25th Percentile  50th Percentile  \\\n",
       "0     0                      8              2.0              2.0   \n",
       "\n",
       "   75th Percentile  90th Percentile  99th Percentile  Max  \n",
       "0             3.25              4.0              4.0    4  "
      ]
     },
     "execution_count": 23,
     "metadata": {},
     "output_type": "execute_result"
    }
   ],
   "source": [
    "import pandas as pd\n",
    "import numpy as np\n",
    "\n",
    "community_size = graph.query(\n",
    "    \"\"\"\n",
    "MATCH (c:__Community__)<-[:IN_COMMUNITY*]-(e:__Entity__)\n",
    "WITH c, count(distinct e) AS entities\n",
    "RETURN split(c.id, '-')[0] AS level, entities\n",
    "\"\"\"\n",
    ")\n",
    "community_size_df = pd.DataFrame.from_records(community_size)\n",
    "percentiles_data = []\n",
    "for level in community_size_df[\"level\"].unique():\n",
    "    subset = community_size_df[community_size_df[\"level\"] == level][\"entities\"]\n",
    "    num_communities = len(subset)\n",
    "    percentiles = np.percentile(subset, [25, 50, 75, 90, 99])\n",
    "    percentiles_data.append(\n",
    "        [\n",
    "            level,\n",
    "            num_communities,\n",
    "            percentiles[0],\n",
    "            percentiles[1],\n",
    "            percentiles[2],\n",
    "            percentiles[3],\n",
    "            percentiles[4],\n",
    "            max(subset)\n",
    "        ]\n",
    "    )\n",
    "\n",
    "# Create a DataFrame with the percentiles\n",
    "percentiles_df = pd.DataFrame(\n",
    "    percentiles_data,\n",
    "    columns=[\n",
    "        \"Level\",\n",
    "        \"Number of communities\",\n",
    "        \"25th Percentile\",\n",
    "        \"50th Percentile\",\n",
    "        \"75th Percentile\",\n",
    "        \"90th Percentile\",\n",
    "        \"99th Percentile\",\n",
    "        \"Max\"\n",
    "    ],\n",
    ")\n",
    "percentiles_df"
   ]
  },
  {
   "cell_type": "code",
   "execution_count": 24,
   "metadata": {},
   "outputs": [
    {
     "data": {
      "text/plain": [
       "[{'communityId': '0-1',\n",
       "  'nodes': [{'id': '金融機構',\n",
       "    'description': '核印和扣款時間需參照各金融機構的相關規定。',\n",
       "    'type': 'Organization'},\n",
       "   {'id': '保戶', 'description': '保戶指的是與保險公司簽約的個人或團體。', 'type': 'Person'},\n",
       "   {'id': '首期保險費',\n",
       "    'description': '首期保險費是保戶首次繳交的保險費用，採用金融機構轉帳作業。',\n",
       "    'type': 'Concept'},\n",
       "   {'id': '保險', 'description': '轉帳扣款作業需經核印成功且同意承保後始得進行。', 'type': '概念'}],\n",
       "  'rels': [{'start': '金融機構',\n",
       "    'description': None,\n",
       "    'type': '申請',\n",
       "    'end': '首期保險費'},\n",
       "   {'start': '金融機構', 'description': None, 'type': '轉帳繳交', 'end': '首期保險費'},\n",
       "   {'start': '保險',\n",
       "    'description': '核印和扣款時間需參照各金融機構的相關規定。',\n",
       "    'type': '依照',\n",
       "    'end': '金融機構'},\n",
       "   {'start': '首期保險費', 'description': '首期保險費由保戶繳交。', 'type': '繳交', 'end': '保戶'},\n",
       "   {'start': '首期保險費',\n",
       "    'description': '首期保險費由保戶約定於本公司簽約之金融機構所開立之活期帳戶扣款。',\n",
       "    'type': '轉帳',\n",
       "    'end': '金融機構'}]},\n",
       " {'communityId': '0-3',\n",
       "  'nodes': [{'id': '轉帳繳交', 'description': None, 'type': None},\n",
       "   {'id': '申請', 'description': None, 'type': None}],\n",
       "  'rels': [{'start': '申請', 'description': None, 'type': '包括', 'end': '轉帳繳交'}]},\n",
       " {'communityId': '0-7',\n",
       "  'nodes': [{'id': '新契約投保時授權書',\n",
       "    'description': '不得為空白授權，應依是否取得保單號碼填寫相關欄位，未填寫完整須重新檢附授權書',\n",
       "    'type': '文件'},\n",
       "   {'id': '自動轉帳及信用卡付款授權書作業規範', 'description': '加強身分驗證機制', 'type': '規範'}],\n",
       "  'rels': [{'start': '新契約投保時授權書',\n",
       "    'description': '相關規定',\n",
       "    'type': '參照',\n",
       "    'end': '自動轉帳及信用卡付款授權書作業規範'}]},\n",
       " {'communityId': '0-9',\n",
       "  'nodes': [{'id': '要保人',\n",
       "    'description': '須於授權書要保人欄位簽章並與要保書簽章相同',\n",
       "    'type': 'Person'},\n",
       "   {'id': '保險費暨保險單借款利息自動轉帳付款授權書',\n",
       "    'description': '需填寫授權書，繳款人為非保單關係人時須檢附關係證明文件。相關規定請參照繳費方式及受理應檢附文件。',\n",
       "    'type': 'Document'},\n",
       "   {'id': '授權人', 'description': '須留存金融機構之印鑑或簽章樣式', 'type': 'Person'}],\n",
       "  'rels': [{'start': '保險費暨保險單借款利息自動轉帳付款授權書',\n",
       "    'description': '授權人須留存金融機構之印鑑或簽章樣式',\n",
       "    'type': 'REQUIRES',\n",
       "    'end': '授權人'},\n",
       "   {'start': '保險費暨保險單借款利息自動轉帳付款授權書',\n",
       "    'description': '要保人須於授權書要保人欄位簽章並與要保書簽章相同',\n",
       "    'type': 'REQUIRES',\n",
       "    'end': '要保人'}]},\n",
       " {'communityId': '0-13',\n",
       "  'nodes': [{'id': '土地銀行', 'description': '無法授權扣款。', 'type': '組織'},\n",
       "   {'id': '第一銀行', 'description': '無法授權扣款。', 'type': '組織'},\n",
       "   {'id': '合作金庫', 'description': '無法授權扣款。', 'type': '組織'},\n",
       "   {'id': '數位帳戶', 'description': '需至各銀行臨櫃留存印鑑，核印成功後便能授權扣款。', 'type': '概念'}],\n",
       "  'rels': [{'start': '數位帳戶',\n",
       "    'description': '無法授權扣款。',\n",
       "    'type': '無法',\n",
       "    'end': '合作金庫'},\n",
       "   {'start': '數位帳戶', 'description': '無法授權扣款。', 'type': '無法', 'end': '第一銀行'},\n",
       "   {'start': '數位帳戶', 'description': '無法授權扣款。', 'type': '無法', 'end': '土地銀行'}]},\n",
       " {'communityId': '0-18',\n",
       "  'nodes': [{'id': '生效日期之認定原則', 'description': None, 'type': None},\n",
       "   {'id': '保單', 'description': '生效日認定依「生效日期之認定原則」辦理。', 'type': '概念'}],\n",
       "  'rels': [{'start': '保單',\n",
       "    'description': '生效日認定。',\n",
       "    'type': '依照',\n",
       "    'end': '生效日期之認定原則'}]},\n",
       " {'communityId': '0-19',\n",
       "  'nodes': [{'id': '新契約首期保險費繳費管道異動之繳費日認定原則',\n",
       "    'description': None,\n",
       "    'type': None},\n",
       "   {'id': '新契約',\n",
       "    'description': '因核印失敗、請款失敗或主動異動繳費管道者，其生效日認定依「新契約首期保險費繳費管道異動之繳費日認定原則」辦理。',\n",
       "    'type': '概念'}],\n",
       "  'rels': [{'start': '新契約',\n",
       "    'description': '生效日認定。',\n",
       "    'type': '依照',\n",
       "    'end': '新契約首期保險費繳費管道異動之繳費日認定原則'}]}]"
      ]
     },
     "execution_count": 24,
     "metadata": {},
     "output_type": "execute_result"
    }
   ],
   "source": [
    "community_info = graph.query(\"\"\"\n",
    "MATCH (c:`__Community__`)<-[:IN_COMMUNITY*]-(e:__Entity__)\n",
    "WHERE c.level IN [0,1,4]\n",
    "WITH c, collect(e ) AS nodes\n",
    "WHERE size(nodes) > 1\n",
    "CALL apoc.path.subgraphAll(nodes[0], {\n",
    " whitelistNodes:nodes\n",
    "})\n",
    "YIELD relationships\n",
    "RETURN c.id AS communityId, \n",
    "       [n in nodes | {id: n.id, description: n.description, type: [el in labels(n) WHERE el <> '__Entity__'][0]}] AS nodes,\n",
    "       [r in relationships | {start: startNode(r).id, type: type(r), end: endNode(r).id, description: r.description}] AS rels\n",
    "\"\"\")\n",
    "community_info"
   ]
  },
  {
   "cell_type": "code",
   "execution_count": 25,
   "metadata": {},
   "outputs": [],
   "source": [
    "import os\n",
    "\n",
    "from langchain_experimental.graph_transformers import LLMGraphTransformer\n",
    "# from langchain_openai import ChatOpenAI\n",
    "from langchain_openai import AzureChatOpenAI\n",
    "\n",
    "llm = AzureChatOpenAI(\n",
    "    azure_endpoint=os.environ[\"AZURE_OPENAI_ENDPOINT\"],\n",
    "    azure_deployment=os.environ[\"AZURE_OPENAI_DEPLOYMENT_NAME\"],\n",
    "    openai_api_version=os.environ[\"AZURE_OPENAI_API_VERSION\"],\n",
    ")"
   ]
  },
  {
   "cell_type": "code",
   "execution_count": 10,
   "metadata": {},
   "outputs": [
    {
     "name": "stderr",
     "output_type": "stream",
     "text": [
      "/storage/pyenv/versions/3.12.5/envs/ACP_LLM_312/lib/python3.12/site-packages/langchain_core/_api/deprecation.py:141: LangChainDeprecationWarning: The class `OllamaFunctions` was deprecated in LangChain 0.0.64 and will be removed in 0.4.0. An updated version of the class exists in the langchain-ollama package and should be used instead. To use it run `pip install -U langchain-ollama` and import as `from langchain_ollama import ChatOllama`.\n",
      "  warn_deprecated(\n"
     ]
    },
    {
     "data": {
      "text/plain": [
       "OllamaFunctions(model='qwen2:72b-instruct-q8_0')"
      ]
     },
     "execution_count": 10,
     "metadata": {},
     "output_type": "execute_result"
    }
   ],
   "source": [
    "from langchain_experimental.llms.ollama_functions import OllamaFunctions\n",
    "model_name = 'qwen2:72b-instruct-q8_0'\n",
    "llm = OllamaFunctions(model=model_name)\n",
    "llm"
   ]
  },
  {
   "cell_type": "code",
   "execution_count": 26,
   "metadata": {},
   "outputs": [],
   "source": [
    "from langchain_core.prompts import ChatPromptTemplate\n",
    "from langchain_core.output_parsers import StrOutputParser\n",
    "\n",
    "community_template = \"\"\"請根據提供同社區的資訊包含 nodes 與 relationships,\n",
    "產生自然語言的摘要 同社區的資訊\n",
    "請確保使用繁體中文回應:\n",
    "{community_info}\n",
    "\n",
    "Summary:\"\"\"  # noqa: E501\n",
    "\n",
    "community_prompt = ChatPromptTemplate.from_messages(\n",
    "    [\n",
    "        (\n",
    "            \"system\",\n",
    "            \"Given an input triples, generate the information summary. No pre-amble.\",\n",
    "        ),\n",
    "        (\"human\", community_template),\n",
    "    ]\n",
    ")\n",
    "\n",
    "community_chain = community_prompt | llm | StrOutputParser()"
   ]
  },
  {
   "cell_type": "code",
   "execution_count": 27,
   "metadata": {},
   "outputs": [
    {
     "data": {
      "text/plain": [
       "{'community': '0-1',\n",
       " 'summary': '在這個社區中，有四個主要節點和它們之間的關係：\\n\\n1. **金融機構** (Organization)\\n   - 描述: 核印和扣款時間需參照各金融機構的相關規定。\\n   - 申請首期保險費。\\n   - 透過轉帳繳交首期保險費。\\n\\n2. **保戶** (Person)\\n   - 描述: 保戶指的是與保險公司簽約的個人或團體。\\n   - 繳交首期保險費。\\n\\n3. **首期保險費** (Concept)\\n   - 描述: 首期保險費是保戶首次繳交的保險費用，採用金融機構轉帳作業。\\n   - 首期保險費由保戶繳交。\\n   - 透過轉帳從金融機構扣款。\\n\\n4. **保險** (概念)\\n   - 描述: 轉帳扣款作業需經核印成功且同意承保後始得進行。\\n   - 依照金融機構的相關規定進行。\\n\\n總結來說，保戶與保險公司簽約後，首期保險費由保戶繳交，並透過金融機構進行轉帳作業。整個過程需要依照金融機構的核印和扣款時間規定。'}"
      ]
     },
     "execution_count": 27,
     "metadata": {},
     "output_type": "execute_result"
    }
   ],
   "source": [
    "def prepare_string(data):\n",
    "    nodes_str = \"Nodes are:\\n\"\n",
    "    for node in data['nodes']:\n",
    "        node_id = node['id']\n",
    "        node_type = node['type']\n",
    "        if 'description' in node and node['description']:\n",
    "            node_description = f\", description: {node['description']}\"\n",
    "        else:\n",
    "            node_description = \"\"\n",
    "        nodes_str += f\"id: {node_id}, type: {node_type}{node_description}\\n\"\n",
    "\n",
    "    rels_str = \"Relationships are:\\n\"\n",
    "    for rel in data['rels']:\n",
    "        start = rel['start']\n",
    "        end = rel['end']\n",
    "        rel_type = rel['type']\n",
    "        if 'description' in rel and rel['description']:\n",
    "            description = f\", description: {rel['description']}\"\n",
    "        else:\n",
    "            description = \"\"\n",
    "        rels_str += f\"({start})-[:{rel_type}]->({end}){description}\\n\"\n",
    "\n",
    "    return nodes_str + \"\\n\" + rels_str\n",
    "\n",
    "def process_community(community):\n",
    "    stringify_info = prepare_string(community)\n",
    "    summary = community_chain.invoke({'community_info': stringify_info})\n",
    "    return {\"community\": community['communityId'], \"summary\": summary}\n",
    "\n",
    "process_community(community_info[0])"
   ]
  },
  {
   "cell_type": "code",
   "execution_count": 28,
   "metadata": {},
   "outputs": [
    {
     "name": "stderr",
     "output_type": "stream",
     "text": [
      "Processing communities: 100%|██████████| 7/7 [00:05<00:00,  1.28it/s]\n"
     ]
    }
   ],
   "source": [
    "from concurrent.futures import ThreadPoolExecutor, as_completed\n",
    "from tqdm import tqdm\n",
    "\n",
    "def process_community_with_llm(community_info, max_retry=0):\n",
    "    '''\n",
    "    params:\n",
    "        community_info: [ { \n",
    "                            'communityId': str, 'nodes': [{'id': str, 'description': str|None, 'type': str}, ...], \n",
    "                            'rels': [{'start': str, 'description': str|None, 'type': str, 'end': 'str}, ...]\n",
    "                          },\n",
    "                          ... ]\n",
    "        max_retry: 最多嘗試次數, 假設為2, 則最多遞迴執行 2+1=3次\n",
    "    '''\n",
    "    summaries = []\n",
    "    faild_communities = []\n",
    "    with ThreadPoolExecutor() as executor:\n",
    "        futures = {executor.submit(process_community, community): community for community in community_info}\n",
    "\n",
    "        for future in tqdm(as_completed(futures), total=len(futures), desc=\"Processing communities\"):\n",
    "            try:\n",
    "                summaries.append(future.result())\n",
    "            except Exception as e:\n",
    "                community = futures[future]\n",
    "                print(f'process community faild!:{community}, error:\\n{e}')\n",
    "                faild_communities.append(community)\n",
    "    if max_retry > 0:\n",
    "        summaries.extend(process_community_with_llm(faild_communities, max_retry=max_retry-1))\n",
    "    return summaries\n",
    "summaries = process_community_with_llm(community_info, max_retry=2)"
   ]
  },
  {
   "cell_type": "code",
   "execution_count": 29,
   "metadata": {},
   "outputs": [
    {
     "data": {
      "text/plain": [
       "[{'community': '0-3',\n",
       "  'summary': '在這個社區中，有兩個主要的節點：一個是「申請」，另一個是「轉帳繳交」。這兩個節點之間存在一個關係，表示「申請」包含了「轉帳繳交」的過程。'},\n",
       " {'community': '0-18',\n",
       "  'summary': '保單是一個概念，其生效日認定依照「生效日期之認定原則」辦理。這兩者之間的關係是保單依照生效日期之認定原則來確定生效日期。'},\n",
       " {'community': '0-13',\n",
       "  'summary': '在同一個社區中，有四個節點和三個關係。四個節點分別是「土地銀行」、「第一銀行」、「合作金庫」和「數位帳戶」。其中「土地銀行」、「第一銀行」和「合作金庫」都是組織類型的節點，且這三個節點都有無法授權扣款的描述。「數位帳戶」則是概念類型的節點，其描述為需要至各銀行臨櫃留存印鑑，核印成功後便能授權扣款。\\n\\n在關係部分，「數位帳戶」與「土地銀行」、「第一銀行」以及「合作金庫」之間均存在無法授權扣款的關係。具體來說，數位帳戶無法在「土地銀行」、「第一銀行」和「合作金庫」授權扣款。'},\n",
       " {'community': '0-1',\n",
       "  'summary': '同社區的資訊摘要如下：\\n\\n在這個社區中，有若干個節點和關係。節點包括：\\n1. 金融機構：一個組織，其核印和扣款時間需參照各金融機構的相關規定。\\n2. 保戶：指的是與保險公司簽約的個人或團體。\\n3. 首期保險費：保戶首次繳交的保險費用，通過金融機構轉帳作業。\\n4. 保險：轉帳扣款作業需經核印成功且同意承保後始得進行。\\n\\n這些節點之間的關係如下：\\n1. 金融機構會申請首期保險費。\\n2. 金融機構會轉帳繳交首期保險費。\\n3. 保險依照金融機構的相關規定，核印和扣款時間需參照各金融機構的相關規定。\\n4. 首期保險費由保戶繳交。\\n5. 首期保險費由保戶約定於本公司簽約之金融機構所開立之活期帳戶扣款。'},\n",
       " {'community': '0-7',\n",
       "  'summary': '在同一社區中，有兩個主要資訊節點。第一個節點是\"新契約投保時授權書\"，它是一份文件，描述為\"不得為空白授權，應依是否取得保單號碼填寫相關欄位，未填寫完整須重新檢附授權書\"。第二個節點是\"自動轉帳及信用卡付款授權書作業規範\"，這是一項規範，描述為\"加強身分驗證機制\"。\\n\\n這兩個節點之間存在一個關係，\"新契約投保時授權書\"參照了\"自動轉帳及信用卡付款授權書作業規範\"，其關係描述為\"相關規定\"。'},\n",
       " {'community': '0-9',\n",
       "  'summary': '在同一個社區中，有以下的資訊：\\n\\n1. 要保人（Person）：在授權書要保人欄位內須簽章，並且簽章需與要保書相同。\\n2. 保險費暨保險單借款利息自動轉帳付款授權書（Document）：需要填寫授權書，當繳款人非保單關係人時，需附上關係證明文件，詳情請參照繳費方式及應檢附文件。\\n3. 授權人（Person）：需留存金融機構的印鑑或簽章樣式。\\n\\n關係如下：\\n- 保險費暨保險單借款利息自動轉帳付款授權書需要授權人，授權人需留存金融機構的印鑑或簽章樣式。\\n- 保險費暨保險單借款利息自動轉帳付款授權書需要要保人，要保人需在授權書要保人欄位簽章，且簽章需與要保書相同。'},\n",
       " {'community': '0-19',\n",
       "  'summary': '在同一社區中，有兩個重要的節點和一個關鍵的關係。節點包括：\\n\\n1. 一個沒有特定類型的節點，描述的是「新契約首期保險費繳費管道異動之繳費日認定原則」。\\n2. 一個類型為「概念」的節點，描述的是「新契約」。具體內容為：因核印失敗、請款失敗或主動異動繳費管道者，其生效日認定依「新契約首期保險費繳費管道異動之繳費日認定原則」辦理。\\n\\n這兩個節點之間存在一個關係：「新契約」依照「新契約首期保險費繳費管道異動之繳費日認定原則」來進行生效日認定。'}]"
      ]
     },
     "execution_count": 29,
     "metadata": {},
     "output_type": "execute_result"
    }
   ],
   "source": [
    "summaries"
   ]
  },
  {
   "cell_type": "code",
   "execution_count": 30,
   "metadata": {},
   "outputs": [
    {
     "data": {
      "text/plain": [
       "[]"
      ]
     },
     "execution_count": 30,
     "metadata": {},
     "output_type": "execute_result"
    }
   ],
   "source": [
    "graph.query(\"\"\"\n",
    "UNWIND $data AS row\n",
    "MERGE (c:__Community__ {id:row.community})\n",
    "SET c.summary = row.summary\n",
    "\"\"\", params={\"data\": summaries})"
   ]
  },
  {
   "cell_type": "code",
   "execution_count": null,
   "metadata": {},
   "outputs": [],
   "source": []
  }
 ],
 "metadata": {
  "kernelspec": {
   "display_name": "Python 3 (ipykernel)",
   "language": "python",
   "name": "python3"
  },
  "language_info": {
   "codemirror_mode": {
    "name": "ipython",
    "version": 3
   },
   "file_extension": ".py",
   "mimetype": "text/x-python",
   "name": "python",
   "nbconvert_exporter": "python",
   "pygments_lexer": "ipython3",
   "version": "3.12.5"
  }
 },
 "nbformat": 4,
 "nbformat_minor": 4
}
