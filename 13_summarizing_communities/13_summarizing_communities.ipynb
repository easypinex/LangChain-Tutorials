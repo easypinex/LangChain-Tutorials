{
 "cells": [
  {
   "cell_type": "code",
   "execution_count": 1,
   "metadata": {},
   "outputs": [],
   "source": [
    "import os\n",
    "\n",
    "from langchain_community.graphs import Neo4jGraph\n",
    "\n",
    "os.environ[\"NEO4J_URI\"] = \"bolt://localhost:7687\"\n",
    "os.environ[\"NEO4J_USERNAME\"] = \"neo4j\"\n",
    "os.environ[\"NEO4J_PASSWORD\"] = \"2wsx3edc\"\n",
    "\n",
    "graph = Neo4jGraph()"
   ]
  },
  {
   "cell_type": "code",
   "execution_count": 2,
   "metadata": {},
   "outputs": [
    {
     "name": "stderr",
     "output_type": "stream",
     "text": [
      "/Users/andy/miniforge3/envs/lagch/lib/python3.12/site-packages/tqdm/auto.py:21: TqdmWarning: IProgress not found. Please update jupyter and ipywidgets. See https://ipywidgets.readthedocs.io/en/stable/user_install.html\n",
      "  from .autonotebook import tqdm as notebook_tqdm\n"
     ]
    }
   ],
   "source": [
    "from graphdatascience import GraphDataScience \n",
    "\n",
    "gds = GraphDataScience( \n",
    "    os.environ[ \"NEO4J_URI\" ], \n",
    "    auth=(os.environ[ \"NEO4J_USERNAME\" ], os.environ[ \"NEO4J_PASSWORD\" ]) \n",
    ")"
   ]
  },
  {
   "cell_type": "code",
   "execution_count": 7,
   "metadata": {},
   "outputs": [],
   "source": [
    "\n",
    "G, result = gds.graph.project(\n",
    "    \"communities\",  #  Graph name\n",
    "    \"__Entity__\",  #  Node projection\n",
    "    {\n",
    "        \"_ALL_\": {\n",
    "            \"type\": \"*\",\n",
    "            \"orientation\": \"UNDIRECTED\",\n",
    "            \"properties\": {\"weight\": {\"property\": \"*\", \"aggregation\": \"COUNT\"}},\n",
    "        }\n",
    "    },\n",
    ")"
   ]
  },
  {
   "cell_type": "code",
   "execution_count": 8,
   "metadata": {},
   "outputs": [
    {
     "name": "stdout",
     "output_type": "stream",
     "text": [
      "Component count: 3\n",
      "Component distribution: {'min': 1, 'p5': 1, 'max': 21, 'p999': 21, 'p99': 21, 'p1': 1, 'p10': 1, 'p90': 21, 'p50': 2, 'p25': 1, 'p75': 21, 'p95': 21, 'mean': 8.0}\n"
     ]
    }
   ],
   "source": [
    "wcc = gds.wcc.stats(G)\n",
    "print(f\"Component count: {wcc['componentCount']}\")\n",
    "print(f\"Component distribution: {wcc['componentDistribution']}\")"
   ]
  },
  {
   "cell_type": "code",
   "execution_count": 9,
   "metadata": {},
   "outputs": [
    {
     "data": {
      "text/plain": [
       "writeMillis                                                             19\n",
       "nodePropertiesWritten                                                   24\n",
       "ranLevels                                                                2\n",
       "didConverge                                                           True\n",
       "nodeCount                                                               24\n",
       "communityCount                                                           6\n",
       "communityDistribution    {'min': 1, 'p5': 1, 'max': 11, 'p999': 11, 'p9...\n",
       "modularity                                                        0.323232\n",
       "modularities                     [0.30394857667584946, 0.3232323232323232]\n",
       "postProcessingMillis                                                     8\n",
       "preProcessingMillis                                                      1\n",
       "computeMillis                                                           90\n",
       "configuration            {'writeProperty': 'communities', 'theta': 0.01...\n",
       "Name: 0, dtype: object"
      ]
     },
     "execution_count": 9,
     "metadata": {},
     "output_type": "execute_result"
    }
   ],
   "source": [
    "gds.leiden.write(\n",
    "    G,\n",
    "    writeProperty=\"communities\",\n",
    "    includeIntermediateCommunities=True,\n",
    "    relationshipWeightProperty=\"weight\",\n",
    ")"
   ]
  },
  {
   "cell_type": "code",
   "execution_count": 10,
   "metadata": {},
   "outputs": [
    {
     "data": {
      "text/plain": [
       "[{'count(*)': 48}]"
      ]
     },
     "execution_count": 10,
     "metadata": {},
     "output_type": "execute_result"
    }
   ],
   "source": [
    "graph.query(\"\"\"\n",
    "MATCH (e:`__Entity__`)\n",
    "UNWIND range(0, size(e.communities) - 1 , 1) AS index\n",
    "CALL {\n",
    "  WITH e, index\n",
    "  WITH e, index\n",
    "  WHERE index = 0\n",
    "  MERGE (c:`__Community__` {id: toString(index) + '-' + toString(e.communities[index])})\n",
    "  ON CREATE SET c.level = index\n",
    "  MERGE (e)-[:IN_COMMUNITY]->(c)\n",
    "  RETURN count(*) AS count_0\n",
    "}\n",
    "CALL {\n",
    "  WITH e, index\n",
    "  WITH e, index\n",
    "  WHERE index > 0\n",
    "  MERGE (current:`__Community__` {id: toString(index) + '-' + toString(e.communities[index])})\n",
    "  ON CREATE SET current.level = index\n",
    "  MERGE (previous:`__Community__` {id: toString(index - 1) + '-' + toString(e.communities[index - 1])})\n",
    "  ON CREATE SET previous.level = index - 1\n",
    "  MERGE (previous)-[:IN_COMMUNITY]->(current)\n",
    "  RETURN count(*) AS count_1\n",
    "}\n",
    "RETURN count(*)\n",
    "\"\"\")"
   ]
  },
  {
   "cell_type": "code",
   "execution_count": 11,
   "metadata": {},
   "outputs": [
    {
     "data": {
      "text/plain": [
       "[]"
      ]
     },
     "execution_count": 11,
     "metadata": {},
     "output_type": "execute_result"
    }
   ],
   "source": [
    "graph.query(\"\"\"\n",
    "MATCH (c:__Community__)<-[:IN_COMMUNITY*]-(:__Entity__)<-[:HAS_ENTITY]-(d:Chunk)\n",
    "WITH c, count(distinct d) AS rank\n",
    "SET c.community_rank = rank;\n",
    "\"\"\")"
   ]
  },
  {
   "cell_type": "code",
   "execution_count": 14,
   "metadata": {},
   "outputs": [
    {
     "data": {
      "text/html": [
       "<div>\n",
       "<style scoped>\n",
       "    .dataframe tbody tr th:only-of-type {\n",
       "        vertical-align: middle;\n",
       "    }\n",
       "\n",
       "    .dataframe tbody tr th {\n",
       "        vertical-align: top;\n",
       "    }\n",
       "\n",
       "    .dataframe thead th {\n",
       "        text-align: right;\n",
       "    }\n",
       "</style>\n",
       "<table border=\"1\" class=\"dataframe\">\n",
       "  <thead>\n",
       "    <tr style=\"text-align: right;\">\n",
       "      <th></th>\n",
       "      <th>Level</th>\n",
       "      <th>Number of communities</th>\n",
       "      <th>25th Percentile</th>\n",
       "      <th>50th Percentile</th>\n",
       "      <th>75th Percentile</th>\n",
       "      <th>90th Percentile</th>\n",
       "      <th>99th Percentile</th>\n",
       "      <th>Max</th>\n",
       "    </tr>\n",
       "  </thead>\n",
       "  <tbody>\n",
       "    <tr>\n",
       "      <th>0</th>\n",
       "      <td>0</td>\n",
       "      <td>7</td>\n",
       "      <td>2.0</td>\n",
       "      <td>2.0</td>\n",
       "      <td>3.0</td>\n",
       "      <td>6.2</td>\n",
       "      <td>10.52</td>\n",
       "      <td>11</td>\n",
       "    </tr>\n",
       "    <tr>\n",
       "      <th>1</th>\n",
       "      <td>1</td>\n",
       "      <td>6</td>\n",
       "      <td>2.0</td>\n",
       "      <td>2.5</td>\n",
       "      <td>4.5</td>\n",
       "      <td>8.0</td>\n",
       "      <td>10.70</td>\n",
       "      <td>11</td>\n",
       "    </tr>\n",
       "  </tbody>\n",
       "</table>\n",
       "</div>"
      ],
      "text/plain": [
       "  Level  Number of communities  25th Percentile  50th Percentile  \\\n",
       "0     0                      7              2.0              2.0   \n",
       "1     1                      6              2.0              2.5   \n",
       "\n",
       "   75th Percentile  90th Percentile  99th Percentile  Max  \n",
       "0              3.0              6.2            10.52   11  \n",
       "1              4.5              8.0            10.70   11  "
      ]
     },
     "execution_count": 14,
     "metadata": {},
     "output_type": "execute_result"
    }
   ],
   "source": [
    "import pandas as pd\n",
    "import numpy as np\n",
    "\n",
    "community_size = graph.query(\n",
    "    \"\"\"\n",
    "MATCH (c:__Community__)<-[:IN_COMMUNITY*]-(e:__Entity__)\n",
    "WITH c, count(distinct e) AS entities\n",
    "RETURN split(c.id, '-')[0] AS level, entities\n",
    "\"\"\"\n",
    ")\n",
    "community_size_df = pd.DataFrame.from_records(community_size)\n",
    "percentiles_data = []\n",
    "for level in community_size_df[\"level\"].unique():\n",
    "    subset = community_size_df[community_size_df[\"level\"] == level][\"entities\"]\n",
    "    num_communities = len(subset)\n",
    "    percentiles = np.percentile(subset, [25, 50, 75, 90, 99])\n",
    "    percentiles_data.append(\n",
    "        [\n",
    "            level,\n",
    "            num_communities,\n",
    "            percentiles[0],\n",
    "            percentiles[1],\n",
    "            percentiles[2],\n",
    "            percentiles[3],\n",
    "            percentiles[4],\n",
    "            max(subset)\n",
    "        ]\n",
    "    )\n",
    "\n",
    "# Create a DataFrame with the percentiles\n",
    "percentiles_df = pd.DataFrame(\n",
    "    percentiles_data,\n",
    "    columns=[\n",
    "        \"Level\",\n",
    "        \"Number of communities\",\n",
    "        \"25th Percentile\",\n",
    "        \"50th Percentile\",\n",
    "        \"75th Percentile\",\n",
    "        \"90th Percentile\",\n",
    "        \"99th Percentile\",\n",
    "        \"Max\"\n",
    "    ],\n",
    ")\n",
    "percentiles_df"
   ]
  },
  {
   "cell_type": "code",
   "execution_count": 16,
   "metadata": {},
   "outputs": [
    {
     "data": {
      "text/plain": [
       "[{'communityId': '0-19',\n",
       "  'nodes': [{'id': '保險金', 'description': None, 'type': 'Concept'},\n",
       "   {'id': '年複利方式', 'description': None, 'type': 'Concept'},\n",
       "   {'id': '抵繳保險費', 'description': None, 'type': 'Action'},\n",
       "   {'id': '各年度之增值回饋分享金', 'description': None, 'type': 'Benefit'},\n",
       "   {'id': '增額繳清保險金額', 'description': None, 'type': 'Benefit'},\n",
       "   {'id': '本公司', 'description': None, 'type': 'Organization'},\n",
       "   {'id': '本契約終止', 'description': None, 'type': 'Event'},\n",
       "   {'id': '要保人', 'description': None, 'type': 'Person'},\n",
       "   {'id': '宣告利率', 'description': None, 'type': 'Concept'},\n",
       "   {'id': '儲存生息', 'description': None, 'type': 'Concept'},\n",
       "   {'id': '受益人', 'description': None, 'type': 'Person'}],\n",
       "  'rels': [{'start': '各年度之增值回饋分享金',\n",
       "    'description': None,\n",
       "    'type': 'USED_FOR',\n",
       "    'end': '抵繳保險費'},\n",
       "   {'start': '各年度之增值回饋分享金',\n",
       "    'description': None,\n",
       "    'type': 'RELATED_TO',\n",
       "    'end': '要保人'},\n",
       "   {'start': '各年度之增值回饋分享金',\n",
       "    'description': None,\n",
       "    'type': 'OPTION',\n",
       "    'end': '增額繳清保險金額'},\n",
       "   {'start': '各年度之增值回饋分享金', 'description': None, 'type': '通知', 'end': '要保人'},\n",
       "   {'start': '各年度之增值回饋分享金',\n",
       "    'description': None,\n",
       "    'type': 'USED_FOR',\n",
       "    'end': '增額繳清保險金額'},\n",
       "   {'start': '各年度之增值回饋分享金', 'description': None, 'type': '使用', 'end': '年複利方式'},\n",
       "   {'start': '各年度之增值回饋分享金', 'description': None, 'type': '使用', 'end': '宣告利率'},\n",
       "   {'start': '各年度之增值回饋分享金', 'description': None, 'type': '主動給付', 'end': '本公司'},\n",
       "   {'start': '各年度之增值回饋分享金', 'description': None, 'type': '受領', 'end': '受益人'},\n",
       "   {'start': '各年度之增值回饋分享金', 'description': None, 'type': '包含', 'end': '保險金'},\n",
       "   {'start': '各年度之增值回饋分享金', 'description': None, 'type': '給付', 'end': '本契約終止'},\n",
       "   {'start': '各年度之增值回饋分享金', 'description': None, 'type': '給付', 'end': '要保人'},\n",
       "   {'start': '要保人', 'description': None, 'type': '選擇', 'end': '增額繳清保險金額'},\n",
       "   {'start': '本公司',\n",
       "    'description': None,\n",
       "    'type': 'MANAGE',\n",
       "    'end': '各年度之增值回饋分享金'},\n",
       "   {'start': '本公司',\n",
       "    'description': None,\n",
       "    'type': 'RETURN',\n",
       "    'end': '各年度之增值回饋分享金'},\n",
       "   {'start': '本公司', 'description': None, 'type': 'USE', 'end': '宣告利率'},\n",
       "   {'start': '本公司', 'description': None, 'type': 'RETURN', 'end': '要保人'},\n",
       "   {'start': '儲存生息',\n",
       "    'description': None,\n",
       "    'type': '包含',\n",
       "    'end': '各年度之增值回饋分享金'}]},\n",
       " {'communityId': '0-2',\n",
       "  'nodes': [{'id': '身故保險金', 'description': None, 'type': 'Concept'},\n",
       "   {'id': '喪葬費用保險金', 'description': None, 'type': 'Concept'}],\n",
       "  'rels': [{'start': '身故保險金',\n",
       "    'description': None,\n",
       "    'type': '變更',\n",
       "    'end': '喪葬費用保險金'}]},\n",
       " {'communityId': '0-8',\n",
       "  'nodes': [{'id': '民國九十九年二月三日', 'description': None, 'type': 'Date'},\n",
       "   {'id': '保險年齡', 'description': None, 'type': 'Timeperiod'},\n",
       "   {'id': '被保險人', 'description': None, 'type': 'Person'}],\n",
       "  'rels': [{'start': '被保險人',\n",
       "    'description': None,\n",
       "    'type': 'REACH',\n",
       "    'end': '保險年齡'},\n",
       "   {'start': '被保險人', 'description': None, 'type': '訂立', 'end': '民國九十九年二月三日'}]},\n",
       " {'communityId': '0-7',\n",
       "  'nodes': [{'id': '未成年人', 'description': None, 'type': 'Person'},\n",
       "   {'id': '本契約', 'description': None, 'type': 'Concept'}],\n",
       "  'rels': [{'start': '本契約',\n",
       "    'description': None,\n",
       "    'type': '訂立',\n",
       "    'end': '未成年人'}]},\n",
       " {'communityId': '0-16',\n",
       "  'nodes': [{'id': '保單年度', 'description': None, 'type': 'Event'},\n",
       "   {'id': '現金給付', 'description': None, 'type': 'Benefit'}],\n",
       "  'rels': [{'start': '現金給付',\n",
       "    'description': None,\n",
       "    'type': '開始給付',\n",
       "    'end': '保單年度'}]},\n",
       " {'communityId': '0-14',\n",
       "  'nodes': [{'id': '台灣人壽', 'description': None, 'type': 'Organization'},\n",
       "   {'id': '美鑫美利美元利率變動型終身壽險', 'description': None, 'type': 'Product'},\n",
       "   {'id': '承保範圍', 'description': None, 'type': None}],\n",
       "  'rels': [{'start': '台灣人壽',\n",
       "    'description': None,\n",
       "    'type': 'OFFERS',\n",
       "    'end': '美鑫美利美元利率變動型終身壽險'},\n",
       "   {'start': '美鑫美利美元利率變動型終身壽險',\n",
       "    'description': None,\n",
       "    'type': 'INCLUDES',\n",
       "    'end': '承保範圍'}]},\n",
       " {'communityId': '1-3',\n",
       "  'nodes': [{'id': '保險金', 'description': None, 'type': 'Concept'},\n",
       "   {'id': '年複利方式', 'description': None, 'type': 'Concept'},\n",
       "   {'id': '抵繳保險費', 'description': None, 'type': 'Action'},\n",
       "   {'id': '各年度之增值回饋分享金', 'description': None, 'type': 'Benefit'},\n",
       "   {'id': '增額繳清保險金額', 'description': None, 'type': 'Benefit'},\n",
       "   {'id': '本公司', 'description': None, 'type': 'Organization'},\n",
       "   {'id': '本契約終止', 'description': None, 'type': 'Event'},\n",
       "   {'id': '要保人', 'description': None, 'type': 'Person'},\n",
       "   {'id': '宣告利率', 'description': None, 'type': 'Concept'},\n",
       "   {'id': '儲存生息', 'description': None, 'type': 'Concept'},\n",
       "   {'id': '受益人', 'description': None, 'type': 'Person'}],\n",
       "  'rels': [{'start': '各年度之增值回饋分享金',\n",
       "    'description': None,\n",
       "    'type': 'USED_FOR',\n",
       "    'end': '抵繳保險費'},\n",
       "   {'start': '各年度之增值回饋分享金',\n",
       "    'description': None,\n",
       "    'type': 'RELATED_TO',\n",
       "    'end': '要保人'},\n",
       "   {'start': '各年度之增值回饋分享金',\n",
       "    'description': None,\n",
       "    'type': 'OPTION',\n",
       "    'end': '增額繳清保險金額'},\n",
       "   {'start': '各年度之增值回饋分享金', 'description': None, 'type': '通知', 'end': '要保人'},\n",
       "   {'start': '各年度之增值回饋分享金',\n",
       "    'description': None,\n",
       "    'type': 'USED_FOR',\n",
       "    'end': '增額繳清保險金額'},\n",
       "   {'start': '各年度之增值回饋分享金', 'description': None, 'type': '使用', 'end': '年複利方式'},\n",
       "   {'start': '各年度之增值回饋分享金', 'description': None, 'type': '使用', 'end': '宣告利率'},\n",
       "   {'start': '各年度之增值回饋分享金', 'description': None, 'type': '主動給付', 'end': '本公司'},\n",
       "   {'start': '各年度之增值回饋分享金', 'description': None, 'type': '受領', 'end': '受益人'},\n",
       "   {'start': '各年度之增值回饋分享金', 'description': None, 'type': '包含', 'end': '保險金'},\n",
       "   {'start': '各年度之增值回饋分享金', 'description': None, 'type': '給付', 'end': '本契約終止'},\n",
       "   {'start': '各年度之增值回饋分享金', 'description': None, 'type': '給付', 'end': '要保人'},\n",
       "   {'start': '要保人', 'description': None, 'type': '選擇', 'end': '增額繳清保險金額'},\n",
       "   {'start': '本公司',\n",
       "    'description': None,\n",
       "    'type': 'MANAGE',\n",
       "    'end': '各年度之增值回饋分享金'},\n",
       "   {'start': '本公司',\n",
       "    'description': None,\n",
       "    'type': 'RETURN',\n",
       "    'end': '各年度之增值回饋分享金'},\n",
       "   {'start': '本公司', 'description': None, 'type': 'USE', 'end': '宣告利率'},\n",
       "   {'start': '本公司', 'description': None, 'type': 'RETURN', 'end': '要保人'},\n",
       "   {'start': '儲存生息',\n",
       "    'description': None,\n",
       "    'type': '包含',\n",
       "    'end': '各年度之增值回饋分享金'}]},\n",
       " {'communityId': '1-6',\n",
       "  'nodes': [{'id': '身故保險金', 'description': None, 'type': 'Concept'},\n",
       "   {'id': '喪葬費用保險金', 'description': None, 'type': 'Concept'}],\n",
       "  'rels': [{'start': '身故保險金',\n",
       "    'description': None,\n",
       "    'type': '變更',\n",
       "    'end': '喪葬費用保險金'}]},\n",
       " {'communityId': '1-1',\n",
       "  'nodes': [{'id': '民國九十九年二月三日', 'description': None, 'type': 'Date'},\n",
       "   {'id': '保險年齡', 'description': None, 'type': 'Timeperiod'},\n",
       "   {'id': '被保險人', 'description': None, 'type': 'Person'},\n",
       "   {'id': '未成年人', 'description': None, 'type': 'Person'},\n",
       "   {'id': '本契約', 'description': None, 'type': 'Concept'}],\n",
       "  'rels': [{'start': '被保險人',\n",
       "    'description': None,\n",
       "    'type': 'REACH',\n",
       "    'end': '保險年齡'},\n",
       "   {'start': '被保險人', 'description': None, 'type': '訂立', 'end': '民國九十九年二月三日'},\n",
       "   {'start': '未成年人', 'description': None, 'type': '身故', 'end': '被保險人'},\n",
       "   {'start': '本契約', 'description': None, 'type': '訂立', 'end': '未成年人'}]},\n",
       " {'communityId': '1-5',\n",
       "  'nodes': [{'id': '保單年度', 'description': None, 'type': 'Event'},\n",
       "   {'id': '現金給付', 'description': None, 'type': 'Benefit'}],\n",
       "  'rels': [{'start': '現金給付',\n",
       "    'description': None,\n",
       "    'type': '開始給付',\n",
       "    'end': '保單年度'}]},\n",
       " {'communityId': '1-4',\n",
       "  'nodes': [{'id': '台灣人壽', 'description': None, 'type': 'Organization'},\n",
       "   {'id': '美鑫美利美元利率變動型終身壽險', 'description': None, 'type': 'Product'},\n",
       "   {'id': '承保範圍', 'description': None, 'type': None}],\n",
       "  'rels': [{'start': '台灣人壽',\n",
       "    'description': None,\n",
       "    'type': 'OFFERS',\n",
       "    'end': '美鑫美利美元利率變動型終身壽險'},\n",
       "   {'start': '美鑫美利美元利率變動型終身壽險',\n",
       "    'description': None,\n",
       "    'type': 'INCLUDES',\n",
       "    'end': '承保範圍'}]}]"
      ]
     },
     "execution_count": 16,
     "metadata": {},
     "output_type": "execute_result"
    }
   ],
   "source": [
    "community_info = graph.query(\"\"\"\n",
    "MATCH (c:`__Community__`)<-[:IN_COMMUNITY*]-(e:__Entity__)\n",
    "WHERE c.level IN [0,1,4]\n",
    "WITH c, collect(e ) AS nodes\n",
    "WHERE size(nodes) > 1\n",
    "CALL apoc.path.subgraphAll(nodes[0], {\n",
    " whitelistNodes:nodes\n",
    "})\n",
    "YIELD relationships\n",
    "RETURN c.id AS communityId, \n",
    "       [n in nodes | {id: n.id, description: n.description, type: [el in labels(n) WHERE el <> '__Entity__'][0]}] AS nodes,\n",
    "       [r in relationships | {start: startNode(r).id, type: type(r), end: endNode(r).id, description: r.description}] AS rels\n",
    "\"\"\")\n",
    "community_info"
   ]
  },
  {
   "cell_type": "code",
   "execution_count": 17,
   "metadata": {},
   "outputs": [],
   "source": [
    "import os\n",
    "\n",
    "from langchain_experimental.graph_transformers import LLMGraphTransformer\n",
    "# from langchain_openai import ChatOpenAI\n",
    "from langchain_openai import AzureChatOpenAI\n",
    "\n",
    "llm = AzureChatOpenAI(\n",
    "    azure_endpoint=os.environ[\"AZURE_OPENAI_ENDPOINT\"],\n",
    "    azure_deployment=os.environ[\"AZURE_OPENAI_DEPLOYMENT_NAME\"],\n",
    "    openai_api_version=os.environ[\"AZURE_OPENAI_API_VERSION\"],\n",
    ")"
   ]
  },
  {
   "cell_type": "code",
   "execution_count": 20,
   "metadata": {},
   "outputs": [],
   "source": [
    "from langchain_core.prompts import ChatPromptTemplate\n",
    "from langchain_core.output_parsers import StrOutputParser\n",
    "\n",
    "community_template = \"\"\"請根據提供同社區的資訊包含 nodes 與 relationships,\n",
    "產生自然語言的摘要 同社區的資訊:\n",
    "{community_info}\n",
    "\n",
    "Summary:\"\"\"  # noqa: E501\n",
    "\n",
    "community_prompt = ChatPromptTemplate.from_messages(\n",
    "    [\n",
    "        (\n",
    "            \"system\",\n",
    "            \"Given an input triples, generate the information summary. No pre-amble.\",\n",
    "        ),\n",
    "        (\"human\", community_template),\n",
    "    ]\n",
    ")\n",
    "\n",
    "community_chain = community_prompt | llm | StrOutputParser()"
   ]
  },
  {
   "cell_type": "code",
   "execution_count": 21,
   "metadata": {},
   "outputs": [
    {
     "data": {
      "text/plain": [
       "{'community': '0-19',\n",
       " 'summary': '在同一個社區中，主要的概念和相關行動圍繞著「各年度之增值回饋分享金」展開。以下是各節點和關係的摘要：\\n\\n- **各年度之增值回饋分享金**：這是核心概念，與多個節點有關。其用途包括：\\n  - 用於抵繳保險費和增額繳清保險金額。\\n  - 使用年複利方式和宣告利率進行計算。\\n  - 受益人可以受領該金額。\\n  - 要保人會收到有關增值回饋分享金的通知，並且可以選擇增額繳清保險金額。\\n  - 在本契約終止時給付增值回饋分享金給要保人。\\n  - 包含了保險金的概念。\\n  - 該金額由本公司主動給付並管理，並且可能會被退還給要保人。\\n\\n- **要保人**：這是一個關鍵人物，與增值回饋分享金有多種互動。要保人可以選擇增額繳清保險金額，並會收到增值回饋分享金的通知。\\n\\n- **本公司**：作為一個組織，本公司管理和退還增值回饋分享金，並使用宣告利率來計算回饋。\\n\\n- **受益人**：受益人可以受領增值回饋分享金。\\n\\n- **儲存生息**：這個概念包含了各年度之增值回饋分享金。\\n\\n以上是同社區中各節點及其關係的摘要。'}"
      ]
     },
     "execution_count": 21,
     "metadata": {},
     "output_type": "execute_result"
    }
   ],
   "source": [
    "def prepare_string(data):\n",
    "    nodes_str = \"Nodes are:\\n\"\n",
    "    for node in data['nodes']:\n",
    "        node_id = node['id']\n",
    "        node_type = node['type']\n",
    "        if 'description' in node and node['description']:\n",
    "            node_description = f\", description: {node['description']}\"\n",
    "        else:\n",
    "            node_description = \"\"\n",
    "        nodes_str += f\"id: {node_id}, type: {node_type}{node_description}\\n\"\n",
    "\n",
    "    rels_str = \"Relationships are:\\n\"\n",
    "    for rel in data['rels']:\n",
    "        start = rel['start']\n",
    "        end = rel['end']\n",
    "        rel_type = rel['type']\n",
    "        if 'description' in rel and rel['description']:\n",
    "            description = f\", description: {rel['description']}\"\n",
    "        else:\n",
    "            description = \"\"\n",
    "        rels_str += f\"({start})-[:{rel_type}]->({end}){description}\\n\"\n",
    "\n",
    "    return nodes_str + \"\\n\" + rels_str\n",
    "\n",
    "def process_community(community):\n",
    "    stringify_info = prepare_string(community)\n",
    "    summary = community_chain.invoke({'community_info': stringify_info})\n",
    "    return {\"community\": community['communityId'], \"summary\": summary}\n",
    "\n",
    "process_community(community_info[0])"
   ]
  },
  {
   "cell_type": "code",
   "execution_count": 22,
   "metadata": {},
   "outputs": [
    {
     "name": "stderr",
     "output_type": "stream",
     "text": [
      "Processing communities: 100%|██████████| 11/11 [00:06<00:00,  1.64it/s]\n"
     ]
    }
   ],
   "source": [
    "from concurrent.futures import ThreadPoolExecutor, as_completed\n",
    "from tqdm import tqdm\n",
    "\n",
    "summaries = []\n",
    "with ThreadPoolExecutor() as executor:\n",
    "    futures = {executor.submit(process_community, community): community for community in community_info}\n",
    "\n",
    "    for future in tqdm(as_completed(futures), total=len(futures), desc=\"Processing communities\"):\n",
    "        summaries.append(future.result())"
   ]
  },
  {
   "cell_type": "code",
   "execution_count": 23,
   "metadata": {},
   "outputs": [
    {
     "data": {
      "text/plain": [
       "[{'community': '0-16', 'summary': '現金給付是一種利益，它在保單年度開始給付。'},\n",
       " {'community': '0-14',\n",
       "  'summary': '台灣人壽是一個組織，提供了一個名為「美鑫美利美元利率變動型終身壽險」的產品。這個產品包含了特定的承保範圍。'},\n",
       " {'community': '1-4',\n",
       "  'summary': '台灣人壽是一家提供保險產品的組織，其中包括一種名為「美鑫美利美元利率變動型終身壽險」的產品。這款保險產品包含了特定的承保範圍。'},\n",
       " {'community': '1-6',\n",
       "  'summary': '身故保險金和喪葬費用保險金兩者之間存在一種變更關係。兩者皆屬於保險概念，且喪葬費用保險金可由身故保險金進行變更。'},\n",
       " {'community': '1-1',\n",
       "  'summary': '在民國九十九年二月三日，有一份契約訂立。該契約涉及到被保險人和未成年人。被保險人在此契約中達到了保險年齡，而未成年人與被保險人之間存在身故的關係。本契約是由未成年人訂立的。'},\n",
       " {'community': '0-7',\n",
       "  'summary': '本社區包含兩個節點和一個關係。節點包括一個標識為「未成年人」的個人節點和一個標識為「本契約」的概念節點。這兩個節點之間存在一個關係，其中「本契約」有一個[:訂立]的關係指向「未成年人」。'},\n",
       " {'community': '0-2',\n",
       "  'summary': '在同一社區內，有兩個概念節點：「身故保險金」和「喪葬費用保險金」。這兩個節點之間存在一個變更關係，其中「身故保險金」變更為「喪葬費用保險金」。'},\n",
       " {'community': '1-5', 'summary': '現金給付是一種福利，並且在保單年度開始給付。'},\n",
       " {'community': '0-19',\n",
       "  'summary': '在這個社區中，\"各年度之增值回饋分享金\" 是一個中心概念，與多個節點和關係相關聯。它被用於抵繳保險費、增額繳清保險金額，並使用年複利方式和宣告利率。這些增值回饋分享金會主動由本公司給付，並包含於保險金中。要保人和受益人都是這些增值回饋分享金的相關人，其中要保人可以選擇將這些金額增額繳清保險金額，並且會被通知這些回饋金的信息。本公司不僅管理和返回這些增值回饋分享金，還使用宣告利率來計算。此外，當本契約終止時，這些增值回饋分享金會被給付給要保人或受益人。\"儲存生息\" 包含了各年度之增值回饋分享金，進一步強調了這些回饋金的重要性。'},\n",
       " {'community': '0-8',\n",
       "  'summary': '在這個社區中，有三個節點：一個是日期「民國九十九年二月三日」，一個是時間段「保險年齡」，還有一個是個體「被保險人」。在這些節點之間存在兩種關係：「被保險人」與「保險年齡」之間有一個「REACH」的關係，而「被保險人」與日期「民國九十九年二月三日」之間則有一個「訂立」的關係。'},\n",
       " {'community': '1-3',\n",
       "  'summary': '在這個社區中，主要涉及了各年度之增值回饋分享金及其相關的概念、人員、組織和行動。\\n\\n各年度之增值回饋分享金被用於抵繳保險費，並且與要保人有關聯。它也可以作為增額繳清保險金額的選項，且要保人會收到相關通知。增值回饋分享金使用年複利方式和宣告利率來計算，其給付由本公司主動給付，並且受益人可以受領這些金額。\\n\\n本公司負責管理和返還各年度之增值回饋分享金，並且在使用宣告利率的過程中，也會將其返還給要保人。\\n\\n此外，儲存生息的概念中包含了各年度之增值回饋分享金，並且增值回饋分享金包含了保險金。在本契約終止時，增值回饋分享金也將被支付給要保人。\\n\\n總體來說，這個社區中各個節點和關係的互動展示了保險金、年複利方式、抵繳保險費、增值回饋分享金、增額繳清保險金額等概念如何在本公司、要保人和受益人之間進行管理和使用。'}]"
      ]
     },
     "execution_count": 23,
     "metadata": {},
     "output_type": "execute_result"
    }
   ],
   "source": [
    "summaries"
   ]
  },
  {
   "cell_type": "code",
   "execution_count": 24,
   "metadata": {},
   "outputs": [
    {
     "data": {
      "text/plain": [
       "[]"
      ]
     },
     "execution_count": 24,
     "metadata": {},
     "output_type": "execute_result"
    }
   ],
   "source": [
    "graph.query(\"\"\"\n",
    "UNWIND $data AS row\n",
    "MERGE (c:__Community__ {id:row.community})\n",
    "SET c.summary = row.summary\n",
    "\"\"\", params={\"data\": summaries})"
   ]
  }
 ],
 "metadata": {
  "kernelspec": {
   "display_name": "lagch",
   "language": "python",
   "name": "python3"
  },
  "language_info": {
   "codemirror_mode": {
    "name": "ipython",
    "version": 3
   },
   "file_extension": ".py",
   "mimetype": "text/x-python",
   "name": "python",
   "nbconvert_exporter": "python",
   "pygments_lexer": "ipython3",
   "version": "3.12.5"
  }
 },
 "nbformat": 4,
 "nbformat_minor": 2
}
