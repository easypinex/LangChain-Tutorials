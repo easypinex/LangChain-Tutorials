{
 "cells": [
  {
   "cell_type": "code",
   "execution_count": 46,
   "metadata": {},
   "outputs": [],
   "source": [
    "import os\n",
    "\n",
    "from langchain_community.graphs import Neo4jGraph\n",
    "\n",
    "os.environ[\"NEO4J_URI\"] = \"bolt://localhost:7687\"\n",
    "os.environ[\"NEO4J_USERNAME\"] = \"neo4j\"\n",
    "os.environ[\"NEO4J_PASSWORD\"] = \"2wsx3edc\"\n",
    "\n",
    "graph = Neo4jGraph()"
   ]
  },
  {
   "cell_type": "code",
   "execution_count": 47,
   "metadata": {},
   "outputs": [],
   "source": [
    "from graphdatascience import GraphDataScience \n",
    "\n",
    "gds = GraphDataScience( \n",
    "    os.environ[ \"NEO4J_URI\" ], \n",
    "    auth=(os.environ[ \"NEO4J_USERNAME\" ], os.environ[ \"NEO4J_PASSWORD\" ]) \n",
    ")"
   ]
  },
  {
   "cell_type": "code",
   "execution_count": 48,
   "metadata": {},
   "outputs": [],
   "source": [
    "gds.graph.drop(\"communities\")\n",
    "G, result = gds.graph.project(\n",
    "    \"communities\",  #  Graph name\n",
    "    \"__Entity__\",  #  Node projection\n",
    "    {\n",
    "        \"_ALL_\": {\n",
    "            \"type\": \"*\",\n",
    "            \"orientation\": \"UNDIRECTED\",\n",
    "            \"properties\": {\"weight\": {\"property\": \"*\", \"aggregation\": \"COUNT\"}},\n",
    "        }\n",
    "    },\n",
    ")"
   ]
  },
  {
   "cell_type": "code",
   "execution_count": 49,
   "metadata": {},
   "outputs": [
    {
     "name": "stdout",
     "output_type": "stream",
     "text": [
      "Component count: 1\n",
      "Component distribution: {'min': 24, 'p5': 24, 'max': 24, 'p999': 24, 'p99': 24, 'p1': 24, 'p10': 24, 'p90': 24, 'p50': 24, 'p25': 24, 'p75': 24, 'p95': 24, 'mean': 24.0}\n"
     ]
    }
   ],
   "source": [
    "wcc = gds.wcc.stats(G)\n",
    "print(f\"Component count: {wcc['componentCount']}\")\n",
    "print(f\"Component distribution: {wcc['componentDistribution']}\")"
   ]
  },
  {
   "cell_type": "code",
   "execution_count": 50,
   "metadata": {},
   "outputs": [
    {
     "data": {
      "text/plain": [
       "writeMillis                                                             20\n",
       "nodePropertiesWritten                                                   24\n",
       "ranLevels                                                                2\n",
       "didConverge                                                           True\n",
       "nodeCount                                                               24\n",
       "communityCount                                                           4\n",
       "communityDistribution    {'min': 3, 'p5': 3, 'max': 11, 'p999': 11, 'p9...\n",
       "modularity                                                        0.441563\n",
       "modularities                       [0.3677867056245435, 0.441563184806428]\n",
       "postProcessingMillis                                                     2\n",
       "preProcessingMillis                                                      1\n",
       "computeMillis                                                           29\n",
       "configuration            {'writeProperty': 'communities', 'theta': 0.01...\n",
       "Name: 0, dtype: object"
      ]
     },
     "execution_count": 50,
     "metadata": {},
     "output_type": "execute_result"
    }
   ],
   "source": [
    "gds.leiden.write(\n",
    "    G,\n",
    "    writeProperty=\"communities\",\n",
    "    includeIntermediateCommunities=True,\n",
    "    relationshipWeightProperty=\"weight\",\n",
    ")"
   ]
  },
  {
   "cell_type": "code",
   "execution_count": 51,
   "metadata": {},
   "outputs": [
    {
     "data": {
      "text/plain": [
       "[{'count(*)': 48}]"
      ]
     },
     "execution_count": 51,
     "metadata": {},
     "output_type": "execute_result"
    }
   ],
   "source": [
    "graph.query(\"\"\"\n",
    "MATCH (e:`__Entity__`)\n",
    "UNWIND range(0, size(e.communities) - 1 , 1) AS index\n",
    "CALL {\n",
    "  WITH e, index\n",
    "  WITH e, index\n",
    "  WHERE index = 0\n",
    "  MERGE (c:`__Community__` {id: toString(index) + '-' + toString(e.communities[index])})\n",
    "  ON CREATE SET c.level = index\n",
    "  MERGE (e)-[:IN_COMMUNITY]->(c)\n",
    "  RETURN count(*) AS count_0\n",
    "}\n",
    "CALL {\n",
    "  WITH e, index\n",
    "  WITH e, index\n",
    "  WHERE index > 0\n",
    "  MERGE (current:`__Community__` {id: toString(index) + '-' + toString(e.communities[index])})\n",
    "  ON CREATE SET current.level = index\n",
    "  MERGE (previous:`__Community__` {id: toString(index - 1) + '-' + toString(e.communities[index - 1])})\n",
    "  ON CREATE SET previous.level = index - 1\n",
    "  MERGE (previous)-[:IN_COMMUNITY]->(current)\n",
    "  RETURN count(*) AS count_1\n",
    "}\n",
    "RETURN count(*)\n",
    "\"\"\")"
   ]
  },
  {
   "cell_type": "code",
   "execution_count": 52,
   "metadata": {},
   "outputs": [
    {
     "data": {
      "text/plain": [
       "[]"
      ]
     },
     "execution_count": 52,
     "metadata": {},
     "output_type": "execute_result"
    }
   ],
   "source": [
    "graph.query(\"\"\"\n",
    "MATCH (c:__Community__)<-[:IN_COMMUNITY*]-(:__Entity__)<-[:HAS_ENTITY]-(d:__Chunk__)\n",
    "WITH c, count(distinct d) AS rank\n",
    "SET c.rank = rank;\n",
    "\"\"\")"
   ]
  },
  {
   "cell_type": "code",
   "execution_count": 53,
   "metadata": {},
   "outputs": [
    {
     "data": {
      "text/html": [
       "<div>\n",
       "<style scoped>\n",
       "    .dataframe tbody tr th:only-of-type {\n",
       "        vertical-align: middle;\n",
       "    }\n",
       "\n",
       "    .dataframe tbody tr th {\n",
       "        vertical-align: top;\n",
       "    }\n",
       "\n",
       "    .dataframe thead th {\n",
       "        text-align: right;\n",
       "    }\n",
       "</style>\n",
       "<table border=\"1\" class=\"dataframe\">\n",
       "  <thead>\n",
       "    <tr style=\"text-align: right;\">\n",
       "      <th></th>\n",
       "      <th>Level</th>\n",
       "      <th>Number of communities</th>\n",
       "      <th>25th Percentile</th>\n",
       "      <th>50th Percentile</th>\n",
       "      <th>75th Percentile</th>\n",
       "      <th>90th Percentile</th>\n",
       "      <th>99th Percentile</th>\n",
       "      <th>Max</th>\n",
       "    </tr>\n",
       "  </thead>\n",
       "  <tbody>\n",
       "    <tr>\n",
       "      <th>0</th>\n",
       "      <td>0</td>\n",
       "      <td>7</td>\n",
       "      <td>3.0</td>\n",
       "      <td>3.0</td>\n",
       "      <td>3.5</td>\n",
       "      <td>4.8</td>\n",
       "      <td>5.88</td>\n",
       "      <td>6</td>\n",
       "    </tr>\n",
       "    <tr>\n",
       "      <th>1</th>\n",
       "      <td>1</td>\n",
       "      <td>4</td>\n",
       "      <td>3.0</td>\n",
       "      <td>5.0</td>\n",
       "      <td>8.0</td>\n",
       "      <td>9.8</td>\n",
       "      <td>10.88</td>\n",
       "      <td>11</td>\n",
       "    </tr>\n",
       "  </tbody>\n",
       "</table>\n",
       "</div>"
      ],
      "text/plain": [
       "  Level  Number of communities  25th Percentile  50th Percentile  \\\n",
       "0     0                      7              3.0              3.0   \n",
       "1     1                      4              3.0              5.0   \n",
       "\n",
       "   75th Percentile  90th Percentile  99th Percentile  Max  \n",
       "0              3.5              4.8             5.88    6  \n",
       "1              8.0              9.8            10.88   11  "
      ]
     },
     "execution_count": 53,
     "metadata": {},
     "output_type": "execute_result"
    }
   ],
   "source": [
    "import pandas as pd\n",
    "import numpy as np\n",
    "\n",
    "community_size = graph.query(\n",
    "    \"\"\"\n",
    "MATCH (c:__Community__)<-[:IN_COMMUNITY*]-(e:__Entity__)\n",
    "WITH c, count(distinct e) AS entities\n",
    "RETURN split(c.id, '-')[0] AS level, entities\n",
    "\"\"\"\n",
    ")\n",
    "community_size_df = pd.DataFrame.from_records(community_size)\n",
    "percentiles_data = []\n",
    "for level in community_size_df[\"level\"].unique():\n",
    "    subset = community_size_df[community_size_df[\"level\"] == level][\"entities\"]\n",
    "    num_communities = len(subset)\n",
    "    percentiles = np.percentile(subset, [25, 50, 75, 90, 99])\n",
    "    percentiles_data.append(\n",
    "        [\n",
    "            level,\n",
    "            num_communities,\n",
    "            percentiles[0],\n",
    "            percentiles[1],\n",
    "            percentiles[2],\n",
    "            percentiles[3],\n",
    "            percentiles[4],\n",
    "            max(subset)\n",
    "        ]\n",
    "    )\n",
    "\n",
    "# Create a DataFrame with the percentiles\n",
    "percentiles_df = pd.DataFrame(\n",
    "    percentiles_data,\n",
    "    columns=[\n",
    "        \"Level\",\n",
    "        \"Number of communities\",\n",
    "        \"25th Percentile\",\n",
    "        \"50th Percentile\",\n",
    "        \"75th Percentile\",\n",
    "        \"90th Percentile\",\n",
    "        \"99th Percentile\",\n",
    "        \"Max\"\n",
    "    ],\n",
    ")\n",
    "percentiles_df"
   ]
  },
  {
   "cell_type": "code",
   "execution_count": 54,
   "metadata": {},
   "outputs": [
    {
     "data": {
      "text/plain": [
       "[{'communityId': '0-3',\n",
       "  'nodes': [{'id': '保險金受益人', 'description': None, 'type': 'Person'},\n",
       "   {'id': '宣告利率', 'description': None, 'type': 'Concept'},\n",
       "   {'id': '儲存生息', 'description': None, 'type': 'Financial_strategy'},\n",
       "   {'id': '要保人', 'description': None, 'type': 'Person'},\n",
       "   {'id': '本公司', 'description': None, 'type': 'Organization'},\n",
       "   {'id': '增值回饋分享金',\n",
       "    'description': '限以購買增額繳清保險金額辦理',\n",
       "    'type': 'Financial_product'}],\n",
       "  'rels': [{'start': '增值回饋分享金',\n",
       "    'description': None,\n",
       "    'type': 'BENEFITS',\n",
       "    'end': '要保人'},\n",
       "   {'start': '增值回饋分享金', 'description': None, 'type': 'PROVIDES', 'end': '本公司'},\n",
       "   {'start': '增值回饋分享金',\n",
       "    'description': None,\n",
       "    'type': 'BENEFITS',\n",
       "    'end': '保險金受益人'},\n",
       "   {'start': '增值回饋分享金', 'description': None, 'type': 'BENEFITS', 'end': '要保人'},\n",
       "   {'start': '增值回饋分享金',\n",
       "    'description': None,\n",
       "    'type': 'CALCULATES_WITH',\n",
       "    'end': '宣告利率'},\n",
       "   {'start': '要保人',\n",
       "    'description': None,\n",
       "    'type': 'TERMINATE_CONTRACT_WITH',\n",
       "    'end': '本公司'},\n",
       "   {'start': '本公司', 'description': None, 'type': 'HANDLES', 'end': '增值回饋分享金'},\n",
       "   {'start': '本公司', 'description': None, 'type': 'RETURNS_TO', 'end': '要保人'},\n",
       "   {'start': '儲存生息',\n",
       "    'description': None,\n",
       "    'type': 'APPLIES_TO',\n",
       "    'end': '增值回饋分享金'},\n",
       "   {'start': '儲存生息', 'description': None, 'type': 'BENEFITS', 'end': '要保人'}]},\n",
       " {'communityId': '0-5',\n",
       "  'nodes': [{'id': '現金給付', 'description': None, 'type': 'Concept'},\n",
       "   {'id': '保單年度', 'description': None, 'type': 'Concept'},\n",
       "   {'id': '被保險人', 'description': None, 'type': 'Person'}],\n",
       "  'rels': [{'start': '被保險人',\n",
       "    'description': None,\n",
       "    'type': 'HAS',\n",
       "    'end': '保單年度'},\n",
       "   {'start': '被保險人', 'description': None, 'type': 'RECEIVES', 'end': '現金給付'}]},\n",
       " {'communityId': '0-7',\n",
       "  'nodes': [{'id': '台灣人壽', 'description': None, 'type': 'Organization'},\n",
       "   {'id': '承保範圍', 'description': None, 'type': 'Concept'},\n",
       "   {'id': '美鑫美利美元利率變動型終身壽險', 'description': None, 'type': 'Product'}],\n",
       "  'rels': [{'start': '台灣人壽',\n",
       "    'description': None,\n",
       "    'type': 'OFFERS',\n",
       "    'end': '美鑫美利美元利率變動型終身壽險'},\n",
       "   {'start': '美鑫美利美元利率變動型終身壽險',\n",
       "    'description': None,\n",
       "    'type': 'INCLUDES',\n",
       "    'end': '承保範圍'}]},\n",
       " {'communityId': '0-12',\n",
       "  'nodes': [{'id': '本契約', 'description': None, 'type': 'Agreement'},\n",
       "   {'id': '增額繳清保險金額', 'description': None, 'type': 'Financial_product'}],\n",
       "  'rels': [{'start': '本契約',\n",
       "    'description': None,\n",
       "    'type': 'PROVIDES',\n",
       "    'end': '增額繳清保險金額'}]},\n",
       " {'communityId': '0-15',\n",
       "  'nodes': [{'id': '書面', 'description': None, 'type': 'Concept'},\n",
       "   {'id': '電子郵件', 'description': None, 'type': 'Concept'},\n",
       "   {'id': '通知', 'description': None, 'type': 'Concept'}],\n",
       "  'rels': [{'start': '通知',\n",
       "    'description': None,\n",
       "    'type': 'METHOD',\n",
       "    'end': '電子郵件'},\n",
       "   {'start': '通知', 'description': None, 'type': 'METHOD', 'end': '書面'}]},\n",
       " {'communityId': '0-20',\n",
       "  'nodes': [{'id': '第十六條', 'description': None, 'type': 'Concept'},\n",
       "   {'id': '身故保險金', 'description': None, 'type': 'Concept'},\n",
       "   {'id': '給付', 'description': None, 'type': None},\n",
       "   {'id': '當年度保險金額', 'description': None, 'type': 'Concept'}],\n",
       "  'rels': [{'start': '第十六條',\n",
       "    'description': None,\n",
       "    'type': 'RELATED_TO',\n",
       "    'end': '身故保險金'},\n",
       "   {'start': '身故保險金', 'description': None, 'type': 'ACTION', 'end': '給付'},\n",
       "   {'start': '身故保險金',\n",
       "    'description': None,\n",
       "    'type': 'BASED_ON',\n",
       "    'end': '當年度保險金額'}]},\n",
       " {'communityId': '0-22',\n",
       "  'nodes': [{'id': '喪葬費用保險金', 'description': None, 'type': 'Concept'},\n",
       "   {'id': '未滿15足歲之未成年人', 'description': None, 'type': 'Person'},\n",
       "   {'id': '民國九十九年二月三日', 'description': None, 'type': 'Date'}],\n",
       "  'rels': [{'start': '喪葬費用保險金',\n",
       "    'description': None,\n",
       "    'type': 'RELATED_TO',\n",
       "    'end': '民國九十九年二月三日'},\n",
       "   {'start': '未滿15足歲之未成年人',\n",
       "    'description': None,\n",
       "    'type': 'ELIGIBLE_FOR',\n",
       "    'end': '喪葬費用保險金'}]},\n",
       " {'communityId': '1-6',\n",
       "  'nodes': [{'id': '本契約', 'description': None, 'type': 'Agreement'},\n",
       "   {'id': '增額繳清保險金額', 'description': None, 'type': 'Financial_product'},\n",
       "   {'id': '保險金受益人', 'description': None, 'type': 'Person'},\n",
       "   {'id': '宣告利率', 'description': None, 'type': 'Concept'},\n",
       "   {'id': '儲存生息', 'description': None, 'type': 'Financial_strategy'},\n",
       "   {'id': '要保人', 'description': None, 'type': 'Person'},\n",
       "   {'id': '本公司', 'description': None, 'type': 'Organization'},\n",
       "   {'id': '增值回饋分享金',\n",
       "    'description': '限以購買增額繳清保險金額辦理',\n",
       "    'type': 'Financial_product'},\n",
       "   {'id': '現金給付', 'description': None, 'type': 'Concept'},\n",
       "   {'id': '保單年度', 'description': None, 'type': 'Concept'},\n",
       "   {'id': '被保險人', 'description': None, 'type': 'Person'}],\n",
       "  'rels': [{'start': '本契約',\n",
       "    'description': None,\n",
       "    'type': 'PROVIDES',\n",
       "    'end': '增值回饋分享金'},\n",
       "   {'start': '本契約', 'description': None, 'type': 'INCLUDES', 'end': '儲存生息'},\n",
       "   {'start': '本契約',\n",
       "    'description': None,\n",
       "    'type': 'PROVIDES',\n",
       "    'end': '增額繳清保險金額'},\n",
       "   {'start': '增值回饋分享金', 'description': None, 'type': 'BENEFITS', 'end': '要保人'},\n",
       "   {'start': '增值回饋分享金', 'description': None, 'type': 'PROVIDES', 'end': '本公司'},\n",
       "   {'start': '增值回饋分享金',\n",
       "    'description': None,\n",
       "    'type': 'BENEFITS',\n",
       "    'end': '保險金受益人'},\n",
       "   {'start': '增值回饋分享金', 'description': None, 'type': 'BENEFITS', 'end': '要保人'},\n",
       "   {'start': '增值回饋分享金',\n",
       "    'description': None,\n",
       "    'type': 'BENEFITS',\n",
       "    'end': '被保險人'},\n",
       "   {'start': '增值回饋分享金',\n",
       "    'description': None,\n",
       "    'type': 'CALCULATES_WITH',\n",
       "    'end': '宣告利率'},\n",
       "   {'start': '儲存生息',\n",
       "    'description': None,\n",
       "    'type': 'APPLIES_TO',\n",
       "    'end': '增值回饋分享金'},\n",
       "   {'start': '儲存生息', 'description': None, 'type': 'BENEFITS', 'end': '要保人'},\n",
       "   {'start': '要保人', 'description': None, 'type': 'CHOOSES', 'end': '增額繳清保險金額'},\n",
       "   {'start': '要保人', 'description': None, 'type': 'CHOOSES', 'end': '現金給付'},\n",
       "   {'start': '要保人',\n",
       "    'description': None,\n",
       "    'type': 'TERMINATE_CONTRACT_WITH',\n",
       "    'end': '本公司'},\n",
       "   {'start': '本公司', 'description': None, 'type': 'HANDLES', 'end': '保單年度'},\n",
       "   {'start': '本公司', 'description': None, 'type': 'HANDLES', 'end': '增值回饋分享金'},\n",
       "   {'start': '本公司', 'description': None, 'type': 'RETURNS_TO', 'end': '要保人'},\n",
       "   {'start': '被保險人',\n",
       "    'description': None,\n",
       "    'type': 'RECEIVES',\n",
       "    'end': '增額繳清保險金額'},\n",
       "   {'start': '被保險人', 'description': None, 'type': 'HAS', 'end': '保單年度'},\n",
       "   {'start': '被保險人', 'description': None, 'type': 'RELATED_TO', 'end': '本公司'},\n",
       "   {'start': '被保險人', 'description': None, 'type': 'RECEIVES', 'end': '現金給付'}]},\n",
       " {'communityId': '1-4',\n",
       "  'nodes': [{'id': '台灣人壽', 'description': None, 'type': 'Organization'},\n",
       "   {'id': '承保範圍', 'description': None, 'type': 'Concept'},\n",
       "   {'id': '美鑫美利美元利率變動型終身壽險', 'description': None, 'type': 'Product'}],\n",
       "  'rels': [{'start': '台灣人壽',\n",
       "    'description': None,\n",
       "    'type': 'OFFERS',\n",
       "    'end': '美鑫美利美元利率變動型終身壽險'},\n",
       "   {'start': '美鑫美利美元利率變動型終身壽險',\n",
       "    'description': None,\n",
       "    'type': 'INCLUDES',\n",
       "    'end': '承保範圍'}]},\n",
       " {'communityId': '1-5',\n",
       "  'nodes': [{'id': '書面', 'description': None, 'type': 'Concept'},\n",
       "   {'id': '電子郵件', 'description': None, 'type': 'Concept'},\n",
       "   {'id': '通知', 'description': None, 'type': 'Concept'}],\n",
       "  'rels': [{'start': '通知',\n",
       "    'description': None,\n",
       "    'type': 'METHOD',\n",
       "    'end': '電子郵件'},\n",
       "   {'start': '通知', 'description': None, 'type': 'METHOD', 'end': '書面'}]},\n",
       " {'communityId': '1-1',\n",
       "  'nodes': [{'id': '喪葬費用保險金', 'description': None, 'type': 'Concept'},\n",
       "   {'id': '未滿15足歲之未成年人', 'description': None, 'type': 'Person'},\n",
       "   {'id': '民國九十九年二月三日', 'description': None, 'type': 'Date'},\n",
       "   {'id': '第十六條', 'description': None, 'type': 'Concept'},\n",
       "   {'id': '身故保險金', 'description': None, 'type': 'Concept'},\n",
       "   {'id': '給付', 'description': None, 'type': None},\n",
       "   {'id': '當年度保險金額', 'description': None, 'type': 'Concept'}],\n",
       "  'rels': [{'start': '喪葬費用保險金',\n",
       "    'description': None,\n",
       "    'type': 'RELATED_TO',\n",
       "    'end': '民國九十九年二月三日'},\n",
       "   {'start': '喪葬費用保險金', 'description': None, 'type': 'ACTION', 'end': '給付'},\n",
       "   {'start': '未滿15足歲之未成年人',\n",
       "    'description': None,\n",
       "    'type': 'ELIGIBLE_FOR',\n",
       "    'end': '喪葬費用保險金'},\n",
       "   {'start': '未滿15足歲之未成年人',\n",
       "    'description': None,\n",
       "    'type': 'INELIGIBLE_FOR',\n",
       "    'end': '身故保險金'},\n",
       "   {'start': '第十六條',\n",
       "    'description': None,\n",
       "    'type': 'RELATED_TO',\n",
       "    'end': '身故保險金'},\n",
       "   {'start': '第十六條',\n",
       "    'description': None,\n",
       "    'type': 'RELATED_TO',\n",
       "    'end': '喪葬費用保險金'},\n",
       "   {'start': '身故保險金', 'description': None, 'type': 'ACTION', 'end': '給付'},\n",
       "   {'start': '身故保險金',\n",
       "    'description': None,\n",
       "    'type': 'BASED_ON',\n",
       "    'end': '當年度保險金額'}]}]"
      ]
     },
     "execution_count": 54,
     "metadata": {},
     "output_type": "execute_result"
    }
   ],
   "source": [
    "community_info = graph.query(\"\"\"\n",
    "MATCH (c:`__Community__`)<-[:IN_COMMUNITY*]-(e:__Entity__)\n",
    "WHERE c.level IN [0,1,4]\n",
    "WITH c, collect(e ) AS nodes\n",
    "WHERE size(nodes) > 1\n",
    "CALL apoc.path.subgraphAll(nodes[0], {\n",
    " whitelistNodes:nodes\n",
    "})\n",
    "YIELD relationships\n",
    "RETURN c.id AS communityId, \n",
    "       [n in nodes | {id: n.id, description: n.description, type: [el in labels(n) WHERE el <> '__Entity__'][0]}] AS nodes,\n",
    "       [r in relationships | {start: startNode(r).id, type: type(r), end: endNode(r).id, description: r.description}] AS rels\n",
    "\"\"\")\n",
    "community_info"
   ]
  },
  {
   "cell_type": "code",
   "execution_count": 55,
   "metadata": {},
   "outputs": [],
   "source": [
    "import os\n",
    "\n",
    "from langchain_experimental.graph_transformers import LLMGraphTransformer\n",
    "# from langchain_openai import ChatOpenAI\n",
    "from langchain_openai import AzureChatOpenAI\n",
    "\n",
    "llm = AzureChatOpenAI(\n",
    "    azure_endpoint=os.environ[\"AZURE_OPENAI_ENDPOINT\"],\n",
    "    azure_deployment=os.environ[\"AZURE_OPENAI_DEPLOYMENT_NAME\"],\n",
    "    openai_api_version=os.environ[\"AZURE_OPENAI_API_VERSION\"],\n",
    ")"
   ]
  },
  {
   "cell_type": "code",
   "execution_count": 56,
   "metadata": {},
   "outputs": [],
   "source": [
    "from langchain_core.prompts import ChatPromptTemplate\n",
    "from langchain_core.output_parsers import StrOutputParser\n",
    "\n",
    "community_template = \"\"\"請根據提供同社區的資訊包含 nodes 與 relationships,\n",
    "產生自然語言的摘要 同社區的資訊:\n",
    "{community_info}\n",
    "\n",
    "Summary:\"\"\"  # noqa: E501\n",
    "\n",
    "community_prompt = ChatPromptTemplate.from_messages(\n",
    "    [\n",
    "        (\n",
    "            \"system\",\n",
    "            \"Given an input triples, generate the information summary. No pre-amble.\",\n",
    "        ),\n",
    "        (\"human\", community_template),\n",
    "    ]\n",
    ")\n",
    "\n",
    "community_chain = community_prompt | llm | StrOutputParser()"
   ]
  },
  {
   "cell_type": "code",
   "execution_count": 57,
   "metadata": {},
   "outputs": [
    {
     "data": {
      "text/plain": [
       "{'community': '0-3',\n",
       " 'summary': '本社區的資訊包含以下幾個節點和關係：\\n\\n節點：\\n1. 保險金受益人（Person）\\n2. 宣告利率（Concept）\\n3. 儲存生息（Financial_strategy）\\n4. 要保人（Person）\\n5. 本公司（Organization）\\n6. 增值回饋分享金（Financial_product），描述為限以購買增額繳清保險金額辦理。\\n\\n關係：\\n1. 增值回饋分享金收益於要保人。\\n2. 增值回饋分享金提供給本公司。\\n3. 增值回饋分享金收益於保險金受益人。\\n4. 增值回饋分享金收益於要保人（重複關係）。\\n5. 增值回饋分享金根據宣告利率計算。\\n6. 要保人與本公司終止合約。\\n7. 本公司處理增值回饋分享金。\\n8. 本公司回饋給要保人。\\n9. 儲存生息適用於增值回饋分享金。\\n10. 儲存生息收益於要保人。\\n\\n總結來說，增值回饋分享金是一種金融產品，主要限以購買增額繳清保險金額辦理，並主要收益於要保人和保險金受益人。它由本公司提供並處理，並根據宣告利率計算。此外，儲存生息這一金融策略適用於增值回饋分享金並且也收益於要保人。'}"
      ]
     },
     "execution_count": 57,
     "metadata": {},
     "output_type": "execute_result"
    }
   ],
   "source": [
    "def prepare_string(data):\n",
    "    nodes_str = \"Nodes are:\\n\"\n",
    "    for node in data['nodes']:\n",
    "        node_id = node['id']\n",
    "        node_type = node['type']\n",
    "        if 'description' in node and node['description']:\n",
    "            node_description = f\", description: {node['description']}\"\n",
    "        else:\n",
    "            node_description = \"\"\n",
    "        nodes_str += f\"id: {node_id}, type: {node_type}{node_description}\\n\"\n",
    "\n",
    "    rels_str = \"Relationships are:\\n\"\n",
    "    for rel in data['rels']:\n",
    "        start = rel['start']\n",
    "        end = rel['end']\n",
    "        rel_type = rel['type']\n",
    "        if 'description' in rel and rel['description']:\n",
    "            description = f\", description: {rel['description']}\"\n",
    "        else:\n",
    "            description = \"\"\n",
    "        rels_str += f\"({start})-[:{rel_type}]->({end}){description}\\n\"\n",
    "\n",
    "    return nodes_str + \"\\n\" + rels_str\n",
    "\n",
    "def process_community(community):\n",
    "    stringify_info = prepare_string(community)\n",
    "    summary = community_chain.invoke({'community_info': stringify_info})\n",
    "    return {\"community\": community['communityId'], \"summary\": summary}\n",
    "\n",
    "process_community(community_info[0])"
   ]
  },
  {
   "cell_type": "code",
   "execution_count": 58,
   "metadata": {},
   "outputs": [
    {
     "name": "stderr",
     "output_type": "stream",
     "text": [
      "Processing communities: 100%|██████████| 11/11 [00:03<00:00,  2.90it/s]\n"
     ]
    }
   ],
   "source": [
    "from concurrent.futures import ThreadPoolExecutor, as_completed\n",
    "from tqdm import tqdm\n",
    "\n",
    "summaries = []\n",
    "with ThreadPoolExecutor() as executor:\n",
    "    futures = {executor.submit(process_community, community): community for community in community_info}\n",
    "\n",
    "    for future in tqdm(as_completed(futures), total=len(futures), desc=\"Processing communities\"):\n",
    "        summaries.append(future.result())"
   ]
  },
  {
   "cell_type": "code",
   "execution_count": 59,
   "metadata": {},
   "outputs": [
    {
     "data": {
      "text/plain": [
       "[{'community': '0-12', 'summary': '本契約是一種Agreement，提供了一項金融產品，稱為增額繳清保險金額。'},\n",
       " {'community': '1-4',\n",
       "  'summary': '台灣人壽是一家組織，它提供一款名為「美鑫美利美元利率變動型終身壽險」的產品。此產品包含了「承保範圍」的概念。'},\n",
       " {'community': '0-7',\n",
       "  'summary': '台灣人壽是一家保險公司，該公司提供一款名為「美鑫美利美元利率變動型終身壽險」的產品。這款產品包含了特定的承保範圍。'},\n",
       " {'community': '0-15',\n",
       "  'summary': '在這個社區中，有三個概念節點，分別是「書面」、「電子郵件」和「通知」。其中，「通知」這個概念節點與「書面」和「電子郵件」之間存在方法（METHOD）的關係，也就是說，通知可以通過書面或電子郵件的方式進行。'},\n",
       " {'community': '0-22',\n",
       "  'summary': '有一個與喪葬費用保險金相關的社區。這些資訊點包括：\\n\\n- 喪葬費用保險金（概念）\\n- 未滿15足歲之未成年人（人員）\\n- 民國九十九年二月三日（日期）\\n\\n在這個社區中，喪葬費用保險金與民國九十九年二月三日有關聯。未滿15足歲之未成年人有資格獲得喪葬費用保險金。'},\n",
       " {'community': '0-5',\n",
       "  'summary': '在這個社區中，有三個重要的節點，包括「現金給付」和「保單年度」這兩個概念節點，以及「被保險人」這個人物節點。關係方面，「被保險人」與「保單年度」之間存在「擁有」(HAS) 的關係，而「被保險人」與「現金給付」之間則存在「收到」(RECEIVES) 的關係。'},\n",
       " {'community': '0-3',\n",
       "  'summary': '在這個社區中，有多個節點和關係。\\n\\n節點包括：\\n- 保險金受益人 (Person)\\n- 宣告利率 (Concept)\\n- 儲存生息 (Financial_strategy)\\n- 要保人 (Person)\\n- 本公司 (Organization)\\n- 增值回饋分享金 (Financial_product)，描述為限以購買增額繳清保險金額辦理\\n\\n關係包括：\\n- 增值回饋分享金會帶來利益給要保人和保險金受益人\\n- 增值回饋分享金由本公司提供並計算宣告利率\\n- 要保人可以和本公司終止合同\\n- 本公司負責處理增值回饋分享金並將其返還給要保人\\n- 儲存生息適用於增值回饋分享金並帶來利益給要保人'},\n",
       " {'community': '1-5',\n",
       "  'summary': '在這個社區中，包含了三個概念節點：「書面」、「電子郵件」和「通知」。其中，「通知」與「電子郵件」和「書面」之間存在方法（METHOD）關係，這表示「通知」可以通過「電子郵件」或「書面」這兩種方式進行。'},\n",
       " {'community': '1-1',\n",
       "  'summary': '在這個社區中，主要概念與關係如下：\\n\\n1. 喪葬費用保險金與民國九十九年二月三日相關，並且與給付行為相關聯。\\n2. 未滿15足歲之未成年人有資格獲得喪葬費用保險金，但沒有資格獲得身故保險金。\\n3. 第十六條與身故保險金和喪葬費用保險金相關。\\n4. 身故保險金與給付行為相關，並且是基於當年度保險金額而計算的。\\n\\n這些資訊描述了在特定條件下，未成年人在不同保險金項目中的資格和給付情況。'},\n",
       " {'community': '1-6',\n",
       "  'summary': '本契約（Agreement）提供增值回饋分享金（Financial_product），並包含儲存生息（Financial_strategy）。增值回饋分享金的受益人包括要保人（Person）、保險金受益人（Person）和被保險人（Person）。增值回饋分享金的計算依據宣告利率（Concept），並且本公司（Organization）負責處理。要保人可以選擇增額繳清保險金額（Financial_product）或現金給付（Concept），並且可以與本公司終止合約。被保險人有保單年度（Concept），並且可以接受增額繳清保險金額和現金給付。儲存生息適用於增值回饋分享金，並且對要保人有利。增額繳清保險金額由本契約提供，並且被保險人會收到。'},\n",
       " {'community': '0-20',\n",
       "  'summary': '在同一社區中，有四個概念和它們之間的關係。首先，「第十六條」這個概念與「身故保險金」相關聯。「身故保險金」則與一個動作「給付」相關，同時「身故保險金」是基於「當年度保險金額」來進行的。這些概念和關係構成了這個社區的核心內容。'}]"
      ]
     },
     "execution_count": 59,
     "metadata": {},
     "output_type": "execute_result"
    }
   ],
   "source": [
    "summaries"
   ]
  },
  {
   "cell_type": "code",
   "execution_count": 60,
   "metadata": {},
   "outputs": [
    {
     "data": {
      "text/plain": [
       "[]"
      ]
     },
     "execution_count": 60,
     "metadata": {},
     "output_type": "execute_result"
    }
   ],
   "source": [
    "graph.query(\"\"\"\n",
    "UNWIND $data AS row\n",
    "MERGE (c:__Community__ {id:row.community})\n",
    "SET c.summary = row.summary\n",
    "\"\"\", params={\"data\": summaries})"
   ]
  }
 ],
 "metadata": {
  "kernelspec": {
   "display_name": "lagch",
   "language": "python",
   "name": "python3"
  },
  "language_info": {
   "codemirror_mode": {
    "name": "ipython",
    "version": 3
   },
   "file_extension": ".py",
   "mimetype": "text/x-python",
   "name": "python",
   "nbconvert_exporter": "python",
   "pygments_lexer": "ipython3",
   "version": "3.12.5"
  }
 },
 "nbformat": 4,
 "nbformat_minor": 2
}
