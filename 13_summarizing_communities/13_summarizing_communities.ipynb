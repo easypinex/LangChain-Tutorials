{
 "cells": [
  {
   "cell_type": "code",
   "execution_count": 1,
   "metadata": {},
   "outputs": [],
   "source": [
    "import os\n",
    "\n",
    "from langchain_community.graphs import Neo4jGraph\n",
    "\n",
    "os.environ[\"NEO4J_URI\"] = \"bolt://localhost:7687\"\n",
    "os.environ[\"NEO4J_USERNAME\"] = \"neo4j\"\n",
    "os.environ[\"NEO4J_PASSWORD\"] = \"2wsx3edc\"\n",
    "\n",
    "graph = Neo4jGraph()"
   ]
  },
  {
   "cell_type": "code",
   "execution_count": 2,
   "metadata": {},
   "outputs": [
    {
     "name": "stderr",
     "output_type": "stream",
     "text": [
      "/Users/andy/miniforge3/envs/lagch/lib/python3.12/site-packages/tqdm/auto.py:21: TqdmWarning: IProgress not found. Please update jupyter and ipywidgets. See https://ipywidgets.readthedocs.io/en/stable/user_install.html\n",
      "  from .autonotebook import tqdm as notebook_tqdm\n"
     ]
    }
   ],
   "source": [
    "from graphdatascience import GraphDataScience \n",
    "\n",
    "gds = GraphDataScience( \n",
    "    os.environ[ \"NEO4J_URI\" ], \n",
    "    auth=(os.environ[ \"NEO4J_USERNAME\" ], os.environ[ \"NEO4J_PASSWORD\" ]) \n",
    ")"
   ]
  },
  {
   "cell_type": "code",
   "execution_count": 3,
   "metadata": {},
   "outputs": [],
   "source": [
    "gds.graph.drop(\"communities\")\n",
    "G, result = gds.graph.project(\n",
    "    \"communities\",  #  Graph name\n",
    "    \"__Entity__\",  #  Node projection\n",
    "    {\n",
    "        \"_ALL_\": {\n",
    "            \"type\": \"*\",\n",
    "            \"orientation\": \"UNDIRECTED\",\n",
    "            \"properties\": {\"weight\": {\"property\": \"*\", \"aggregation\": \"COUNT\"}},\n",
    "        }\n",
    "    },\n",
    ")"
   ]
  },
  {
   "cell_type": "code",
   "execution_count": 4,
   "metadata": {},
   "outputs": [
    {
     "name": "stdout",
     "output_type": "stream",
     "text": [
      "Component count: 9\n",
      "Component distribution: {'min': 1, 'p5': 1, 'max': 11, 'p999': 11, 'p99': 11, 'p1': 1, 'p10': 1, 'p90': 11, 'p50': 1, 'p25': 1, 'p75': 3, 'p95': 11, 'mean': 3.111111111111111}\n"
     ]
    }
   ],
   "source": [
    "wcc = gds.wcc.stats(G)\n",
    "print(f\"Component count: {wcc['componentCount']}\")\n",
    "print(f\"Component distribution: {wcc['componentDistribution']}\")"
   ]
  },
  {
   "cell_type": "code",
   "execution_count": 5,
   "metadata": {},
   "outputs": [
    {
     "data": {
      "text/plain": [
       "writeMillis                                                             13\n",
       "nodePropertiesWritten                                                   28\n",
       "ranLevels                                                                2\n",
       "didConverge                                                           True\n",
       "nodeCount                                                               28\n",
       "communityCount                                                          10\n",
       "communityDistribution    {'min': 1, 'p5': 1, 'max': 7, 'p999': 7, 'p99'...\n",
       "modularity                                                        0.692744\n",
       "modularities                      [0.5850340136054422, 0.6927437641723355]\n",
       "postProcessingMillis                                                     9\n",
       "preProcessingMillis                                                      0\n",
       "computeMillis                                                           29\n",
       "configuration            {'writeProperty': 'communities', 'theta': 0.01...\n",
       "Name: 0, dtype: object"
      ]
     },
     "execution_count": 5,
     "metadata": {},
     "output_type": "execute_result"
    }
   ],
   "source": [
    "gds.leiden.write(\n",
    "    G,\n",
    "    writeProperty=\"communities\",\n",
    "    includeIntermediateCommunities=True,\n",
    "    relationshipWeightProperty=\"weight\",\n",
    ")"
   ]
  },
  {
   "cell_type": "code",
   "execution_count": 6,
   "metadata": {},
   "outputs": [
    {
     "data": {
      "text/plain": [
       "[{'count(*)': 56}]"
      ]
     },
     "execution_count": 6,
     "metadata": {},
     "output_type": "execute_result"
    }
   ],
   "source": [
    "graph.query(\"\"\"\n",
    "MATCH (e:`__Entity__`)\n",
    "UNWIND range(0, size(e.communities) - 1 , 1) AS index\n",
    "CALL {\n",
    "  WITH e, index\n",
    "  WITH e, index\n",
    "  WHERE index = 0\n",
    "  MERGE (c:`__Community__` {id: toString(index) + '-' + toString(e.communities[index])})\n",
    "  ON CREATE SET c.level = index\n",
    "  MERGE (e)-[:IN_COMMUNITY]->(c)\n",
    "  RETURN count(*) AS count_0\n",
    "}\n",
    "CALL {\n",
    "  WITH e, index\n",
    "  WITH e, index\n",
    "  WHERE index > 0\n",
    "  MERGE (current:`__Community__` {id: toString(index) + '-' + toString(e.communities[index])})\n",
    "  ON CREATE SET current.level = index\n",
    "  MERGE (previous:`__Community__` {id: toString(index - 1) + '-' + toString(e.communities[index - 1])})\n",
    "  ON CREATE SET previous.level = index - 1\n",
    "  MERGE (previous)-[:IN_COMMUNITY]->(current)\n",
    "  RETURN count(*) AS count_1\n",
    "}\n",
    "RETURN count(*)\n",
    "\"\"\")"
   ]
  },
  {
   "cell_type": "code",
   "execution_count": 7,
   "metadata": {},
   "outputs": [
    {
     "data": {
      "text/plain": [
       "[]"
      ]
     },
     "execution_count": 7,
     "metadata": {},
     "output_type": "execute_result"
    }
   ],
   "source": [
    "graph.query(\"\"\"\n",
    "MATCH (c:__Community__)<-[:IN_COMMUNITY*]-(:__Entity__)<-[:HAS_ENTITY]-(d:__Chunk__)\n",
    "WITH c, count(distinct d) AS rank\n",
    "SET c.rank = rank;\n",
    "\"\"\")"
   ]
  },
  {
   "cell_type": "code",
   "execution_count": 8,
   "metadata": {},
   "outputs": [
    {
     "data": {
      "text/html": [
       "<div>\n",
       "<style scoped>\n",
       "    .dataframe tbody tr th:only-of-type {\n",
       "        vertical-align: middle;\n",
       "    }\n",
       "\n",
       "    .dataframe tbody tr th {\n",
       "        vertical-align: top;\n",
       "    }\n",
       "\n",
       "    .dataframe thead th {\n",
       "        text-align: right;\n",
       "    }\n",
       "</style>\n",
       "<table border=\"1\" class=\"dataframe\">\n",
       "  <thead>\n",
       "    <tr style=\"text-align: right;\">\n",
       "      <th></th>\n",
       "      <th>Level</th>\n",
       "      <th>Number of communities</th>\n",
       "      <th>25th Percentile</th>\n",
       "      <th>50th Percentile</th>\n",
       "      <th>75th Percentile</th>\n",
       "      <th>90th Percentile</th>\n",
       "      <th>99th Percentile</th>\n",
       "      <th>Max</th>\n",
       "    </tr>\n",
       "  </thead>\n",
       "  <tbody>\n",
       "    <tr>\n",
       "      <th>0</th>\n",
       "      <td>0</td>\n",
       "      <td>14</td>\n",
       "      <td>1.0</td>\n",
       "      <td>2.0</td>\n",
       "      <td>2.75</td>\n",
       "      <td>3.0</td>\n",
       "      <td>3.87</td>\n",
       "      <td>4</td>\n",
       "    </tr>\n",
       "    <tr>\n",
       "      <th>1</th>\n",
       "      <td>1</td>\n",
       "      <td>10</td>\n",
       "      <td>1.0</td>\n",
       "      <td>1.5</td>\n",
       "      <td>4.50</td>\n",
       "      <td>6.1</td>\n",
       "      <td>6.91</td>\n",
       "      <td>7</td>\n",
       "    </tr>\n",
       "  </tbody>\n",
       "</table>\n",
       "</div>"
      ],
      "text/plain": [
       "  Level  Number of communities  25th Percentile  50th Percentile  \\\n",
       "0     0                     14              1.0              2.0   \n",
       "1     1                     10              1.0              1.5   \n",
       "\n",
       "   75th Percentile  90th Percentile  99th Percentile  Max  \n",
       "0             2.75              3.0             3.87    4  \n",
       "1             4.50              6.1             6.91    7  "
      ]
     },
     "execution_count": 8,
     "metadata": {},
     "output_type": "execute_result"
    }
   ],
   "source": [
    "import pandas as pd\n",
    "import numpy as np\n",
    "\n",
    "community_size = graph.query(\n",
    "    \"\"\"\n",
    "MATCH (c:__Community__)<-[:IN_COMMUNITY*]-(e:__Entity__)\n",
    "WITH c, count(distinct e) AS entities\n",
    "RETURN split(c.id, '-')[0] AS level, entities\n",
    "\"\"\"\n",
    ")\n",
    "community_size_df = pd.DataFrame.from_records(community_size)\n",
    "percentiles_data = []\n",
    "for level in community_size_df[\"level\"].unique():\n",
    "    subset = community_size_df[community_size_df[\"level\"] == level][\"entities\"]\n",
    "    num_communities = len(subset)\n",
    "    percentiles = np.percentile(subset, [25, 50, 75, 90, 99])\n",
    "    percentiles_data.append(\n",
    "        [\n",
    "            level,\n",
    "            num_communities,\n",
    "            percentiles[0],\n",
    "            percentiles[1],\n",
    "            percentiles[2],\n",
    "            percentiles[3],\n",
    "            percentiles[4],\n",
    "            max(subset)\n",
    "        ]\n",
    "    )\n",
    "\n",
    "# Create a DataFrame with the percentiles\n",
    "percentiles_df = pd.DataFrame(\n",
    "    percentiles_data,\n",
    "    columns=[\n",
    "        \"Level\",\n",
    "        \"Number of communities\",\n",
    "        \"25th Percentile\",\n",
    "        \"50th Percentile\",\n",
    "        \"75th Percentile\",\n",
    "        \"90th Percentile\",\n",
    "        \"99th Percentile\",\n",
    "        \"Max\"\n",
    "    ],\n",
    ")\n",
    "percentiles_df"
   ]
  },
  {
   "cell_type": "code",
   "execution_count": 9,
   "metadata": {},
   "outputs": [
    {
     "data": {
      "text/plain": [
       "[{'communityId': '0-1',\n",
       "  'nodes': [{'id': '美鑫美利美元利率變動型終身壽險',\n",
       "    'description': '保險商品內容說明',\n",
       "    'type': 'Insurance_product'},\n",
       "   {'id': '台灣人壽',\n",
       "    'description': '台灣人壽 美鑫美利美元利率變動型終身壽險',\n",
       "    'type': 'Organization'}],\n",
       "  'rels': [{'start': '台灣人壽',\n",
       "    'description': None,\n",
       "    'type': 'PROVIDES',\n",
       "    'end': '美鑫美利美元利率變動型終身壽險'}]},\n",
       " {'communityId': '0-18',\n",
       "  'nodes': [{'id': '保單年度', 'description': None, 'type': None},\n",
       "   {'id': '增值回饋分享金', 'description': '給付及通知', 'type': 'Concept'},\n",
       "   {'id': '保險費', 'description': None, 'type': 'Concept'},\n",
       "   {'id': '第六保單年度', 'description': '保單的第六個年度', 'type': 'Concept'}],\n",
       "  'rels': [{'start': '保單年度',\n",
       "    'description': None,\n",
       "    'type': '適用規定',\n",
       "    'end': '增值回饋分享金'},\n",
       "   {'start': '增值回饋分享金',\n",
       "    'description': None,\n",
       "    'type': '限制於購買增額繳清保險金額辦理',\n",
       "    'end': '第六保單年度'},\n",
       "   {'start': '增值回饋分享金', 'description': None, 'type': '抵繳保險費', 'end': '保險費'}]},\n",
       " {'communityId': '0-11',\n",
       "  'nodes': [{'id': '要保人', 'description': None, 'type': 'Person'},\n",
       "   {'id': '通知',\n",
       "    'description': '應將該增值回饋分享金之金額，以書面或電子郵件方式通知要保人。',\n",
       "    'type': 'Concept'},\n",
       "   {'id': '契約', 'description': None, 'type': None}],\n",
       "  'rels': [{'start': '要保人', 'description': None, 'type': '終止契約', 'end': '契約'},\n",
       "   {'start': '通知', 'description': None, 'type': 'NOTIFY', 'end': '要保人'}]},\n",
       " {'communityId': '0-12',\n",
       "  'nodes': [{'id': '身故保險金', 'description': None, 'type': None},\n",
       "   {'id': '給付', 'description': '身故保險金或喪葬費用保險金的給付。', 'type': 'Concept'}],\n",
       "  'rels': [{'start': '給付',\n",
       "    'description': None,\n",
       "    'type': 'PAY',\n",
       "    'end': '身故保險金'}]},\n",
       " {'communityId': '0-17',\n",
       "  'nodes': [{'id': '被保險人', 'description': None, 'type': 'Person'},\n",
       "   {'id': '保險年齡', 'description': '被保險人的年齡', 'type': 'Concept'},\n",
       "   {'id': '第十六條',\n",
       "    'description': '被保險人於本契約有效期間內身故者，本公司按身故日之當年度保險金額給付身故保險金。',\n",
       "    'type': 'Concept'}],\n",
       "  'rels': [{'start': '被保險人',\n",
       "    'description': None,\n",
       "    'type': '年齡到達',\n",
       "    'end': '保險年齡'},\n",
       "   {'start': '被保險人', 'description': None, 'type': '年齡前死亡', 'end': '保險年齡'},\n",
       "   {'start': '第十六條', 'description': None, 'type': 'APPLY', 'end': '被保險人'}]},\n",
       " {'communityId': '0-13',\n",
       "  'nodes': [{'id': '未滿15足歲之未成年人',\n",
       "    'description': '訂立本契約時，以未滿15足歲之未成年人為被保險人，除喪葬費用之給付外，其餘死亡給付之約定於被保險人滿15足歲之日起發生效力；被保險人滿15足歲前死亡者，其身故保險金變更為喪葬費用保險金。',\n",
       "    'type': 'Person'},\n",
       "   {'id': '喪葬費用保險金', 'description': None, 'type': None}],\n",
       "  'rels': [{'start': '未滿15足歲之未成年人',\n",
       "    'description': None,\n",
       "    'type': 'RECEIVE',\n",
       "    'end': '喪葬費用保險金'}]},\n",
       " {'communityId': '0-15',\n",
       "  'nodes': [{'id': '民國九十九年二月三日',\n",
       "    'description': '前項未滿15足歲之被保險人如有於民國九十九年二月三日前（不含）訂立之保險契約，其喪葬費用保險金之給付依下列方式辦理。',\n",
       "    'type': 'Date'},\n",
       "   {'id': '保險契約', 'description': None, 'type': None}],\n",
       "  'rels': [{'start': '民國九十九年二月三日',\n",
       "    'description': None,\n",
       "    'type': 'SIGN',\n",
       "    'end': '保險契約'}]},\n",
       " {'communityId': '0-21',\n",
       "  'nodes': [{'id': '本公司', 'description': None, 'type': 'Organization'},\n",
       "   {'id': '宣告利率', 'description': None, 'type': 'Concept'}],\n",
       "  'rels': [{'start': '本公司',\n",
       "    'description': None,\n",
       "    'type': '按利率儲存生息',\n",
       "    'end': '宣告利率'}]},\n",
       " {'communityId': '0-26',\n",
       "  'nodes': [{'id': '累計儲存生息之金額', 'description': None, 'type': 'Concept'},\n",
       "   {'id': '年複利', 'description': None, 'type': 'Concept'},\n",
       "   {'id': '增額繳清保險金額', 'description': None, 'type': None}],\n",
       "  'rels': [{'start': '累計儲存生息之金額',\n",
       "    'description': None,\n",
       "    'type': '計算增額',\n",
       "    'end': '增額繳清保險金額'},\n",
       "   {'start': '年複利',\n",
       "    'description': None,\n",
       "    'type': '生息至達成金額',\n",
       "    'end': '累計儲存生息之金額'}]},\n",
       " {'communityId': '1-11',\n",
       "  'nodes': [{'id': '美鑫美利美元利率變動型終身壽險',\n",
       "    'description': '保險商品內容說明',\n",
       "    'type': 'Insurance_product'},\n",
       "   {'id': '台灣人壽',\n",
       "    'description': '台灣人壽 美鑫美利美元利率變動型終身壽險',\n",
       "    'type': 'Organization'},\n",
       "   {'id': '保單年度', 'description': None, 'type': None},\n",
       "   {'id': '增值回饋分享金', 'description': '給付及通知', 'type': 'Concept'},\n",
       "   {'id': '保險費', 'description': None, 'type': 'Concept'},\n",
       "   {'id': '第六保單年度', 'description': '保單的第六個年度', 'type': 'Concept'}],\n",
       "  'rels': [{'start': '美鑫美利美元利率變動型終身壽險',\n",
       "    'description': None,\n",
       "    'type': 'INCLUDES',\n",
       "    'end': '增值回饋分享金'},\n",
       "   {'start': '增值回饋分享金',\n",
       "    'description': None,\n",
       "    'type': '限制於購買增額繳清保險金額辦理',\n",
       "    'end': '第六保單年度'},\n",
       "   {'start': '增值回饋分享金', 'description': None, 'type': '抵繳保險費', 'end': '保險費'},\n",
       "   {'start': '台灣人壽',\n",
       "    'description': None,\n",
       "    'type': 'PROVIDES',\n",
       "    'end': '美鑫美利美元利率變動型終身壽險'},\n",
       "   {'start': '保單年度', 'description': None, 'type': '適用規定', 'end': '增值回饋分享金'}]},\n",
       " {'communityId': '1-5',\n",
       "  'nodes': [{'id': '要保人', 'description': None, 'type': 'Person'},\n",
       "   {'id': '通知',\n",
       "    'description': '應將該增值回饋分享金之金額，以書面或電子郵件方式通知要保人。',\n",
       "    'type': 'Concept'},\n",
       "   {'id': '契約', 'description': None, 'type': None}],\n",
       "  'rels': [{'start': '要保人', 'description': None, 'type': '終止契約', 'end': '契約'},\n",
       "   {'start': '通知', 'description': None, 'type': 'NOTIFY', 'end': '要保人'}]},\n",
       " {'communityId': '1-13',\n",
       "  'nodes': [{'id': '被保險人', 'description': None, 'type': 'Person'},\n",
       "   {'id': '保險年齡', 'description': '被保險人的年齡', 'type': 'Concept'},\n",
       "   {'id': '第十六條',\n",
       "    'description': '被保險人於本契約有效期間內身故者，本公司按身故日之當年度保險金額給付身故保險金。',\n",
       "    'type': 'Concept'},\n",
       "   {'id': '身故保險金', 'description': None, 'type': None},\n",
       "   {'id': '給付', 'description': '身故保險金或喪葬費用保險金的給付。', 'type': 'Concept'},\n",
       "   {'id': '未滿15足歲之未成年人',\n",
       "    'description': '訂立本契約時，以未滿15足歲之未成年人為被保險人，除喪葬費用之給付外，其餘死亡給付之約定於被保險人滿15足歲之日起發生效力；被保險人滿15足歲前死亡者，其身故保險金變更為喪葬費用保險金。',\n",
       "    'type': 'Person'},\n",
       "   {'id': '喪葬費用保險金', 'description': None, 'type': None}],\n",
       "  'rels': [{'start': '被保險人',\n",
       "    'description': None,\n",
       "    'type': '年齡到達',\n",
       "    'end': '保險年齡'},\n",
       "   {'start': '被保險人', 'description': None, 'type': '年齡前死亡', 'end': '保險年齡'},\n",
       "   {'start': '第十六條', 'description': None, 'type': 'APPLY', 'end': '被保險人'},\n",
       "   {'start': '未滿15足歲之未成年人',\n",
       "    'description': None,\n",
       "    'type': 'RECEIVE',\n",
       "    'end': '喪葬費用保險金'},\n",
       "   {'start': '未滿15足歲之未成年人', 'description': None, 'type': 'IS', 'end': '被保險人'},\n",
       "   {'start': '給付', 'description': None, 'type': 'PAY', 'end': '喪葬費用保險金'},\n",
       "   {'start': '給付', 'description': None, 'type': 'PAY', 'end': '身故保險金'}]},\n",
       " {'communityId': '1-3',\n",
       "  'nodes': [{'id': '民國九十九年二月三日',\n",
       "    'description': '前項未滿15足歲之被保險人如有於民國九十九年二月三日前（不含）訂立之保險契約，其喪葬費用保險金之給付依下列方式辦理。',\n",
       "    'type': 'Date'},\n",
       "   {'id': '保險契約', 'description': None, 'type': None}],\n",
       "  'rels': [{'start': '民國九十九年二月三日',\n",
       "    'description': None,\n",
       "    'type': 'SIGN',\n",
       "    'end': '保險契約'}]},\n",
       " {'communityId': '1-6',\n",
       "  'nodes': [{'id': '累計儲存生息之金額', 'description': None, 'type': 'Concept'},\n",
       "   {'id': '年複利', 'description': None, 'type': 'Concept'},\n",
       "   {'id': '增額繳清保險金額', 'description': None, 'type': None},\n",
       "   {'id': '本公司', 'description': None, 'type': 'Organization'},\n",
       "   {'id': '宣告利率', 'description': None, 'type': 'Concept'}],\n",
       "  'rels': [{'start': '累計儲存生息之金額',\n",
       "    'description': None,\n",
       "    'type': '計算增額',\n",
       "    'end': '增額繳清保險金額'},\n",
       "   {'start': '本公司', 'description': None, 'type': '退還金額', 'end': '累計儲存生息之金額'},\n",
       "   {'start': '本公司', 'description': None, 'type': '按利率儲存生息', 'end': '宣告利率'},\n",
       "   {'start': '年複利',\n",
       "    'description': None,\n",
       "    'type': '生息至達成金額',\n",
       "    'end': '累計儲存生息之金額'},\n",
       "   {'start': '宣告利率', 'description': None, 'type': '方式儲存生息', 'end': '年複利'}]}]"
      ]
     },
     "execution_count": 9,
     "metadata": {},
     "output_type": "execute_result"
    }
   ],
   "source": [
    "community_info = graph.query(\"\"\"\n",
    "MATCH (c:`__Community__`)<-[:IN_COMMUNITY*]-(e:__Entity__)\n",
    "WHERE c.level IN [0,1,4]\n",
    "WITH c, collect(e ) AS nodes\n",
    "WHERE size(nodes) > 1\n",
    "CALL apoc.path.subgraphAll(nodes[0], {\n",
    " whitelistNodes:nodes\n",
    "})\n",
    "YIELD relationships\n",
    "RETURN c.id AS communityId, \n",
    "       [n in nodes | {id: n.id, description: n.description, type: [el in labels(n) WHERE el <> '__Entity__'][0]}] AS nodes,\n",
    "       [r in relationships | {start: startNode(r).id, type: type(r), end: endNode(r).id, description: r.description}] AS rels\n",
    "\"\"\")\n",
    "community_info"
   ]
  },
  {
   "cell_type": "code",
   "execution_count": 10,
   "metadata": {},
   "outputs": [],
   "source": [
    "import os\n",
    "\n",
    "from langchain_experimental.graph_transformers import LLMGraphTransformer\n",
    "# from langchain_openai import ChatOpenAI\n",
    "from langchain_openai import AzureChatOpenAI\n",
    "\n",
    "llm = AzureChatOpenAI(\n",
    "    azure_endpoint=os.environ[\"AZURE_OPENAI_ENDPOINT\"],\n",
    "    azure_deployment=os.environ[\"AZURE_OPENAI_DEPLOYMENT_NAME\"],\n",
    "    openai_api_version=os.environ[\"AZURE_OPENAI_API_VERSION\"],\n",
    ")"
   ]
  },
  {
   "cell_type": "code",
   "execution_count": 11,
   "metadata": {},
   "outputs": [],
   "source": [
    "from langchain_core.prompts import ChatPromptTemplate\n",
    "from langchain_core.output_parsers import StrOutputParser\n",
    "\n",
    "community_template = \"\"\"請根據提供同社區的資訊包含 nodes 與 relationships,\n",
    "產生自然語言的摘要 同社區的資訊:\n",
    "{community_info}\n",
    "\n",
    "Summary:\"\"\"  # noqa: E501\n",
    "\n",
    "community_prompt = ChatPromptTemplate.from_messages(\n",
    "    [\n",
    "        (\n",
    "            \"system\",\n",
    "            \"Given an input triples, generate the information summary. No pre-amble.\",\n",
    "        ),\n",
    "        (\"human\", community_template),\n",
    "    ]\n",
    ")\n",
    "\n",
    "community_chain = community_prompt | llm | StrOutputParser()"
   ]
  },
  {
   "cell_type": "code",
   "execution_count": 12,
   "metadata": {},
   "outputs": [
    {
     "data": {
      "text/plain": [
       "{'community': '0-1',\n",
       " 'summary': '台灣人壽是一家提供保險商品的組織，其產品之一是美鑫美利美元利率變動型終身壽險。這款保險產品的內容說明詳述了該商品的特點和優勢。'}"
      ]
     },
     "execution_count": 12,
     "metadata": {},
     "output_type": "execute_result"
    }
   ],
   "source": [
    "def prepare_string(data):\n",
    "    nodes_str = \"Nodes are:\\n\"\n",
    "    for node in data['nodes']:\n",
    "        node_id = node['id']\n",
    "        node_type = node['type']\n",
    "        if 'description' in node and node['description']:\n",
    "            node_description = f\", description: {node['description']}\"\n",
    "        else:\n",
    "            node_description = \"\"\n",
    "        nodes_str += f\"id: {node_id}, type: {node_type}{node_description}\\n\"\n",
    "\n",
    "    rels_str = \"Relationships are:\\n\"\n",
    "    for rel in data['rels']:\n",
    "        start = rel['start']\n",
    "        end = rel['end']\n",
    "        rel_type = rel['type']\n",
    "        if 'description' in rel and rel['description']:\n",
    "            description = f\", description: {rel['description']}\"\n",
    "        else:\n",
    "            description = \"\"\n",
    "        rels_str += f\"({start})-[:{rel_type}]->({end}){description}\\n\"\n",
    "\n",
    "    return nodes_str + \"\\n\" + rels_str\n",
    "\n",
    "def process_community(community):\n",
    "    stringify_info = prepare_string(community)\n",
    "    summary = community_chain.invoke({'community_info': stringify_info})\n",
    "    return {\"community\": community['communityId'], \"summary\": summary}\n",
    "\n",
    "process_community(community_info[0])"
   ]
  },
  {
   "cell_type": "code",
   "execution_count": 13,
   "metadata": {},
   "outputs": [
    {
     "name": "stderr",
     "output_type": "stream",
     "text": [
      "Processing communities: 100%|██████████| 14/14 [00:07<00:00,  1.87it/s]\n"
     ]
    }
   ],
   "source": [
    "from concurrent.futures import ThreadPoolExecutor, as_completed\n",
    "from tqdm import tqdm\n",
    "\n",
    "summaries = []\n",
    "with ThreadPoolExecutor() as executor:\n",
    "    futures = {executor.submit(process_community, community): community for community in community_info}\n",
    "\n",
    "    for future in tqdm(as_completed(futures), total=len(futures), desc=\"Processing communities\"):\n",
    "        summaries.append(future.result())"
   ]
  },
  {
   "cell_type": "code",
   "execution_count": 14,
   "metadata": {},
   "outputs": [
    {
     "data": {
      "text/plain": [
       "[{'community': '0-1',\n",
       "  'summary': '台灣人壽提供一款名為「美鑫美利美元利率變動型終身壽險」的保險商品。這款保險商品的詳細內容可以通過其說明文件了解。'},\n",
       " {'community': '0-21',\n",
       "  'summary': '本公司是一個組織，與宣告利率這一概念存在關聯。本公司透過按利率儲存生息的方式與宣告利率互動。'},\n",
       " {'community': '1-5',\n",
       "  'summary': '在這個社區中，有三個主要元素。首先是一位要保人，其次是一個名為通知的概念，其描述為應將增值回饋分享金的金額以書面或電子郵件方式通知要保人。最後是一份契約。要保人與契約之間存在一個關係，即要保人可以終止契約。此外，通知與要保人之間也存在一個關係，即通知會以某種方式通知要保人。'},\n",
       " {'community': '0-12',\n",
       "  'summary': '「給付」這個概念描述了身故保險金或喪葬費用保險金的給付。該概念與「身故保險金」之間存在一種支付的關係，即「給付」會支付「身故保險金」。'},\n",
       " {'community': '1-3',\n",
       "  'summary': '在民國九十九年二月三日，若未滿15歲的被保險人在此日期之前（不含）訂立了保險契約，其喪葬費用保險金的給付將依照特定方式辦理。'},\n",
       " {'community': '1-11',\n",
       "  'summary': '台灣人壽提供了一款名為美鑫美利美元利率變動型終身壽險的保險商品。該保險商品包含增值回饋分享金，這些分享金可以用於抵繳保險費。增值回饋分享金的適用規定與保單年度相關，並且在第六保單年度限制於購買增額繳清保險金額辦理。'},\n",
       " {'community': '0-26',\n",
       "  'summary': '該社區的資訊包含以下概念和關係：\\n1. 概念「累計儲存生息之金額」和「年複利」，以及一個無類型的節點「增額繳清保險金額」。\\n2. 「累計儲存生息之金額」通過計算增額來影響「增額繳清保險金額」。\\n3. 「年複利」會通過生息來達成「累計儲存生息之金額」。\\n\\n總結來說，「年複利」的生息作用會導致「累計儲存生息之金額」的增加，而「累計儲存生息之金額」又會影響「增額繳清保險金額」。'},\n",
       " {'community': '0-15',\n",
       "  'summary': '在這個社區中，描述了一個與保險相關的情境。具體來說，若被保險人在民國九十九年二月三日（不含）之前訂立了保險契約，則其喪葬費用保險金的給付將依特定方式辦理。這一日期被標記為一個重要的時間點，並且與保險契約存在簽訂關係。'},\n",
       " {'community': '0-11',\n",
       "  'summary': '在這個社區中，有三個主要節點: 一個是類型為人的「要保人」，另一個是描述為「應將該增值回饋分享金之金額，以書面或電子郵件方式通知要保人。」的概念節點「通知」，最後是類型為「None」的節點「契約」。這些節點之間的關係如下: 「要保人」與「契約」之間存在終止契約的關係，而「通知」則負責通知「要保人」。'},\n",
       " {'community': '0-13',\n",
       "  'summary': '在這個社區中，有一個重要的規定是針對未滿15足歲之未成年人訂立的保險契約。根據這個規定，未滿15足歲的未成年人在契約生效時，除了喪葬費用之外，其餘的死亡給付只有在被保險人滿15足歲之後才會生效。如果被保險人在未滿15足歲前死亡，其原本的身故保險金將會被變更為喪葬費用保險金。'},\n",
       " {'community': '1-6',\n",
       "  'summary': '在這個社區中，主要涉及了累計儲存生息之金額、年複利、增額繳清保險金額、本公司以及宣告利率這些概念和組織。累計儲存生息之金額是由本公司退還的，同時它還受到年複利和宣告利率的影響。宣告利率是由本公司根據一定的利率進行儲存生息的方式來計算的，而年複利也通過生息的方式來達成累計儲存生息之金額。最終，累計儲存生息之金額被用來計算增額繳清保險金額。'},\n",
       " {'community': '0-17',\n",
       "  'summary': '在這個社區中，\"被保險人\" 是一個人 (Person) 節點，\"保險年齡\" 是描述被保險人年齡的概念 (Concept) 節點，而 \"第十六條\" 是描述被保險人在保險契約有效期間內身故時的保險金給付規定的概念 (Concept) 節點。\\n\\n關係方面，\"被保險人\" 可以有兩種與 \"保險年齡\" 的關係：一種是 \"年齡到達\"，另一種是 \"年齡前死亡\"。此外，\"第十六條\" 這條款適用於 \"被保險人\"。'},\n",
       " {'community': '0-18',\n",
       "  'summary': '在這個社區中，包含有四個重要的概念或節點：\\n\\n1. **保單年度**：這是一個沒有特定描述的節點。\\n2. **增值回饋分享金**：這是一個與給付及通知相關的概念。\\n3. **保險費**：這是一個與保險費用相關的概念。\\n4. **第六保單年度**：這是一個描述保單的第六個年度的概念。\\n\\n這些節點之間有以下幾個關係：\\n\\n- **保單年度**適用於**增值回饋分享金**。\\n- **增值回饋分享金**限制於購買增額繳清的保險金額辦理於**第六保單年度**。\\n- **增值回饋分享金**可以用來抵繳**保險費**。\\n\\n這些關係顯示出，增值回饋分享金不僅適用於特定的保單年度，還可在第六保單年度用於特定的保險金額，同時也可以用來抵繳保險費。'},\n",
       " {'community': '1-13',\n",
       "  'summary': '在這個保險社區中，主要涉及到被保險人及其相關的保險條款與給付。\\n\\n被保險人是一個關鍵角色，他們的年齡（保險年齡）對保險合同的條款有著重要影響。根據第十六條規定，如果被保險人在合同有效期間內身故，保險公司將按身故當年的保險金額支付身故保險金。\\n\\n未滿15足歲之未成年人在保險合同中有特別的規定。具體來說，如果在訂立合同時被保險人是未滿15足歲的未成年人，除了喪葬費用之外的死亡給付約定，只有在被保險人滿15足歲之後才會生效。如果被保險人在滿15足歲之前死亡，其身故保險金將被變更為喪葬費用保險金。\\n\\n給付方面，給付指的是支付身故保險金或喪葬費用保險金的行為。未滿15足歲之未成年人在身故時會收到喪葬費用保險金。\\n\\n總結來說，本社區的保險制度對被保險人的年齡有明確的規定，特別是針對未成年被保險人的保險金給付方式有特別的安排。'}]"
      ]
     },
     "execution_count": 14,
     "metadata": {},
     "output_type": "execute_result"
    }
   ],
   "source": [
    "summaries"
   ]
  },
  {
   "cell_type": "code",
   "execution_count": 15,
   "metadata": {},
   "outputs": [
    {
     "data": {
      "text/plain": [
       "[]"
      ]
     },
     "execution_count": 15,
     "metadata": {},
     "output_type": "execute_result"
    }
   ],
   "source": [
    "graph.query(\"\"\"\n",
    "UNWIND $data AS row\n",
    "MERGE (c:__Community__ {id:row.community})\n",
    "SET c.summary = row.summary\n",
    "\"\"\", params={\"data\": summaries})"
   ]
  }
 ],
 "metadata": {
  "kernelspec": {
   "display_name": "lagch",
   "language": "python",
   "name": "python3"
  },
  "language_info": {
   "codemirror_mode": {
    "name": "ipython",
    "version": 3
   },
   "file_extension": ".py",
   "mimetype": "text/x-python",
   "name": "python",
   "nbconvert_exporter": "python",
   "pygments_lexer": "ipython3",
   "version": "3.12.5"
  }
 },
 "nbformat": 4,
 "nbformat_minor": 2
}
