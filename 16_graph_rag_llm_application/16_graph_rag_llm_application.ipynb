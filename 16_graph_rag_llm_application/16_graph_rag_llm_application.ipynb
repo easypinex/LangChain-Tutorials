{
 "cells": [
  {
   "cell_type": "code",
   "execution_count": 12,
   "metadata": {},
   "outputs": [],
   "source": [
    "import os\n",
    "\n",
    "from langchain_community.graphs import Neo4jGraph\n",
    "\n",
    "os.environ[\"NEO4J_URI\"] = \"bolt://localhost:7687\"\n",
    "os.environ[\"NEO4J_USERNAME\"] = \"neo4j\"\n",
    "os.environ[\"NEO4J_PASSWORD\"] = \"2wsx3edc\"\n",
    "database = os.environ.get('NEO4J_DATABASE')\n",
    "graph = Neo4jGraph(database=database)"
   ]
  },
  {
   "cell_type": "code",
   "execution_count": 13,
   "metadata": {},
   "outputs": [],
   "source": [
    "from langchain_openai import AzureOpenAIEmbeddings\n",
    "\n",
    "embedding = AzureOpenAIEmbeddings(\n",
    "    model=\"text-embedding-ada-002\",\n",
    "    azure_endpoint='https://sales-chatbot-llm.openai.azure.com/openai/deployments/embedding-ada-002/embeddings?api-version=2023-05-15',\n",
    "    azure_deployment='text-embedding-ada-002',\n",
    "    openai_api_version='2023-05-15'\n",
    ")"
   ]
  },
  {
   "cell_type": "code",
   "execution_count": null,
   "metadata": {},
   "outputs": [],
   "source": [
    "from langchain_community.vectorstores import Neo4jVector\n",
    "# ! pip3 install -U langchain-huggingface\n",
    "import os\n",
    "os.environ['SENTENCE_TRANSFORMERS_HOME'] = '/storage/models/embedding_models'\n",
    "from langchain_huggingface import HuggingFaceEmbeddings\n",
    "# Choose from https://huggingface.co/spaces/mteb/leaderboard\n",
    "\n",
    "# embedding = HuggingFaceEmbeddings(model_name=\"lier007/xiaobu-embedding-v2\")\n",
    "\n",
    "model_path = os.path.join(os.environ['SENTENCE_TRANSFORMERS_HOME'], 'models--lier007--xiaobu-embedding-v2/snapshots/ee0b4ecdf5eb449e8240f2e3de2e10eeae877691')\n",
    "embedding = HuggingFaceEmbeddings(model_name=model_path)"
   ]
  },
  {
   "cell_type": "code",
   "execution_count": 14,
   "metadata": {},
   "outputs": [
    {
     "data": {
      "text/plain": [
       "VectorStoreRetriever(tags=['GraphRAG'], vectorstore=<langchain_community.vectorstores.neo4j_vector.Neo4jVector object at 0x13f2eefc0>, search_type='similarity_score_threshold', search_kwargs={'score_threshold': 0.9, 'k': 10, 'params': {'topChunks': 3, 'topCommunities': 3, 'topOutsideRels': 10, 'topInsideRels': 10}})"
      ]
     },
     "execution_count": 14,
     "metadata": {},
     "output_type": "execute_result"
    }
   ],
   "source": [
    "from langchain_community.vectorstores import Neo4jVector\n",
    "\n",
    "lc_retrieval_query = \"\"\"\n",
    "WITH collect(node) as nodes\n",
    "// Entity - Text Unit Mapping\n",
    "WITH\n",
    "collect {\n",
    "    UNWIND nodes as n\n",
    "    MATCH (n)<-[:HAS_ENTITY]->(c:__Chunk__)\n",
    "    WITH c, count(distinct n) as freq\n",
    "    RETURN c.content AS chunkText\n",
    "    ORDER BY freq DESC\n",
    "    LIMIT $topChunks\n",
    "} AS text_mapping,\n",
    "// Entity - Report Mapping\n",
    "collect {\n",
    "    UNWIND nodes as n\n",
    "    MATCH (n)-[:IN_COMMUNITY]->(c:__Community__)\n",
    "    WHERE c.summary is not null\n",
    "    WITH c, c.rank as rank, c.weight AS weight\n",
    "    RETURN c.summary \n",
    "    ORDER BY rank, weight DESC\n",
    "    LIMIT $topCommunities\n",
    "} AS report_mapping,\n",
    "// Outside Relationships \n",
    "collect {\n",
    "    UNWIND nodes as n\n",
    "    MATCH (n)-[r]-(m) \n",
    "    WHERE NOT m IN nodes and r.description is not null\n",
    "    RETURN r.description AS descriptionText\n",
    "    ORDER BY r.rank, r.weight DESC \n",
    "    LIMIT $topOutsideRels\n",
    "} as outsideRels,\n",
    "// Inside Relationships \n",
    "collect {\n",
    "    UNWIND nodes as n\n",
    "    MATCH (n)-[r]-(m) \n",
    "    WHERE m IN nodes and r.description is not null\n",
    "    RETURN r.description AS descriptionText\n",
    "    ORDER BY r.rank, r.weight DESC \n",
    "    LIMIT $topInsideRels\n",
    "} as insideRels,\n",
    "// Entities description\n",
    "collect {\n",
    "    UNWIND nodes as n\n",
    "    match (n)\n",
    "    WHERE n.description is not null\n",
    "    RETURN n.description AS descriptionText\n",
    "} as entities\n",
    "// We don't have covariates or claims here\n",
    "RETURN {Chunks: text_mapping, Reports: report_mapping, \n",
    "       Relationships: outsideRels + insideRels, \n",
    "       Entities: entities} AS text, 1.0 AS score, {} AS metadata\n",
    "\"\"\"\n",
    "\n",
    "vectorstore = Neo4jVector.from_existing_graph(embedding=embedding, \n",
    "                                    index_name=\"embedding\",\n",
    "                                    node_label='__Entity__', \n",
    "                                    embedding_node_property='   embedding', \n",
    "                                    text_node_properties=['id', 'description'],\n",
    "                                    retrieval_query=lc_retrieval_query)\n",
    "topChunks = 3\n",
    "topCommunities = 3\n",
    "topOutsideRels = 10\n",
    "topInsideRels = 10\n",
    "topEntities = 10\n",
    "os.environ[\"NEO4J_URI\"] = \"bolt://localhost:7687\"\n",
    "os.environ[\"NEO4J_USERNAME\"] = \"neo4j\"\n",
    "os.environ[\"NEO4J_PASSWORD\"] = \"2wsx3edc\"\n",
    "\n",
    "local_search_retriever = vectorstore.as_retriever(\n",
    "    search_type=\"similarity_score_threshold\",\n",
    "    search_kwargs={'score_threshold': 0.9,\n",
    "                   'k': topEntities,\n",
    "                   'params': {\n",
    "                        \"topChunks\": topChunks,\n",
    "                        \"topCommunities\": topCommunities,\n",
    "                        \"topOutsideRels\": topOutsideRels,\n",
    "                        \"topInsideRels\": topInsideRels,\n",
    "                    }},\n",
    "    tags=['GraphRAG']\n",
    ")\n",
    "local_search_retriever"
   ]
  },
  {
   "cell_type": "code",
   "execution_count": 4,
   "metadata": {},
   "outputs": [
    {
     "name": "stdout",
     "output_type": "stream",
     "text": [
      "Entities:\n",
      "- 需填寫，繳款人為非保單關係人時須檢附關係證明文件。\n",
      "- 申請金融機構轉帳繳交\n",
      "- 不得為空白授權，應依是否取得保單號碼填寫相關欄位，未填寫完整須重新檢附授權書。相關規定請參照自動轉帳及信用卡付款授權書作業規範（加強身分驗證機制）。\n",
      "- 首期保險費採金融機構轉帳作業應注意事項\n",
      "- 經核印成功且同意承保始得進行\n",
      "- 保戶約定於本公司簽約之金融機構所開立之活期帳戶扣款\n",
      "- 請至各銀行臨櫃留存印鑑、核印成功便能授權扣款，土地銀行、合作金庫、第一銀行無法授權扣款, 由保戶約定於本公司簽約之金融機構所開立\n",
      "- 依「新契約首期保險費繳費管道異動之繳費日認定原則」辦理\n",
      "- 於核保中主動異動繳費管道者，其生效日認定依「新契約首期保險費繳費管道異動之繳費日認定原則」辦理\n",
      "Reports:\n",
      "Chunks:\n",
      "- ，經核印成功 (且 同意承保 )始得進行首期保險費 轉帳扣款作業 。核印、扣款時間 請參照各金融機構核印、 扣款時間及相關規定 。  5. 數位帳戶 請至各銀行臨櫃留存印鑑、核印成功便能授權扣款 (土地銀行、合作金庫、第一 銀行此三家銀行無法授權扣款 )。  6. 生效日認定：   (1) 保單生效日 認定依「生效日期之認定原則 」辦理。  (2) 因核印失敗、請款失敗或 新契約於核保中主動異動繳 費管道者，其生效日認定 依「新 契約首期保險費繳費管道異動之 繳費日認定原則 」辦理。   7. 保費折扣： 以金融機構轉帳 繳交保險費\n",
      "- 回目錄   6  版次： 113年07月版                                                                                            修訂日期： 113.0 7.01 參、  首期保險費繳交方式及相關規定   一、  首期保險費 -採金融機構 轉帳作業  (一) 首期保險費採 金融機構轉帳作業 應注意事項   1. 首期保險費由保戶 約定於本公司 簽約之金融機構所開立之活期帳戶扣款\n",
      "- 。  2. 申請金融機構轉帳繳交 首期保險費\n",
      "Relationships:\n",
      "- 要保人須於授權書要保人欄位簽章並與要保書簽章相同。\n",
      "- 授權人須留存金融機構之印鑑或簽章樣式。\n",
      "\n"
     ]
    }
   ],
   "source": [
    "# print(local_search_retriever.invoke('保險費暨保險單借款利息自動轉帳付款授權')[0].page_content)"
   ]
  },
  {
   "cell_type": "code",
   "execution_count": 15,
   "metadata": {},
   "outputs": [],
   "source": [
    "vectorstore = Neo4jVector.from_existing_graph(embedding=embedding, \n",
    "                                    index_name=\"chunk_index\",\n",
    "                                    node_label='__Chunk__', \n",
    "                                    embedding_node_property='embedding', \n",
    "                                    text_node_properties=['content'])\n",
    "vector_retriever = vectorstore.as_retriever(\n",
    "    search_type=\"similarity_score_threshold\",\n",
    "    search_kwargs={'score_threshold': 0.9},\n",
    "    tags=['RAG']\n",
    ")"
   ]
  },
  {
   "cell_type": "code",
   "execution_count": 16,
   "metadata": {},
   "outputs": [
    {
     "data": {
      "text/plain": [
       "AzureChatOpenAI(client=<openai.resources.chat.completions.Completions object at 0x15fd935c0>, async_client=<openai.resources.chat.completions.AsyncCompletions object at 0x15fd841d0>, openai_api_key=SecretStr('**********'), openai_proxy='', azure_endpoint='https://sales-chatbot-llm.openai.azure.com/', deployment_name='GPT4o', openai_api_version='2023-03-15-preview', openai_api_type='azure')"
      ]
     },
     "execution_count": 16,
     "metadata": {},
     "output_type": "execute_result"
    }
   ],
   "source": [
    "import os\n",
    "# from langchain_openai import ChatOpenAI\n",
    "from langchain_openai import AzureChatOpenAI\n",
    "\n",
    "llm = AzureChatOpenAI(\n",
    "    azure_endpoint=os.environ[\"AZURE_OPENAI_ENDPOINT\"],\n",
    "    azure_deployment=os.environ[\"AZURE_OPENAI_DEPLOYMENT_NAME\"],\n",
    "    openai_api_version=os.environ[\"AZURE_OPENAI_API_VERSION\"],\n",
    ")\n",
    "llm"
   ]
  },
  {
   "cell_type": "code",
   "execution_count": 68,
   "metadata": {},
   "outputs": [],
   "source": [
    "from langchain_ollama import ChatOllama\n",
    "llm = ChatOllama(\n",
    "    # model=\"llama3.1:70b-instruct-q8_0\",\n",
    "    model='qwen2:72b-instruct-q8_0',\n",
    ")\n",
    "llm"
   ]
  },
  {
   "cell_type": "code",
   "execution_count": 17,
   "metadata": {},
   "outputs": [],
   "source": [
    "from langchain_core.runnables import RunnablePassthrough\n",
    "from langchain_core.prompts import ChatPromptTemplate\n",
    "from langchain_core.output_parsers import StrOutputParser\n",
    "\n",
    "prompt = ChatPromptTemplate.from_template(\n",
    "\"\"\"\n",
    "你是一個有用的助手, 你的任務是整理提供的資訊, 使用長度與格式符合「multiple paragraphs」來回應使用者的問題\",\n",
    "提供的資訊包含 檢索內容、圖譜資料庫相關節點與關係資訊 \n",
    "你必須使用繁體中文回應問題, 盡可能在500字內回應,\n",
    "如果提供的資訊沒有答案或是皆無關聯, 請直接說「找不到相關資訊」並結束, 不要捏造任何資訊\",\n",
    "最終的回應將清理後的訊息合併成一個全面的答案，針對回應的長度和格式對所有關鍵點和含義進行解釋\n",
    "根據回應的長度和格式適當添加段落和評論。以Markdown格式撰寫回應。\n",
    "回應應保留原有的意思和使用的情態動詞，例如「應該」、「可以」或「將」。\n",
    "請確保使用繁體中文回答問題\n",
    "\n",
    "以下為檢索內容:\n",
    "\"{context}\"\n",
    "\n",
    "以下為圖譜資料庫相關節點(Entities)、關係(Relationships)、社群(Reports)、Chunks(內文節錄)資訊:\n",
    "\"{graph_result}\"\n",
    "\n",
    "問題: {question}\n",
    "\"\"\"\n",
    ")\n",
    "\n",
    "rag_chain = (\n",
    "    {\"context\": vector_retriever, \"question\": RunnablePassthrough(), \"graph_result\": local_search_retriever}\n",
    "    | prompt\n",
    "    | llm\n",
    "    | StrOutputParser()\n",
    ")"
   ]
  },
  {
   "cell_type": "code",
   "execution_count": 18,
   "metadata": {},
   "outputs": [
    {
     "name": "stdout",
     "output_type": "stream",
     "text": [
      "23\n"
     ]
    }
   ],
   "source": [
    "import sys\n",
    "sys.path.append('..')\n",
    "from tools.TokenCounter import num_tokens_from_string\n",
    "\n",
    "q = '你對個人保險首續期繳費了解多少?'\n",
    "print(num_tokens_from_string(q))"
   ]
  },
  {
   "cell_type": "code",
   "execution_count": 20,
   "metadata": {},
   "outputs": [
    {
     "name": "stdout",
     "output_type": "stream",
     "text": [
      "根據提供的檢索內容，以下是關於個人保險首續期繳費的詳細資訊：\n",
      "\n",
      "### 首期保險費\n",
      "首期保險費的繳費方式可以使用信用卡扣款。在這種情況下，有幾個重點需要注意：\n",
      "\n",
      "1. **適用信用卡種類**：持有VISA、MASTER、JCB、AE卡的保戶均可申請使用信用卡繳交保險費。\n",
      "2. **申請流程**：保戶在申請以信用卡繳交首期保險費時，需提交「保險費信用卡付款授權書」。如果繳款人並非保單關係人，還需提供關係證明文件。\n",
      "3. **簽章要求**：要保人需要在授權書的要保人欄位簽章，且簽章需與要保書上的簽章相同。授權人應保留信用卡上的簽名樣式。\n",
      "\n",
      "### 電話行銷業務的控管機制\n",
      "對於電話行銷業務，若透過信用卡扣繳保險費，需符合以下控管機制：\n",
      "\n",
      "1. **要保人與授權人同一人時**：\n",
      "   - 電銷人員需在招攬過程中通過電話錄音保存信用卡卡號、授權人姓名、身分證統一編號及信用卡有效期限等資訊。\n",
      "   - 再行確認機制：指派非銷售人員以電話回訪方式確認授權人資訊的正確性，或向銀行驗證後才會請款並寄發保單。\n",
      "\n",
      "2. **要保人與授權人不同一人時**：\n",
      "   - 電銷人員需取得授權人簽名的紙本「保險費信用卡付款授權書」正本或影本。\n",
      "\n",
      "### 保費折扣\n",
      "以信用卡繳交保險費的保戶，保費折扣將依各險種的投保規則辦理。這意味著，不同類型的保險可能有不同的折扣規則。\n",
      "\n",
      "### 其他注意事項\n",
      "- 保單號碼限使用一張信用卡繳費。\n",
      "- 保戶在收到銀行信用卡繳款帳單後，需在期限內繳款。\n",
      "- 保險公司及保單服務人員需依身份驗證機制進行操作，以確保透過信用卡或金融機構轉帳扣款的保險費收取過程的安全性。\n",
      "\n",
      "綜上所述，個人保險首續期繳費可以通過信用卡扣款完成，但需遵守相關的操作規定和控管機制，並確保所有提交的文件和資訊的正確性和完整性。\n",
      "\n",
      "找不到其他相關資訊。"
     ]
    }
   ],
   "source": [
    "for r in rag_chain.stream(q):\n",
    "    print(r, end=\"\", flush=True)"
   ]
  },
  {
   "cell_type": "code",
   "execution_count": 73,
   "metadata": {},
   "outputs": [],
   "source": [
    "from langchain_core.prompts import ChatPromptTemplate, MessagesPlaceholder\n",
    "\n",
    "\n",
    "contextualize_q_system_prompt = (\n",
    "    \"Given a chat history and the latest user question \" # 給定一段聊天歷史和使用者的最新問題\n",
    "    \"which might reference context in the chat history, \" # 這個問題可能會引用聊天歷史中的上下文\n",
    "    \"formulate a standalone question which can be understood \" # 請將問題重新表述為一個獨立的問題，使其在沒有聊天歷史的情況下也能被理解\n",
    "    \"without the chat history. Do NOT answer the question, \" # 不要回答這個問題\n",
    "    \"just reformulate it if needed and otherwise return it as is.\" # 只需在必要時重新表述問題，否則原樣返回\n",
    "    \"請確保使用繁體中文回應\"\n",
    ")\n",
    "\n",
    "# 定義上下文解析的Chain\n",
    "contextualize_q_prompt = ChatPromptTemplate.from_messages(\n",
    "    [\n",
    "        (\"system\", contextualize_q_system_prompt),\n",
    "        MessagesPlaceholder(\"chat_history\"),\n",
    "        (\"human\", \"{question}\"),\n",
    "    ]\n",
    ")\n",
    "\n",
    "contextualize_chain = (\n",
    "    contextualize_q_prompt\n",
    "    | llm\n",
    "    | StrOutputParser().with_config({\n",
    "        'tags': ['contextualize_question']\n",
    "    })\n",
    ")\n",
    "\n",
    "\n",
    "from langchain_community.chat_message_histories import ChatMessageHistory\n",
    "from langchain_core.chat_history import BaseChatMessageHistory\n",
    "from langchain_core.runnables.history import RunnableWithMessageHistory\n",
    "from langchain_core.runnables import RunnableParallel, RunnableLambda\n",
    "\n",
    "store = {}\n",
    "\n",
    "    \n",
    "def get_session_history(session_id: str) -> BaseChatMessageHistory:\n",
    "    if session_id not in store:\n",
    "        store[session_id] = ChatMessageHistory()\n",
    "    return store[session_id]\n",
    "\n",
    "# 使用 RunnableParallel 來組織多個並行查詢\n",
    "context_and_search_chain = RunnableParallel(\n",
    "    {\n",
    "        \"context\": RunnableLambda(lambda inputs: vector_retriever.invoke(inputs)),\n",
    "        \"graph_result\": RunnableLambda(lambda inputs: local_search_retriever.invoke(inputs)),\n",
    "        \"question\": lambda x: x,  # 保留原始輸入\n",
    "    }\n",
    ")\n",
    "\n",
    "rag_chain = (\n",
    "    contextualize_chain\n",
    "    | context_and_search_chain\n",
    "    | prompt\n",
    "    | llm\n",
    "    | StrOutputParser().with_config({\n",
    "        \"tags\": ['final_output']\n",
    "    })\n",
    ")\n",
    "conversational_rag_chain = RunnableWithMessageHistory(\n",
    "    rag_chain,\n",
    "    get_session_history,\n",
    "    input_messages_key=\"question\",\n",
    "    history_messages_key=\"chat_history\"\n",
    ")\n"
   ]
  },
  {
   "cell_type": "code",
   "execution_count": 75,
   "metadata": {},
   "outputs": [
    {
     "name": "stdout",
     "output_type": "stream",
     "text": [
      "常見的保險費繳交方式包括以下幾種：\n",
      "\n",
      "首先，首期保險費通常採用金融機構轉帳作業。保戶需要在本公司簽約的金融機構開立活期帳戶，並授權從該帳戶扣款。這種方式要求保戶在申請時提交相關授權書，授權書必須填寫完整，不得為空白授權，並且經過核印成功後，才能進行首期保險費的轉帳扣款作業。核印、扣款的時間需要參照各金融機構的相關規定。\n",
      "\n",
      "其次，數位帳戶也是一種可行的繳費方式，但需注意的是，保戶必須親自到各銀行臨櫃留存印鑑並成功核印，才能授權扣款。目前有三家銀行（合作金庫、土地銀行、第一銀行）無法授權扣款，這意味著即使理論上可以使用數位帳戶進行轉帳，但實際操作上，還是需要到銀行臨櫃完成相關手續。\n",
      "\n",
      "再次，保費折扣的適用規定會依各險種的投保規則辦理。如果保戶選擇金融機構轉帳繳交保險費，可能會享有一定的保費折扣。\n",
      "\n",
      "最後，保單的生效日認定會依據「生效日期之認定原則」來辦理。如果因為核印失敗、請款失敗或新契約在核保過程中主動異動繳費管道，其生效日將依「新契約首期保險費繳費管道異動之繳費日認定原則」來辦理。\n",
      "\n",
      "總結來說，常見的繳費方式主要包括金融機構轉帳和數位帳戶扣款。保戶需注意各金融機構的核印和扣款時間，並依照保單規定的程序辦理，以確保繳費順利完成。"
     ]
    }
   ],
   "source": [
    "\n",
    "# for r in conversational_rag_chain.stream(\n",
    "#     {\"input\": \"常見的繳費方式為何有這三種?\"},\n",
    "#     config={\n",
    "#         \"configurable\": {\"session_id\": \"abc123\"}\n",
    "#     },  # constructs a key \"abc123\" in `store`.\n",
    "# ):\n",
    "#     print(r , end=\"\")"
   ]
  },
  {
   "cell_type": "code",
   "execution_count": null,
   "metadata": {},
   "outputs": [],
   "source": [
    "from langchain_core.output_parsers.string import StrOutputParser\n",
    "from fastapi import FastAPI\n",
    "from langserve import add_routes\n",
    "from typing import List, Tuple\n",
    "from langserve.pydantic_v1 import BaseModel, Field\n",
    "\n",
    "class ChatHistory(BaseModel):\n",
    "    \"\"\"Chat history with the bot.\"\"\"\n",
    "    question: str\n",
    "    \n",
    "conversational_rag_chain = (\n",
    "  conversational_rag_chain | StrOutputParser()\n",
    ").with_types(input_type=ChatHistory)\n",
    "\n",
    "# 4. App definition\n",
    "app = FastAPI(\n",
    "  title=\"LangChain Server\",\n",
    "  version=\"1.0\",\n",
    "  description=\"A simple API server using LangChain's Runnable interfaces\",\n",
    ")\n",
    "\n",
    "# 5. Adding chain route\n",
    "\n",
    "add_routes(\n",
    "    app,\n",
    "    conversational_rag_chain\n",
    ")\n",
    "\n",
    "if __name__ == \"__main__\":\n",
    "    import uvicorn\n",
    "    uvicorn.run(app, host=\"localhost\", port=8000)"
   ]
  },
  {
   "cell_type": "code",
   "execution_count": null,
   "metadata": {},
   "outputs": [],
   "source": []
  },
  {
   "cell_type": "code",
   "execution_count": null,
   "metadata": {},
   "outputs": [],
   "source": []
  }
 ],
 "metadata": {
  "kernelspec": {
   "display_name": "lagch",
   "language": "python",
   "name": "python3"
  },
  "language_info": {
   "codemirror_mode": {
    "name": "ipython",
    "version": 3
   },
   "file_extension": ".py",
   "mimetype": "text/x-python",
   "name": "python",
   "nbconvert_exporter": "python",
   "pygments_lexer": "ipython3",
   "version": "3.12.5"
  }
 },
 "nbformat": 4,
 "nbformat_minor": 2
}
