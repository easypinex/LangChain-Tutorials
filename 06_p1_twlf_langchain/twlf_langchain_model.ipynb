{
 "cells": [
  {
   "cell_type": "code",
   "execution_count": 20,
   "metadata": {},
   "outputs": [],
   "source": [
    "# from langchain_ollama import ChatOllama\n",
    "# model_name = \"llama3.1\"\n",
    openai_api_version=os.environ["AZURE_OPENAI_API_VERSION"]el_name)\n",
    "# model\n",
    "\n",
    "import os\n",
    "from langchain_openai import AzureChatOpenAI\n",
    "model = AzureChatOpenAI(\n",
    "    azure_endpoint=os.environ[\"AZURE_OPENAI_ENDPOINT\"],\n",
    "    azure_deployment=os.environ[\"AZURE_OPENAI_DEPLOYMENT_NAME\"],\n",
    "    openai_api_version=os.environ[\"AZURE_OPENAI_API_VERSION\"],\n",
    ")"
   ]
  },
  {
   "cell_type": "code",
   "execution_count": null,
   "metadata": {},
   "outputs": [],
   "source": [
    "# from langchain_ollama import OllamaEmbeddings\n",
    "# emb = OllamaEmbeddings(\n",
    "#     model=model_name,\n",
    "# )\n",
    "\n",
    "from langchain_openai import AzureOpenAIEmbeddings\n",
    "emb = AzureOpenAIEmbeddings(\n",
    "    model=\"text-embedding-3-small\",\n",
    "    azure_endpoint=os.environ[\"AZURE_OPENAI_ENDPOINT\"],\n",
    "    azure_deployment='text-embedding-3-small',\n",
    "    openai_api_version='2023-05-15'\n",
    ")"
   ]
  },
  {
   "cell_type": "code",
   "execution_count": 22,
   "metadata": {},
   "outputs": [
    {
     "data": {
      "text/plain": [
       "[Document(metadata={'source': './data/台灣人壽金美鑫美元利率變動型終身壽險.pdf', 'page': 0}, page_content='第 1 頁，共  3 頁 台灣人壽金美鑫 美元利率變動型 終身壽險  \\n保險商品內容說明  \\n【承保範圍】  \\n【增值回饋分享金的給付及通知】  \\n第十二條 \\n本公司於本契約有效期間內之每一保單年度屆滿後，除被保險人保險年齡達 16歲前者，按第三項約\\n定辦理外，將依要保人於投保時所選擇下列方式之一給付增值回饋分享金：  \\n一、  購買增額繳清保險金額：選擇購買增額繳清保險金額者，以增值回饋分享金為躉繳純保險費，計\\n算自該保單週年日當日起生效之增額繳清保險金額，但被保險人為 受監護宣告尚未撤銷者 ，應依\\n保單條款 第十五條約定辦理。  \\n二、  現金給付：選擇現金給付者， 依本契約約定以現金給付 增值回饋分享金予要保人，惟須於第六保\\n單年度屆滿後之每一保單週年日起，始得依本款方式給付。  \\n三、  儲存生息： 選擇儲存生息者，各年度之增值回饋分享金將按各保單週年日當月之宣告利率依據年\\n複利方式，累積至要保人請求時給付，或至被保險人身故、完全失能或本契約終止時，由本公司\\n主動一併給付。但在本公司給付受益人保險金而終止契約的情形，要保人未請求之增值回饋分享\\n金及其孳息，由該保險金受益人受領。惟須於第六保單年度屆滿後之每一保單週年日起，始得依\\n本款方式給付。  \\n要保人若未選擇者，則視為選擇 購買增額繳清保險金額 ，並得於本契約有效期間 內，以書面通知本公\\n司變更前項給付方式，惟第六保單年度屆滿前，增值回饋分享金限以購買增額繳清保險金額辦理。  \\n被保險人保險年齡到達 16歲前，其增值回饋分享金採儲存生息方式辦理，並應於被保險人保險年齡\\n到達16歲時，就累計儲存生息之金額一次購買增額繳清保險金額，其後保單年度適用第一項規定。  \\n要保人終止本契約，或被保險人於保險年齡達 16歲前死亡或致成完全失能程度者，本公司應退還歷\\n年累計儲存生息之金額予要保人。  \\n本公司於每一保單年度屆滿後，應將該增值回饋分享金之金額，以書面或電子郵件方式通知要保人。  \\n \\n【身故保險金或喪 葬費用保險金的給付】  \\n第十五條 \\n被保險人於本契約有效期間內身故者，本公司按下列三款取其最大值給付身故保險金：  \\n一、身故日之當年度保險金額。  \\n二、身故日之保單價值準備金 乘以保單價值準備金比率所得之金額 。 \\n三、身故日之應繳保險費總和。  \\n訂立本契約時，以未滿 15足歲之未成年人為被保險人，除喪葬費用之給付外，其餘死亡給付之約定\\n於被保險人滿 15足歲之日起發生效力；被保險人滿 15足歲前死亡者，其身故保險金變更為喪葬費用\\n保險金。  \\n前項未滿 15足歲之被保險人如有於民國九十九年二月三日 (不含)前訂立之保險契約，其喪葬費用保\\n險金之給付依下列方式辦理：  \\n一、被保險人於民國九十九年二月三日 (不含)前訂立之保險契約，喪葬費用保險金額大於或等於遺產\\n及贈與稅法第十七條有關遺產稅喪葬費扣除額之半數 (含)者，其喪葬費用保險金之給付，從其約\\n定，一百零九年六月十二日 (含)以後所投保之喪葬費用保險金額，本公司不負給付責任，並應無\\n息退還該超過部分之已繳保險費。  \\n二、被保險人於民國九十九年二月三日 (不含)前訂立之保險契約，喪葬費用保險金額小於遺產及贈與\\n稅法第十七條有關遺產稅喪葬費扣除額之半數 (含)者應加計民國一百零九年六月十二日 (含)以\\n後所投保之喪葬費 用保險金額，被保險人死亡時，受益人得領取之喪葬費用保險金總和（不限本'),\n",
       " Document(metadata={'source': './data/台灣人壽金美鑫美元利率變動型終身壽險.pdf', 'page': 1}, page_content='第 2 頁，共  3 頁 公司） ，不得超過遺產及贈與稅法第十七條有關遺產稅喪葬費扣除額之半數。超過部分，本公司\\n不負給付責任，並應無息退還該超過部分之已繳保險費。  \\n訂立本契約時，以受監護宣告尚未撤銷者為被保險人，其身故保險金變更為喪葬費用保險金。  \\n第二項未滿 15足歲之被保險人於民國一百零九年六月十二日（含）以後及 第四項被保險人於民國九\\n十九年二月三日（含）以後所投保之喪葬費用保險金額總和（不限本公司） ，不得超過遺產及贈與稅\\n法第十七條有關遺產稅喪葬費扣除額之半數，其超過部分本公司不負給付責任，本公司並應無息退還\\n該超過部分之已繳保險費。  \\n第三項及第五項情形，如要保人向二家（含）以上保險公司投保，或向同一保險公司投保數個保險契\\n（附）約，且其投保之喪葬費用保險金額合計超過前項所定之限額者，本公司於所承保之喪葬費用金\\n額範圍內，依各要保書所載之要保時間先後，依約給付喪葬費用保險金至喪葬費用額度上限為止，如\\n有二家以上保險公司之保險 契約要保時間相同或無法區分其要保時間之先後者，各該保險公司應依其\\n喪葬費用保險金額與扣除要保時間在先之保險公司應理賠之金額後所餘之限額比例分擔其責任。  \\n本公司約定給付之喪葬費用保險金，按被保險人身故日為基準，以臺灣銀行股份有限公司的次一個營\\n業日收盤之美元即期買入匯率為換算基礎，換算等值之新臺幣後不得超過主管機關所定之喪葬費用額\\n度上限。  \\n若因匯率波動造成超過之部分，本公司不負給付責任，並無息退還該超過部分之已繳保險費。  \\n本公司依本條約定給付身故保險金或喪葬費用保險金，本契約之效力即行終止。若要保人有指定分期\\n方式給付身故保險金，則按 保單條款 第十八條約定給付辦理且不因本契約之效力終止而影響分期定期\\n保險金之給付。  \\n【完全失能保險金的給付】  \\n第十六條 \\n被保險人於本契約有效期間內致成 保單條款 附表一所列完全失能程度之一者，本公司按下列三款取其\\n最大值給付完全失能保險金：  \\n一、完全失能診斷確定日之當年度保險金額。  \\n二、完全失能診斷確定日之保單價值準備金 乘以保單價值準備金比率所得之金額 。 \\n三、完全失能診斷確定日之應繳保險費總和。  \\n被保險人同時有 保單條款 附表一所列二種以上完全失能程度時，本公司僅給付一次完全失能保險金。  \\n本公司依本條 約定給付完全失能保險金，本契約之效力即行終止。若要保人有指定分期方式給付完全\\n失能保險金，則按 保單條款 第十八條約定給付辦理且不因本契約之效力終止而影響分期定期保險金之\\n給付。 \\n【祝壽保險金的給付】  \\n第十七條 \\n被保險人於本契約有效期間且保險年齡到達 111歲之保單週年日仍生存時，本公司按保險年齡 110歲\\n屆滿之當年度保險金額，乘以 保單條款 附表二所列該保單年度係數後之值，給付祝壽保險金。  \\n本公司依約定給付祝壽保險金後，本契約效力即行終止。  \\n【分期定期保險金給付】  \\n第十八條  \\n本公司於分期定期給付開始日及分期定期給付開始日 之每一週年日，依分期定期保險金給付期間及 保\\n單條款第二條約定之分期定期保險金預定利率將指定保險金換算成每年年初應給付之金額，按約定將\\n每期分期定期保險金給付予受益人。  \\n本公司依 保單條款 第十五條約定計算之身故保險金（不包括變更為喪葬費用保險金） ，將各受益人應\\n得之身故保險金扣除各該受益人之指定保險金後，倘有餘額時，應將該餘額一次給付予各該受益人。  '),\n",
       " Document(metadata={'source': './data/台灣人壽金美鑫美元利率變動型終身壽險.pdf', 'page': 2}, page_content='第 3 頁，共  3 頁 本公司依 保單條款 第十六條約定計算之完全失能保險金扣除被保險人之指定保險金後，倘有餘額時，\\n應將該餘額一次給付予被保險人。  \\n【除外責任 】 \\n【除外責任】  \\n第二十五條 \\n有下列情形之一者， 本公司不負給付保險金的責任。  \\n一、要保人故意致被保險人於死。  \\n二、被保險人故意自殺或自成完全失能。但自契約訂立或復效之日起二年後故意自殺致死者，本公司\\n仍負給付身故保險金或喪葬費用保險金之責任。  \\n三、被保險人因犯罪處死或拒捕或越獄致死或完全失能。  \\n前項第一款及 保單條款 第二十六條情形致被保險人完全失能時，本公司按 保單條款 第十六條的約定給\\n付完全失能保險金。  \\n因第一項各款情形而免給付保險金者，本契約累積達有保單價值準備金時，依照約定給付保單價值準\\n備金予應得之人。  \\n \\n（詳細內容請參閱保單條款）  \\n \\n ')]"
      ]
     },
     "execution_count": 22,
     "metadata": {},
     "output_type": "execute_result"
    }
   ],
   "source": [
    "# ! pip3 install pypdf\n",
    "from langchain_community.document_loaders import PyPDFLoader\n",
    "\n",
    "loader = PyPDFLoader('../data/台灣人壽金美鑫美元利率變動型終身壽險.pdf')\n",
    "docs = loader.load()\n",
    "docs"
   ]
  },
  {
   "cell_type": "code",
   "execution_count": 45,
   "metadata": {},
   "outputs": [
    {
     "data": {
      "text/plain": [
       "5"
      ]
     },
     "execution_count": 45,
     "metadata": {},
     "output_type": "execute_result"
    }
   ],
   "source": [
    "from langchain_text_splitters import RecursiveCharacterTextSplitter\n",
    "\n",
    "text_splitter = RecursiveCharacterTextSplitter(chunk_size=1000, chunk_overlap=200, separators=[\"\\n\\n\", \"，\", \"。\", \"【\"])\n",
    "\n",
    "splits = text_splitter.split_documents(docs)\n",
    "len(splits)"
   ]
  },
  {
   "cell_type": "code",
   "execution_count": 46,
   "metadata": {},
   "outputs": [
    {
     "data": {
      "text/plain": [
       "'，應將該增值回饋分享金之金額，以書面或電子郵件方式通知要保人。  \\n \\n【身故保險金或喪 葬費用保險金的給付】  \\n第十五條 \\n被保險人於本契約有效期間內身故者，本公司按下列三款取其最大值給付身故保險金：  \\n一、身故日之當年度保險金額。  \\n二、身故日之保單價值準備金 乘以保單價值準備金比率所得之金額 。 \\n三、身故日之應繳保險費總和。  \\n訂立本契約時，以未滿 15足歲之未成年人為被保險人，除喪葬費用之給付外，其餘死亡給付之約定\\n於被保險人滿 15足歲之日起發生效力；被保險人滿 15足歲前死亡者，其身故保險金變更為喪葬費用\\n保險金。  \\n前項未滿 15足歲之被保險人如有於民國九十九年二月三日 (不含)前訂立之保險契約，其喪葬費用保\\n險金之給付依下列方式辦理：  \\n一、被保險人於民國九十九年二月三日 (不含)前訂立之保險契約，喪葬費用保險金額大於或等於遺產\\n及贈與稅法第十七條有關遺產稅喪葬費扣除額之半數 (含)者，其喪葬費用保險金之給付，從其約\\n定，一百零九年六月十二日 (含)以後所投保之喪葬費用保險金額，本公司不負給付責任，並應無\\n息退還該超過部分之已繳保險費。  \\n二、被保險人於民國九十九年二月三日 (不含)前訂立之保險契約，喪葬費用保險金額小於遺產及贈與\\n稅法第十七條有關遺產稅喪葬費扣除額之半數 (含)者應加計民國一百零九年六月十二日 (含)以\\n後所投保之喪葬費 用保險金額，被保險人死亡時，受益人得領取之喪葬費用保險金總和（不限本'"
      ]
     },
     "execution_count": 46,
     "metadata": {},
     "output_type": "execute_result"
    }
   ],
   "source": [
    "splits[1].page_content # Document"
   ]
  },
  {
   "cell_type": "code",
   "execution_count": 53,
   "metadata": {},
   "outputs": [],
   "source": [
    "vectorstore.delete_collection()"
   ]
  },
  {
   "cell_type": "code",
   "execution_count": 48,
   "metadata": {},
   "outputs": [],
   "source": [
    "from langchain_chroma import Chroma\n",
    "vectorstore = Chroma.from_documents(documents=splits, embedding=emb)\n"
   ]
  },
  {
   "cell_type": "code",
   "execution_count": 49,
   "metadata": {},
   "outputs": [],
   "source": [
    "retriever = vectorstore.as_retriever(\n",
    "    search_type=\"similarity_score_threshold\",\n",
    "    search_kwargs={'score_threshold': 0.5}\n",
    ")"
   ]
  },
  {
   "cell_type": "code",
   "execution_count": 50,
   "metadata": {},
   "outputs": [],
   "source": [
    "from langchain_core.prompts import ChatPromptTemplate, MessagesPlaceholder\n",
    "from langchain.chains import create_history_aware_retriever, create_retrieval_chain\n",
    "\n",
    "### Contextualize question ###\n",
    "contextualize_q_system_prompt = (\n",
    "    \"Given a chat history and the latest user question \"\n",
    "    \"which might reference context in the chat history, \"\n",
    "    \"formulate a standalone question which can be understood \"\n",
    "    \"without the chat history. Do NOT answer the question, \"\n",
    "    \"just reformulate it if needed and otherwise return it as is.\"\n",
    ")\n",
    "contextualize_q_prompt = ChatPromptTemplate.from_messages(\n",
    "    [\n",
    "        (\"system\", contextualize_q_system_prompt),\n",
    "        MessagesPlaceholder(\"chat_history\"),\n",
    "        (\"human\", \"{input}\"),\n",
    "    ]\n",
    ")\n",
    "history_aware_retriever = create_history_aware_retriever(\n",
    "    model, retriever, contextualize_q_prompt\n",
    ")\n",
    "\n",
    "\n",
    "from langchain.chains.combine_documents import create_stuff_documents_chain\n",
    "### Answer question ###\n",
    "system_prompt = (\n",
    "    \"你是一個有用的助手, 你的任務是回答問題.\"\n",
    "    \"你必須根據以下提供的檢索內容進行問答問題.\"\n",
    "    \"如果檢索內容為空, 則回答 '沒有找到相關資訊'\"\n",
    "    \"以 5 至 10 句話以內回應, 保持答案的簡潔\"\n",
    "    \"以下為檢索內容:\\n\\n\"\n",
    "    \"{context}\"\n",
    ")\n",
    "qa_prompt = ChatPromptTemplate.from_messages(\n",
    "    [\n",
    "        (\"system\", system_prompt),\n",
    "        MessagesPlaceholder(\"chat_history\"),\n",
    "        (\"human\", \"{input}\"),\n",
    "    ]\n",
    ")\n",
    "question_answer_chain = create_stuff_documents_chain(model, qa_prompt)\n",
    "rag_chain = create_retrieval_chain(history_aware_retriever, question_answer_chain)"
   ]
  },
  {
   "cell_type": "code",
   "execution_count": 51,
   "metadata": {},
   "outputs": [],
   "source": [
    "from langchain_core.chat_history import BaseChatMessageHistory\n",
    "from langchain_community.chat_message_histories import ChatMessageHistory\n",
    "from langchain_core.runnables.history import RunnableWithMessageHistory\n",
    "\n",
    "### Statefully manage chat history ###\n",
    "store = {}\n",
    "\n",
    "def get_session_history(session_id: str) -> BaseChatMessageHistory:\n",
    "    if session_id not in store:\n",
    "        store[session_id] = ChatMessageHistory()\n",
    "    return store[session_id]\n",
    "\n",
    "\n",
    "conversational_rag_chain = RunnableWithMessageHistory(\n",
    "    rag_chain,\n",
    "    get_session_history,\n",
    "    input_messages_key=\"input\",\n",
    "    history_messages_key=\"chat_history\",\n",
    "    output_messages_key=\"answer\",\n",
    ")"
   ]
  },
  {
   "cell_type": "code",
   "execution_count": 52,
   "metadata": {},
   "outputs": [
    {
     "name": "stderr",
     "output_type": "stream",
     "text": [
      "Error in RootListenersTracer.on_chain_end callback: KeyError('answer')\n",
      "Error in callback coroutine: KeyError('answer')\n"
     ]
    },
    {
     "name": "stdout",
     "output_type": "stream",
     "text": [
      "{'input': '被保險人未滿15歲死亡喪葬費用怎麼賠?', 'chat_history': []}\n",
      "----\n",
      "\t文件: ./data/台灣人壽金美鑫美元利率變動型終身壽險.pdf\n",
      "\t內文: ，應將該增值回饋分享金之金額，以書面或電子郵件方式通知要保人。  \n",
      " \n",
      "【身故保險金或喪 葬費用保險\n",
      "\t文件: ./data/台灣人壽金美鑫美元利率變動型終身壽險.pdf\n",
      "\t內文: 第 2 頁，共  3 頁 公司） ，不得超過遺產及贈與稅法第十七條有關遺產稅喪葬費扣除額之半數。超過\n",
      "\t文件: ./data/台灣人壽金美鑫美元利率變動型終身壽險.pdf\n",
      "\t內文: 第 3 頁，共  3 頁 本公司依 保單條款 第十六條約定計算之完全失能保險金扣除被保險人之指定保險\n",
      "\t文件: ./data/台灣人壽金美鑫美元利率變動型終身壽險.pdf\n",
      "\t內文: ，本公司按下列三款取其\n",
      "最大值給付完全失能保險金：  \n",
      "一、完全失能診斷確定日之當年度保險金額。  \n",
      "----\n",
      "根據提供的資訊，被保險人未滿15歲死亡時，其身故保險金會變更為喪葬費用保險金。具體賠付方式如下：\n",
      "\n",
      "1. 若被保險人於民國99年2月3日（不含）前訂立之保險契約，其喪葬費用保險金依照遺產及贈與稅法第十七條規定的標準給付。\n",
      "2. 若被保險人於民國109年6月12日（含）以後投保的喪葬費用保險金總和，不得超過遺產及贈與稅法第十七條有關遺產稅喪葬費扣除額之半數，超過部分將不予給付，並退還已繳保險費。\n",
      "3. 若被保險人同時向多家保險公司投保，超過限額的部分也不予給付，並按比例退還多餘的保險費。\n",
      "\n",
      "總的來說，喪葬費用保險金的賠付額度會受限於相關法律規定的標準。"
     ]
    }
   ],
   "source": [
    "\n",
    "for r in conversational_rag_chain.stream(\n",
    "    {\"input\": \"被保險人未滿15歲死亡喪葬費用怎麼賠?\"},\n",
    "    config={\"configurable\": {\"session_id\": \"abc122\"}},\n",
    "):\n",
    "    if 'answer' in r:\n",
    "        print(r['answer'], end=\"\")\n",
    "    elif 'context' in r:\n",
    "        ## RAG \n",
    "        for doc in r['context']:\n",
    "            print(f'\\t文件: {doc.metadata['source']}')\n",
    "            print(f'\\t內文: {doc.page_content[:50]}')\n",
    "        print('----')\n",
    "    else:\n",
    "        print(r)\n",
    "        print('----')"
   ]
  }
 ],
 "metadata": {
  "kernelspec": {
   "display_name": "lagch",
   "language": "python",
   "name": "python3"
  },
  "language_info": {
   "codemirror_mode": {
    "name": "ipython",
    "version": 3
   },
   "file_extension": ".py",
   "mimetype": "text/x-python",
   "name": "python",
   "nbconvert_exporter": "python",
   "pygments_lexer": "ipython3",
   "version": "3.12.5"
  }
 },
 "nbformat": 4,
 "nbformat_minor": 2
}
