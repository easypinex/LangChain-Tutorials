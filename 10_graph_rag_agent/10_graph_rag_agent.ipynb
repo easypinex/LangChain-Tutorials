{
 "cells": [
  {
   "cell_type": "code",
   "execution_count": 1,
   "metadata": {},
   "outputs": [],
   "source": [
    "import os\n",
    "from langchain_community.graphs import Neo4jGraph\n",
    "\n",
    "os.environ[\"NEO4J_URI\"] = \"bolt://localhost:7687\"\n",
    "os.environ[\"NEO4J_USERNAME\"] = \"neo4j\"\n",
    "os.environ[\"NEO4J_PASSWORD\"] = \"2wsx3edc\"\n",
    "\n",
    "graph = Neo4jGraph()"
   ]
  },
  {
   "cell_type": "code",
   "execution_count": 3,
   "metadata": {},
   "outputs": [],
   "source": [
    "import sys\n",
    "sys.path.append('..')\n",
    "\n",
    "from langchain_community.document_loaders import PyPDFLoader\n",
    "\n",
    "from langchain_text_splitters import RecursiveCharacterTextSplitter\n",
    "text_splitter = RecursiveCharacterTextSplitter(chunk_size=1000, chunk_overlap=200, separators=[\"\\n\\n\", \"，\", \"。\", \"【\", \",\"])\n"
   ]
  },
  {
   "cell_type": "code",
   "execution_count": 4,
   "metadata": {},
   "outputs": [],
   "source": [
    "from tools.graph_builder import TwlfGraphBuilder\n",
    "graph.query('MATCH (n) DETACH DELETE n;')\n",
    "\n",
    "graph_builder = TwlfGraphBuilder(graph)\n",
    "\n",
    "dir = '../data'\n",
    "for filename in os.listdir(dir):\n",
    "    docs = []\n",
    "    if filename.endswith(\".pdf\"):\n",
    "        loader = PyPDFLoader(os.path.join(dir, filename))\n",
    "        doc_pages = loader.load()\n",
    "        graph_builder.graph_build(doc_pages, text_splitter)"
   ]
  },
  {
   "cell_type": "code",
   "execution_count": 5,
   "metadata": {},
   "outputs": [],
   "source": [
    "from langchain_community.vectorstores import Neo4jVector\n",
    "from langchain_openai import AzureOpenAIEmbeddings\n",
    "\n",
    "embedding = AzureOpenAIEmbeddings(\n",
    "    model=\"text-embedding-ada-002\",\n",
    "    azure_endpoint='https://lang-chain-dev.openai.azure.com/openai/deployments/text-embedding-ada-002/embeddings?api-version=2023-05-15',\n",
    "    azure_deployment='text-embedding-ada-002',\n",
    "    openai_api_version='2023-05-15'\n",
    ")\n",
    "graph_store = Neo4jVector.from_existing_graph(embedding=embedding, \n",
    "                                    index_name=\"chunk_index\",\n",
    "                                    node_label='Chunk', \n",
    "                                    embedding_node_property='embedding', \n",
    "                                    text_node_properties=['content'])"
   ]
  },
  {
   "cell_type": "code",
   "execution_count": 6,
   "metadata": {},
   "outputs": [
    {
     "name": "stderr",
     "output_type": "stream",
     "text": [
      "/Users/andy/miniforge3/envs/lagch/lib/python3.12/site-packages/langchain_core/_api/beta_decorator.py:87: LangChainBetaWarning: This API is in beta and may change in the future.\n",
      "  warn_beta(\n"
     ]
    },
    {
     "data": {
      "text/plain": [
       "StructuredTool(name='GraphCypherQAChain', description=\"Takes {'title': 'ChainInput', 'type': 'object', 'properties': {'query': {'title': 'Query'}}}.\", args_schema=<class 'pydantic.v1.main.ChainInput'>, func=<function convert_runnable_to_tool.<locals>.invoke_wrapper at 0x16885c540>, coroutine=<function convert_runnable_to_tool.<locals>.ainvoke_wrapper at 0x16885c5e0>)"
      ]
     },
     "execution_count": 6,
     "metadata": {},
     "output_type": "execute_result"
    }
   ],
   "source": [
    "from langchain.chains import GraphCypherQAChain\n",
    "from langchain_openai import AzureChatOpenAI\n",
    "import os\n",
    "llm = AzureChatOpenAI(\n",
    "    azure_endpoint=os.environ[\"AZURE_OPENAI_ENDPOINT\"],\n",
    "    azure_deployment=os.environ[\"AZURE_OPENAI_DEPLOYMENT_NAME\"],\n",
    "    openai_api_version=os.environ[\"AZURE_OPENAI_API_VERSION\"],\n",
    ")\n",
    "graph.refresh_schema()\n",
    "graph_tradition_chain = GraphCypherQAChain.from_llm(graph=graph, llm=llm, verbose=True, validate_cypher=True)\n",
    "graph_tradition_tool = graph_tradition_chain.as_tool()\n",
    "graph_tradition_tool\n"
   ]
  },
  {
   "cell_type": "code",
   "execution_count": 7,
   "metadata": {},
   "outputs": [
    {
     "data": {
      "text/plain": [
       "VectorStoreRetriever(tags=['Neo4jVector', 'AzureOpenAIEmbeddings'], vectorstore=<langchain_community.vectorstores.neo4j_vector.Neo4jVector object at 0x137745190>, search_type='similarity_score_threshold', search_kwargs={'score_threshold': 0.9})"
      ]
     },
     "execution_count": 7,
     "metadata": {},
     "output_type": "execute_result"
    }
   ],
   "source": [
    "vectorstore = Neo4jVector.from_existing_graph(embedding=embedding, \n",
    "                                    index_name=\"chunk_index\",\n",
    "                                    node_label='Chunk', \n",
    "                                    embedding_node_property='embedding', \n",
    "                                    text_node_properties=['content'])\n",
    "retriever = vectorstore.as_retriever(\n",
    "    search_type=\"similarity_score_threshold\",\n",
    "    search_kwargs={'score_threshold': 0.9}\n",
    ")\n",
    "retriever"
   ]
  },
  {
   "cell_type": "code",
   "execution_count": 8,
   "metadata": {},
   "outputs": [],
   "source": [
    "def format_docs(docs):\n",
    "    return \"\\n\\n\".join(doc.page_content for doc in docs)\n",
    "from langchain_core.runnables import RunnablePassthrough\n",
    "from langchain_core.output_parsers import StrOutputParser"
   ]
  },
  {
   "cell_type": "code",
   "execution_count": 9,
   "metadata": {},
   "outputs": [],
   "source": [
    "from langchain_core.prompts import ChatPromptTemplate\n",
    "prompt = ChatPromptTemplate.from_template(\n",
    "    \"\"\"\n",
    "    \"你是一個有用的助手, 你的任務是回答問題.\"\n",
    "    \"你必須根據以下提供的檢索內容及資料庫查詢結果進行問答問題.\"\n",
    "    \"如果檢索內容為空, 則回答 '沒有找到相關資訊'\"\n",
    "    \"以 5 至 10 句話以內回應, 保持答案的簡潔\"\n",
    "    \"以下為檢索內容:\\n\\n\"\n",
    "    \"{context}\"\n",
    "\n",
    "    \"以下為資料庫查詢結果:\\n\\n\"\n",
    "    \"{tradition_result}\"\n",
    "\n",
    "    問題: {question}\n",
    "    \"\"\"\n",
    ")\n",
    "\n",
    "\n",
    "rag_chain = (\n",
    "    {\"context\": retriever | format_docs, \"question\": RunnablePassthrough(), \"tradition_result\": graph_tradition_chain}\n",
    "    | prompt\n",
    "    | llm\n",
    "    | StrOutputParser()\n",
    ")"
   ]
  },
  {
   "cell_type": "code",
   "execution_count": 10,
   "metadata": {},
   "outputs": [],
   "source": [
    "question = \"未滿15歲被保險人死亡，身故保險金該怎麼賠?\""
   ]
  },
  {
   "cell_type": "code",
   "execution_count": 11,
   "metadata": {},
   "outputs": [
    {
     "data": {
      "text/plain": [
       "[Document(metadata={'source_idx': 'a2240e6e-8cbd-43db-9a3f-783e8c023223', 'chunk_idx': 1, 'name': 'Chunk_1', 'page_num': 1}, page_content='\\ncontent: ，本公司應退還歷年累計儲存生息\\n之金額予要保人。  \\n本公司於每一保 單年度屆滿後，應將該增值回饋分享金之金額，以書面或電子郵件方式通知要保\\n人。 \\n \\n【身故保險金或喪葬費用保險金的給付】  \\n第十六條  \\n被保險人於本契約有效期間內身故者，本公司按身故日之當年度保險金額給付身故保險金。  \\n訂立本契約時，以未滿 15足歲之未成年人為被保險人，除喪葬費用之給付外，其餘死亡給付之\\n約定於被保險人滿 15足歲之日起發生效力；被保險人滿 15足歲前死亡者，其身故保險金變更為\\n喪葬費用保險金。  \\n前項未滿 15足歲之被保險人如有於民國九十九年二月三日 (不含 )前訂立之保險契約，其喪葬費\\n用保險金之給付依下列方式辦理 ：'),\n",
       " Document(metadata={'source_idx': '7171a441-7f44-4922-a4d6-8445c296e3ca', 'chunk_idx': 1, 'name': 'Chunk_1', 'page_num': 1}, page_content='\\ncontent: ，應將該增值回饋分享金之金額，以書面或電子郵件方式通知要保人。  \\n \\n【身故保險金或喪 葬費用保險金的給付】  \\n第十五條 \\n被保險人於本契約有效期間內身故者，本公司按下列三款取其最大值給付身故保險金：  \\n一、身故日之當年度保險金額。  \\n二、身故日之保單價值準備金 乘以保單價值準備金比率所得之金額 。 \\n三、身故日之應繳保險費總和。  \\n訂立本契約時，以未滿 15足歲之未成年人為被保險人，除喪葬費用之給付外，其餘死亡給付之約定\\n於被保險人滿 15足歲之日起發生效力；被保險人滿 15足歲前死亡者，其身故保險金變更為喪葬費用\\n保險金。  \\n前項未滿 15足歲之被保險人如有於民國九十九年二月三日 (不含)前訂立之保險契約，其喪葬費用保\\n險金之給付依下列方式辦理：  \\n一、被保險人於民國九十九年二月三日 (不含)前訂立之保險契約，喪葬費用保險金額大於或等於遺產\\n及贈與稅法第十七條有關遺產稅喪葬費扣除額之半數 (含)者，其喪葬費用保險金之給付，從其約\\n定，一百零九年六月十二日 (含)以後所投保之喪葬費用保險金額，本公司不負給付責任，並應無\\n息退還該超過部分之已繳保險費。  \\n二、被保險人於民國九十九年二月三日 (不含)前訂立之保險契約，喪葬費用保險金額小於遺產及贈與\\n稅法第十七條有關遺產稅喪葬費扣除額之半數 (含)者應加計民國一百零九年六月十二日 (含)以\\n後所投保之喪葬費 用保險金額，被保險人死亡時，受益人得領取之喪葬費用保險金總和（不限本'),\n",
       " Document(metadata={'source_idx': '85a7da1c-97a2-4dd1-825f-fa8081ac6feb', 'chunk_idx': 1, 'name': 'Chunk_1', 'page_num': 1}, page_content='\\ncontent: ，以累計儲存生息之金額一次計算增額繳清保險金額，其後保單年度適用第一項規定。  \\n要保人終止本契約，或被保險人於保險年齡達 16歲前死亡者，本公司應退還歷年累計儲存生息之金額予要保人\\n。 \\n本公司於每一保單年度屆滿後 ，應將該增值回饋分享金之金額，以書面或電子郵件方式通知要保人。  \\n \\n【身故保險金或喪葬費用保險金的給付】  \\n被保險人於本契約有效期間內身故者，本公司按下列三款取其最大值給付身故保險金：  \\n一、身故日之當年度保險金額。  \\n二、身故日之保單價值準備金 乘以保單價值準備金比率所得之金額。  \\n三、身故日之年繳應繳保險費總和的 1.06倍。  \\n訂立本契約時，以未滿 15足歲之未成年人為被保險人，除喪葬費用之給付外，其餘死亡給付之約定於被保險人滿\\n15足歲之日起發生效力；被保險人滿 15足歲前死亡者，其身故保險金變更為喪葬費用保險金。  \\n前項未滿 15足歲之被保險人如有於民國九十九年二月三日 (不含 )前訂立之保險契約，其喪葬費用保險金之給付依下\\n列方式辦理：  \\n一、被保險人於民國九十九年二月三日 (不含 )前訂立之保險契約，喪葬費用保險金額大於或等於遺產及贈與稅法第\\n十七條有關遺產稅喪葬費扣除額之半數 (含)者，其喪葬費用保險金之給付，從其約定，一百零九年六月十二日 (\\n含)以後所投保之喪葬費用保險金額，本公司不負給付責任，並應無息退還該超過部分之已繳保險費。  \\n二、被保險人於民國九十九年二月三日 (不含 )前訂立之保險契約，喪葬費用保險金額小於遺產及贈與稅法第十七條'),\n",
       " Document(metadata={'source_idx': '073e1f8e-2193-40cc-884f-a374909b0ceb', 'chunk_idx': 1, 'name': 'Chunk_1', 'page_num': 1}, page_content='\\ncontent: ，倘未符合 保單條款 第十四條約定者 ，本公司依身故日之傷害險部分解約金退\\n還要保人。  \\n訂立本契約時，以受監護宣告尚未撤銷者為被保險人，其身故保險金變更為喪葬費用保險金。  \\n前項被保險人於民國九十九年二月三日 (含)以後所投保之喪葬費用保險金額總和 (不限本公司 )，不得超過遺產及贈與\\n稅法第十七條有關遺產稅喪葬費扣除額之半數，其超過部分本公司不負給付責任，本公司並應無息退還該超過部分\\n之已繳保險費。  \\n前項情形，如要保人向二家 (含)以上保險公司投保，或向同一保險公司投保數個保險契 (附)約，且其投保之喪葬費用\\n保險金額合計超過前項所定之限額者，本公司於所承保之喪 葬費用金額範圍內，依各要保書所載之要保時間先後，\\n依約給付喪葬費用保險金至前項喪葬費用額度上限為止，如有二家以上保險公司之保險契約要保時間相同或無法區\\n分其要保時間之先後者，各該保險公司應依其喪葬費用保險金額與扣除要保時間在先之保險公司應理賠之金額後所\\n餘之限額比例分擔其責任。  \\n本公司依本條約定給付身故保險金或喪葬費用保險金，本契約之效力即行終止。若要保人有指定分期方式給付身故\\n保險金，則按 保單條款 第十七條約定給付辦理且不因本契約之效力終止而影響分期定期保險金之給付。')]"
      ]
     },
     "execution_count": 11,
     "metadata": {},
     "output_type": "execute_result"
    }
   ],
   "source": [
    "retriever.invoke(question)"
   ]
  },
  {
   "cell_type": "code",
   "execution_count": 12,
   "metadata": {},
   "outputs": [
    {
     "name": "stdout",
     "output_type": "stream",
     "text": [
      "\n",
      "\n",
      "\u001b[1m> Entering new GraphCypherQAChain chain...\u001b[0m\n",
      "Generated Cypher:\n",
      "\u001b[32;1m\u001b[1;3mcypher\n",
      "MATCH (d:Document)-[:PART]->(c:Chunk)\n",
      "WHERE c.content CONTAINS '未滿15歲被保險人死亡，身故保險金該怎麼賠?'\n",
      "RETURN d, c\n",
      "\u001b[0m\n",
      "Full Context:\n",
      "\u001b[32;1m\u001b[1;3m[]\u001b[0m\n",
      "\n",
      "\u001b[1m> Finished chain.\u001b[0m\n"
     ]
    },
    {
     "data": {
      "text/plain": [
       "{'query': '未滿15歲被保險人死亡，身故保險金該怎麼賠?', 'result': '我不知道答案。'}"
      ]
     },
     "execution_count": 12,
     "metadata": {},
     "output_type": "execute_result"
    }
   ],
   "source": [
    "graph_tradition_chain.invoke(question)"
   ]
  },
  {
   "cell_type": "code",
   "execution_count": 13,
   "metadata": {},
   "outputs": [
    {
     "name": "stdout",
     "output_type": "stream",
     "text": [
      "\n",
      "\n",
      "\u001b[1m> Entering new GraphCypherQAChain chain...\u001b[0m\n",
      "Generated Cypher:\n",
      "\u001b[32;1m\u001b[1;3mcypher\n",
      "MATCH (d:Document)-[:PART]->(c:Chunk)\n",
      "WHERE c.content CONTAINS '未滿15歲被保險人死亡，身故保險金該怎麼賠?'\n",
      "RETURN d.filename, c.page_num, c.content\n",
      "\u001b[0m\n",
      "Full Context:\n",
      "\u001b[32;1m\u001b[1;3m[]\u001b[0m\n",
      "\n",
      "\u001b[1m> Finished chain.\u001b[0m\n"
     ]
    },
    {
     "data": {
      "text/plain": [
       "'根據提供的檢索內容，未滿15歲的被保險人死亡時，並不適用一般的身故保險金給付。相反，依照保險契約，這些情況下的身故保險金會變更為喪葬費用保險金。若被保險人是在民國九十九年二月三日（不含）前訂立的保險契約，喪葬費用保險金的給付方式會依照相關遺產稅法的規定進行調整。具體而言，喪葬費用保險金額若超過一定限額，保險公司不負給付責任，並應無息退還超過部分的已繳保險費。'"
      ]
     },
     "execution_count": 13,
     "metadata": {},
     "output_type": "execute_result"
    }
   ],
   "source": [
    "rag_chain.invoke(question)"
   ]
  }
 ],
 "metadata": {
  "kernelspec": {
   "display_name": "lagch",
   "language": "python",
   "name": "python3"
  },
  "language_info": {
   "codemirror_mode": {
    "name": "ipython",
    "version": 3
   },
   "file_extension": ".py",
   "mimetype": "text/x-python",
   "name": "python",
   "nbconvert_exporter": "python",
   "pygments_lexer": "ipython3",
   "version": "3.12.5"
  }
 },
 "nbformat": 4,
 "nbformat_minor": 2
}
