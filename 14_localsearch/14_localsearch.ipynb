{
 "cells": [
  {
   "cell_type": "code",
   "execution_count": 1,
   "metadata": {},
   "outputs": [],
   "source": [
    "import os\n",
    "\n",
    "from langchain_community.graphs import Neo4jGraph\n",
    "\n",
    "os.environ[\"NEO4J_URI\"] = \"bolt://localhost:7687\"\n",
    "os.environ[\"NEO4J_USERNAME\"] = \"neo4j\"\n",
    "os.environ[\"NEO4J_PASSWORD\"] = \"2wsx3edc\"\n",
    "database = os.environ.get('NEO4J_DATABASE')\n",
    "graph = Neo4jGraph(database=database)"
   ]
  },
  {
   "cell_type": "code",
   "execution_count": 2,
   "metadata": {},
   "outputs": [
    {
     "data": {
      "text/plain": [
       "[{'n.description': '至郵局劃撥至本公司各地分公司之劃撥帳號, 至郵局劃撥至本公司之郵政劃撥帳號'},\n",
       " {'n.description': '僅適用業務通路, 行動保全續期保費的服務說明，僅適用業務通路'},\n",
       " {'n.description': '輸入首期保險費金額按送出, 輸入後按送出'},\n",
       " {'n.description': '確認交易金額, 進入 e-Bill 全國繳費網→確認交易金額及繳費方式'}]"
      ]
     },
     "execution_count": 2,
     "metadata": {},
     "output_type": "execute_result"
    }
   ],
   "source": [
    "graph.query('''\n",
    "MATCH (n:__Entity__)\n",
    "WHERE n.description IS NOT NULL and apoc.meta.cypher.type(n.description) <> 'STRING'\n",
    "REMOVE n.embedding\n",
    "SET n.description = apoc.text.join(n.description, \", \")\n",
    "RETURN n.description\n",
    "''')"
   ]
  },
  {
   "cell_type": "code",
   "execution_count": 3,
   "metadata": {},
   "outputs": [
    {
     "data": {
      "text/plain": [
       "[]"
      ]
     },
     "execution_count": 3,
     "metadata": {},
     "output_type": "execute_result"
    }
   ],
   "source": [
    "graph.query(\n",
    "    \"\"\"\n",
    "MATCH (n:`__Community__`)<-[:IN_COMMUNITY]-()<-[:HAS_ENTITY]-(c)\n",
    "WITH n, count(distinct c) AS chunkCount\n",
    "SET n.weight = chunkCount\"\"\"\n",
    ")"
   ]
  },
  {
   "cell_type": "code",
   "execution_count": 4,
   "metadata": {},
   "outputs": [],
   "source": [
    "from langchain_openai import AzureOpenAIEmbeddings\n",
    "\n",
    "embedding = AzureOpenAIEmbeddings(\n",
    "    model=\"text-embedding-3-small\",\n",
    "    azure_endpoint='https://sales-chatbot-llm.openai.azure.com/openai/deployments/text-embedding-3-small/embeddings?api-version=2023-05-15',\n",
    "    azure_deployment='text-embedding-3-small',\n",
    "    openai_api_version='2023-05-15'\n",
    ")"
   ]
  },
  {
   "cell_type": "code",
   "execution_count": 5,
   "metadata": {},
   "outputs": [],
   "source": [
    "# from langchain_community.vectorstores import Neo4jVector\n",
    "# # ! pip3 install -U langchain-huggingface\n",
    "# import os\n",
    "# os.environ['SENTENCE_TRANSFORMERS_HOME'] = '/storage/models/embedding_models'\n",
    "# from langchain_huggingface import HuggingFaceEmbeddings\n",
    "# # Choose from https://huggingface.co/spaces/mteb/leaderboard\n",
    "\n",
    "# # embedding = HuggingFaceEmbeddings(model_name=\"lier007/xiaobu-embedding-v2\")\n",
    "\n",
    "# model_path = os.path.join(os.environ['SENTENCE_TRANSFORMERS_HOME'], 'models--lier007--xiaobu-embedding-v2/snapshots/ee0b4ecdf5eb449e8240f2e3de2e10eeae877691')\n",
    "# embedding = HuggingFaceEmbeddings(model_name=model_path)"
   ]
  },
  {
   "cell_type": "code",
   "execution_count": 6,
   "metadata": {},
   "outputs": [],
   "source": [
    "# node_label='__Entity__'\n",
    "# embedding_node_property='embedding'\n",
    "# fetch_query = (\n",
    "#     f\"MATCH (n:`{node_label}`) \"\n",
    "#     f\"WHERE n.{embedding_node_property} IS null \"\n",
    "#     \"AND any(k in $props WHERE n[k] IS NOT null) \"\n",
    "#     f\"RETURN elementId(n) AS id, reduce(str='',\"\n",
    "#     \"k IN $props | str + '\\\\n' + k + ':' + coalesce(n[k], '')) AS text \"\n",
    "#     \"LIMIT 1000\"\n",
    "# )\n",
    "# datas = graph.query(fetch_query, params={\"props\": ['id', 'description']})\n",
    "# datas"
   ]
  },
  {
   "cell_type": "code",
   "execution_count": 7,
   "metadata": {},
   "outputs": [],
   "source": [
    "# import sys\n",
    "# sys.path.append('..')\n",
    "# from tools.TokenCounter import num_tokens_from_string\n",
    "\n",
    "# tokens_num = 0\n",
    "# for data in datas:\n",
    "#     tokens_num += num_tokens_from_string(data['text'])\n",
    "# tokens_num"
   ]
  },
  {
   "cell_type": "code",
   "execution_count": 24,
   "metadata": {},
   "outputs": [],
   "source": [
    "from langchain_community.vectorstores import Neo4jVector\n",
    "\n",
    "lc_retrieval_query = \"\"\"\n",
    "WITH collect(node) as nodes\n",
    "// Entity - Text Unit Mapping\n",
    "WITH\n",
    "collect {\n",
    "    UNWIND nodes as n\n",
    "    MATCH (n)<-[:HAS_ENTITY]->(c:__Chunk__)<-[:HAS_CHILD]->(p:__Parent__)\n",
    "    WITH c, p, count(distinct n) as freq\n",
    "    RETURN p.content AS chunkText\n",
    "    ORDER BY freq DESC\n",
    "    LIMIT $topChunks\n",
    "} AS text_mapping,\n",
    "// Entity - Report Mapping\n",
    "collect {\n",
    "    UNWIND nodes as n\n",
    "    MATCH (n)-[:IN_COMMUNITY]->(c:__Community__)\n",
    "    WHERE c.summary is not null\n",
    "    WITH c, c.rank as rank, c.weight AS weight\n",
    "    RETURN c.summary \n",
    "    ORDER BY rank, weight DESC\n",
    "    LIMIT $topCommunities\n",
    "} AS report_mapping,\n",
    "// Outside Relationships \n",
    "collect {\n",
    "    UNWIND nodes as n\n",
    "    MATCH (n)-[r]-(m) \n",
    "    WHERE NOT m IN nodes and r.description is not null\n",
    "    RETURN r.description AS descriptionText\n",
    "    ORDER BY r.rank, r.weight DESC \n",
    "    LIMIT $topOutsideRels\n",
    "} as outsideRels,\n",
    "// Inside Relationships \n",
    "collect {\n",
    "    UNWIND nodes as n\n",
    "    MATCH (n)-[r]-(m) \n",
    "    WHERE m IN nodes and r.description is not null\n",
    "    RETURN r.description AS descriptionText\n",
    "    ORDER BY r.rank, r.weight DESC \n",
    "    LIMIT $topInsideRels\n",
    "} as insideRels,\n",
    "// Entities description\n",
    "collect {\n",
    "    UNWIND nodes as n\n",
    "    match (n)\n",
    "    WHERE n.description is not null\n",
    "    RETURN n.description AS descriptionText\n",
    "} as entities\n",
    "// We don't have covariates or claims here\n",
    "RETURN {Chunks: text_mapping, Reports: report_mapping, \n",
    "       Relationships: outsideRels + insideRels, \n",
    "       Entities: entities} AS text, 1.0 AS score, {} AS metadata\n",
    "\"\"\"\n",
    "\n",
    "vectorstore = Neo4jVector.from_existing_graph(embedding=embedding, \n",
    "                                    index_name=\"embedding\",\n",
    "                                    node_label='__Entity__', \n",
    "                                    embedding_node_property='embedding', \n",
    "                                    text_node_properties=['id', 'description'],\n",
    "                                    retrieval_query=lc_retrieval_query)"
   ]
  },
  {
   "cell_type": "code",
   "execution_count": 25,
   "metadata": {},
   "outputs": [],
   "source": [
    "topChunks = 3\n",
    "topCommunities = 3\n",
    "topOutsideRels = 10\n",
    "topInsideRels = 10\n",
    "topEntities = 10"
   ]
  },
  {
   "cell_type": "code",
   "execution_count": 26,
   "metadata": {},
   "outputs": [],
   "source": [
    "os.environ[\"NEO4J_URI\"] = \"bolt://localhost:7687\"\n",
    "os.environ[\"NEO4J_USERNAME\"] = \"neo4j\"\n",
    "os.environ[\"NEO4J_PASSWORD\"] = \"2wsx3edc\""
   ]
  },
  {
   "cell_type": "code",
   "execution_count": 30,
   "metadata": {},
   "outputs": [
    {
     "name": "stdout",
     "output_type": "stream",
     "text": [
      "Entities:\n",
      "- 首期保險費採自行匯款者，可透過銀行/郵局以匯款/劃撥方式繳交，並可利用e-bill首期立即繳費及中信ATM繳費。\n",
      "- 匯款銀行\n",
      "- 匯款銀行\n",
      "- 匯款銀行\n",
      "- 保戶可透過全國繳費網平台繳納首期保險費，可以「非約定帳戶」或「晶片金融卡」 (網路ATM)繳費。僅開放台幣保單且繳款人應為要保人\n",
      "- 無法授權扣款\n",
      "Reports:\n",
      "- 在同一社區中，有三個節點，分別是「四、 首期保險費-採自行匯款管道」、「(二) 外幣-首期匯款帳號」和「(一) 台幣-首期匯款帳號【業務通路適用】」。其中，「四、 首期保險費-採自行匯款管道」包含了「(二) 外幣-首期匯款帳號」和「(一) 台幣-首期匯款帳號【業務通路適用】」這兩個子節點。\n",
      "- 在這個社區中，有三個主要概念節點和兩個關係。首先，「要保人與授權人不同一人」這個概念強調電話行銷人員需要取得授權人簽名的紙本「保險費信用卡付款授權書」的正本或影本。其次，「再行確認之機制」這個概念涉及指派非銷售人員以電話回訪方式確認授權人的各種信息，並向銀行驗證這些信息的正確性，經銀行驗證後才向銀行請款並寄發保單。最後，「首期保險費-採自行匯款作業」這個概念說明首期保險費可以通過銀行或郵局以匯款或劃撥方式繳交，並可利用e-bill或中信ATM進行繳費。\n",
      "\n",
      "在關係方面，「再行確認之機制」與「首期保險費-採自行匯款作業」和「要保人與授權人不同一人」這兩個概念相關聯，顯示出再行確認機制在保險費繳交和授權人確認過程中的重要性。\n",
      "- 在同一社區中，有三個節點，分別是「四、 首期保險費-採自行匯款管道」、「(二) 外幣-首期匯款帳號」和「(一) 台幣-首期匯款帳號【業務通路適用】」。其中，「四、 首期保險費-採自行匯款管道」包含了「(二) 外幣-首期匯款帳號」和「(一) 台幣-首期匯款帳號【業務通路適用】」這兩個子節點。\n",
      "Chunks:\n",
      "- 。  ### 相關規定  1. **金融機構轉帳**    - 使用金融機構轉帳，需待核印成功(另新契約需待核保通過)後，始進行扣款作業。    - 請務必親視並確認授權書各項資料、簽名、印章及帳號填寫完整及正確。  2. **信用卡繳費**    - 使用信用卡，信用卡卡號及授權人身分證統一編號須送「信用卡輔助持卡人身分驗證平台」，經驗證成功始得進行首期保險費信用卡扣款作業。    - 首期使用信用卡繳費，需待核保通過後，始進行扣款作業。  3. **自行匯款**    - 首期保險費為自行繳費且同時附「保險費暨保險單借款利息自動轉帳付款授權書」，首期保險費即與續期保險費同享有1%之保費折扣。（個別商品另有規定者除外）。  4. **支票**    - 業務人員無代收保戶支票之授權。 目錄 壹、 繳交保險費應注意事項 . 1 貳、 繳款人相關規定 . 3 一、 繳款人身分 .. 3 二、 繳費方式及受理應檢附文件  3 三、 自動轉帳及信用卡付款授權書作業規範【加強身分驗證機制】  4 參、 首期保險費繳交方式及相關規定  6 一、 首期保險費-採金融機構轉帳作業  6 二、 首期保險費-採信用卡扣款作業  7 三、 首期保險費-採自行匯款作業 . 8 四、 首期保險費-採自行匯款管道 . 8 (一) 台幣-首期匯款帳號【業務通路適用】  8 (二) 外幣-首期匯款帳號【業務通路適用】  9 (三) WEB立即繳費 . 10 (四) 中信ATM繳費(操作方式詳官網) .. 10 肆、 續期保險費繳交方式及相關規定 . 11 一、 續期保險費-採金融機構轉帳作業 .. 11 二、 續期保險費-採信用卡扣款作業 .. 13 三、 續期保險費-採自行繳費作業  15 四、 高齡關懷電訪作業 .. 17 五、 續期保險費扣款不成通知方式 . 18 伍、 各金融機構核印、扣款時間及相關規定 . 21 陸、 保單貸款還款息 .. 23 一、 保單貸款之繳息通知 . 23 二、 保單借款之還款息帳號  24 柒、 行動保全續期保費服務說明(僅適用業務通路)  25 壹、 繳交保險費應注意事項 一、 因應「保險業保險經紀人公司及保險代理人公司防範保險業務員挪用侵占保戶款項相關內控作 業規定」，考量現行保險費繳納管道及方式多元，基於維護客戶權益及避免保險費繳納之爭議， 本公司訂有業務人員不得代為收受保戶款項之規範： (一) 不得代收以現金、支票繳納新契約首期保險費。 (二) 不得代收以現金、支票繳納續期保險費(含保全保險費、保單補發工本費)、保單還款金額。 (三) 不得代收以現金、客票繳納團體保險及旅行平安險之保險費。 (四) 惟業務人員為該保單之保單關係人除外，其他未經授權代收款項亦同上述規範\n",
      "- 。 - **郵局劃撥**: 至郵局劃撥至本公司各地分公司之劃撥帳號：   - 台北: 11851115   - 新竹: 01103183   - 台中: 00219012   - 嘉義: 00353812   - 台南: 00311131   - 高雄: 00413321   - 東部: 06430636 - **郵局劃撥**: 至郵局劃撥至本公司之郵政劃撥帳號：50120507。 - **匯款**: 依轄屬分公司本公司各地分公司之指定   - 匯款銀行：822 中國信託商業銀行城中分行   - 匯入帳號：3562+1 碼(類別)+10 碼(保單號碼)+1 碼(檢核碼)共計16 碼 - **台幣實體帳號**  #### 外幣保單  - **匯款**:    - 匯款銀行：CTBC Bank Co.,Ltd(中國信託銀行)   - 戶名：台灣人壽保險股份有限公司   - SWIFT CODE：CTCBTWTPXXX   - 虛擬帳號：95432+保單號碼10 碼+檢查碼(共16 碼) - **匯款**:    - 匯款銀行：CTBC Bank Co.,Ltd(中國信託銀行)   - 戶名：台灣人壽保險股份有限公司   - SWIFT CODE：CTCBTWTPXXX   - 匯入帳號：95265+保單號碼10 碼(共15碼)  ### 註  1. 請於劃撥單通訊欄中/匯款單載明保單號碼、要保人姓名、聯絡電話及借款/墊繳本息各自清償金額。 2. 虛擬帳號轉換碼：請電洽本公司客服專線 0800-099-850/(02)8170-5156 或上本公司會員網站-網路會員專區(保戶的家)查詢。 3. 保戶須自行負擔匯款手續費。 4. 繳款人限保單關係人，如非保單關係人，需於繳費後檢附身分/關係證明文件影本，與匯款單影本一併傳真至(02)6603-1909，傳真後請電洽客戶服務二部作業一科確認。相關規定請參照繳費方式及受理應檢附文件。 5. 繳費完成後，還款收據一律由本公司郵寄於保戶。 柒、 行動保全續期保費服務說明(僅適用業務通路)  # 服務項目與操作步驟  ## 一、 服務項目  1. 續期保費信用卡授權 2. 續期保費信用卡效期變更 3. 續期保費信用卡終止授權  ## 二、 文件簽署（確認使用 IPAD 申請保全服務）  1. 簽署紙本「行動投保系統確認同意書」後，始得以線上簽名方式簽署要保文件。 2. 可採一次性密碼（OTP）驗證：首次申請 OTP 驗證成功、保全變更成功及電訪成功後，下次申請保全服務時可以 OTP 驗證方式取代簽署紙本「行動保全系統確認同意書暨 OTP 驗證申請書」。  註：保戶使用行動保全申請保全服務之驗證方式，請詳「個人保險保單服務暨契約變更手冊」\n",
      "- 【業務通路適用】 ※ 共有 11 個虛擬帳號及1 個實體帳號  以下是關於企業外幣繳款的詳細資訊：  ### 類型：虛擬帳號  - **中國信託**   - 識別碼：95301   - SWIFT Code：CTCBTWTPXXX   - 承辦分行：城中分行   - 繳款書：Y   - 表單：X   - 自行繳款：0元   - 跨行匯款：依銀行規定  - **兆豐銀行**   - 識別碼：88601   - SWIFT Code：ICBCTWTP   - 承辦分行：城中分行   - 繳款書：Y   - 表單：X   - 自行繳款：0元   - 跨行匯款：依銀行規定  - **第一銀行**   - 識別碼：12101   - SWIFT Code：FCBKTWTP   - 承辦分行：建成分行   - 繳款書：Y   - 表單：X   - 自行繳款：新台幣100元   - 跨行匯款：依銀行規定  - **彰化銀行**   - 識別碼：90558   - SWIFT Code：CCBCTWTP   - 承辦分行：總部   - 繳款書：Y   - 表單：X   - 自行繳款：0元   - 跨行匯款：依銀行規定  - **台新銀行**   - 識別碼：96116   - SWIFT Code：TSIBTWTP   - 承辦分行：建北分行   - 繳款書：Y   - 表單：X   - 自行繳款：0元   - 跨行匯款：依銀行規定  - **元大銀行**   - 識別碼：98373   - SWIFT Code：APBKTWTH   - 承辦分行：城中分行   - 繳款書：Y   - 表單：X   - 自行繳款：0元   - 跨行匯款：依銀行規定  - **永豐銀行**   - 識別碼：80181   - SWIFT Code：SINOTWTP   - 承辦分行：營業部   - 繳款書：Y   - 表單：X   - 自行繳款：0元   - 跨行匯款：無跨行服務  - **匯豐銀行（美金）**   - 識別碼：70171   - SWIFT Code：HSBCTWTP   - 承辦分行：匯豐（台灣）   - 繳款書：○   - 表單：自行轉帳申請書   - 自行繳款：0元   - 跨行匯款：依銀行規定  - **華南銀行**   - 識別碼：95240   - SWIFT Code：HNBKTWTP   - 承辦分行：營業部   - 繳款書：○   - 表單：匯出匯款申請書   - 自行繳款：0元   - 跨行匯款：依銀行規定  - **國泰世華**   - 識別碼：96373   - SWIFT Code：UWCBTWTP   - 承辦分行：館前分行   - 繳款書：○   - 表單：外匯活期存款取款憑條   - 自行繳款：0元   - 跨行匯款：無跨行服務  - **合作金庫**   - 識別碼：92501   - SWIFT Code：TACBTWTP505   - 承辦分行：世貿分行   - 繳款書：○   - 表單：外匯存摺存款申請書   - 自行繳款：新台幣100元   - 跨行匯款：依銀行規定  ### 類型：實體帳號  - **土地銀行營業部**   - 帳號：088101162189   - 摘要請填寫要保人姓名或ID   - 表單：外匯活期存款存入憑條   - 自行繳款：保費萬分之五且最低新台幣200元最高新台幣800元   - 跨行匯款：X  ### 備註  - 外幣繳款書欄位為Y：表示繳款文件為建議書產生之外幣繳款書，保戶不需再另填銀行任何文件\n",
      "Relationships:\n",
      "- 無法授權扣款\n",
      "- 無法授權扣款\n",
      "\n"
     ]
    }
   ],
   "source": [
    "docs = vectorstore.similarity_search(\n",
    "    \"首期匯款帳號有哪些銀行, 匯款帳號是什麼?\",\n",
    "    k=topEntities,\n",
    "    params={\n",
    "        \"topChunks\": topChunks,\n",
    "        \"topCommunities\": topCommunities,\n",
    "        \"topOutsideRels\": topOutsideRels,\n",
    "        \"topInsideRels\": topInsideRels,\n",
    "    },\n",
    ")\n",
    "print(docs[0].page_content)"
   ]
  },
  {
   "cell_type": "code",
   "execution_count": 30,
   "metadata": {},
   "outputs": [
    {
     "data": {
      "text/plain": [
       "[Document(page_content='Entities:\\n- 首期保險費是保戶首次繳交的保險費用，採用金融機構轉帳作業。\\n- 因核印失敗、請款失敗或主動異動繳費管道者，其生效日認定依「新契約首期保險費繳費管道異動之繳費日認定原則」辦理。\\n- 依各險種投保規則辦理\\n- 轉帳扣款作業需經核印成功且同意承保後始得進行。\\n- 保戶指的是與保險公司簽約的個人或團體。\\n- 需填寫授權書，繳款人為非保單關係人時須檢附關係證明文件。相關規定請參照繳費方式及受理應檢附文件。\\n- 不得為空白授權，應依是否取得保單號碼填寫相關欄位，未填寫完整須重新檢附授權書\\n- 核印和扣款時間需參照各金融機構的相關規定。\\n- 需至各銀行臨櫃留存印鑑，核印成功後便能授權扣款。\\n- 須留存金融機構之印鑑或簽章樣式\\nReports:\\n- 在同一社區中，有兩個重要的節點和一個關鍵的關係。節點包括：\\n\\n1. 一個沒有特定類型的節點，描述的是「新契約首期保險費繳費管道異動之繳費日認定原則」。\\n2. 一個類型為「概念」的節點，描述的是「新契約」。具體內容為：因核印失敗、請款失敗或主動異動繳費管道者，其生效日認定依「新契約首期保險費繳費管道異動之繳費日認定原則」辦理。\\n\\n這兩個節點之間存在一個關係：「新契約」依照「新契約首期保險費繳費管道異動之繳費日認定原則」來進行生效日認定。\\n- None\\n- 在同一個社區中，有以下的資訊：\\n\\n1. 要保人（Person）：在授權書要保人欄位內須簽章，並且簽章需與要保書相同。\\n2. 保險費暨保險單借款利息自動轉帳付款授權書（Document）：需要填寫授權書，當繳款人非保單關係人時，需附上關係證明文件，詳情請參照繳費方式及應檢附文件。\\n3. 授權人（Person）：需留存金融機構的印鑑或簽章樣式。\\n\\n關係如下：\\n- 保險費暨保險單借款利息自動轉帳付款授權書需要授權人，授權人需留存金融機構的印鑑或簽章樣式。\\n- 保險費暨保險單借款利息自動轉帳付款授權書需要要保人，要保人需在授權書要保人欄位簽章，且簽章需與要保書相同。\\nChunks:\\n- ，經核印成功 (且 同意承保 )始得進行首期保險費 轉帳扣款作業 。核印、扣款時間 請參照各金融機構核印、 扣款時間及相關規定 。  5. 數位帳戶 請至各銀行臨櫃留存印鑑、核印成功便能授權扣款 (土地銀行、合作金庫、第一 銀行此三家銀行無法授權扣款 )。  6. 生效日認定：   (1) 保單生效日 認定依「生效日期之認定原則 」辦理。  (2) 因核印失敗、請款失敗或 新契約於核保中主動異動繳 費管道者，其生效日認定 依「新 契約首期保險費繳費管道異動之 繳費日認定原則 」辦理。   7. 保費折扣： 以金融機構轉帳 繳交保險費\\n-                                                                 回目錄   6  版次： 113年07月版                                                                                            修訂日期： 113.0 7.01 參、  首期保險費繳交方式及相關規定   一、  首期保險費 -採金融機構 轉帳作業  (一) 首期保險費採 金融機構轉帳作業 應注意事項   1. 首期保險費由保戶 約定於本公司 簽約之金融機構所開立之活期帳戶扣款 \\n- ，需填寫「保險費暨保險單借款利息自動轉帳付款授權 書(下稱授權書 )，繳款人為非保單關係人時 須檢附關係證明文件。 相關規定請參照 繳費方 式及受理應檢附文件 。  3. 要保人須於授權書要保人欄位簽 章並與要保書 簽章相同，授權人須留存金融機構之印鑑或 簽章樣式 。  4. 授權書須送予授權之金融機構核對 授權人身分證 統一編號 及印鑑/簽章\\nRelationships:\\n- None\\n- None\\n- None\\n- None\\n- 生效日認定。\\n- None\\n- None\\n- None\\n- None\\n- None\\n- 首期保險費由保戶約定於本公司簽約之金融機構所開立之活期帳戶扣款。\\n- None\\n- None\\n- 核印和扣款時間需參照各金融機構的相關規定。\\n- 首期保險費由保戶繳交。\\n- 授權人須留存金融機構之印鑑或簽章樣式\\n- 核印和扣款時間需參照各金融機構的相關規定。\\n- 授權書須送予授權之金融機構核對授權人身分證統一編號及印鑑/簽章\\n- 首期保險費由保戶約定於本公司簽約之金融機構所開立之活期帳戶扣款。\\n- 首期保險費由保戶繳交。\\n')]"
      ]
     },
     "execution_count": 30,
     "metadata": {},
     "output_type": "execute_result"
    }
   ],
   "source": [
    "docs"
   ]
  }
 ],
 "metadata": {
  "kernelspec": {
   "display_name": "Python 3 (ipykernel)",
   "language": "python",
   "name": "python3"
  },
  "language_info": {
   "codemirror_mode": {
    "name": "ipython",
    "version": 3
   },
   "file_extension": ".py",
   "mimetype": "text/x-python",
   "name": "python",
   "nbconvert_exporter": "python",
   "pygments_lexer": "ipython3",
   "version": "3.12.6"
  }
 },
 "nbformat": 4,
 "nbformat_minor": 4
}
