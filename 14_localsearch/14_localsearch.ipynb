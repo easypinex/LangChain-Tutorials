{
 "cells": [
  {
   "cell_type": "code",
   "execution_count": 9,
   "metadata": {},
   "outputs": [],
   "source": [
    "import os\n",
    "\n",
    "from langchain_community.graphs import Neo4jGraph\n",
    "\n",
    "os.environ[\"NEO4J_URI\"] = \"bolt://localhost:7687\"\n",
    "os.environ[\"NEO4J_USERNAME\"] = \"neo4j\"\n",
    "os.environ[\"NEO4J_PASSWORD\"] = \"2wsx3edc\"\n",
    "\n",
    "graph = Neo4jGraph()"
   ]
  },
  {
   "cell_type": "code",
   "execution_count": 10,
   "metadata": {},
   "outputs": [
    {
     "data": {
      "text/plain": [
       "[]"
      ]
     },
     "execution_count": 10,
     "metadata": {},
     "output_type": "execute_result"
    }
   ],
   "source": [
    "graph.query(\n",
    "    \"\"\"\n",
    "MATCH (n:`__Community__`)<-[:IN_COMMUNITY]-()<-[:HAS_ENTITY]-(c)\n",
    "WITH n, count(distinct c) AS chunkCount\n",
    "SET n.weight = chunkCount\"\"\"\n",
    ")"
   ]
  },
  {
   "cell_type": "code",
   "execution_count": 11,
   "metadata": {},
   "outputs": [],
   "source": [
    "from langchain_openai import AzureOpenAIEmbeddings\n",
    "\n",
    "embedding = AzureOpenAIEmbeddings(\n",
    "    model=\"text-embedding-ada-002\",\n",
    "    azure_endpoint='https://lang-chain-dev.openai.azure.com/openai/deployments/text-embedding-ada-002/embeddings?api-version=2023-05-15',\n",
    "    azure_deployment='text-embedding-ada-002',\n",
    "    openai_api_version='2023-05-15'\n",
    ")"
   ]
  },
  {
   "cell_type": "code",
   "execution_count": 12,
   "metadata": {},
   "outputs": [],
   "source": [
    "from langchain_community.vectorstores import Neo4jVector\n",
    "\n",
    "lc_retrieval_query = \"\"\"\n",
    "WITH collect(node) as nodes\n",
    "// Entity - Text Unit Mapping\n",
    "WITH\n",
    "collect {\n",
    "    UNWIND nodes as n\n",
    "    MATCH (n)<-[:HAS_ENTITY]->(c:__Chunk__)\n",
    "    WITH c, count(distinct n) as freq\n",
    "    RETURN c.content AS chunkText\n",
    "    ORDER BY freq DESC\n",
    "    LIMIT $topChunks\n",
    "} AS text_mapping,\n",
    "// Entity - Report Mapping\n",
    "collect {\n",
    "    UNWIND nodes as n\n",
    "    MATCH (n)-[:IN_COMMUNITY]->(c:__Community__)\n",
    "    WITH c, c.rank as rank, c.weight AS weight\n",
    "    RETURN c.summary \n",
    "    ORDER BY rank, weight DESC\n",
    "    LIMIT $topCommunities\n",
    "} AS report_mapping,\n",
    "// Outside Relationships \n",
    "collect {\n",
    "    UNWIND nodes as n\n",
    "    MATCH (n)-[r:RELATED]-(m) \n",
    "    WHERE NOT m IN nodes\n",
    "    RETURN r.description AS descriptionText\n",
    "    ORDER BY r.rank, r.weight DESC \n",
    "    LIMIT $topOutsideRels\n",
    "} as outsideRels,\n",
    "// Inside Relationships \n",
    "collect {\n",
    "    UNWIND nodes as n\n",
    "    MATCH (n)-[r:RELATED]-(m) \n",
    "    WHERE m IN nodes\n",
    "    RETURN r.description AS descriptionText\n",
    "    ORDER BY r.rank, r.weight DESC \n",
    "    LIMIT $topInsideRels\n",
    "} as insideRels,\n",
    "// Entities description\n",
    "collect {\n",
    "    UNWIND nodes as n\n",
    "    RETURN n.description AS descriptionText\n",
    "} as entities\n",
    "// We don't have covariates or claims here\n",
    "RETURN {Chunks: text_mapping, Reports: report_mapping, \n",
    "       Relationships: outsideRels + insideRels, \n",
    "       Entities: entities} AS text, 1.0 AS score, {} AS metadata\n",
    "\"\"\"\n",
    "\n",
    "vectorstore = Neo4jVector.from_existing_graph(embedding=embedding, \n",
    "                                    index_name=\"description_embedding\",\n",
    "                                    node_label='__Entity__', \n",
    "                                    embedding_node_property='description_embedding', \n",
    "                                    text_node_properties=['description'],\n",
    "                                    retrieval_query=lc_retrieval_query)"
   ]
  },
  {
   "cell_type": "code",
   "execution_count": 13,
   "metadata": {},
   "outputs": [],
   "source": [
    "topChunks = 3\n",
    "topCommunities = 3\n",
    "topOutsideRels = 10\n",
    "topInsideRels = 10\n",
    "topEntities = 10"
   ]
  },
  {
   "cell_type": "code",
   "execution_count": 14,
   "metadata": {},
   "outputs": [],
   "source": [
    "os.environ[\"NEO4J_URI\"] = \"bolt://localhost:7687\"\n",
    "os.environ[\"NEO4J_USERNAME\"] = \"neo4j\"\n",
    "os.environ[\"NEO4J_PASSWORD\"] = \"2wsx3edc\""
   ]
  },
  {
   "cell_type": "code",
   "execution_count": 15,
   "metadata": {},
   "outputs": [
    {
     "name": "stderr",
     "output_type": "stream",
     "text": [
      "Received notification from DBMS server: {severity: WARNING} {code: Neo.ClientNotification.Statement.UnknownRelationshipTypeWarning} {category: UNRECOGNIZED} {title: The provided relationship type is not in the database.} {description: One of the relationship types in your query is not available in the database, make sure you didn't misspell it or that the label is available when you run this statement in your application (the missing relationship type is: RELATED)} {position: line: 25, column: 18, offset: 679} for query: \"CALL db.index.vector.queryNodes($index, $k, $embedding) YIELD node, score \\nWITH collect(node) as nodes\\n// Entity - Text Unit Mapping\\nWITH\\ncollect {\\n    UNWIND nodes as n\\n    MATCH (n)<-[:HAS_ENTITY]->(c:__Chunk__)\\n    WITH c, count(distinct n) as freq\\n    RETURN c.content AS chunkText\\n    ORDER BY freq DESC\\n    LIMIT $topChunks\\n} AS text_mapping,\\n// Entity - Report Mapping\\ncollect {\\n    UNWIND nodes as n\\n    MATCH (n)-[:IN_COMMUNITY]->(c:__Community__)\\n    WITH c, c.rank as rank, c.weight AS weight\\n    RETURN c.summary \\n    ORDER BY rank, weight DESC\\n    LIMIT $topCommunities\\n} AS report_mapping,\\n// Outside Relationships \\ncollect {\\n    UNWIND nodes as n\\n    MATCH (n)-[r:RELATED]-(m) \\n    WHERE NOT m IN nodes\\n    RETURN r.description AS descriptionText\\n    ORDER BY r.rank, r.weight DESC \\n    LIMIT $topOutsideRels\\n} as outsideRels,\\n// Inside Relationships \\ncollect {\\n    UNWIND nodes as n\\n    MATCH (n)-[r:RELATED]-(m) \\n    WHERE m IN nodes\\n    RETURN r.description AS descriptionText\\n    ORDER BY r.rank, r.weight DESC \\n    LIMIT $topInsideRels\\n} as insideRels,\\n// Entities description\\ncollect {\\n    UNWIND nodes as n\\n    RETURN n.description AS descriptionText\\n} as entities\\n// We don't have covariates or claims here\\nRETURN {Chunks: text_mapping, Reports: report_mapping, \\n       Relationships: outsideRels + insideRels, \\n       Entities: entities} AS text, 1.0 AS score, {} AS metadata\\n\"\n",
      "Received notification from DBMS server: {severity: WARNING} {code: Neo.ClientNotification.Statement.UnknownRelationshipTypeWarning} {category: UNRECOGNIZED} {title: The provided relationship type is not in the database.} {description: One of the relationship types in your query is not available in the database, make sure you didn't misspell it or that the label is available when you run this statement in your application (the missing relationship type is: RELATED)} {position: line: 34, column: 18, offset: 916} for query: \"CALL db.index.vector.queryNodes($index, $k, $embedding) YIELD node, score \\nWITH collect(node) as nodes\\n// Entity - Text Unit Mapping\\nWITH\\ncollect {\\n    UNWIND nodes as n\\n    MATCH (n)<-[:HAS_ENTITY]->(c:__Chunk__)\\n    WITH c, count(distinct n) as freq\\n    RETURN c.content AS chunkText\\n    ORDER BY freq DESC\\n    LIMIT $topChunks\\n} AS text_mapping,\\n// Entity - Report Mapping\\ncollect {\\n    UNWIND nodes as n\\n    MATCH (n)-[:IN_COMMUNITY]->(c:__Community__)\\n    WITH c, c.rank as rank, c.weight AS weight\\n    RETURN c.summary \\n    ORDER BY rank, weight DESC\\n    LIMIT $topCommunities\\n} AS report_mapping,\\n// Outside Relationships \\ncollect {\\n    UNWIND nodes as n\\n    MATCH (n)-[r:RELATED]-(m) \\n    WHERE NOT m IN nodes\\n    RETURN r.description AS descriptionText\\n    ORDER BY r.rank, r.weight DESC \\n    LIMIT $topOutsideRels\\n} as outsideRels,\\n// Inside Relationships \\ncollect {\\n    UNWIND nodes as n\\n    MATCH (n)-[r:RELATED]-(m) \\n    WHERE m IN nodes\\n    RETURN r.description AS descriptionText\\n    ORDER BY r.rank, r.weight DESC \\n    LIMIT $topInsideRels\\n} as insideRels,\\n// Entities description\\ncollect {\\n    UNWIND nodes as n\\n    RETURN n.description AS descriptionText\\n} as entities\\n// We don't have covariates or claims here\\nRETURN {Chunks: text_mapping, Reports: report_mapping, \\n       Relationships: outsideRels + insideRels, \\n       Entities: entities} AS text, 1.0 AS score, {} AS metadata\\n\"\n"
     ]
    },
    {
     "name": "stdout",
     "output_type": "stream",
     "text": [
      "Entities:\n",
      "Reports:\n",
      "Chunks:\n",
      "Relationships:\n",
      "\n"
     ]
    }
   ],
   "source": [
    "docs = vectorstore.similarity_search(\n",
    "    \"你對台灣人壽知道多少\",\n",
    "    k=topEntities,\n",
    "    params={\n",
    "        \"topChunks\": topChunks,\n",
    "        \"topCommunities\": topCommunities,\n",
    "        \"topOutsideRels\": topOutsideRels,\n",
    "        \"topInsideRels\": topInsideRels,\n",
    "    },\n",
    ")\n",
    "print(docs[0].page_content)"
   ]
  },
  {
   "cell_type": "code",
   "execution_count": 16,
   "metadata": {},
   "outputs": [
    {
     "data": {
      "text/plain": [
       "[Document(page_content='Entities:\\nReports:\\nChunks:\\nRelationships:\\n')]"
      ]
     },
     "execution_count": 16,
     "metadata": {},
     "output_type": "execute_result"
    }
   ],
   "source": [
    "docs"
   ]
  }
 ],
 "metadata": {
  "kernelspec": {
   "display_name": "lagch",
   "language": "python",
   "name": "python3"
  },
  "language_info": {
   "codemirror_mode": {
    "name": "ipython",
    "version": 3
   },
   "file_extension": ".py",
   "mimetype": "text/x-python",
   "name": "python",
   "nbconvert_exporter": "python",
   "pygments_lexer": "ipython3",
   "version": "3.12.5"
  }
 },
 "nbformat": 4,
 "nbformat_minor": 2
}
