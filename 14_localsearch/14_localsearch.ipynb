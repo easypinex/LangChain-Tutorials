{
 "cells": [
  {
   "cell_type": "code",
   "execution_count": 4,
   "metadata": {},
   "outputs": [],
   "source": [
    "import os\n",
    "\n",
    "from langchain_community.graphs import Neo4jGraph\n",
    "\n",
    "os.environ[\"NEO4J_URI\"] = \"bolt://localhost:7687\"\n",
    "os.environ[\"NEO4J_USERNAME\"] = \"neo4j\"\n",
    "os.environ[\"NEO4J_PASSWORD\"] = \"2wsx3edc\"\n",
    "\n",
    "graph = Neo4jGraph()"
   ]
  },
  {
   "cell_type": "code",
   "execution_count": 5,
   "metadata": {},
   "outputs": [
    {
     "data": {
      "text/plain": [
       "[]"
      ]
     },
     "execution_count": 5,
     "metadata": {},
     "output_type": "execute_result"
    }
   ],
   "source": [
    "graph.query(\n",
    "    \"\"\"\n",
    "MATCH (n:`__Community__`)<-[:IN_COMMUNITY]-()<-[:HAS_ENTITY]-(c)\n",
    "WITH n, count(distinct c) AS chunkCount\n",
    "SET n.weight = chunkCount\"\"\"\n",
    ")"
   ]
  },
  {
   "cell_type": "code",
   "execution_count": 6,
   "metadata": {},
   "outputs": [],
   "source": [
    "# from langchain_openai import AzureOpenAIEmbeddings\n",
    "\n",
    "# embedding = AzureOpenAIEmbeddings(\n",
    "#     model=\"text-embedding-ada-002\",\n",
    "#     azure_endpoint='https://lang-chain-dev.openai.azure.com/openai/deployments/text-embedding-ada-002/embeddings?api-version=2023-05-15',\n",
    "#     azure_deployment='text-embedding-ada-002',\n",
    "#     openai_api_version='2023-05-15'\n",
    "# )"
   ]
  },
  {
   "cell_type": "code",
   "execution_count": 7,
   "metadata": {},
   "outputs": [
    {
     "name": "stderr",
     "output_type": "stream",
     "text": [
      "/storage/pyenv/versions/3.12.5/envs/ACP_LLM_312/lib/python3.12/site-packages/sentence_transformers/cross_encoder/CrossEncoder.py:11: TqdmExperimentalWarning: Using `tqdm.autonotebook.tqdm` in notebook mode. Use `tqdm.tqdm` instead to force console mode (e.g. in jupyter console)\n",
      "  from tqdm.autonotebook import tqdm, trange\n",
      "/storage/pyenv/versions/3.12.5/envs/ACP_LLM_312/lib/python3.12/site-packages/sentence_transformers/models/Dense.py:89: FutureWarning: You are using `torch.load` with `weights_only=False` (the current default value), which uses the default pickle module implicitly. It is possible to construct malicious pickle data which will execute arbitrary code during unpickling (See https://github.com/pytorch/pytorch/blob/main/SECURITY.md#untrusted-models for more details). In a future release, the default value for `weights_only` will be flipped to `True`. This limits the functions that could be executed during unpickling. Arbitrary objects will no longer be allowed to be loaded via this mode unless they are explicitly allowlisted by the user via `torch.serialization.add_safe_globals`. We recommend you start setting `weights_only=True` for any use case where you don't have full control of the loaded file. Please open an issue on GitHub for any issues related to this experimental feature.\n",
      "  torch.load(os.path.join(input_path, \"pytorch_model.bin\"), map_location=torch.device(\"cpu\"))\n"
     ]
    }
   ],
   "source": [
    "from langchain_community.vectorstores import Neo4jVector\n",
    "# ! pip3 install -U langchain-huggingface\n",
    "import os\n",
    "os.environ['SENTENCE_TRANSFORMERS_HOME'] = '/storage/models/embedding_models'\n",
    "from langchain_huggingface import HuggingFaceEmbeddings\n",
    "# Choose from https://huggingface.co/spaces/mteb/leaderboard\n",
    "embedding = HuggingFaceEmbeddings(model_name=\"lier007/xiaobu-embedding-v2\")"
   ]
  },
  {
   "cell_type": "code",
   "execution_count": 8,
   "metadata": {},
   "outputs": [],
   "source": [
    "from langchain_community.vectorstores import Neo4jVector\n",
    "\n",
    "lc_retrieval_query = \"\"\"\n",
    "WITH collect(node) as nodes\n",
    "// Entity - Text Unit Mapping\n",
    "WITH\n",
    "collect {\n",
    "    UNWIND nodes as n\n",
    "    MATCH (n)<-[:HAS_ENTITY]->(c:__Chunk__)\n",
    "    WITH c, count(distinct n) as freq\n",
    "    RETURN c.content AS chunkText\n",
    "    ORDER BY freq DESC\n",
    "    LIMIT $topChunks\n",
    "} AS text_mapping,\n",
    "// Entity - Report Mapping\n",
    "collect {\n",
    "    UNWIND nodes as n\n",
    "    MATCH (n)-[:IN_COMMUNITY]->(c:__Community__)\n",
    "    WITH c, c.rank as rank, c.weight AS weight\n",
    "    RETURN c.summary \n",
    "    ORDER BY rank, weight DESC\n",
    "    LIMIT $topCommunities\n",
    "} AS report_mapping,\n",
    "// Outside Relationships \n",
    "collect {\n",
    "    UNWIND nodes as n\n",
    "    MATCH (n)-[r]-(m) \n",
    "    WHERE NOT m IN nodes\n",
    "    RETURN r.description AS descriptionText\n",
    "    ORDER BY r.rank, r.weight DESC \n",
    "    LIMIT $topOutsideRels\n",
    "} as outsideRels,\n",
    "// Inside Relationships \n",
    "collect {\n",
    "    UNWIND nodes as n\n",
    "    MATCH (n)-[r]-(m) \n",
    "    WHERE m IN nodes\n",
    "    RETURN r.description AS descriptionText\n",
    "    ORDER BY r.rank, r.weight DESC \n",
    "    LIMIT $topInsideRels\n",
    "} as insideRels,\n",
    "// Entities description\n",
    "collect {\n",
    "    UNWIND nodes as n\n",
    "    RETURN n.description AS descriptionText\n",
    "} as entities\n",
    "// We don't have covariates or claims here\n",
    "RETURN {Chunks: text_mapping, Reports: report_mapping, \n",
    "       Relationships: outsideRels + insideRels, \n",
    "       Entities: entities} AS text, 1.0 AS score, {} AS metadata\n",
    "\"\"\"\n",
    "\n",
    "vectorstore = Neo4jVector.from_existing_graph(embedding=embedding, \n",
    "                                    index_name=\"description_embedding\",\n",
    "                                    node_label='__Entity__', \n",
    "                                    embedding_node_property='description_embedding', \n",
    "                                    text_node_properties=['description'],\n",
    "                                    retrieval_query=lc_retrieval_query)"
   ]
  },
  {
   "cell_type": "code",
   "execution_count": 9,
   "metadata": {},
   "outputs": [],
   "source": [
    "topChunks = 3\n",
    "topCommunities = 3\n",
    "topOutsideRels = 10\n",
    "topInsideRels = 10\n",
    "topEntities = 10"
   ]
  },
  {
   "cell_type": "code",
   "execution_count": 10,
   "metadata": {},
   "outputs": [],
   "source": [
    "os.environ[\"NEO4J_URI\"] = \"bolt://localhost:7687\"\n",
    "os.environ[\"NEO4J_USERNAME\"] = \"neo4j\"\n",
    "os.environ[\"NEO4J_PASSWORD\"] = \"2wsx3edc\""
   ]
  },
  {
   "cell_type": "code",
   "execution_count": 11,
   "metadata": {},
   "outputs": [
    {
     "name": "stderr",
     "output_type": "stream",
     "text": [
      "Received notification from DBMS server: {severity: WARNING} {code: Neo.ClientNotification.Statement.UnknownRelationshipTypeWarning} {category: UNRECOGNIZED} {title: The provided relationship type is not in the database.} {description: One of the relationship types in your query is not available in the database, make sure you didn't misspell it or that the label is available when you run this statement in your application (the missing relationship type is: RELATED)} {position: line: 25, column: 18, offset: 679} for query: \"CALL db.index.vector.queryNodes($index, $k, $embedding) YIELD node, score \\nWITH collect(node) as nodes\\n// Entity - Text Unit Mapping\\nWITH\\ncollect {\\n    UNWIND nodes as n\\n    MATCH (n)<-[:HAS_ENTITY]->(c:__Chunk__)\\n    WITH c, count(distinct n) as freq\\n    RETURN c.content AS chunkText\\n    ORDER BY freq DESC\\n    LIMIT $topChunks\\n} AS text_mapping,\\n// Entity - Report Mapping\\ncollect {\\n    UNWIND nodes as n\\n    MATCH (n)-[:IN_COMMUNITY]->(c:__Community__)\\n    WITH c, c.rank as rank, c.weight AS weight\\n    RETURN c.summary \\n    ORDER BY rank, weight DESC\\n    LIMIT $topCommunities\\n} AS report_mapping,\\n// Outside Relationships \\ncollect {\\n    UNWIND nodes as n\\n    MATCH (n)-[r:RELATED]-(m) \\n    WHERE NOT m IN nodes\\n    RETURN r.description AS descriptionText\\n    ORDER BY r.rank, r.weight DESC \\n    LIMIT $topOutsideRels\\n} as outsideRels,\\n// Inside Relationships \\ncollect {\\n    UNWIND nodes as n\\n    MATCH (n)-[r:RELATED]-(m) \\n    WHERE m IN nodes\\n    RETURN r.description AS descriptionText\\n    ORDER BY r.rank, r.weight DESC \\n    LIMIT $topInsideRels\\n} as insideRels,\\n// Entities description\\ncollect {\\n    UNWIND nodes as n\\n    RETURN n.description AS descriptionText\\n} as entities\\n// We don't have covariates or claims here\\nRETURN {Chunks: text_mapping, Reports: report_mapping, \\n       Relationships: outsideRels + insideRels, \\n       Entities: entities} AS text, 1.0 AS score, {} AS metadata\\n\"\n",
      "Received notification from DBMS server: {severity: WARNING} {code: Neo.ClientNotification.Statement.UnknownRelationshipTypeWarning} {category: UNRECOGNIZED} {title: The provided relationship type is not in the database.} {description: One of the relationship types in your query is not available in the database, make sure you didn't misspell it or that the label is available when you run this statement in your application (the missing relationship type is: RELATED)} {position: line: 34, column: 18, offset: 916} for query: \"CALL db.index.vector.queryNodes($index, $k, $embedding) YIELD node, score \\nWITH collect(node) as nodes\\n// Entity - Text Unit Mapping\\nWITH\\ncollect {\\n    UNWIND nodes as n\\n    MATCH (n)<-[:HAS_ENTITY]->(c:__Chunk__)\\n    WITH c, count(distinct n) as freq\\n    RETURN c.content AS chunkText\\n    ORDER BY freq DESC\\n    LIMIT $topChunks\\n} AS text_mapping,\\n// Entity - Report Mapping\\ncollect {\\n    UNWIND nodes as n\\n    MATCH (n)-[:IN_COMMUNITY]->(c:__Community__)\\n    WITH c, c.rank as rank, c.weight AS weight\\n    RETURN c.summary \\n    ORDER BY rank, weight DESC\\n    LIMIT $topCommunities\\n} AS report_mapping,\\n// Outside Relationships \\ncollect {\\n    UNWIND nodes as n\\n    MATCH (n)-[r:RELATED]-(m) \\n    WHERE NOT m IN nodes\\n    RETURN r.description AS descriptionText\\n    ORDER BY r.rank, r.weight DESC \\n    LIMIT $topOutsideRels\\n} as outsideRels,\\n// Inside Relationships \\ncollect {\\n    UNWIND nodes as n\\n    MATCH (n)-[r:RELATED]-(m) \\n    WHERE m IN nodes\\n    RETURN r.description AS descriptionText\\n    ORDER BY r.rank, r.weight DESC \\n    LIMIT $topInsideRels\\n} as insideRels,\\n// Entities description\\ncollect {\\n    UNWIND nodes as n\\n    RETURN n.description AS descriptionText\\n} as entities\\n// We don't have covariates or claims here\\nRETURN {Chunks: text_mapping, Reports: report_mapping, \\n       Relationships: outsideRels + insideRels, \\n       Entities: entities} AS text, 1.0 AS score, {} AS metadata\\n\"\n"
     ]
    },
    {
     "name": "stdout",
     "output_type": "stream",
     "text": [
      "Entities:\n",
      "- 依各險種投保規則辦理\n",
      "- 提供保险服务的公司\n",
      "- 购买保险并持有保险合同的人\n",
      "- 首次需繳交的保險費用\n",
      "- 不得為空白授權，應依是否取得保單號碼填寫相關欄位\n",
      "- 加強身分驗證機制\n",
      "- 通過銀行或金融机构進行转账支付的作业方式\n",
      "- 从客户的活期账户中自动扣除费用\n",
      "Reports:\n",
      "- 此同社區的資訊描述了一家提供保險服務的公司，該公司在付款方式上使用了通過銀行或金融機構進行的轉賬支付。首期的保險費用是通過這種金融機構轉帳作業方式來繳交的。\n",
      "- 根據提供的資訊，保單持有人會從他們的活期賬戶中自動扣除相關費用。\n",
      "- None\n",
      "Chunks:\n",
      "-                                                                 回目錄   6  版次： 113年07月版                                                                                            修訂日期： 113.0 7.01 參、  首期保險費繳交方式及相關規定   一、  首期保險費 -採金融機構 轉帳作業  (一) 首期保險費採 金融機構轉帳作業 應注意事項   1. 首期保險費由保戶 約定於本公司 簽約之金融機構所開立之活期帳戶扣款 \n",
      "- ， 保費折扣適用規定依各險種投保規則辦理。   8. 新契約投保時授權書 不得為空白授權， 應依是否取得保單號碼 填寫相關欄位 ，未填寫完 整須重新檢附 授權書。 相關規定請參照 自動轉帳及信用卡付款授權書作業規範 (加強身分 驗證機制 )。\n",
      "Relationships:\n",
      "\n"
     ]
    }
   ],
   "source": [
    "docs = vectorstore.similarity_search(\n",
    "    \"你對台灣人壽知道多少\",\n",
    "    k=topEntities,\n",
    "    params={\n",
    "        \"topChunks\": topChunks,\n",
    "        \"topCommunities\": topCommunities,\n",
    "        \"topOutsideRels\": topOutsideRels,\n",
    "        \"topInsideRels\": topInsideRels,\n",
    "    },\n",
    ")\n",
    "print(docs[0].page_content)"
   ]
  },
  {
   "cell_type": "code",
   "execution_count": 12,
   "metadata": {},
   "outputs": [
    {
     "data": {
      "text/plain": [
       "[Document(page_content='Entities:\\n- 被保險人的年齡\\n- 台灣人壽 美鑫美利美元利率變動型終身壽險\\n- 前項未滿15足歲之被保險人如有於民國九十九年二月三日前（不含）訂立之保險契約，其喪葬費用保險金之給付依下列方式辦理。\\n- 保險費的繳費期間\\n- 身故保險金或喪葬費用保險金的給付。\\n- 保單的第六個年度\\n- 保單的週年紀念日\\n- 被保險人於本契約有效期間內身故者，本公司按身故日之當年度保險金額給付身故保險金。\\n- 選擇儲存生息者，各年度之增值回饋分享金將按各保單週年日當月之宣告利率依據年複利方式，累積至要保人請求時給付，或至被保險人身故或本契約終止時，由本公司主動一併給付。惟須於第六保單年度屆滿後之每一保單週年日起，始得依本款方式給付\\n- 訂立本契約時，以未滿15足歲之未成年人為被保險人，除喪葬費用之給付外，其餘死亡給付之約定於被保險人滿15足歲之日起發生效力；被保險人滿15足歲前死亡者，其身故保險金變更為喪葬費用保險金。\\nReports:\\n- 台灣人壽提供一款名為「美鑫美利美元利率變動型終身壽險」的保險商品。這款保險商品的詳細內容可以通過其說明文件了解。\\n- 在這個社區中，描述了一個與保險相關的情境。具體來說，若被保險人在民國九十九年二月三日（不含）之前訂立了保險契約，則其喪葬費用保險金的給付將依特定方式辦理。這一日期被標記為一個重要的時間點，並且與保險契約存在簽訂關係。\\n- None\\nChunks:\\n- ，以書面通知 本公司變更前項給付方式，惟第六保單年度屆滿前，增值回饋分享金限以購買增額繳清保險金額 辦理。  被保險人保險年齡到達 16歲前，其增值回饋分享金於繳費期間應採抵繳保險費之方式辦理。但 因繳費期間已屆滿而無法抵繳保險費者，本公司改按各保單週年日當月之宣告利率，以年複利方 式儲存生息至被保險人保險年齡到達 16歲時，以累計儲存生息之金額一次計算增額繳清保險金 額，其後保單年度適用第一項規定。   要保人終止本契約，或被保險人於保險年齡達 16歲前死亡者，本公司應退還歷年累計儲存生息 之金額予要保人。   本公司於每一保 單年度屆滿後，應將該增值回饋分享金之金額\\n- ，應將該增值回饋分享金之金額，以書面或電子郵件方式通知要保 人。    【身故保險金或喪葬費用保險金的給付】   第十六條   被保險人於本契約有效期間內身故者，本公司按身故日之當年度保險金額給付身故保險金。   訂立本契約時，以未滿 15足歲之未成年人為被保險人，除喪葬費用之給付外，其餘死亡給付之 約定於被保險人滿 15足歲之日起發生效力；被保險人滿 15足歲前死亡者，其身故保險金變更為 喪葬費用保險金。   前項未滿 15足歲之被保險人如有於民國九十九年二月三日 (不含 )前訂立之保險契約，其喪葬費 用保險金之給付依下列方式辦理 ：\\n- 第 1 頁，共  4 頁 台灣人壽 美鑫美利美元利率變動型終身壽險   保險商品內容說明   【承保範圍】   【增值回饋分享金的給付及通知】   第十三條   本公司於本契約有效期間內之每一保單年度屆滿後，除被保險人保險年齡達 16歲前者，按第三 項約定辦理外，將依要保人於投保時所選擇下列方式之一給付增值回饋分享金：   一、購買增額繳清保險金額：選擇購買增額繳清保險金額者，以增值回饋分享金為躉繳純保險費 ，計算自該保單週年日當日起生效之增額繳清保險金額，但被保險人為受監護宣告尚未撤銷者， 應依保單條款 第十六條約定辦理。   二、現金給付：選擇現金給付者\\nRelationships:\\n')]"
      ]
     },
     "execution_count": 12,
     "metadata": {},
     "output_type": "execute_result"
    }
   ],
   "source": [
    "docs"
   ]
  }
 ],
 "metadata": {
  "kernelspec": {
   "display_name": "Python 3 (ipykernel)",
   "language": "python",
   "name": "python3"
  },
  "language_info": {
   "codemirror_mode": {
    "name": "ipython",
    "version": 3
   },
   "file_extension": ".py",
   "mimetype": "text/x-python",
   "name": "python",
   "nbconvert_exporter": "python",
   "pygments_lexer": "ipython3",
   "version": "3.12.5"
  }
 },
 "nbformat": 4,
 "nbformat_minor": 4
}
