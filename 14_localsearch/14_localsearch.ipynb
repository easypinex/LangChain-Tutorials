{
 "cells": [
  {
   "cell_type": "code",
   "execution_count": 5,
   "metadata": {},
   "outputs": [],
   "source": [
    "import os\n",
    "\n",
    "from langchain_community.graphs import Neo4jGraph\n",
    "\n",
    "os.environ[\"NEO4J_URI\"] = \"bolt://localhost:7687\"\n",
    "os.environ[\"NEO4J_USERNAME\"] = \"neo4j\"\n",
    "os.environ[\"NEO4J_PASSWORD\"] = \"2wsx3edc\"\n",
    "\n",
    "graph = Neo4jGraph()"
   ]
  },
  {
   "cell_type": "code",
   "execution_count": 6,
   "metadata": {},
   "outputs": [
    {
     "data": {
      "text/plain": [
       "[]"
      ]
     },
     "execution_count": 6,
     "metadata": {},
     "output_type": "execute_result"
    }
   ],
   "source": [
    "graph.query(\n",
    "    \"\"\"\n",
    "MATCH (n:`__Community__`)<-[:IN_COMMUNITY]-()<-[:HAS_ENTITY]-(c)\n",
    "WITH n, count(distinct c) AS chunkCount\n",
    "SET n.weight = chunkCount\"\"\"\n",
    ")"
   ]
  },
  {
   "cell_type": "code",
   "execution_count": 7,
   "metadata": {},
   "outputs": [],
   "source": [
    "from langchain_openai import AzureOpenAIEmbeddings\n",
    "\n",
    "embedding = AzureOpenAIEmbeddings(\n",
    "    model=\"text-embedding-ada-002\",\n",
    "    azure_endpoint='https://lang-chain-dev.openai.azure.com/openai/deployments/text-embedding-ada-002/embeddings?api-version=2023-05-15',\n",
    "    azure_deployment='text-embedding-ada-002',\n",
    "    openai_api_version='2023-05-15'\n",
    ")"
   ]
  },
  {
   "cell_type": "code",
   "execution_count": 8,
   "metadata": {},
   "outputs": [],
   "source": [
    "from langchain_community.vectorstores import Neo4jVector\n",
    "\n",
    "lc_retrieval_query = \"\"\"\n",
    "WITH collect(node) as nodes\n",
    "// Entity - Text Unit Mapping\n",
    "WITH\n",
    "collect {\n",
    "    UNWIND nodes as n\n",
    "    MATCH (n)<-[:HAS_ENTITY]->(c:__Chunk__)\n",
    "    WITH c, count(distinct n) as freq\n",
    "    RETURN c.content AS chunkText\n",
    "    ORDER BY freq DESC\n",
    "    LIMIT $topChunks\n",
    "} AS text_mapping,\n",
    "// Entity - Report Mapping\n",
    "collect {\n",
    "    UNWIND nodes as n\n",
    "    MATCH (n)-[:IN_COMMUNITY]->(c:__Community__)\n",
    "    WITH c, c.rank as rank, c.weight AS weight\n",
    "    RETURN c.summary \n",
    "    ORDER BY rank, weight DESC\n",
    "    LIMIT $topCommunities\n",
    "} AS report_mapping,\n",
    "// Outside Relationships \n",
    "collect {\n",
    "    UNWIND nodes as n\n",
    "    MATCH (n)-[r:RELATED]-(m) \n",
    "    WHERE NOT m IN nodes\n",
    "    RETURN r.description AS descriptionText\n",
    "    ORDER BY r.rank, r.weight DESC \n",
    "    LIMIT $topOutsideRels\n",
    "} as outsideRels,\n",
    "// Inside Relationships \n",
    "collect {\n",
    "    UNWIND nodes as n\n",
    "    MATCH (n)-[r:RELATED]-(m) \n",
    "    WHERE m IN nodes\n",
    "    RETURN r.description AS descriptionText\n",
    "    ORDER BY r.rank, r.weight DESC \n",
    "    LIMIT $topInsideRels\n",
    "} as insideRels,\n",
    "// Entities description\n",
    "collect {\n",
    "    UNWIND nodes as n\n",
    "    RETURN n.description AS descriptionText\n",
    "} as entities\n",
    "// We don't have covariates or claims here\n",
    "RETURN {Chunks: text_mapping, Reports: report_mapping, \n",
    "       Relationships: outsideRels + insideRels, \n",
    "       Entities: entities} AS text, 1.0 AS score, {} AS metadata\n",
    "\"\"\"\n",
    "\n",
    "vectorstore = Neo4jVector.from_existing_graph(embedding=embedding, \n",
    "                                    index_name=\"description_embedding\",\n",
    "                                    node_label='__Entity__', \n",
    "                                    embedding_node_property='description_embedding', \n",
    "                                    text_node_properties=['description'],\n",
    "                                    retrieval_query=lc_retrieval_query)"
   ]
  },
  {
   "cell_type": "code",
   "execution_count": 9,
   "metadata": {},
   "outputs": [],
   "source": [
    "topChunks = 3\n",
    "topCommunities = 3\n",
    "topOutsideRels = 10\n",
    "topInsideRels = 10\n",
    "topEntities = 10"
   ]
  },
  {
   "cell_type": "code",
   "execution_count": 10,
   "metadata": {},
   "outputs": [],
   "source": [
    "os.environ[\"NEO4J_URI\"] = \"bolt://localhost:7687\"\n",
    "os.environ[\"NEO4J_USERNAME\"] = \"neo4j\"\n",
    "os.environ[\"NEO4J_PASSWORD\"] = \"2wsx3edc\""
   ]
  },
  {
   "cell_type": "code",
   "execution_count": 11,
   "metadata": {},
   "outputs": [
    {
     "name": "stderr",
     "output_type": "stream",
     "text": [
      "Received notification from DBMS server: {severity: WARNING} {code: Neo.ClientNotification.Statement.UnknownRelationshipTypeWarning} {category: UNRECOGNIZED} {title: The provided relationship type is not in the database.} {description: One of the relationship types in your query is not available in the database, make sure you didn't misspell it or that the label is available when you run this statement in your application (the missing relationship type is: RELATED)} {position: line: 25, column: 18, offset: 679} for query: \"CALL db.index.vector.queryNodes($index, $k, $embedding) YIELD node, score \\nWITH collect(node) as nodes\\n// Entity - Text Unit Mapping\\nWITH\\ncollect {\\n    UNWIND nodes as n\\n    MATCH (n)<-[:HAS_ENTITY]->(c:__Chunk__)\\n    WITH c, count(distinct n) as freq\\n    RETURN c.content AS chunkText\\n    ORDER BY freq DESC\\n    LIMIT $topChunks\\n} AS text_mapping,\\n// Entity - Report Mapping\\ncollect {\\n    UNWIND nodes as n\\n    MATCH (n)-[:IN_COMMUNITY]->(c:__Community__)\\n    WITH c, c.rank as rank, c.weight AS weight\\n    RETURN c.summary \\n    ORDER BY rank, weight DESC\\n    LIMIT $topCommunities\\n} AS report_mapping,\\n// Outside Relationships \\ncollect {\\n    UNWIND nodes as n\\n    MATCH (n)-[r:RELATED]-(m) \\n    WHERE NOT m IN nodes\\n    RETURN r.description AS descriptionText\\n    ORDER BY r.rank, r.weight DESC \\n    LIMIT $topOutsideRels\\n} as outsideRels,\\n// Inside Relationships \\ncollect {\\n    UNWIND nodes as n\\n    MATCH (n)-[r:RELATED]-(m) \\n    WHERE m IN nodes\\n    RETURN r.description AS descriptionText\\n    ORDER BY r.rank, r.weight DESC \\n    LIMIT $topInsideRels\\n} as insideRels,\\n// Entities description\\ncollect {\\n    UNWIND nodes as n\\n    RETURN n.description AS descriptionText\\n} as entities\\n// We don't have covariates or claims here\\nRETURN {Chunks: text_mapping, Reports: report_mapping, \\n       Relationships: outsideRels + insideRels, \\n       Entities: entities} AS text, 1.0 AS score, {} AS metadata\\n\"\n",
      "Received notification from DBMS server: {severity: WARNING} {code: Neo.ClientNotification.Statement.UnknownRelationshipTypeWarning} {category: UNRECOGNIZED} {title: The provided relationship type is not in the database.} {description: One of the relationship types in your query is not available in the database, make sure you didn't misspell it or that the label is available when you run this statement in your application (the missing relationship type is: RELATED)} {position: line: 34, column: 18, offset: 916} for query: \"CALL db.index.vector.queryNodes($index, $k, $embedding) YIELD node, score \\nWITH collect(node) as nodes\\n// Entity - Text Unit Mapping\\nWITH\\ncollect {\\n    UNWIND nodes as n\\n    MATCH (n)<-[:HAS_ENTITY]->(c:__Chunk__)\\n    WITH c, count(distinct n) as freq\\n    RETURN c.content AS chunkText\\n    ORDER BY freq DESC\\n    LIMIT $topChunks\\n} AS text_mapping,\\n// Entity - Report Mapping\\ncollect {\\n    UNWIND nodes as n\\n    MATCH (n)-[:IN_COMMUNITY]->(c:__Community__)\\n    WITH c, c.rank as rank, c.weight AS weight\\n    RETURN c.summary \\n    ORDER BY rank, weight DESC\\n    LIMIT $topCommunities\\n} AS report_mapping,\\n// Outside Relationships \\ncollect {\\n    UNWIND nodes as n\\n    MATCH (n)-[r:RELATED]-(m) \\n    WHERE NOT m IN nodes\\n    RETURN r.description AS descriptionText\\n    ORDER BY r.rank, r.weight DESC \\n    LIMIT $topOutsideRels\\n} as outsideRels,\\n// Inside Relationships \\ncollect {\\n    UNWIND nodes as n\\n    MATCH (n)-[r:RELATED]-(m) \\n    WHERE m IN nodes\\n    RETURN r.description AS descriptionText\\n    ORDER BY r.rank, r.weight DESC \\n    LIMIT $topInsideRels\\n} as insideRels,\\n// Entities description\\ncollect {\\n    UNWIND nodes as n\\n    RETURN n.description AS descriptionText\\n} as entities\\n// We don't have covariates or claims here\\nRETURN {Chunks: text_mapping, Reports: report_mapping, \\n       Relationships: outsideRels + insideRels, \\n       Entities: entities} AS text, 1.0 AS score, {} AS metadata\\n\"\n"
     ]
    },
    {
     "name": "stdout",
     "output_type": "stream",
     "text": [
      "Entities:\n",
      "- 被保險人的年齡\n",
      "- 台灣人壽 美鑫美利美元利率變動型終身壽險\n",
      "- 前項未滿15足歲之被保險人如有於民國九十九年二月三日前（不含）訂立之保險契約，其喪葬費用保險金之給付依下列方式辦理。\n",
      "- 保險費的繳費期間\n",
      "- 身故保險金或喪葬費用保險金的給付。\n",
      "- 保單的第六個年度\n",
      "- 保單的週年紀念日\n",
      "- 被保險人於本契約有效期間內身故者，本公司按身故日之當年度保險金額給付身故保險金。\n",
      "- 選擇儲存生息者，各年度之增值回饋分享金將按各保單週年日當月之宣告利率依據年複利方式，累積至要保人請求時給付，或至被保險人身故或本契約終止時，由本公司主動一併給付。惟須於第六保單年度屆滿後之每一保單週年日起，始得依本款方式給付\n",
      "- 訂立本契約時，以未滿15足歲之未成年人為被保險人，除喪葬費用之給付外，其餘死亡給付之約定於被保險人滿15足歲之日起發生效力；被保險人滿15足歲前死亡者，其身故保險金變更為喪葬費用保險金。\n",
      "Reports:\n",
      "- 台灣人壽提供一款名為「美鑫美利美元利率變動型終身壽險」的保險商品。這款保險商品的詳細內容可以通過其說明文件了解。\n",
      "- 在這個社區中，描述了一個與保險相關的情境。具體來說，若被保險人在民國九十九年二月三日（不含）之前訂立了保險契約，則其喪葬費用保險金的給付將依特定方式辦理。這一日期被標記為一個重要的時間點，並且與保險契約存在簽訂關係。\n",
      "- None\n",
      "Chunks:\n",
      "- ，以書面通知 本公司變更前項給付方式，惟第六保單年度屆滿前，增值回饋分享金限以購買增額繳清保險金額 辦理。  被保險人保險年齡到達 16歲前，其增值回饋分享金於繳費期間應採抵繳保險費之方式辦理。但 因繳費期間已屆滿而無法抵繳保險費者，本公司改按各保單週年日當月之宣告利率，以年複利方 式儲存生息至被保險人保險年齡到達 16歲時，以累計儲存生息之金額一次計算增額繳清保險金 額，其後保單年度適用第一項規定。   要保人終止本契約，或被保險人於保險年齡達 16歲前死亡者，本公司應退還歷年累計儲存生息 之金額予要保人。   本公司於每一保 單年度屆滿後，應將該增值回饋分享金之金額\n",
      "- ，應將該增值回饋分享金之金額，以書面或電子郵件方式通知要保 人。    【身故保險金或喪葬費用保險金的給付】   第十六條   被保險人於本契約有效期間內身故者，本公司按身故日之當年度保險金額給付身故保險金。   訂立本契約時，以未滿 15足歲之未成年人為被保險人，除喪葬費用之給付外，其餘死亡給付之 約定於被保險人滿 15足歲之日起發生效力；被保險人滿 15足歲前死亡者，其身故保險金變更為 喪葬費用保險金。   前項未滿 15足歲之被保險人如有於民國九十九年二月三日 (不含 )前訂立之保險契約，其喪葬費 用保險金之給付依下列方式辦理 ：\n",
      "- 第 1 頁，共  4 頁 台灣人壽 美鑫美利美元利率變動型終身壽險   保險商品內容說明   【承保範圍】   【增值回饋分享金的給付及通知】   第十三條   本公司於本契約有效期間內之每一保單年度屆滿後，除被保險人保險年齡達 16歲前者，按第三 項約定辦理外，將依要保人於投保時所選擇下列方式之一給付增值回饋分享金：   一、購買增額繳清保險金額：選擇購買增額繳清保險金額者，以增值回饋分享金為躉繳純保險費 ，計算自該保單週年日當日起生效之增額繳清保險金額，但被保險人為受監護宣告尚未撤銷者， 應依保單條款 第十六條約定辦理。   二、現金給付：選擇現金給付者\n",
      "Relationships:\n",
      "\n"
     ]
    }
   ],
   "source": [
    "docs = vectorstore.similarity_search(\n",
    "    \"你對台灣人壽知道多少\",\n",
    "    k=topEntities,\n",
    "    params={\n",
    "        \"topChunks\": topChunks,\n",
    "        \"topCommunities\": topCommunities,\n",
    "        \"topOutsideRels\": topOutsideRels,\n",
    "        \"topInsideRels\": topInsideRels,\n",
    "    },\n",
    ")\n",
    "print(docs[0].page_content)"
   ]
  },
  {
   "cell_type": "code",
   "execution_count": 12,
   "metadata": {},
   "outputs": [
    {
     "data": {
      "text/plain": [
       "[Document(page_content='Entities:\\n- 被保險人的年齡\\n- 台灣人壽 美鑫美利美元利率變動型終身壽險\\n- 前項未滿15足歲之被保險人如有於民國九十九年二月三日前（不含）訂立之保險契約，其喪葬費用保險金之給付依下列方式辦理。\\n- 保險費的繳費期間\\n- 身故保險金或喪葬費用保險金的給付。\\n- 保單的第六個年度\\n- 保單的週年紀念日\\n- 被保險人於本契約有效期間內身故者，本公司按身故日之當年度保險金額給付身故保險金。\\n- 選擇儲存生息者，各年度之增值回饋分享金將按各保單週年日當月之宣告利率依據年複利方式，累積至要保人請求時給付，或至被保險人身故或本契約終止時，由本公司主動一併給付。惟須於第六保單年度屆滿後之每一保單週年日起，始得依本款方式給付\\n- 訂立本契約時，以未滿15足歲之未成年人為被保險人，除喪葬費用之給付外，其餘死亡給付之約定於被保險人滿15足歲之日起發生效力；被保險人滿15足歲前死亡者，其身故保險金變更為喪葬費用保險金。\\nReports:\\n- 台灣人壽提供一款名為「美鑫美利美元利率變動型終身壽險」的保險商品。這款保險商品的詳細內容可以通過其說明文件了解。\\n- 在這個社區中，描述了一個與保險相關的情境。具體來說，若被保險人在民國九十九年二月三日（不含）之前訂立了保險契約，則其喪葬費用保險金的給付將依特定方式辦理。這一日期被標記為一個重要的時間點，並且與保險契約存在簽訂關係。\\n- None\\nChunks:\\n- ，以書面通知 本公司變更前項給付方式，惟第六保單年度屆滿前，增值回饋分享金限以購買增額繳清保險金額 辦理。  被保險人保險年齡到達 16歲前，其增值回饋分享金於繳費期間應採抵繳保險費之方式辦理。但 因繳費期間已屆滿而無法抵繳保險費者，本公司改按各保單週年日當月之宣告利率，以年複利方 式儲存生息至被保險人保險年齡到達 16歲時，以累計儲存生息之金額一次計算增額繳清保險金 額，其後保單年度適用第一項規定。   要保人終止本契約，或被保險人於保險年齡達 16歲前死亡者，本公司應退還歷年累計儲存生息 之金額予要保人。   本公司於每一保 單年度屆滿後，應將該增值回饋分享金之金額\\n- ，應將該增值回饋分享金之金額，以書面或電子郵件方式通知要保 人。    【身故保險金或喪葬費用保險金的給付】   第十六條   被保險人於本契約有效期間內身故者，本公司按身故日之當年度保險金額給付身故保險金。   訂立本契約時，以未滿 15足歲之未成年人為被保險人，除喪葬費用之給付外，其餘死亡給付之 約定於被保險人滿 15足歲之日起發生效力；被保險人滿 15足歲前死亡者，其身故保險金變更為 喪葬費用保險金。   前項未滿 15足歲之被保險人如有於民國九十九年二月三日 (不含 )前訂立之保險契約，其喪葬費 用保險金之給付依下列方式辦理 ：\\n- 第 1 頁，共  4 頁 台灣人壽 美鑫美利美元利率變動型終身壽險   保險商品內容說明   【承保範圍】   【增值回饋分享金的給付及通知】   第十三條   本公司於本契約有效期間內之每一保單年度屆滿後，除被保險人保險年齡達 16歲前者，按第三 項約定辦理外，將依要保人於投保時所選擇下列方式之一給付增值回饋分享金：   一、購買增額繳清保險金額：選擇購買增額繳清保險金額者，以增值回饋分享金為躉繳純保險費 ，計算自該保單週年日當日起生效之增額繳清保險金額，但被保險人為受監護宣告尚未撤銷者， 應依保單條款 第十六條約定辦理。   二、現金給付：選擇現金給付者\\nRelationships:\\n')]"
      ]
     },
     "execution_count": 12,
     "metadata": {},
     "output_type": "execute_result"
    }
   ],
   "source": [
    "docs"
   ]
  }
 ],
 "metadata": {
  "kernelspec": {
   "display_name": "lagch",
   "language": "python",
   "name": "python3"
  },
  "language_info": {
   "codemirror_mode": {
    "name": "ipython",
    "version": 3
   },
   "file_extension": ".py",
   "mimetype": "text/x-python",
   "name": "python",
   "nbconvert_exporter": "python",
   "pygments_lexer": "ipython3",
   "version": "3.12.5"
  }
 },
 "nbformat": 4,
 "nbformat_minor": 2
}
