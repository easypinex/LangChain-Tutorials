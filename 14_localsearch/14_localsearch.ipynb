{
 "cells": [
  {
   "cell_type": "code",
   "execution_count": 86,
   "metadata": {},
   "outputs": [],
   "source": [
    "import os\n",
    "\n",
    "from langchain_community.graphs import Neo4jGraph\n",
    "\n",
    "os.environ[\"NEO4J_URI\"] = \"bolt://localhost:7687\"\n",
    "os.environ[\"NEO4J_USERNAME\"] = \"neo4j\"\n",
    "os.environ[\"NEO4J_PASSWORD\"] = \"2wsx3edc\"\n",
    "database = os.environ.get('NEO4J_DATABASE')\n",
    "graph = Neo4jGraph(database=database)"
   ]
  },
  {
   "cell_type": "code",
   "execution_count": 90,
   "metadata": {},
   "outputs": [
    {
     "data": {
      "text/plain": [
       "[]"
      ]
     },
     "execution_count": 90,
     "metadata": {},
     "output_type": "execute_result"
    }
   ],
   "source": [
    "graph.query('''\n",
    "MATCH (n:__Entity__)\n",
    "WHERE n.description IS NOT NULL and apoc.meta.cypher.type(n.description) <> 'STRING'\n",
    "SET n.description = apoc.text.join(n.description, \", \")\n",
    "RETURN n.description\n",
    "''')"
   ]
  },
  {
   "cell_type": "code",
   "execution_count": 22,
   "metadata": {},
   "outputs": [
    {
     "data": {
      "text/plain": [
       "[]"
      ]
     },
     "execution_count": 22,
     "metadata": {},
     "output_type": "execute_result"
    }
   ],
   "source": [
    "graph.query(\n",
    "    \"\"\"\n",
    "MATCH (n:`__Community__`)<-[:IN_COMMUNITY]-()<-[:HAS_ENTITY]-(c)\n",
    "WITH n, count(distinct c) AS chunkCount\n",
    "SET n.weight = chunkCount\"\"\"\n",
    ")"
   ]
  },
  {
   "cell_type": "code",
   "execution_count": 23,
   "metadata": {},
   "outputs": [],
   "source": [
    "from langchain_openai import AzureOpenAIEmbeddings\n",
    "\n",
    "embedding = AzureOpenAIEmbeddings(\n",
    "    model=\"text-embedding-ada-002\",\n",
    "    azure_endpoint='https://lang-chain-dev.openai.azure.com/openai/deployments/text-embedding-ada-002/embeddings?api-version=2023-05-15',\n",
    "    azure_deployment='text-embedding-ada-002',\n",
    "    openai_api_version='2023-05-15'\n",
    ")"
   ]
  },
  {
   "cell_type": "code",
   "execution_count": 7,
   "metadata": {},
   "outputs": [
    {
     "name": "stderr",
     "output_type": "stream",
     "text": [
      "/storage/pyenv/versions/3.12.5/envs/ACP_LLM_312/lib/python3.12/site-packages/sentence_transformers/cross_encoder/CrossEncoder.py:11: TqdmExperimentalWarning: Using `tqdm.autonotebook.tqdm` in notebook mode. Use `tqdm.tqdm` instead to force console mode (e.g. in jupyter console)\n",
      "  from tqdm.autonotebook import tqdm, trange\n",
      "/storage/pyenv/versions/3.12.5/envs/ACP_LLM_312/lib/python3.12/site-packages/sentence_transformers/models/Dense.py:89: FutureWarning: You are using `torch.load` with `weights_only=False` (the current default value), which uses the default pickle module implicitly. It is possible to construct malicious pickle data which will execute arbitrary code during unpickling (See https://github.com/pytorch/pytorch/blob/main/SECURITY.md#untrusted-models for more details). In a future release, the default value for `weights_only` will be flipped to `True`. This limits the functions that could be executed during unpickling. Arbitrary objects will no longer be allowed to be loaded via this mode unless they are explicitly allowlisted by the user via `torch.serialization.add_safe_globals`. We recommend you start setting `weights_only=True` for any use case where you don't have full control of the loaded file. Please open an issue on GitHub for any issues related to this experimental feature.\n",
      "  torch.load(os.path.join(input_path, \"pytorch_model.bin\"), map_location=torch.device(\"cpu\"))\n"
     ]
    }
   ],
   "source": [
    "from langchain_community.vectorstores import Neo4jVector\n",
    "# ! pip3 install -U langchain-huggingface\n",
    "import os\n",
    "os.environ['SENTENCE_TRANSFORMERS_HOME'] = '/storage/models/embedding_models'\n",
    "from langchain_huggingface import HuggingFaceEmbeddings\n",
    "# Choose from https://huggingface.co/spaces/mteb/leaderboard\n",
    "\n",
    "# embedding = HuggingFaceEmbeddings(model_name=\"lier007/xiaobu-embedding-v2\")\n",
    "\n",
    "model_path = os.path.join(os.environ['SENTENCE_TRANSFORMERS_HOME'], 'models--lier007--xiaobu-embedding-v2/snapshots/ee0b4ecdf5eb449e8240f2e3de2e10eeae877691')\n",
    "embedding = HuggingFaceEmbeddings(model_name=model_path)"
   ]
  },
  {
   "cell_type": "code",
   "execution_count": 56,
   "metadata": {},
   "outputs": [],
   "source": [
    "from langchain_community.vectorstores import Neo4jVector\n",
    "\n",
    "lc_retrieval_query = \"\"\"\n",
    "WITH collect(node) as nodes\n",
    "// Entity - Text Unit Mapping\n",
    "WITH\n",
    "collect {\n",
    "    UNWIND nodes as n\n",
    "    MATCH (n)<-[:HAS_ENTITY]->(c:__Chunk__)\n",
    "    WITH c, count(distinct n) as freq\n",
    "    RETURN c.content AS chunkText\n",
    "    ORDER BY freq DESC\n",
    "    LIMIT $topChunks\n",
    "} AS text_mapping,\n",
    "// Entity - Report Mapping\n",
    "collect {\n",
    "    UNWIND nodes as n\n",
    "    MATCH (n)-[:IN_COMMUNITY]->(c:__Community__)\n",
    "    WHERE c.summary is not null\n",
    "    WITH c, c.rank as rank, c.weight AS weight\n",
    "    RETURN c.summary \n",
    "    ORDER BY rank, weight DESC\n",
    "    LIMIT $topCommunities\n",
    "} AS report_mapping,\n",
    "// Outside Relationships \n",
    "collect {\n",
    "    UNWIND nodes as n\n",
    "    MATCH (n)-[r]-(m) \n",
    "    WHERE NOT m IN nodes and r.description is not null\n",
    "    RETURN r.description AS descriptionText\n",
    "    ORDER BY r.rank, r.weight DESC \n",
    "    LIMIT $topOutsideRels\n",
    "} as outsideRels,\n",
    "// Inside Relationships \n",
    "collect {\n",
    "    UNWIND nodes as n\n",
    "    MATCH (n)-[r]-(m) \n",
    "    WHERE m IN nodes and r.description is not null\n",
    "    RETURN r.description AS descriptionText\n",
    "    ORDER BY r.rank, r.weight DESC \n",
    "    LIMIT $topInsideRels\n",
    "} as insideRels,\n",
    "// Entities description\n",
    "collect {\n",
    "    UNWIND nodes as n\n",
    "    match (n)\n",
    "    WHERE n.description is not null\n",
    "    RETURN n.description AS descriptionText\n",
    "} as entities\n",
    "// We don't have covariates or claims here\n",
    "RETURN {Chunks: text_mapping, Reports: report_mapping, \n",
    "       Relationships: outsideRels + insideRels, \n",
    "       Entities: entities} AS text, 1.0 AS score, {} AS metadata\n",
    "\"\"\"\n",
    "\n",
    "vectorstore = Neo4jVector.from_existing_graph(embedding=embedding, \n",
    "                                    index_name=\"description_embedding\",\n",
    "                                    node_label='__Entity__', \n",
    "                                    embedding_node_property='description_embedding', \n",
    "                                    text_node_properties=['description'],\n",
    "                                    retrieval_query=lc_retrieval_query)"
   ]
  },
  {
   "cell_type": "code",
   "execution_count": 57,
   "metadata": {},
   "outputs": [],
   "source": [
    "topChunks = 3\n",
    "topCommunities = 3\n",
    "topOutsideRels = 10\n",
    "topInsideRels = 10\n",
    "topEntities = 10"
   ]
  },
  {
   "cell_type": "code",
   "execution_count": 58,
   "metadata": {},
   "outputs": [],
   "source": [
    "os.environ[\"NEO4J_URI\"] = \"bolt://localhost:7687\"\n",
    "os.environ[\"NEO4J_USERNAME\"] = \"neo4j\"\n",
    "os.environ[\"NEO4J_PASSWORD\"] = \"2wsx3edc\""
   ]
  },
  {
   "cell_type": "code",
   "execution_count": 59,
   "metadata": {},
   "outputs": [
    {
     "name": "stdout",
     "output_type": "stream",
     "text": [
      "Entities:\n",
      "- 首期保險費是保戶首次繳交的保險費用，採用金融機構轉帳作業。\n",
      "- 因核印失敗、請款失敗或主動異動繳費管道者，其生效日認定依「新契約首期保險費繳費管道異動之繳費日認定原則」辦理。\n",
      "- 依各險種投保規則辦理\n",
      "- 轉帳扣款作業需經核印成功且同意承保後始得進行。\n",
      "- 保戶指的是與保險公司簽約的個人或團體。\n",
      "- 需填寫授權書，繳款人為非保單關係人時須檢附關係證明文件。相關規定請參照繳費方式及受理應檢附文件。\n",
      "- 不得為空白授權，應依是否取得保單號碼填寫相關欄位，未填寫完整須重新檢附授權書\n",
      "- 核印和扣款時間需參照各金融機構的相關規定。\n",
      "- 需至各銀行臨櫃留存印鑑，核印成功後便能授權扣款。\n",
      "- 須留存金融機構之印鑑或簽章樣式\n",
      "Reports:\n",
      "- 在同一社區中，有兩個重要的節點和一個關鍵的關係。節點包括：\n",
      "\n",
      "1. 一個沒有特定類型的節點，描述的是「新契約首期保險費繳費管道異動之繳費日認定原則」。\n",
      "2. 一個類型為「概念」的節點，描述的是「新契約」。具體內容為：因核印失敗、請款失敗或主動異動繳費管道者，其生效日認定依「新契約首期保險費繳費管道異動之繳費日認定原則」辦理。\n",
      "\n",
      "這兩個節點之間存在一個關係：「新契約」依照「新契約首期保險費繳費管道異動之繳費日認定原則」來進行生效日認定。\n",
      "- 在同一社區中，有兩個重要的節點和一個關鍵的關係。節點包括：\n",
      "\n",
      "1. 一個沒有特定類型的節點，描述的是「新契約首期保險費繳費管道異動之繳費日認定原則」。\n",
      "2. 一個類型為「概念」的節點，描述的是「新契約」。具體內容為：因核印失敗、請款失敗或主動異動繳費管道者，其生效日認定依「新契約首期保險費繳費管道異動之繳費日認定原則」辦理。\n",
      "\n",
      "這兩個節點之間存在一個關係：「新契約」依照「新契約首期保險費繳費管道異動之繳費日認定原則」來進行生效日認定。\n",
      "- 在同一個社區中，有以下的資訊：\n",
      "\n",
      "1. 要保人（Person）：在授權書要保人欄位內須簽章，並且簽章需與要保書相同。\n",
      "2. 保險費暨保險單借款利息自動轉帳付款授權書（Document）：需要填寫授權書，當繳款人非保單關係人時，需附上關係證明文件，詳情請參照繳費方式及應檢附文件。\n",
      "3. 授權人（Person）：需留存金融機構的印鑑或簽章樣式。\n",
      "\n",
      "關係如下：\n",
      "- 保險費暨保險單借款利息自動轉帳付款授權書需要授權人，授權人需留存金融機構的印鑑或簽章樣式。\n",
      "- 保險費暨保險單借款利息自動轉帳付款授權書需要要保人，要保人需在授權書要保人欄位簽章，且簽章需與要保書相同。\n",
      "Chunks:\n",
      "- ，經核印成功 (且 同意承保 )始得進行首期保險費 轉帳扣款作業 。核印、扣款時間 請參照各金融機構核印、 扣款時間及相關規定 。  5. 數位帳戶 請至各銀行臨櫃留存印鑑、核印成功便能授權扣款 (土地銀行、合作金庫、第一 銀行此三家銀行無法授權扣款 )。  6. 生效日認定：   (1) 保單生效日 認定依「生效日期之認定原則 」辦理。  (2) 因核印失敗、請款失敗或 新契約於核保中主動異動繳 費管道者，其生效日認定 依「新 契約首期保險費繳費管道異動之 繳費日認定原則 」辦理。   7. 保費折扣： 以金融機構轉帳 繳交保險費\n",
      "-                                                                 回目錄   6  版次： 113年07月版                                                                                            修訂日期： 113.0 7.01 參、  首期保險費繳交方式及相關規定   一、  首期保險費 -採金融機構 轉帳作業  (一) 首期保險費採 金融機構轉帳作業 應注意事項   1. 首期保險費由保戶 約定於本公司 簽約之金融機構所開立之活期帳戶扣款 \n",
      "- ，需填寫「保險費暨保險單借款利息自動轉帳付款授權 書(下稱授權書 )，繳款人為非保單關係人時 須檢附關係證明文件。 相關規定請參照 繳費方 式及受理應檢附文件 。  3. 要保人須於授權書要保人欄位簽 章並與要保書 簽章相同，授權人須留存金融機構之印鑑或 簽章樣式 。  4. 授權書須送予授權之金融機構核對 授權人身分證 統一編號 及印鑑/簽章\n",
      "Relationships:\n",
      "- 要保人須於授權書要保人欄位簽章並與要保書簽章相同\n",
      "- 相關規定\n",
      "- 無法授權扣款。\n",
      "- 無法授權扣款。\n",
      "- 無法授權扣款。\n",
      "- 首期保險費由保戶約定於本公司簽約之金融機構所開立之活期帳戶扣款。\n",
      "- 生效日認定。\n",
      "- 核印和扣款時間需參照各金融機構的相關規定。\n",
      "- 首期保險費由保戶繳交。\n",
      "- 授權人須留存金融機構之印鑑或簽章樣式\n",
      "- 核印和扣款時間需參照各金融機構的相關規定。\n",
      "- 授權書須送予授權之金融機構核對授權人身分證統一編號及印鑑/簽章\n",
      "- 首期保險費由保戶約定於本公司簽約之金融機構所開立之活期帳戶扣款。\n",
      "- 授權書須送予授權之金融機構核對授權人身分證統一編號及印鑑/簽章\n",
      "- 首期保險費由保戶繳交。\n",
      "\n"
     ]
    }
   ],
   "source": [
    "docs = vectorstore.similarity_search(\n",
    "    \"個人保險首續期繳費怎繳費\",\n",
    "    k=topEntities,\n",
    "    params={\n",
    "        \"topChunks\": topChunks,\n",
    "        \"topCommunities\": topCommunities,\n",
    "        \"topOutsideRels\": topOutsideRels,\n",
    "        \"topInsideRels\": topInsideRels,\n",
    "    },\n",
    ")\n",
    "print(docs[0].page_content)"
   ]
  },
  {
   "cell_type": "code",
   "execution_count": 30,
   "metadata": {},
   "outputs": [
    {
     "data": {
      "text/plain": [
       "[Document(page_content='Entities:\\n- 首期保險費是保戶首次繳交的保險費用，採用金融機構轉帳作業。\\n- 因核印失敗、請款失敗或主動異動繳費管道者，其生效日認定依「新契約首期保險費繳費管道異動之繳費日認定原則」辦理。\\n- 依各險種投保規則辦理\\n- 轉帳扣款作業需經核印成功且同意承保後始得進行。\\n- 保戶指的是與保險公司簽約的個人或團體。\\n- 需填寫授權書，繳款人為非保單關係人時須檢附關係證明文件。相關規定請參照繳費方式及受理應檢附文件。\\n- 不得為空白授權，應依是否取得保單號碼填寫相關欄位，未填寫完整須重新檢附授權書\\n- 核印和扣款時間需參照各金融機構的相關規定。\\n- 需至各銀行臨櫃留存印鑑，核印成功後便能授權扣款。\\n- 須留存金融機構之印鑑或簽章樣式\\nReports:\\n- 在同一社區中，有兩個重要的節點和一個關鍵的關係。節點包括：\\n\\n1. 一個沒有特定類型的節點，描述的是「新契約首期保險費繳費管道異動之繳費日認定原則」。\\n2. 一個類型為「概念」的節點，描述的是「新契約」。具體內容為：因核印失敗、請款失敗或主動異動繳費管道者，其生效日認定依「新契約首期保險費繳費管道異動之繳費日認定原則」辦理。\\n\\n這兩個節點之間存在一個關係：「新契約」依照「新契約首期保險費繳費管道異動之繳費日認定原則」來進行生效日認定。\\n- None\\n- 在同一個社區中，有以下的資訊：\\n\\n1. 要保人（Person）：在授權書要保人欄位內須簽章，並且簽章需與要保書相同。\\n2. 保險費暨保險單借款利息自動轉帳付款授權書（Document）：需要填寫授權書，當繳款人非保單關係人時，需附上關係證明文件，詳情請參照繳費方式及應檢附文件。\\n3. 授權人（Person）：需留存金融機構的印鑑或簽章樣式。\\n\\n關係如下：\\n- 保險費暨保險單借款利息自動轉帳付款授權書需要授權人，授權人需留存金融機構的印鑑或簽章樣式。\\n- 保險費暨保險單借款利息自動轉帳付款授權書需要要保人，要保人需在授權書要保人欄位簽章，且簽章需與要保書相同。\\nChunks:\\n- ，經核印成功 (且 同意承保 )始得進行首期保險費 轉帳扣款作業 。核印、扣款時間 請參照各金融機構核印、 扣款時間及相關規定 。  5. 數位帳戶 請至各銀行臨櫃留存印鑑、核印成功便能授權扣款 (土地銀行、合作金庫、第一 銀行此三家銀行無法授權扣款 )。  6. 生效日認定：   (1) 保單生效日 認定依「生效日期之認定原則 」辦理。  (2) 因核印失敗、請款失敗或 新契約於核保中主動異動繳 費管道者，其生效日認定 依「新 契約首期保險費繳費管道異動之 繳費日認定原則 」辦理。   7. 保費折扣： 以金融機構轉帳 繳交保險費\\n-                                                                 回目錄   6  版次： 113年07月版                                                                                            修訂日期： 113.0 7.01 參、  首期保險費繳交方式及相關規定   一、  首期保險費 -採金融機構 轉帳作業  (一) 首期保險費採 金融機構轉帳作業 應注意事項   1. 首期保險費由保戶 約定於本公司 簽約之金融機構所開立之活期帳戶扣款 \\n- ，需填寫「保險費暨保險單借款利息自動轉帳付款授權 書(下稱授權書 )，繳款人為非保單關係人時 須檢附關係證明文件。 相關規定請參照 繳費方 式及受理應檢附文件 。  3. 要保人須於授權書要保人欄位簽 章並與要保書 簽章相同，授權人須留存金融機構之印鑑或 簽章樣式 。  4. 授權書須送予授權之金融機構核對 授權人身分證 統一編號 及印鑑/簽章\\nRelationships:\\n- None\\n- None\\n- None\\n- None\\n- 生效日認定。\\n- None\\n- None\\n- None\\n- None\\n- None\\n- 首期保險費由保戶約定於本公司簽約之金融機構所開立之活期帳戶扣款。\\n- None\\n- None\\n- 核印和扣款時間需參照各金融機構的相關規定。\\n- 首期保險費由保戶繳交。\\n- 授權人須留存金融機構之印鑑或簽章樣式\\n- 核印和扣款時間需參照各金融機構的相關規定。\\n- 授權書須送予授權之金融機構核對授權人身分證統一編號及印鑑/簽章\\n- 首期保險費由保戶約定於本公司簽約之金融機構所開立之活期帳戶扣款。\\n- 首期保險費由保戶繳交。\\n')]"
      ]
     },
     "execution_count": 30,
     "metadata": {},
     "output_type": "execute_result"
    }
   ],
   "source": [
    "docs"
   ]
  }
 ],
 "metadata": {
  "kernelspec": {
   "display_name": "Python 3 (ipykernel)",
   "language": "python",
   "name": "python3"
  },
  "language_info": {
   "codemirror_mode": {
    "name": "ipython",
    "version": 3
   },
   "file_extension": ".py",
   "mimetype": "text/x-python",
   "name": "python",
   "nbconvert_exporter": "python",
   "pygments_lexer": "ipython3",
   "version": "3.12.5"
  }
 },
 "nbformat": 4,
 "nbformat_minor": 4
}
