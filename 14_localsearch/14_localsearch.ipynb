{
 "cells": [
  {
   "cell_type": "code",
   "execution_count": 1,
   "metadata": {},
   "outputs": [],
   "source": [
    "import os\n",
    "\n",
    "from langchain_community.graphs import Neo4jGraph\n",
    "\n",
    "os.environ[\"NEO4J_URI\"] = \"bolt://localhost:7687\"\n",
    "os.environ[\"NEO4J_USERNAME\"] = \"neo4j\"\n",
    "os.environ[\"NEO4J_PASSWORD\"] = \"2wsx3edc\"\n",
    "database = os.environ.get('NEO4J_DATABASE')\n",
    "graph = Neo4jGraph(database=database)"
   ]
  },
  {
   "cell_type": "code",
   "execution_count": 5,
   "metadata": {},
   "outputs": [],
   "source": [
    "from langchain_openai import AzureOpenAIEmbeddings\n",
    "\n",
    "embedding = AzureOpenAIEmbeddings(\n",
    "    model=\"text-embedding-3-small\",\n",
    "    azure_endpoint='https://sales-chatbot-llm.openai.azure.com/openai/deployments/text-embedding-3-small/embeddings?api-version=2023-05-15',\n",
    "    azure_deployment='text-embedding-3-small',\n",
    "    openai_api_version='2023-05-15'\n",
    ")"
   ]
  },
  {
   "cell_type": "code",
   "execution_count": 35,
   "metadata": {},
   "outputs": [],
   "source": [
    "# from langchain_community.vectorstores import Neo4jVector\n",
    "# # ! pip3 install -U langchain-huggingface\n",
    "# import os\n",
    "# os.environ['SENTENCE_TRANSFORMERS_HOME'] = '/storage/models/embedding_models'\n",
    "# from langchain_huggingface import HuggingFaceEmbeddings\n",
    "# # Choose from https://huggingface.co/spaces/mteb/leaderboard\n",
    "\n",
    "# # embedding = HuggingFaceEmbeddings(model_name=\"lier007/xiaobu-embedding-v2\")\n",
    "\n",
    "# model_path = os.path.join(os.environ['SENTENCE_TRANSFORMERS_HOME'], 'models--lier007--xiaobu-embedding-v2/snapshots/ee0b4ecdf5eb449e8240f2e3de2e10eeae877691')\n",
    "# embedding = HuggingFaceEmbeddings(model_name=model_path)"
   ]
  },
  {
   "cell_type": "code",
   "execution_count": 36,
   "metadata": {},
   "outputs": [],
   "source": [
    "# node_label='__Entity__'\n",
    "# embedding_node_property='embedding'\n",
    "# fetch_query = (\n",
    "#     f\"MATCH (n:`{node_label}`) \"\n",
    "#     f\"WHERE n.{embedding_node_property} IS null \"\n",
    "#     \"AND any(k in $props WHERE n[k] IS NOT null) \"\n",
    "#     f\"RETURN elementId(n) AS id, reduce(str='',\"\n",
    "#     \"k IN $props | str + '\\\\n' + k + ':' + coalesce(n[k], '')) AS text \"\n",
    "#     \"LIMIT 1000\"\n",
    "# )\n",
    "# datas = graph.query(fetch_query, params={\"props\": ['id', 'description']})\n",
    "# datas"
   ]
  },
  {
   "cell_type": "code",
   "execution_count": 37,
   "metadata": {},
   "outputs": [],
   "source": [
    "# import sys\n",
    "# sys.path.append('..')\n",
    "# from tools.TokenCounter import num_tokens_from_string\n",
    "\n",
    "# tokens_num = 0\n",
    "# for data in datas:\n",
    "#     tokens_num += num_tokens_from_string(data['text'])\n",
    "# tokens_num"
   ]
  },
  {
   "cell_type": "code",
   "execution_count": null,
   "metadata": {},
   "outputs": [],
   "source": [
    "from langchain_community.vectorstores import Neo4jVector\n",
    "\n",
    "lc_retrieval_query = \"\"\"\n",
    "WITH collect(node) as nodes\n",
    "// Entity - Text Unit Mapping\n",
    "WITH\n",
    "collect {\n",
    "    UNWIND nodes as n\n",
    "    MATCH (n)<-[:HAS_ENTITY]->(c:__Chunk__)<-[:HAS_CHILD]->(p:__Parent__)\n",
    "    WITH c, p, count(distinct n) as freq\n",
    "    RETURN {content: p.content, source: p.source} AS chunkText\n",
    "    ORDER BY freq DESC\n",
    "    LIMIT $topChunks\n",
    "} AS text_mapping,\n",
    "// Entity - Report Mapping\n",
    "collect {\n",
    "    UNWIND nodes as n\n",
    "    MATCH (n)-[:IN_COMMUNITY]->(c:__Community__)\n",
    "    WHERE c.summary is not null\n",
    "    WITH c, c.rank as rank, c.weight AS weight\n",
    "    RETURN c.summary \n",
    "    ORDER BY rank, weight DESC\n",
    "    LIMIT $topCommunities\n",
    "} AS report_mapping,\n",
    "// Outside Relationships \n",
    "collect {\n",
    "    UNWIND nodes as n\n",
    "    MATCH (n)-[r]-(m) \n",
    "    WHERE NOT m IN nodes and r.description is not null\n",
    "    RETURN {description: r.description, sources: r.sources} AS descriptionText\n",
    "    ORDER BY r.rank, r.weight DESC \n",
    "    LIMIT $topOutsideRels\n",
    "} as outsideRels,\n",
    "// Inside Relationships \n",
    "collect {\n",
    "    UNWIND nodes as n\n",
    "    MATCH (n)-[r]-(m) \n",
    "    WHERE m IN nodes and r.description is not null\n",
    "    RETURN {description: r.description, sources: r.sources} AS descriptionText\n",
    "    ORDER BY r.rank, r.weight DESC \n",
    "    LIMIT $topInsideRels\n",
    "} as insideRels,\n",
    "// Entities description\n",
    "collect {\n",
    "    UNWIND nodes as n\n",
    "    match (n)\n",
    "    WHERE n.description is not null\n",
    "    RETURN {description: n.description, sources: n.sources} AS descriptionText\n",
    "} as entities\n",
    "// We don't have covariates or claims here\n",
    "RETURN {Chunks: text_mapping, Reports: report_mapping, \n",
    "       Relationships: outsideRels + insideRels, \n",
    "       Entities: entities} AS text, 1.0 AS score, {} AS metadata\n",
    "\"\"\"\n",
    "\n",
    "vectorstore = Neo4jVector.from_existing_graph(embedding=embedding, \n",
    "                                    index_name=\"embedding\",\n",
    "                                    node_label='__Entity__', \n",
    "                                    embedding_node_property='embedding', \n",
    "                                    text_node_properties=['id', 'description'],\n",
    "                                    retrieval_query=lc_retrieval_query)"
   ]
  },
  {
   "cell_type": "code",
   "execution_count": 24,
   "metadata": {},
   "outputs": [],
   "source": [
    "topChunks = 3\n",
    "topCommunities = 3\n",
    "topOutsideRels = 10\n",
    "topInsideRels = 10\n",
    "topEntities = 10"
   ]
  },
  {
   "cell_type": "code",
   "execution_count": 25,
   "metadata": {},
   "outputs": [],
   "source": [
    "os.environ[\"NEO4J_URI\"] = \"bolt://localhost:7687\"\n",
    "os.environ[\"NEO4J_USERNAME\"] = \"neo4j\"\n",
    "os.environ[\"NEO4J_PASSWORD\"] = \"2wsx3edc\""
   ]
  },
  {
   "cell_type": "code",
   "execution_count": 26,
   "metadata": {},
   "outputs": [
    {
     "name": "stdout",
     "output_type": "stream",
     "text": [
      "Entities:\n",
      "- 操作方式詳官網\n",
      "Reports:\n",
      "- 繳費方式與相關文件之間存在檢附關係。來源檔名: 個人保險首續期繳費暨保單貸款還款息作業手冊(113年7月版)_業務通路版_p3_p7.pdf\n",
      "- 繳款人相關規定包含繳款人身分、自動轉帳及信用卡付款授權書作業規範【加強身分驗證機制】以及繳費方式及受理應檢附文件。這些資訊均來自《個人保險首續期繳費暨保單貸款還款息作業手冊(113年7月版)_業務通路版_p3_p7.pdf》。\n",
      "- 繳款人相關規定包含繳款人身分、自動轉帳及信用卡付款授權書作業規範【加強身分驗證機制】以及繳費方式及受理應檢附文件。這些資訊均來自《個人保險首續期繳費暨保單貸款還款息作業手冊(113年7月版)_業務通路版_p3_p7.pdf》。\n",
      "Chunks:\n",
      "- {'content': '回目錄\\n目錄\\n壹、 繳交保險費應注意事項 . 1\\n貳、 繳款人相關規定 . 3\\n一、 繳款人身分 .. 3\\n二、 繳費方式及受理應檢附文件  3\\n三、 自動轉帳及信用卡付款授權書作業規範【加強身分驗證機制】  4\\n參、 首期保險費繳交方式及相關規定  6\\n一、 首期保險費-採金融機構轉帳作業  6\\n二、 首期保險費-採信用卡扣款作業  7\\n三、 首期保險費-採自行匯款作業 . 8\\n四、 首期保險費-採自行匯款管道 . 8\\n(一) 台幣-首期匯款帳號【業務通路適用】  8\\n(二) 外幣-首期匯款帳號【業務通路適用】  9\\n(三) WEB立即繳費 . 10\\n(四) 中信ATM繳費(操作方式詳官網) .. 10\\n肆、 續期保險費繳交方式及相關規定 . 11\\n一、 續期保險費-採金融機構轉帳作業 .. 11\\n二、 續期保險費-採信用卡扣款作業 .. 13\\n三、 續期保險費-採自行繳費作業  15\\n四、 高齡關懷電訪作業 .. 17\\n五、 續期保險費扣款不成通知方式 . 18\\n伍、 各金融機構核印、扣款時間及相關規定 . 21\\n陸、 保單貸款還款息 .. 23\\n一、 保單貸款之繳息通知 . 23\\n二、 保單借款之還款息帳號  24\\n柒、 行動保全續期保費服務說明(僅適用業務通路)  25\\n版次：113年07月版 修訂日期：113.07.01\\n回目錄\\n壹、 繳交保險費應注意事項\\n一、 因應「保險業保險經紀人公司及保險代理人公司防範保險業務員挪用侵占保戶款項相關內控作\\n業規定」，考量現行保險費繳納管道及方式多元，基於維護客戶權益及避免保險費繳納之爭議，\\n本公司訂有業務人員不得代為收受保戶款項之規範：\\n(一) 不得代收以現金、支票繳納新契約首期保險費。\\n(二) 不得代收以現金、支票繳納續期保險費(含保全保險費、保單補發工本費)、保單還款金額。\\n(三) 不得代收以現金、客票繳納團體保險及旅行平安險之保險費。\\n(四) 惟業務人員為該保單之保單關係人除外，其他未經授權代收款項亦同上述規範。\\n二、 新契約投保於核保通過且繳交首期保險費，保險始生效力；續期繳費方式應於新契約投保時由\\n要保人於要保書約定，並依繳費方式檢附相關文件(請參照繳費方式及受理應檢附文件)。首期及\\n續期保險費可約定不同繳費方式，續期繳費方式可隨時申請變更，因金融機構轉帳作業須送銀\\n行或郵局核印；信用卡扣款作業須完成信用卡身份驗證機制，請於應繳費日前20天申請並檢附\\n「保險費暨保險單借款利息自動轉帳付款授權書」/「保險費信用卡付款授權書」。\\n三、 繳別：\\n(一) 傳統型商品：躉繳、分期繳(月繳、季繳、半年繳、年繳)。\\n(二) 投資型商品：躉繳、分期繳(月繳、季繳、半年繳、年繳)、彈性繳(適用於超額保險費)。\\n(三) 月繳件首期應繳交2個月保險費(商品或特定通路另有規定者除外)', 'source': '個人保險首續期繳費暨保單貸款還款息作業手冊(113年7月版)_業務通路版_p3_p7.pdf'}\n",
      "- {'content': '。\\n三、 繳別：\\n(一) 傳統型商品：躉繳、分期繳(月繳、季繳、半年繳、年繳)。\\n(二) 投資型商品：躉繳、分期繳(月繳、季繳、半年繳、年繳)、彈性繳(適用於超額保險費)。\\n(三) 月繳件首期應繳交2個月保險費(商品或特定通路另有規定者除外)。\\n(四) 附約之繳費方式原則上同主約，惟商品另有規定者除外。\\n(五) 躉繳商品、投資型商品若可附加附約者，其附約之繳費方式依商品投保規則辦理。\\n四、 繳別係數：\\n(一) 傳統型商品：分期繳納保險費若採半年繳、季繳、月繳者，須依繳別係數換算每期應繳保險\\n費。(商品另有規定者除外)\\n(二) 投資型商品：目標保險採分期繳納者，無須依繳別係數換算。\\n五、 保單生效日期規定：\\n(一) 依主管機關函令，生效日期不得溯前。\\n(二) 保單生效日不得早於要保申請日期。\\n1\\n版次：113年07月版 修訂日期：113.07.01', 'source': '個人保險首續期繳費暨保單貸款還款息作業手冊(113年7月版)_業務通路版_p3_p7.pdf'}\n",
      "- {'content': '回目錄\\n目錄\\n壹、 繳交保險費應注意事項 . 1\\n貳、 繳款人相關規定 . 3\\n一、 繳款人身分 .. 3\\n二、 繳費方式及受理應檢附文件  3\\n三、 自動轉帳及信用卡付款授權書作業規範【加強身分驗證機制】  4\\n參、 首期保險費繳交方式及相關規定  6\\n一、 首期保險費-採金融機構轉帳作業  6\\n二、 首期保險費-採信用卡扣款作業  7\\n三、 首期保險費-採自行匯款作業 . 8\\n四、 首期保險費-採自行匯款管道 . 8\\n(一) 台幣-首期匯款帳號【業務通路適用】  8\\n(二) 外幣-首期匯款帳號【業務通路適用】  9\\n(三) WEB立即繳費 . 10\\n(四) 中信ATM繳費(操作方式詳官網) .. 10\\n肆、 續期保險費繳交方式及相關規定 . 11\\n一、 續期保險費-採金融機構轉帳作業 .. 11\\n二、 續期保險費-採信用卡扣款作業 .. 13\\n三、 續期保險費-採自行繳費作業  15\\n四、 高齡關懷電訪作業 .. 17\\n五、 續期保險費扣款不成通知方式 . 18\\n伍、 各金融機構核印、扣款時間及相關規定 . 21\\n陸、 保單貸款還款息 .. 23\\n一、 保單貸款之繳息通知 . 23\\n二、 保單借款之還款息帳號  24\\n柒、 行動保全續期保費服務說明(僅適用業務通路)  25\\n版次：113年07月版 修訂日期：113.07.01\\n回目錄\\n壹、 繳交保險費應注意事項\\n一、 因應「保險業保險經紀人公司及保險代理人公司防範保險業務員挪用侵占保戶款項相關內控作\\n業規定」，考量現行保險費繳納管道及方式多元，基於維護客戶權益及避免保險費繳納之爭議，\\n本公司訂有業務人員不得代為收受保戶款項之規範：\\n(一) 不得代收以現金、支票繳納新契約首期保險費。\\n(二) 不得代收以現金、支票繳納續期保險費(含保全保險費、保單補發工本費)、保單還款金額。\\n(三) 不得代收以現金、客票繳納團體保險及旅行平安險之保險費。\\n(四) 惟業務人員為該保單之保單關係人除外，其他未經授權代收款項亦同上述規範。\\n二、 新契約投保於核保通過且繳交首期保險費，保險始生效力；續期繳費方式應於新契約投保時由\\n要保人於要保書約定，並依繳費方式檢附相關文件(請參照繳費方式及受理應檢附文件)。首期及\\n續期保險費可約定不同繳費方式，續期繳費方式可隨時申請變更，因金融機構轉帳作業須送銀\\n行或郵局核印；信用卡扣款作業須完成信用卡身份驗證機制，請於應繳費日前20天申請並檢附\\n「保險費暨保險單借款利息自動轉帳付款授權書」/「保險費信用卡付款授權書」。\\n三、 繳別：\\n(一) 傳統型商品：躉繳、分期繳(月繳、季繳、半年繳、年繳)。\\n(二) 投資型商品：躉繳、分期繳(月繳、季繳、半年繳、年繳)、彈性繳(適用於超額保險費)。\\n(三) 月繳件首期應繳交2個月保險費(商品或特定通路另有規定者除外)', 'source': '個人保險首續期繳費暨保單貸款還款息作業手冊(113年7月版)_業務通路版_p3_p7.pdf'}\n",
      "Relationships:\n",
      "\n"
     ]
    }
   ],
   "source": [
    "docs = vectorstore.similarity_search(\n",
    "    \"繳費方式有哪些?\",\n",
    "    k=topEntities,\n",
    "    params={\n",
    "        \"topChunks\": topChunks,\n",
    "        \"topCommunities\": topCommunities,\n",
    "        \"topOutsideRels\": topOutsideRels,\n",
    "        \"topInsideRels\": topInsideRels,\n",
    "    },\n",
    ")\n",
    "print(docs[0].page_content)"
   ]
  },
  {
   "cell_type": "code",
   "execution_count": 42,
   "metadata": {},
   "outputs": [
    {
     "data": {
      "text/plain": [
       "[Document(metadata={}, page_content='Entities:\\n- 匯款帳號\\n- 業務通路適用\\n- 匯款帳號\\n- 匯款帳號\\n- 匯款帳號\\n- 匯款帳號\\n- 匯款帳號\\n- 首期保險費採自行匯款者，可透過銀行/郵局以匯款/劃撥方式繳交，並可利用 e-bill首期立即繳費及中信ATM 繳費。\\n- 匯款銀行\\nReports:\\n- 在同一社區中，有兩個概念節點。第一個節點是「首期保險費-採自行匯款管道」，第二個節點是「外幣-首期匯款帳號」。這兩個節點之間存在一個關係，即「首期保險費-採自行匯款管道」包含「外幣-首期匯款帳號」。\\n- 在這個社區中，有兩個主要的節點。第一個節點是 \"Ctcbtwtpxxx\"，它是一個識別碼，具體描述為 SWIFT CODE。第二個節點是 \"Ctbc Bank Co.,Ltd.\"，它是一個組織，具體描述為匯款銀行。這兩個節點之間存在一個關係，即 \"Ctbc Bank Co.,Ltd.\" 擁有 \"Ctcbtwtpxxx\" 這個 SWIFT CODE。\\n- 台幣首期保險費是一個概念，其描述為依轄屬分公司匯入以下指定台幣實體帳號。台幣-首期匯款帳號也是一個概念，其描述為業務通路適用。這兩個概念之間存在一個關係，即台幣首期保險費會轉帳至台幣-首期匯款帳號。\\nChunks:\\n- 4. **支票**\\n   - 業務人員無代收保戶支票之授權。\\n目錄\\n壹、 繳交保險費應注意事項 . 1\\n貳、 繳款人相關規定 . 3\\n一、 繳款人身分 .. 3\\n二、 繳費方式及受理應檢附文件  3\\n三、 自動轉帳及信用卡付款授權書作業規範【加強身分驗證機制】  4\\n參、 首期保險費繳交方式及相關規定  6\\n一、 首期保險費-採金融機構轉帳作業  6\\n二、 首期保險費-採信用卡扣款作業  7\\n三、 首期保險費-採自行匯款作業 . 8\\n四、 首期保險費-採自行匯款管道 . 8\\n(一) 台幣-首期匯款帳號【業務通路適用】  8\\n(二) 外幣-首期匯款帳號【業務通路適用】  9\\n(三) WEB立即繳費 . 10\\n(四) 中信ATM繳費(操作方式詳官網) .. 10\\n肆、 續期保險費繳交方式及相關規定 . 11\\n一、 續期保險費-採金融機構轉帳作業 .. 11\\n二、 續期保險費-採信用卡扣款作業 .. 13\\n三、 續期保險費-採自行繳費作業  15\\n四、 高齡關懷電訪作業 .. 17\\n五、 續期保險費扣款不成通知方式 . 18\\n伍、 各金融機構核印、扣款時間及相關規定 . 21\\n陸、 保單貸款還款息 .. 23\\n一、 保單貸款之繳息通知 . 23\\n二、 保單借款之還款息帳號  24\\n柒、 行動保全續期保費服務說明(僅適用業務通路)  25\\n壹、 繳交保險費應注意事項\\n一、 因應「保險業保險經紀人公司及保險代理人公司防範保險業務員挪用侵占保戶款項相關內控作\\n業規定」，考量現行保險費繳納管道及方式多元，基於維護客戶權益及避免保險費繳納之爭議，\\n本公司訂有業務人員不得代為收受保戶款項之規範：\\n(一) 不得代收以現金、支票繳納新契約首期保險費。\\n(二) 不得代收以現金、支票繳納續期保險費(含保全保險費、保單補發工本費)、保單還款金額。\\n(三) 不得代收以現金、客票繳納團體保險及旅行平安險之保險費。\\n(四) 惟業務人員為該保單之保單關係人除外，其他未經授權代收款項亦同上述規範。\\n二、 新契約投保於核保通過且繳交首期保險費，保險始生效力；續期繳費方式應於新契約投保時由\\n要保人於要保書約定，並依繳費方式檢附相關文件(請參照繳費方式及受理應檢附文件)。首期及\\n續期保險費可約定不同繳費方式，續期繳費方式可隨時申請變更，因金融機構轉帳作業須送銀\\n行或郵局核印；信用卡扣款作業須完成信用卡身份驗證機制，請於應繳費日前20 天申請並檢附\\n「保險費暨保險單借款利息自動轉帳付款授權書」/「保險費信用卡付款授權書」。\\n三、 繳別：\\n(一) 傳統型商品：躉繳、分期繳(月繳、季繳、半年繳、年繳)。\\n(二) 投資型商品：躉繳、分期繳(月繳、季繳、半年繳、年繳)、彈性繳(適用於超額保險費)。\\n(三) 月繳件首期應繳交 2個月保險費(商品或特定通路另有規定者除外)\\n- 以下是台灣人壽保險股份有限公司各分公司的匯款資訊：\\n\\n### 台北分公司\\n- **匯款戶名**：台灣人壽保險股份有限公司 台北分公司\\n- **匯款銀行**：中國信託商業銀行 城中分行\\n- **匯款帳號**：822-107118347202\\n- **劃撥帳號**：1185-1115\\n\\n### 新竹分公司\\n- **匯款戶名**：台灣人壽保險股份有限公司 新竹分公司\\n- **匯款銀行**：土地銀行 新竹分行\\n- **匯款帳號**：005-016-001-035413\\n- **劃撥帳號**：0110-3183\\n\\n### 台中分公司\\n- **匯款戶名**：台灣人壽保險股份有限公司 台中分公司\\n- **匯款銀行**：中國信託商業銀行 台中分行\\n- **匯款帳號**：822-026540322963\\n- **劃撥帳號**：0021-9012\\n\\n### 嘉義分公司\\n- **匯款戶名**：台灣人壽保險股份有限公司\\n- **匯款銀行**：合作金庫 北嘉義分行\\n- **匯款帳號**：006-1520717100015\\n- **劃撥帳號**：0035-3812\\n\\n### 台南分公司\\n- **匯款戶名**：台灣人壽保險股份有限公司 台南分公司\\n- **匯款銀行**：中國信託商業銀行 西台南分行\\n- **匯款帳號**：822-222118015202\\n- **劃撥帳號**：0031-1131\\n\\n### 高雄分公司\\n- **匯款戶名**：台灣人壽保險股份有限公司 高雄分公司\\n- **匯款銀行**：台灣中小企業銀行 三民分行\\n- **匯款帳號**：050-87012125575\\n- **劃撥帳號**：0041-3321\\n\\n### 東部分公司\\n- **匯款戶名**：台灣人壽保險股份有限公司 東部分公司\\n- **匯款銀行**：元大銀行 花蓮分行\\n- **匯款帳號**：806-20962000018558\\n- **劃撥帳號**：0643-0636\\n(二) 外幣-首期匯款帳號【業務通路適用】\\n※ 共有 11 個虛擬帳號及1 個實體帳號\\n\\n以下是有關企業外幣繳款的詳細資訊：\\n\\n### 繳款類型\\n- #### 線上信用卡繳費\\n1. 需登入「網路會員專區」或點選繳費連結「多元繳費專區」進行繳費【註】。\\n2. 僅開放繳費方式為「自行繳費」之傳統型台幣保單。\\n3. 信用卡持卡人限要保人本人。(美國運通卡不適用)\\n\\n【註】操作流程請詳官網:(請參照保戶服務→繳費服務→自行繳費)\\n(三) 續期保險費自行匯款帳號- VLIFE/LIS 系統\\n※ 台幣續期保險費依轄屬分公司匯入以下指定台幣實體帳號。\\n※ 外幣續期保險費匯款帳號\\n\\n### 匯款資訊\\n\\n- **匯款戶名**: TAIWAN LIFE INSURANCE CO.,LTD.\\n- **匯款銀行**: CTBC Bank Co.,Ltd.\\n- **虛擬帳號**: 95303+保單號碼10碼+檢查碼（共16碼）\\n- **SWIFT CODE**: CTCBTWTPXXX\\n\\n### 注意事項\\n\\n1. 匯款單請載明『繳費用途』、『要保人姓名』、『保單號碼』及『應繳日期』。\\n2. 匯款後請傳真至(02)6603-1909客戶服務部-作業一科，傳真後請保戶來電客服專線0800-099-850協助確認。\\n3. 虛擬帳號轉換碼：請電洽分公司、客服中心或上本公司會員網站-網路會員專區(保戶的家)查詢帳號轉換碼。\\n\\n以下是台灣人壽保險股份有限公司各分公司的匯款資訊：\\n\\n### 台北分公司\\n- 匯款戶名：台灣人壽保險股份有限公司 台北分公司\\n- 匯款銀行：中國信託商業銀行 城中分行\\n- 匯款帳號：822-107118347202\\n- 劃撥帳號：1185-1115\\n\\n### 新竹分公司\\n- 匯款戶名：台灣人壽保險股份有限公司 新竹分公司\\n- 匯款銀行：土地銀行 新竹分行\\n- 匯款帳號：005-016-001-035413\\n- 劃撥帳號：0110-3183\\n\\n### 台中分公司\\n- 匯款戶名：台灣人壽保險股份有限公司 台中分公司\\n- 匯款銀行：中國信託商業銀行 台中分行\\n- 匯款帳號：822-026540322963\\n- 劃撥帳號：0021-9012\\n\\n### 嘉義分公司\\n- 匯款戶名：台灣人壽保險股份有限公司\\n- 匯款銀行：合作金庫 北嘉義分行\\n- 匯款帳號：006-1520717100015\\n- 劃撥帳號：0035-3812\\n\\n### 台南分公司\\n- 匯款戶名：台灣人壽保險股份有限公司 台南分公司\\n- 匯款銀行：中國信託商業銀行 西台南分行\\n- 匯款帳號：822-222118015202\\n- 劃撥帳號：0031-1131\\n\\n### 高雄分公司\\n- 匯款戶名：台灣人壽保險股份有限公司 高雄分公司\\n- 匯款銀行：台灣中小企業銀行 三民分行\\n- 匯款帳號：050-87012125575\\n- 劃撥帳號：0041-3321\\nRelationships:\\n')]"
      ]
     },
     "execution_count": 42,
     "metadata": {},
     "output_type": "execute_result"
    }
   ],
   "source": [
    "docs"
   ]
  },
  {
   "cell_type": "code",
   "execution_count": null,
   "metadata": {},
   "outputs": [],
   "source": []
  }
 ],
 "metadata": {
  "kernelspec": {
   "display_name": "py312",
   "language": "python",
   "name": "python3"
  },
  "language_info": {
   "codemirror_mode": {
    "name": "ipython",
    "version": 3
   },
   "file_extension": ".py",
   "mimetype": "text/x-python",
   "name": "python",
   "nbconvert_exporter": "python",
   "pygments_lexer": "ipython3",
   "version": "3.12.6"
  }
 },
 "nbformat": 4,
 "nbformat_minor": 4
}
